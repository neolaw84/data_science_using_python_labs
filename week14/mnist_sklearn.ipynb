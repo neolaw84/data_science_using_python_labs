{
 "cells": [
  {
   "cell_type": "markdown",
   "id": "ddb903a8-bb1d-4465-9e09-eedd369c5a36",
   "metadata": {},
   "source": [
    "# Exploratory Data Analytics on [MNIST](https://keras.io/api/datasets/mnist/) Dataset"
   ]
  },
  {
   "cell_type": "code",
   "execution_count": 1,
   "id": "43aa340b-89b6-4ee6-bf8e-44b1569e3c55",
   "metadata": {},
   "outputs": [],
   "source": [
    "%matplotlib inline\n",
    "\n",
    "import numpy as np\n",
    "from scipy import linalg\n",
    "\n",
    "from matplotlib import pyplot as plt\n",
    "\n",
    "from sklearn import model_selection\n",
    "from sklearn import linear_model\n",
    "from sklearn import cluster\n",
    "from sklearn import neighbors\n",
    "from sklearn import metrics\n",
    "from sklearn import feature_selection\n",
    "\n",
    "from keras import datasets\n",
    "\n",
    "from tqdm.auto import tqdm"
   ]
  },
  {
   "cell_type": "markdown",
   "id": "663578ad-b6b7-49d8-ac25-f6ac8d9dbe4a",
   "metadata": {},
   "source": [
    "### Loading data and checking shapes"
   ]
  },
  {
   "cell_type": "code",
   "execution_count": 2,
   "id": "604de50b-8b33-4394-a840-af9146f51e1c",
   "metadata": {},
   "outputs": [
    {
     "name": "stdout",
     "output_type": "stream",
     "text": [
      "Downloading data from https://storage.googleapis.com/tensorflow/tf-keras-datasets/mnist.npz\n",
      "11493376/11490434 [==============================] - 2s 0us/step\n"
     ]
    }
   ],
   "source": [
    "(x_train, y_train), (x_test, y_test) = datasets.mnist.load_data()\n",
    "assert x_train.shape == (60000, 28, 28)\n",
    "assert x_test.shape == (10000, 28, 28)\n",
    "assert y_train.shape == (60000,)\n",
    "assert y_test.shape == (10000,)"
   ]
  },
  {
   "cell_type": "markdown",
   "id": "df4ec231-648d-4654-b8d2-6ebe20757018",
   "metadata": {},
   "source": [
    "### Rudimentary Visualization"
   ]
  },
  {
   "cell_type": "code",
   "execution_count": 3,
   "id": "1fb0f750-7977-4c60-b0a9-57243024e6a8",
   "metadata": {},
   "outputs": [
    {
     "data": {
      "image/png": "[encoded data removed]",
      "text/plain": [
       "<Figure size 432x288 with 10 Axes>"
      ]
     },
     "metadata": {
      "needs_background": "light"
     },
     "output_type": "display_data"
    },
    {
     "data": {
      "text/plain": [
       "array([[7, 9, 3, 9, 8],\n",
       "       [5, 9, 3, 3, 0]], dtype=uint8)"
      ]
     },
     "execution_count": 3,
     "metadata": {},
     "output_type": "execute_result"
    }
   ],
   "source": [
    "SAMPLE = 0\n",
    "X = 1\n",
    "Y = 2\n",
    "\n",
    "def visualize(X, y, n_cols=5, n_rows=None):\n",
    "    n_rows = n_rows if n_rows else len(y) // n_cols;\n",
    "    if len(y) > n_rows * n_cols:\n",
    "        n_rows = n_rows + 1\n",
    "    _, ax = plt.subplots(n_rows, n_cols)\n",
    "    if not isinstance(y, np.ndarray):\n",
    "        _y = np.array(y)\n",
    "    else:\n",
    "        _y = y\n",
    "    if len(y) < n_rows * n_cols:\n",
    "        _y = np.hstack((_y, np.full((n_rows*n_cols-len(y)), -999)))\n",
    "    for X_, y_, a in zip(X, y, ax.flatten()):\n",
    "        a.imshow(X_, cmap=plt.get_cmap('gray'))\n",
    "    plt.show()\n",
    "    return _y.reshape(n_rows, n_cols)\n",
    "\n",
    "visualize(x_train[42:52], y_train[42:52])"
   ]
  },
  {
   "cell_type": "markdown",
   "id": "4df949e7-7a3e-4641-894f-af1d8d730b17",
   "metadata": {},
   "source": [
    "### Flattening"
   ]
  },
  {
   "cell_type": "code",
   "execution_count": 4,
   "id": "a8170f85-6ddc-4206-8cec-bf122e4e7b2f",
   "metadata": {},
   "outputs": [],
   "source": [
    "def flatten(X_):\n",
    "    return X_.reshape((-1, X_.shape[X] * X_.shape[Y]))\n",
    "\n",
    "tr_x_flat = flatten(x_train)\n",
    "ts_x_flat = flatten(x_test)"
   ]
  },
  {
   "cell_type": "markdown",
   "id": "7afe886d-b921-40d6-a1ec-219b73708125",
   "metadata": {},
   "source": [
    "### Feature Selection by ANOVA"
   ]
  },
  {
   "cell_type": "code",
   "execution_count": 5,
   "id": "60c41f0d-c27a-4433-aa61-5015c5880bbc",
   "metadata": {},
   "outputs": [
    {
     "name": "stderr",
     "output_type": "stream",
     "text": [
      "/opt/conda/lib/python3.8/site-packages/sklearn/feature_selection/_univariate_selection.py:114: UserWarning: Features [  0   1   2   3   4   5   6   7   8   9  10  11  16  17  18  19  20  21\n",
      "  22  23  24  25  26  27  28  29  30  31  52  53  54  55  56  57  82  83\n",
      "  84  85 111 112 140 141 168 476 560 644 645 671 672 673 699 700 701 727\n",
      " 728 729 730 754 755 756 757 758 759 780 781 782 783] are constant.\n",
      "  warnings.warn(\"Features %s are constant.\" % constant_features_idx,\n",
      "/opt/conda/lib/python3.8/site-packages/sklearn/feature_selection/_univariate_selection.py:116: RuntimeWarning: invalid value encountered in true_divide\n",
      "  f = msb / msw\n"
     ]
    },
    {
     "data": {
      "text/plain": [
       "SelectKBest(k='all')"
      ]
     },
     "execution_count": 5,
     "metadata": {},
     "output_type": "execute_result"
    }
   ],
   "source": [
    "selector = feature_selection.SelectKBest(score_func=feature_selection.f_classif, k=\"all\")\n",
    "selector.fit(tr_x_flat, y_train)"
   ]
  },
  {
   "cell_type": "code",
   "execution_count": 6,
   "id": "cee7c0d8-29f6-49d9-b4ef-4140df702eac",
   "metadata": {},
   "outputs": [
    {
     "name": "stdout",
     "output_type": "stream",
     "text": [
      "number of valid ANOVA features with p-values < 0.05 : 668\n"
     ]
    },
    {
     "data": {
      "text/plain": [
       "array([350, 378, 406, 461, 434, 542, 409, 514, 433, 386])"
      ]
     },
     "execution_count": 6,
     "metadata": {},
     "output_type": "execute_result"
    }
   ],
   "source": [
    "NUM_ANOVA_FEATURES = 400\n",
    "valid_features_anova = selector.pvalues_ < 0.05\n",
    "print (\"number of valid ANOVA features with p-values < 0.05 : {}\".format(np.count_nonzero(valid_features_anova)))\n",
    "\n",
    "f_scores = selector.scores_.copy()\n",
    "f_scores[~valid_features_anova] = -np.inf\n",
    "\n",
    "valid_features_anova_top_100 = np.flip(np.argsort(f_scores))[:NUM_ANOVA_FEATURES]\n",
    "valid_features_anova_top_100[:10]"
   ]
  },
  {
   "cell_type": "markdown",
   "id": "b47b2acd-092c-4f8b-a92e-2e2d058e91b7",
   "metadata": {},
   "source": [
    "### Rudimentary SVD"
   ]
  },
  {
   "cell_type": "code",
   "execution_count": 7,
   "id": "effe9e92-b7f5-476e-98e7-87ecb177d438",
   "metadata": {},
   "outputs": [],
   "source": [
    "U, s, Vt = linalg.svd(tr_x_flat)"
   ]
  },
  {
   "cell_type": "code",
   "execution_count": 8,
   "id": "f9968433-bc2a-420a-9844-017562031f5b",
   "metadata": {},
   "outputs": [
    {
     "data": {
      "image/png": "[encoded data removed]",
      "text/plain": [
       "<Figure size 432x288 with 5 Axes>"
      ]
     },
     "metadata": {
      "needs_background": "light"
     },
     "output_type": "display_data"
    },
    {
     "data": {
      "text/plain": [
       "array([[-9, -9, -9, -9, -9]])"
      ]
     },
     "execution_count": 8,
     "metadata": {},
     "output_type": "execute_result"
    }
   ],
   "source": [
    "visualize(Vt[0:5].reshape(-1, 28, 28), y=[-9] * 5)"
   ]
  },
  {
   "cell_type": "code",
   "execution_count": 10,
   "id": "d347be23-1282-4161-ab7d-85fb8b4b54fa",
   "metadata": {},
   "outputs": [
    {
     "data": {
      "text/plain": [
       "(784, 10)"
      ]
     },
     "execution_count": 10,
     "metadata": {},
     "output_type": "execute_result"
    }
   ],
   "source": [
    "NUM_SVD_FEATURES = 10\n",
    "V_ = Vt[0:NUM_SVD_FEATURES].T\n",
    "V_.shape"
   ]
  },
  {
   "cell_type": "code",
   "execution_count": 11,
   "id": "b1a8c0af-0199-49b7-8571-684a3ce73829",
   "metadata": {},
   "outputs": [],
   "source": [
    "def get_svd_features(X_, V_):\n",
    "    return X_ @ V_\n",
    "\n",
    "tr_x_svd_features = get_svd_features(tr_x_flat, V_)\n",
    "ts_x_svd_features = get_svd_features(ts_x_flat, V_)"
   ]
  },
  {
   "cell_type": "markdown",
   "id": "77dd49c7-75cd-4ac4-be93-b102ecefcf54",
   "metadata": {},
   "source": [
    "### Per Label SVD"
   ]
  },
  {
   "cell_type": "code",
   "execution_count": 12,
   "id": "7f511f5c-bcfd-4217-8dd3-b73f7844ab59",
   "metadata": {},
   "outputs": [
    {
     "data": {
      "application/vnd.jupyter.widget-view+json": {
       "model_id": "855e8cb2a9484a20af0031e762ba52f7",
       "version_major": 2,
       "version_minor": 0
      },
      "text/plain": [
       "  0%|          | 0/10 [00:00<?, ?it/s]"
      ]
     },
     "metadata": {},
     "output_type": "display_data"
    },
    {
     "data": {
      "image/png": "[encoded data removed]",
      "text/plain": [
       "<Figure size 432x288 with 2 Axes>"
      ]
     },
     "metadata": {
      "needs_background": "light"
     },
     "output_type": "display_data"
    },
    {
     "data": {
      "image/png": "[encoded data removed]",
      "text/plain": [
       "<Figure size 432x288 with 2 Axes>"
      ]
     },
     "metadata": {
      "needs_background": "light"
     },
     "output_type": "display_data"
    },
    {
     "data": {
      "image/png": "[encoded data removed]",
      "text/plain": [
       "<Figure size 432x288 with 2 Axes>"
      ]
     },
     "metadata": {
      "needs_background": "light"
     },
     "output_type": "display_data"
    },
    {
     "data": {
      "image/png": "[encoded data removed]",
      "text/plain": [
       "<Figure size 432x288 with 2 Axes>"
      ]
     },
     "metadata": {
      "needs_background": "light"
     },
     "output_type": "display_data"
    },
    {
     "data": {
      "image/png": "[encoded data removed]",
      "text/plain": [
       "<Figure size 432x288 with 2 Axes>"
      ]
     },
     "metadata": {
      "needs_background": "light"
     },
     "output_type": "display_data"
    },
    {
     "data": {
      "image/png": "[encoded data removed]",
      "text/plain": [
       "<Figure size 432x288 with 2 Axes>"
      ]
     },
     "metadata": {
      "needs_background": "light"
     },
     "output_type": "display_data"
    },
    {
     "data": {
      "image/png": "[encoded data removed]",
      "text/plain": [
       "<Figure size 432x288 with 2 Axes>"
      ]
     },
     "metadata": {
      "needs_background": "light"
     },
     "output_type": "display_data"
    },
    {
     "data": {
      "image/png": "[encoded data removed]",
      "text/plain": [
       "<Figure size 432x288 with 2 Axes>"
      ]
     },
     "metadata": {
      "needs_background": "light"
     },
     "output_type": "display_data"
    },
    {
     "data": {
      "image/png": "[encoded data removed]",
      "text/plain": [
       "<Figure size 432x288 with 2 Axes>"
      ]
     },
     "metadata": {
      "needs_background": "light"
     },
     "output_type": "display_data"
    },
    {
     "data": {
      "image/png": "[encoded data removed]",
      "text/plain": [
       "<Figure size 432x288 with 2 Axes>"
      ]
     },
     "metadata": {
      "needs_background": "light"
     },
     "output_type": "display_data"
    }
   ],
   "source": [
    "def per_label_svd(X_, y_, y_label):\n",
    "    selector = y_ == y_label\n",
    "    U, s, Vt = linalg.svd(X_[selector])\n",
    "    return Vt\n",
    "\n",
    "NUM_PER_LABEL_SVD_FEATURES = 2\n",
    "NUM_LABELS = 10\n",
    "pbar = tqdm(range(0, NUM_LABELS))\n",
    "per_label_V = {}\n",
    "for y_label in pbar:\n",
    "    pbar.set_description(\"working on label : {}\".format(y_label))\n",
    "    Vt_ = per_label_svd(tr_x_flat, y_train, y_label=y_label)\n",
    "    visualize(Vt_[0:NUM_PER_LABEL_SVD_FEATURES].reshape(-1, 28, 28), y=[y_label] * NUM_PER_LABEL_SVD_FEATURES, n_cols=NUM_PER_LABEL_SVD_FEATURES)\n",
    "    per_label_V[y_label] = Vt_[0:NUM_PER_LABEL_SVD_FEATURES].T"
   ]
  },
  {
   "cell_type": "code",
   "execution_count": 14,
   "id": "6d98306c-7d2c-4cce-bd96-88c316c56b65",
   "metadata": {},
   "outputs": [
    {
     "data": {
      "application/vnd.jupyter.widget-view+json": {
       "model_id": "5e23887e350349d2a7a81013da5d1e41",
       "version_major": 2,
       "version_minor": 0
      },
      "text/plain": [
       "  0%|          | 0/10 [00:00<?, ?it/s]"
      ]
     },
     "metadata": {},
     "output_type": "display_data"
    },
    {
     "data": {
      "application/vnd.jupyter.widget-view+json": {
       "model_id": "70d3a00c15c14526bb2c69587f730e77",
       "version_major": 2,
       "version_minor": 0
      },
      "text/plain": [
       "  0%|          | 0/10 [00:00<?, ?it/s]"
      ]
     },
     "metadata": {},
     "output_type": "display_data"
    }
   ],
   "source": [
    "def get_per_label_svd_features(X_, per_label_V_):\n",
    "    result_X_ = []\n",
    "    for y_label, pl_V_ in tqdm(per_label_V_.items()):\n",
    "        per_label_X_ = X_ @ pl_V_\n",
    "        result_X_.append(per_label_X_)\n",
    "    return np.hstack(tuple(result_X_))\n",
    "\n",
    "tr_x_per_label_svd_features = get_per_label_svd_features(tr_x_flat, per_label_V)\n",
    "ts_x_per_label_svd_features = get_per_label_svd_features(ts_x_flat, per_label_V)"
   ]
  },
  {
   "cell_type": "markdown",
   "id": "320c2dbc-8e4d-49f5-bdab-acc12d1d781d",
   "metadata": {},
   "source": [
    "### Trying `LogisticRegression`"
   ]
  },
  {
   "cell_type": "code",
   "execution_count": 15,
   "id": "78b3f625-6477-4072-963a-e3eba59f0fe1",
   "metadata": {},
   "outputs": [
    {
     "name": "stderr",
     "output_type": "stream",
     "text": [
      "[Parallel(n_jobs=2)]: Using backend ThreadingBackend with 2 concurrent workers.\n"
     ]
    },
    {
     "name": "stdout",
     "output_type": "stream",
     "text": [
      "max_iter reached after 247 seconds\n"
     ]
    },
    {
     "name": "stderr",
     "output_type": "stream",
     "text": [
      "/opt/conda/lib/python3.8/site-packages/sklearn/linear_model/_sag.py:328: ConvergenceWarning: The max_iter was reached which means the coef_ did not converge\n",
      "  warnings.warn(\"The max_iter was reached which means \"\n"
     ]
    },
    {
     "name": "stdout",
     "output_type": "stream",
     "text": [
      "max_iter reached after 249 seconds\n"
     ]
    },
    {
     "name": "stderr",
     "output_type": "stream",
     "text": [
      "/opt/conda/lib/python3.8/site-packages/sklearn/linear_model/_sag.py:328: ConvergenceWarning: The max_iter was reached which means the coef_ did not converge\n",
      "  warnings.warn(\"The max_iter was reached which means \"\n"
     ]
    },
    {
     "name": "stdout",
     "output_type": "stream",
     "text": [
      "max_iter reached after 252 seconds\n"
     ]
    },
    {
     "name": "stderr",
     "output_type": "stream",
     "text": [
      "/opt/conda/lib/python3.8/site-packages/sklearn/linear_model/_sag.py:328: ConvergenceWarning: The max_iter was reached which means the coef_ did not converge\n",
      "  warnings.warn(\"The max_iter was reached which means \"\n"
     ]
    },
    {
     "name": "stdout",
     "output_type": "stream",
     "text": [
      "max_iter reached after 257 seconds\n"
     ]
    },
    {
     "name": "stderr",
     "output_type": "stream",
     "text": [
      "/opt/conda/lib/python3.8/site-packages/sklearn/linear_model/_sag.py:328: ConvergenceWarning: The max_iter was reached which means the coef_ did not converge\n",
      "  warnings.warn(\"The max_iter was reached which means \"\n"
     ]
    },
    {
     "name": "stdout",
     "output_type": "stream",
     "text": [
      "max_iter reached after 245 seconds\n",
      "max_iter reached after 238 seconds\n"
     ]
    },
    {
     "name": "stderr",
     "output_type": "stream",
     "text": [
      "/opt/conda/lib/python3.8/site-packages/sklearn/linear_model/_sag.py:328: ConvergenceWarning: The max_iter was reached which means the coef_ did not converge\n",
      "  warnings.warn(\"The max_iter was reached which means \"\n",
      "/opt/conda/lib/python3.8/site-packages/sklearn/linear_model/_sag.py:328: ConvergenceWarning: The max_iter was reached which means the coef_ did not converge\n",
      "  warnings.warn(\"The max_iter was reached which means \"\n"
     ]
    },
    {
     "name": "stdout",
     "output_type": "stream",
     "text": [
      "max_iter reached after 207 seconds\n"
     ]
    },
    {
     "name": "stderr",
     "output_type": "stream",
     "text": [
      "/opt/conda/lib/python3.8/site-packages/sklearn/linear_model/_sag.py:328: ConvergenceWarning: The max_iter was reached which means the coef_ did not converge\n",
      "  warnings.warn(\"The max_iter was reached which means \"\n"
     ]
    },
    {
     "name": "stdout",
     "output_type": "stream",
     "text": [
      "max_iter reached after 209 seconds\n"
     ]
    },
    {
     "name": "stderr",
     "output_type": "stream",
     "text": [
      "/opt/conda/lib/python3.8/site-packages/sklearn/linear_model/_sag.py:328: ConvergenceWarning: The max_iter was reached which means the coef_ did not converge\n",
      "  warnings.warn(\"The max_iter was reached which means \"\n"
     ]
    },
    {
     "name": "stdout",
     "output_type": "stream",
     "text": [
      "max_iter reached after 278 seconds\n"
     ]
    },
    {
     "name": "stderr",
     "output_type": "stream",
     "text": [
      "/opt/conda/lib/python3.8/site-packages/sklearn/linear_model/_sag.py:328: ConvergenceWarning: The max_iter was reached which means the coef_ did not converge\n",
      "  warnings.warn(\"The max_iter was reached which means \"\n"
     ]
    },
    {
     "name": "stdout",
     "output_type": "stream",
     "text": [
      "max_iter reached after 286 seconds\n"
     ]
    },
    {
     "name": "stderr",
     "output_type": "stream",
     "text": [
      "[Parallel(n_jobs=2)]: Done  10 out of  10 | elapsed: 20.6min finished\n"
     ]
    },
    {
     "data": {
      "text/plain": [
       "LogisticRegression(C=0.002, l1_ratio=0.25, max_iter=500, multi_class='ovr',\n",
       "                   n_jobs=2, penalty='elasticnet', solver='saga', verbose=1)"
      ]
     },
     "execution_count": 15,
     "metadata": {},
     "output_type": "execute_result"
    }
   ],
   "source": [
    "logit_model = linear_model.LogisticRegression(\n",
    "    penalty=\"elasticnet\",\n",
    "    C=1.0/500,\n",
    "    l1_ratio=0.25,\n",
    "    solver=\"saga\",\n",
    "    multi_class=\"ovr\",\n",
    "    max_iter=500,\n",
    "    n_jobs=2,\n",
    "    verbose=1\n",
    ")\n",
    "logit_model.fit(tr_x_flat[:,valid_features_anova_top_100], y_train)"
   ]
  },
  {
   "cell_type": "code",
   "execution_count": 16,
   "id": "86780c45-bc37-4cfe-94c6-003bb0112df8",
   "metadata": {},
   "outputs": [
    {
     "name": "stdout",
     "output_type": "stream",
     "text": [
      "              precision    recall  f1-score   support\n",
      "\n",
      "           0       0.95      0.98      0.96       980\n",
      "           1       0.96      0.98      0.97      1135\n",
      "           2       0.93      0.88      0.90      1032\n",
      "           3       0.90      0.91      0.90      1010\n",
      "           4       0.92      0.92      0.92       982\n",
      "           5       0.91      0.85      0.88       892\n",
      "           6       0.94      0.95      0.94       958\n",
      "           7       0.93      0.92      0.93      1028\n",
      "           8       0.84      0.88      0.86       974\n",
      "           9       0.89      0.89      0.89      1009\n",
      "\n",
      "    accuracy                           0.92     10000\n",
      "   macro avg       0.92      0.92      0.92     10000\n",
      "weighted avg       0.92      0.92      0.92     10000\n",
      "\n"
     ]
    }
   ],
   "source": [
    "y_pred_logit = logit_model.predict(ts_x_flat[:, valid_features_anova_top_100])\n",
    "\n",
    "print (metrics.classification_report(y_test, y_pred_logit))"
   ]
  },
  {
   "cell_type": "code",
   "execution_count": 17,
   "id": "abb8bf77-eb02-42c8-96fc-b21e69491312",
   "metadata": {},
   "outputs": [
    {
     "name": "stderr",
     "output_type": "stream",
     "text": [
      "[Parallel(n_jobs=2)]: Using backend ThreadingBackend with 2 concurrent workers.\n"
     ]
    },
    {
     "name": "stdout",
     "output_type": "stream",
     "text": [
      "convergence after 260 epochs took 11 seconds\n",
      "convergence after 363 epochs took 16 seconds\n",
      "convergence after 243 epochs took 10 seconds\n",
      "convergence after 500 epochs took 20 seconds\n",
      "max_iter reached after 20 seconds\n"
     ]
    },
    {
     "name": "stderr",
     "output_type": "stream",
     "text": [
      "/opt/conda/lib/python3.8/site-packages/sklearn/linear_model/_sag.py:328: ConvergenceWarning: The max_iter was reached which means the coef_ did not converge\n",
      "  warnings.warn(\"The max_iter was reached which means \"\n"
     ]
    },
    {
     "name": "stdout",
     "output_type": "stream",
     "text": [
      "convergence after 244 epochs took 10 seconds\n",
      "convergence after 221 epochs took 9 seconds\n",
      "convergence after 433 epochs took 18 seconds\n",
      "max_iter reached after 21 seconds\n"
     ]
    },
    {
     "name": "stderr",
     "output_type": "stream",
     "text": [
      "/opt/conda/lib/python3.8/site-packages/sklearn/linear_model/_sag.py:328: ConvergenceWarning: The max_iter was reached which means the coef_ did not converge\n",
      "  warnings.warn(\"The max_iter was reached which means \"\n"
     ]
    },
    {
     "name": "stdout",
     "output_type": "stream",
     "text": [
      "convergence after 282 epochs took 11 seconds\n",
      "convergence after 341 epochs took 14 seconds\n"
     ]
    },
    {
     "name": "stderr",
     "output_type": "stream",
     "text": [
      "[Parallel(n_jobs=2)]: Done  10 out of  10 | elapsed:  1.2min finished\n"
     ]
    },
    {
     "data": {
      "text/plain": [
       "LogisticRegression(C=0.002, l1_ratio=0.25, max_iter=500, multi_class='ovr',\n",
       "                   n_jobs=2, penalty='elasticnet', solver='saga', verbose=1)"
      ]
     },
     "execution_count": 17,
     "metadata": {},
     "output_type": "execute_result"
    }
   ],
   "source": [
    "tr_x_all_svd_features = np.hstack((tr_x_svd_features, tr_x_per_label_svd_features))\n",
    "logit_svd_model = linear_model.LogisticRegression(\n",
    "    penalty=\"elasticnet\",\n",
    "    C=1.0/500,\n",
    "    l1_ratio=0.25,\n",
    "    solver=\"saga\",\n",
    "    multi_class=\"ovr\",\n",
    "    max_iter=500,\n",
    "    n_jobs=2,\n",
    "    verbose=1\n",
    ")\n",
    "logit_svd_model.fit(tr_x_all_svd_features, y_train)"
   ]
  },
  {
   "cell_type": "code",
   "execution_count": 18,
   "id": "890dd340-6d41-4c69-b72e-19f53398b8a1",
   "metadata": {},
   "outputs": [
    {
     "name": "stdout",
     "output_type": "stream",
     "text": [
      "              precision    recall  f1-score   support\n",
      "\n",
      "           0       0.95      0.98      0.96       980\n",
      "           1       0.96      0.98      0.97      1135\n",
      "           2       0.93      0.88      0.90      1032\n",
      "           3       0.90      0.91      0.90      1010\n",
      "           4       0.92      0.92      0.92       982\n",
      "           5       0.91      0.85      0.88       892\n",
      "           6       0.94      0.95      0.94       958\n",
      "           7       0.93      0.92      0.93      1028\n",
      "           8       0.84      0.88      0.86       974\n",
      "           9       0.89      0.89      0.89      1009\n",
      "\n",
      "    accuracy                           0.92     10000\n",
      "   macro avg       0.92      0.92      0.92     10000\n",
      "weighted avg       0.92      0.92      0.92     10000\n",
      "\n"
     ]
    }
   ],
   "source": [
    "ts_x_all_svd_features = np.hstack((ts_x_svd_features, ts_x_per_label_svd_features))\n",
    "y_pred_logit_svd = logit_svd_model.predict(ts_x_all_svd_features)\n",
    "\n",
    "print (metrics.classification_report(y_test, y_pred_logit))"
   ]
  },
  {
   "cell_type": "markdown",
   "id": "03879712-632b-468f-b12b-eb7492b5789b",
   "metadata": {},
   "source": [
    "### Trying `KNeighborsClassifier`"
   ]
  },
  {
   "cell_type": "code",
   "execution_count": 19,
   "id": "c0480201-89bf-48d6-aaf2-537d12300a41",
   "metadata": {},
   "outputs": [
    {
     "name": "stdout",
     "output_type": "stream",
     "text": [
      "              precision    recall  f1-score   support\n",
      "\n",
      "           0       0.95      0.97      0.96       980\n",
      "           1       0.97      0.99      0.98      1135\n",
      "           2       0.94      0.95      0.94      1032\n",
      "           3       0.91      0.90      0.91      1010\n",
      "           4       0.91      0.90      0.90       982\n",
      "           5       0.91      0.92      0.92       892\n",
      "           6       0.96      0.96      0.96       958\n",
      "           7       0.95      0.92      0.94      1028\n",
      "           8       0.90      0.88      0.89       974\n",
      "           9       0.86      0.88      0.87      1009\n",
      "\n",
      "    accuracy                           0.93     10000\n",
      "   macro avg       0.93      0.93      0.93     10000\n",
      "weighted avg       0.93      0.93      0.93     10000\n",
      "\n"
     ]
    }
   ],
   "source": [
    "knn_model = neighbors.KNeighborsClassifier()\n",
    "knn_model.fit(tr_x_svd_features, y_train)\n",
    "y_pred_knn = knn_model.predict(ts_x_svd_features)\n",
    "\n",
    "print (metrics.classification_report(y_test, y_pred_knn))"
   ]
  },
  {
   "cell_type": "code",
   "execution_count": 20,
   "id": "65519fa4-eb15-406c-abd4-a7410320a9e7",
   "metadata": {},
   "outputs": [
    {
     "name": "stdout",
     "output_type": "stream",
     "text": [
      "              precision    recall  f1-score   support\n",
      "\n",
      "           0       0.94      0.98      0.96       980\n",
      "           1       0.97      0.99      0.98      1135\n",
      "           2       0.95      0.94      0.95      1032\n",
      "           3       0.91      0.90      0.91      1010\n",
      "           4       0.92      0.89      0.91       982\n",
      "           5       0.92      0.90      0.91       892\n",
      "           6       0.95      0.96      0.96       958\n",
      "           7       0.95      0.90      0.92      1028\n",
      "           8       0.89      0.88      0.88       974\n",
      "           9       0.84      0.90      0.87      1009\n",
      "\n",
      "    accuracy                           0.92     10000\n",
      "   macro avg       0.92      0.92      0.92     10000\n",
      "weighted avg       0.92      0.92      0.92     10000\n",
      "\n"
     ]
    }
   ],
   "source": [
    "knn_model_2 = neighbors.KNeighborsClassifier()\n",
    "knn_model_2.fit(tr_x_per_label_svd_features, y_train)\n",
    "y_pred_knn_2 = knn_model_2.predict(ts_x_per_label_svd_features)\n",
    "\n",
    "print (metrics.classification_report(y_test, y_pred_knn_2))"
   ]
  },
  {
   "cell_type": "markdown",
   "id": "cc6c059d-6686-4b82-928b-d9a55b8aeb94",
   "metadata": {},
   "source": [
    "### Let's Keep Copies of the Objects"
   ]
  },
  {
   "cell_type": "code",
   "execution_count": 24,
   "id": "aab9a4b6-363b-4cc7-a80f-085a27289f69",
   "metadata": {},
   "outputs": [],
   "source": [
    "import pickle\n",
    "\n",
    "# this is Domino specific, which is not recommended.\n",
    "with open (\"/mnt/V_.bin\", \"wb\") as f:\n",
    "    pickle.dump(V_, f, protocol=pickle.HIGHEST_PROTOCOL)\n",
    "    \n",
    "with open (\"/mnt/per_label_V.bin\", \"wb\") as f:\n",
    "    pickle.dump(per_label_V, f, protocol=pickle.HIGHEST_PROTOCOL)\n",
    "    \n",
    "with open (\"/mnt/SelectKBest.bin\", \"wb\") as f:\n",
    "    pickle.dump(selector, f, protocol=pickle.HIGHEST_PROTOCOL)\n",
    "    \n",
    "with open (\"/mnt/valid_features_anova_top_100.bin\", \"wb\") as f:\n",
    "    pickle.dump(valid_features_anova_top_100, f, protocol=pickle.HIGHEST_PROTOCOL)"
   ]
  },
  {
   "cell_type": "markdown",
   "id": "77981f8b-7721-492f-bde2-31c672980bba",
   "metadata": {},
   "source": [
    "### Bagging of All\n",
    "\n",
    "Since this is just an example, I am going to conclude the EDA by deciding to apply **bagging** and **stacking** to `LogisticRegression` and `KNeighborsClassifier`. "
   ]
  },
  {
   "cell_type": "code",
   "execution_count": 36,
   "id": "80ecc486-c9e8-4864-b274-a05529798728",
   "metadata": {},
   "outputs": [],
   "source": [
    "from sklearn import ensemble\n",
    "X_train_bagging = np.hstack((tr_x_flat[:, valid_features_anova_top_100], tr_x_all_svd_features))\n",
    "model_bag_1 = ensemble.BaggingClassifier(\n",
    "    base_estimator=linear_model.LogisticRegression(\n",
    "        penalty=\"elasticnet\", C=1.0/500, l1_ratio=0.25,\n",
    "        solver=\"saga\", multi_class=\"ovr\", max_iter=300\n",
    "    ), \n",
    "    max_samples=0.8,\n",
    "    max_features=35,\n",
    "    n_jobs=1,\n",
    "    random_state=42,\n",
    "    verbose=1\n",
    ")\n",
    "model_bag_2 = ensemble.BaggingClassifier(\n",
    "    base_estimator=neighbors.KNeighborsClassifier(),\n",
    "    n_estimators=20,\n",
    "    max_samples=0.8,\n",
    "    max_features=20,\n",
    "    n_jobs=1,\n",
    "    random_state=42,\n",
    "    verbose=1\n",
    ")\n",
    "final_model = ensemble.StackingClassifier(\n",
    "    estimators=[\n",
    "        (\"logits\", model_bag_1),\n",
    "        (\"knns\", model_bag_2)\n",
    "    ],\n",
    "    n_jobs=1\n",
    ")"
   ]
  },
  {
   "cell_type": "code",
   "execution_count": null,
   "id": "0963be31-dc09-44f2-8028-8bc82fbcd5c9",
   "metadata": {},
   "outputs": [
    {
     "name": "stderr",
     "output_type": "stream",
     "text": [
      "[Parallel(n_jobs=1)]: Using backend SequentialBackend with 1 concurrent workers.\n"
     ]
    }
   ],
   "source": [
    "final_model.fit(X_train_bagging, y_train)"
   ]
  },
  {
   "cell_type": "code",
   "execution_count": null,
   "id": "a48aa4ba-45fa-46ac-bce7-96bfa3da672e",
   "metadata": {},
   "outputs": [],
   "source": []
  }
 ],
 "metadata": {
  "kernelspec": {
   "display_name": "Python 3",
   "language": "python",
   "name": "python3"
  },
  "language_info": {
   "codemirror_mode": {
    "name": "ipython",
    "version": 3
   },
   "file_extension": ".py",
   "mimetype": "text/x-python",
   "name": "python",
   "nbconvert_exporter": "python",
   "pygments_lexer": "ipython3",
   "version": "3.8.8"
  }
 },
 "nbformat": 4,
 "nbformat_minor": 5
}
