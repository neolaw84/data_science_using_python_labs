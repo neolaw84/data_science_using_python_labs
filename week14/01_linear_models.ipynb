{
 "cells": [
  {
   "cell_type": "markdown",
   "metadata": {},
   "source": [
    "# Linear Models (Advanced)\n",
    "\n",
    "မင်္ဂလာပါ။ Data Science Using Python Week 14 က ကြိုဆိုပါတယ်။ \n",
    "\n",
    "ဒီတပါတ်မှာ linear model တွေအကြောင်းကို အသေးစိတ် ပြောမှာ ဖြစ်ပါတယ်။"
   ]
  },
  {
   "cell_type": "markdown",
   "metadata": {},
   "source": [
    "## Review of Linear Regression\n",
    "\n",
    "---\n",
    "\n",
    "### Recipe 10 - Linear Regression\n",
    "\n",
    "**Regression**: ဆိုတာ ဂဏန်းတန်ဖိုးတခုကို တွက်နည်းကို မသိပဲ အရင်က အဖြေတွေကို သိထားတဲ့အခါကျရင် နောက် unseen အဖြေတွေကို ခန့်မှန်း/တွက်ချက်ပေးမဲ့ function (Model) ကို တည်ဆောက်ခြင်းပါ။\n",
    "\n",
    "> လိုတာတွေကတော့ အရင်က $X$ (features/independent variables) နဲ့ အဖြေ $y$ (target/dependent variable) တွေပဲ။\n",
    "\n",
    "> validation/test dataset ကို သပ်သပ်ဖယ်ထားလေ့ရှိတယ်။\n",
    "\n",
    "```python\n",
    "from sklearn import linear_model as sk_lm\n",
    "\n",
    "# initializing the model;\n",
    "linear_regression_model = sk_lm.LinearRegression()\n",
    "# building the model; \n",
    "linear_regression_model.fit(X, y)\n",
    "# using the model for unseen values\n",
    "y_pred = linear_regression_model.predict(X_unseen)\n",
    "```\n",
    "\n",
    "---"
   ]
  },
  {
   "cell_type": "markdown",
   "metadata": {},
   "source": [
    "## Inner-workings of Linear Regression"
   ]
  },
  {
   "cell_type": "code",
   "execution_count": null,
   "metadata": {},
   "outputs": [],
   "source": [
    "import numpy as np\n",
    "from scipy import linalg as sp_linalg, optimize as sp_optimize\n",
    "\n",
    "import pandas as pd\n",
    "from sklearn import datasets, metrics, linear_model, model_selection as ms"
   ]
  },
  {
   "cell_type": "code",
   "execution_count": 95,
   "metadata": {},
   "outputs": [],
   "source": [
    "%matplotlib inline\n",
    "from matplotlib import pyplot as plt"
   ]
  },
  {
   "cell_type": "code",
   "execution_count": null,
   "metadata": {},
   "outputs": [],
   "source": [
    "import importlib\n",
    "import utils\n",
    "importlib.reload(utils)\n",
    "\n",
    "np.random.seed(42)"
   ]
  },
  {
   "cell_type": "code",
   "execution_count": null,
   "metadata": {},
   "outputs": [],
   "source": [
    "df_X, ds_y = datasets.fetch_california_housing(return_X_y=True, as_frame=True)\n",
    "df_X.head()"
   ]
  },
  {
   "cell_type": "code",
   "execution_count": null,
   "metadata": {},
   "outputs": [],
   "source": [
    "N = len(ds_y)\n",
    "k_select_every = 50\n",
    "selected_col = \"MedInc\""
   ]
  },
  {
   "cell_type": "code",
   "execution_count": null,
   "metadata": {},
   "outputs": [],
   "source": [
    "selector = range(0, N, k_select_every)\n",
    "selected_X = df_X[selected_col][selector]\n",
    "selected_y = ds_y[selector]\n",
    "utils.scatter_xy(selected_X, y=selected_y, xlabel=selected_col)"
   ]
  },
  {
   "cell_type": "code",
   "execution_count": null,
   "metadata": {},
   "outputs": [],
   "source": [
    "model = linear_model.LinearRegression()\n",
    "model.fit(selected_X.values.reshape((-1, 1)), selected_y)\n",
    "model.coef_, model.intercept_"
   ]
  },
  {
   "cell_type": "markdown",
   "metadata": {},
   "source": [
    "#### **အဲဒီ အပေါ်က ဂဏန်း ၂ လုံး ဘယ်က ရလာသလဲ**"
   ]
  },
  {
   "cell_type": "code",
   "execution_count": null,
   "metadata": {},
   "outputs": [],
   "source": [
    "utils.scatter_xy(selected_X, y=selected_y, xlabel=selected_col)\n",
    "utils.draw_line(model.coef_[0], model.intercept_, ylim=(0, 5.5))\n",
    "plt.show()"
   ]
  },
  {
   "cell_type": "markdown",
   "metadata": {},
   "source": [
    "လိုင်း အနီဟာ ဂဏန်း ၂ လုံးကို ကိုယ်စားပြုတယ်။ `model` ရဲ့ `predict` function ဟာ အောက်ပါ function နဲ့ တူတူပဲ ဖြစ်တယ်။\n",
    "\n",
    "```python\n",
    "def predict(x, coef_=model.coef_[0], intercept_=model.intercept_):\n",
    "    return x * coef_ + intercept_\n",
    "```"
   ]
  },
  {
   "cell_type": "code",
   "execution_count": null,
   "metadata": {},
   "outputs": [],
   "source": [
    "def predict(x, coef_=model.coef_[0], intercept_=model.intercept_):\n",
    "    return x * coef_ + intercept_\n",
    "predict(selected_X)"
   ]
  },
  {
   "cell_type": "code",
   "execution_count": null,
   "metadata": {},
   "outputs": [],
   "source": [
    "# fix this error\n",
    "temp_df = pd.DataFrame({\n",
    "    selected_col : selected_X, \n",
    "    \"predict_function\" : predict(selected_X),\n",
    "    \"model_predict_function\" : model.predict(selected_X.values.reshape((-1, 1))),\n",
    "})\n",
    "temp_df"
   ]
  },
  {
   "cell_type": "markdown",
   "metadata": {},
   "source": [
    "အဖြစ်မှန်နဲ့ `model` output နဲ့ ကွာခြားချက်ကို သိစေဖို့ `error` ကို `predict_function` ထဲက `selected_y` ကို နှုတ်ပြီး ရှာကြည့်ကြမယ်။ \n",
    "\n",
    "ပြီးတော့ အဲဒီ `error` ကို အမြဲ အပေါင်းကိန်းဖြစ်စေဖို့ ၂ ထပ် တင်လိုက်မယ်။"
   ]
  },
  {
   "cell_type": "code",
   "execution_count": null,
   "metadata": {},
   "outputs": [],
   "source": [
    "temp_df[\"error\"] = temp_df[\"predict_function\"] - selected_y\n",
    "temp_df[\"square_error\"] = temp_df[\"error\"].values ** 2\n",
    "temp_df"
   ]
  },
  {
   "cell_type": "code",
   "execution_count": null,
   "metadata": {},
   "outputs": [],
   "source": [
    "def calculate_sum_square_error(predict, actual):\n",
    "    return np.sum((predict - actual) ** 2)\n",
    "\n",
    "calculate_sum_square_error(temp_df[\"predict_function\"], selected_y)"
   ]
  },
  {
   "cell_type": "markdown",
   "metadata": {},
   "source": [
    "အခု `coef_` value 5 ခုနဲ့ `intercept_` value 5 ခုတို့ရဲ့ လိုင်းတွေကို ဆွဲကြည့်ပြီး သူတို့ရဲ့ sum_square_error ကို တွက်ကြည့်ကြစို့။"
   ]
  },
  {
   "cell_type": "code",
   "execution_count": null,
   "metadata": {},
   "outputs": [],
   "source": [
    "_, ax = plt.subplots(nrows=5, ncols=5)\n",
    "error = np.zeros((5, 5))\n",
    "values = list(range(-2, +3, 1))\n",
    "for r_idx, (c, _plt_row) in enumerate(zip(values, ax)):\n",
    "    for c_idx, (i, _plt) in enumerate(zip(values, _plt_row)):\n",
    "        utils.draw_line(c, i, xlim=(-14, 14), ylim=(-5.5, 5.5), subplot=_plt)\n",
    "        error[r_idx, c_idx] = calculate_sum_square_error(\n",
    "            predict(selected_X, c, i),\n",
    "            selected_y\n",
    "        )\n",
    "plt.show()\n",
    "print (np.around(error, decimals=4))"
   ]
  },
  {
   "cell_type": "markdown",
   "metadata": {},
   "source": [
    "#### Now, the problem becomes:\n",
    "\n",
    "\n",
    "Given a set of bounds such that:\n",
    "\n",
    "$- \\infty \\leq \\text{coef} \\leq + \\infty$ and $- \\infty \\leq \\text{intercept} \\leq + \\infty$, \n",
    "\n",
    "to **minimize** a function $z(\\text{coef}, \\text{intercept})$ defined as: \n",
    "\n",
    "```python\n",
    "def z(_X):\n",
    "    c, i = _X\n",
    "    y_pred = predict(selected_X, coef_=c, intercept_=i)\n",
    "    return calculate_sum_square_error(y_pred, selected_y)\n",
    "```\n",
    "\n",
    "**Recipe 4 - Minimizing Non-Linear Functions** says, \n",
    "\n",
    "> `scipy.optimize` ထဲက `minimize` function ကိုသုံးပြီး ရှင်းပါ။"
   ]
  },
  {
   "cell_type": "code",
   "execution_count": null,
   "metadata": {},
   "outputs": [],
   "source": [
    "def z(_X):\n",
    "    c, i = _X\n",
    "    y_pred = predict(selected_X, coef_=c, intercept_=i)\n",
    "    return calculate_sum_square_error(y_pred, selected_y)\n",
    "\n",
    "bounds = ((-np.inf, np.inf), (-np.inf, np.inf))\n",
    "\n",
    "results = sp_optimize.minimize(fun=z, x0=[0.3, 0.3], bounds=bounds)\n",
    "results"
   ]
  },
  {
   "cell_type": "markdown",
   "metadata": {},
   "source": [
    "#### But, what about **Regularization** ?"
   ]
  },
  {
   "cell_type": "code",
   "execution_count": 63,
   "metadata": {},
   "outputs": [
    {
     "data": {
      "text/plain": [
       "      fun: 270.89623216419875\n",
       " hess_inv: <2x2 LbfgsInvHessProduct with dtype=float64>\n",
       "      jac: array([1.13686838e-05, 5.68434189e-06])\n",
       "  message: b'CONVERGENCE: REL_REDUCTION_OF_F_<=_FACTR*EPSMCH'\n",
       "     nfev: 24\n",
       "      nit: 4\n",
       "   status: 0\n",
       "  success: True\n",
       "        x: array([0.42480717, 0.41289775])"
      ]
     },
     "execution_count": 63,
     "metadata": {},
     "output_type": "execute_result"
    }
   ],
   "source": [
    "l1_ratio = 0.15\n",
    "def z_with_regularization(_X):\n",
    "    c, i = _X\n",
    "    y_pred = predict(selected_X, coef_=c, intercept_=i)\n",
    "    l1_weight = abs(c)\n",
    "    l2_weight = c ** 2\n",
    "    return calculate_sum_square_error(y_pred, selected_y) + l1_ratio * l1_weight + (1 - l1_ratio) * l2_weight\n",
    "\n",
    "bounds = ((-np.inf, np.inf), (-np.inf, np.inf))\n",
    "\n",
    "results = sp_optimize.minimize(fun=z_with_regularization, x0=[0.3, 0.3], bounds=bounds)\n",
    "results"
   ]
  },
  {
   "cell_type": "markdown",
   "metadata": {},
   "source": [
    "## Review of Logistic Regression\n",
    "\n",
    "---\n",
    "\n",
    "### Recipe 16 - **Classification** with Linear Models\n",
    "\n",
    "**Classification**: ဆိုတာ category (class) ခွဲနည်းကို မသိပဲ အရင်က အဖြေတွေကို သိထားတဲ့အခါကျရင် နောက် unseen အဖြေတွေကို ခန့်မှန်း/တွက်ချက်ပေးမဲ့ function (Model) ကို တည်ဆောက်ခြင်းဖြစ်တယ်။\n",
    "\n",
    "> လိုတာတွေကတော့ အရင်က $X$ (features/independent variables) နဲ့ အဖြေ $y$ (target/dependent variable) တွေပဲ။\n",
    "\n",
    "> validation/test dataset ကို သပ်သပ်ဖယ်ထားလေ့ရှိတယ်။\n",
    "\n",
    "```python\n",
    "from sklearn import linear_model as sk_lm\n",
    "\n",
    "# building the model; check closely these 3 lines\n",
    "linear_regression_model = sk_lm.LogisticRegression()\n",
    "linear_regression_model.fit(X, y)\n",
    "\n",
    "# for unseen values\n",
    "y_pred = linear_regression_model.predict(X_unseen)\n",
    "```\n",
    "\n",
    "---"
   ]
  },
  {
   "cell_type": "markdown",
   "metadata": {},
   "source": [
    "### Inner-workings of Logistic Regression"
   ]
  },
  {
   "cell_type": "code",
   "execution_count": 88,
   "metadata": {},
   "outputs": [
    {
     "data": {
      "text/plain": [
       "count    360.000000\n",
       "mean       0.505556\n",
       "std        0.500665\n",
       "min        0.000000\n",
       "25%        0.000000\n",
       "50%        1.000000\n",
       "75%        1.000000\n",
       "max        1.000000\n",
       "Name: target, dtype: float64"
      ]
     },
     "execution_count": 88,
     "metadata": {},
     "output_type": "execute_result"
    }
   ],
   "source": [
    "df_X, ds_y = datasets.load_digits(n_class=2, return_X_y=True, as_frame=True)\n",
    "ds_y.astype(dtype=np.int8)\n",
    "ds_y.describe()"
   ]
  },
  {
   "cell_type": "code",
   "execution_count": 70,
   "metadata": {},
   "outputs": [],
   "source": [
    "from sklearn import feature_selection\n",
    "selector = feature_selection.SelectKBest(score_func=feature_selection.f_classif, k=1)\n",
    "selector.fit(df_X.values, ds_y)\n",
    "features = selector.transform(df_X.values)\n",
    "features.shape"
   ]
  },
  {
   "cell_type": "code",
   "execution_count": 89,
   "metadata": {},
   "outputs": [
    {
     "data": {
      "text/plain": [
       "(array([[1.59644402]]), array([-4.35837193]))"
      ]
     },
     "execution_count": 89,
     "metadata": {},
     "output_type": "execute_result"
    }
   ],
   "source": [
    "model = linear_model.LogisticRegression()\n",
    "model.fit(features, ds_y)\n",
    "model.coef_, model.intercept_"
   ]
  },
  {
   "cell_type": "markdown",
   "metadata": {},
   "source": [
    "#### ပြဿနာ ၂ ခု \n",
    "\n",
    "1. Linear Regression လိုပဲ minimize လို့မရဘူး။ တချို့ တန်ဖိုးတွေက 0 ထက် ငယ်ပြီး တချို့က 1 ထက်ကြီးနေတယ်။"
   ]
  },
  {
   "cell_type": "code",
   "execution_count": 93,
   "metadata": {},
   "outputs": [
    {
     "name": "stdout",
     "output_type": "stream",
     "text": [
      "16.0 21.184732450133488\n",
      "0.0 -4.358371928662804\n"
     ]
    }
   ],
   "source": [
    "print (np.max(features), np.max(predict(features, model.coef_[0], model.intercept_)))\n",
    "print (np.min(features), np.min(predict(features, model.coef_[0], model.intercept_)))"
   ]
  },
  {
   "cell_type": "markdown",
   "metadata": {},
   "source": [
    "ဒါကြောင့် ဒီနေရာမှာ $log(\\text{odd})$ ကို သုံးရတယ်။ \n",
    "\n",
    "**odd** အကြောင်းလေး နည်းနည်း ရှင်းပြမယ်။ \n",
    "\n",
    "အံစာတုံး တတုံးကို ပစ်လိုက်ရင် 3 ကျဖို့ probability ဘယ်လောက်ရှိသလဲ ? \n",
    "\n",
    "$$p(X=3) = 1/6$$\n",
    "\n",
    "စိတ်တွက်နဲ့တောင် ရတယ်။ \n",
    "\n",
    "odd ဆိုတာကတော့ probability ကိုပဲ __ လေး __ လေး ပုံစံနဲ့ ပြောတာ ဖြစ်တယ်။ \n",
    "\n",
    "**အံစာတုံး တတုံးပစ်လိုက်ရင် ၃ ကျဖို့ အခွင့်အလမ်းက ၁ လေး ၅ လေးပဲ ရှိတယ်။**\n",
    "\n",
    "အံစာတုံး ပစ်လို့ စုံကိန်းကျဖို့ အခွင့်အလမ်းက ၁ လေး ၁ လေး (ဆတူ) ပဲ ရှိတယ်။ \n",
    "\n",
    "ဖော်မြူလာအရတော့ ... \n",
    "\n",
    "$$\\text{odd}(X=3) = \\frac{p(X=3)}{p(X\\neq3)} = \\frac{1/6}{5/6} = \\frac{1}{5}$$\n",
    "\n",
    "**odd ရဲ့ ပြဿနာက balance မညီတာပဲ**\n",
    "\n",
    "အံစာတုံး ပစ်လိုက်ရင် 3 ကျမဲ့ odd က 1/5 ဖြစ်ပေမဲ့ 3 မကျမဲ့ odd က 5/1 ဖြစ်နေတယ်။ \n",
    "\n",
    "$$\\text{odd}(X=3) = \\frac{1}{25}\\text{odd}(X\\neq3)$$\n",
    "\n",
    "အံစာတုံးပစ်လိုက်ရင် 1 သို့မဟုတ် 2 ကျဖို့ odd ကျတော့ 2/4 = 1/2။ 1 သို့မဟုတ် 2 မကျဖို့ odd ကျတော့ 4/2 = 2။ \n",
    "\n",
    "အောက်က ဂရပ်ထဲမှာ ကြည့်ပါ။ "
   ]
  },
  {
   "cell_type": "code",
   "execution_count": 102,
   "metadata": {},
   "outputs": [
    {
     "name": "stderr",
     "output_type": "stream",
     "text": [
      "/home/edward/anaconda3/envs/py37-dsup/lib/python3.7/site-packages/ipykernel_launcher.py:2: RuntimeWarning: divide by zero encountered in true_divide\n",
      "  \n"
     ]
    },
    {
     "data": {
      "text/plain": [
       "<matplotlib.collections.PathCollection at 0x7f11c6d755d0>"
      ]
     },
     "execution_count": 102,
     "metadata": {},
     "output_type": "execute_result"
    },
    {
     "data": {
      "image/png": "[encoded data removed]",
      "text/plain": [
       "<Figure size 432x288 with 1 Axes>"
      ]
     },
     "metadata": {
      "needs_background": "light"
     },
     "output_type": "display_data"
    }
   ],
   "source": [
    "x = np.ones(shape=(12))\n",
    "y = np.concatenate((x[:6] / np.arange(6), x[6:] * np.arange(6)))\n",
    "plt.scatter(y, x)"
   ]
  },
  {
   "cell_type": "markdown",
   "metadata": {},
   "source": [
    "ဒီတော့ balance ညီသွားအောင် $log$ ယူလိုက်တယ်။"
   ]
  },
  {
   "cell_type": "code",
   "execution_count": 103,
   "metadata": {},
   "outputs": [
    {
     "name": "stderr",
     "output_type": "stream",
     "text": [
      "/home/edward/anaconda3/envs/py37-dsup/lib/python3.7/site-packages/ipykernel_launcher.py:1: RuntimeWarning: divide by zero encountered in log\n",
      "  \"\"\"Entry point for launching an IPython kernel.\n"
     ]
    },
    {
     "data": {
      "text/plain": [
       "<matplotlib.collections.PathCollection at 0x7f11c7aee910>"
      ]
     },
     "execution_count": 103,
     "metadata": {},
     "output_type": "execute_result"
    },
    {
     "data": {
      "image/png": "[encoded data removed]",
      "text/plain": [
       "<Figure size 432x288 with 1 Axes>"
      ]
     },
     "metadata": {
      "needs_background": "light"
     },
     "output_type": "display_data"
    }
   ],
   "source": [
    "plt.scatter(np.log(y), x)"
   ]
  },
  {
   "cell_type": "markdown",
   "metadata": {},
   "source": [
    "သတိထားဖို့က ... \n",
    "\n",
    "* $log(b^a) = alog(b)$\n",
    "* $log(ab) = log(a) + log(b)$\n",
    "* $log(\\frac{a}{b}) = log(a) - log(b)$\n",
    "* $log(1) = 0$ and $log(0)$ is undefined"
   ]
  },
  {
   "cell_type": "markdown",
   "metadata": {},
   "source": [
    "2. "
   ]
  },
  {
   "cell_type": "code",
   "execution_count": 97,
   "metadata": {},
   "outputs": [
    {
     "data": {
      "text/plain": [
       "<module 'matplotlib.pyplot' from '/home/edward/anaconda3/envs/py37-dsup/lib/python3.7/site-packages/matplotlib/pyplot.py'>"
      ]
     },
     "execution_count": 97,
     "metadata": {},
     "output_type": "execute_result"
    }
   ],
   "source": [
    "plt"
   ]
  },
  {
   "cell_type": "code",
   "execution_count": null,
   "metadata": {},
   "outputs": [],
   "source": []
  }
 ],
 "metadata": {
  "kernelspec": {
   "display_name": "Python 3.7.11 ('py37-dsup')",
   "language": "python",
   "name": "python3"
  },
  "language_info": {
   "codemirror_mode": {
    "name": "ipython",
    "version": 3
   },
   "file_extension": ".py",
   "mimetype": "text/x-python",
   "name": "python",
   "nbconvert_exporter": "python",
   "pygments_lexer": "ipython3",
   "version": "3.7.11"
  },
  "orig_nbformat": 4,
  "vscode": {
   "interpreter": {
    "hash": "3a9c1e998c7d6d5f29587b2c70e9bd488bb486b902354401efc27ca8457f04e9"
   }
  }
 },
 "nbformat": 4,
 "nbformat_minor": 2
}
