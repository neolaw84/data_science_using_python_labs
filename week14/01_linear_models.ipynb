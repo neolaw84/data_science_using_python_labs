{
 "cells": [
  {
   "cell_type": "markdown",
   "metadata": {},
   "source": [
    "# Linear Models (Advanced)\n",
    "\n",
    "မင်္ဂလာပါ။ Data Science Using Python Week 14 က ကြိုဆိုပါတယ်။ \n",
    "\n",
    "ဒီတပါတ်မှာ linear model တွေအကြောင်းကို အသေးစိတ် ပြောမှာ ဖြစ်ပါတယ်။"
   ]
  },
  {
   "cell_type": "markdown",
   "metadata": {},
   "source": [
    "## Review of Linear Regression\n",
    "\n",
    "### Recipe 10 - Linear Regression\n",
    "\n",
    "**Regression**: ဆိုတာ ဂဏန်းတန်ဖိုးတခုကို တွက်နည်းကို မသိပဲ အရင်က အဖြေတွေကို သိထားတဲ့အခါကျရင် နောက် unseen အဖြေတွေကို ခန့်မှန်း/တွက်ချက်ပေးမဲ့ function (Model) ကို တည်ဆောက်ခြင်းပါ။\n",
    "\n",
    "> လိုတာတွေကတော့ အရင်က $X$ (features/independent variables) နဲ့ အဖြေ $y$ (target/dependent variable) တွေပဲ။\n",
    "\n",
    "> validation/test dataset ကို သပ်သပ်ဖယ်ထားလေ့ရှိတယ်။\n",
    "\n",
    "```python\n",
    "from sklearn import linear_model as sk_lm\n",
    "\n",
    "# initializing the model;\n",
    "linear_regression_model = sk_lm.LinearRegression()\n",
    "# building the model; \n",
    "linear_regression_model.fit(X, y)\n",
    "# using the model for unseen values\n",
    "y_pred = linear_regression_model.predict(X_unseen)\n",
    "```\n",
    "\n",
    "---\n",
    "\n",
    "### Recipe 11 - Assessing Regression Results\n",
    "\n",
    "**Regression Results** ကောင်း/မကောင်းကို known answers တွေနဲ့ ယှဉ်ကြည့်ဖို့ `sklearn.metrics` ကို သုံးနိုင်တယ်။\n",
    "\n",
    "> ဒါကြောင့် validation/test dataset ကို သပ်သပ်ဖယ်ထားရတာ။\n",
    "\n",
    "```python\n",
    "from sklearn import metrics as sk_met\n",
    "\n",
    "print (\"max error : \") # the lesser, the better\n",
    "print (sk_met.max_error(y_bst_ts, y_bst_pred))\n",
    "print (\"mean absolute error\") # the lesser, the better\n",
    "print (sk_met.mean_absolute_error(y_bst_ts, y_bst_pred))\n",
    "print (\"median absolute error\") # the lesser, the better\n",
    "print (sk_met.median_absolute_error(y_bst_ts, y_bst_pred))\n",
    "print (\"mean square error : \") # the lesser, the better\n",
    "print (sk_met.mean_squared_error(y_bst_ts, y_bst_pred))\n",
    "print (\"r^2 score : \") # the bigger (closer to 1), the better\n",
    "print (sk_met.r2_score(y_bst_ts, y_bst_pred))\n",
    "```\n",
    "\n",
    "---\n",
    "\n",
    "### Recipe 12 - Comparing Regression Features\n",
    "\n",
    "တခါတလေမှာ feature $f_i$ နဲ့ $f_j$ တို့ကို နှိုင်းယှဉ်ဖို့ လိုတဲ့အခါ ... F-score နဲ့ p-value တို့ကို သုံးရတယ်။\n",
    "\n",
    "```python\n",
    "from sklearn import feature_selection as sk_fs\n",
    "selector = sk_fs.SelectKBest(sk_fs.f_regression, k=\"all\")\n",
    "selector.fit(X[\"feature_1\", \"feature_2\"], y)\n",
    "print (selector.scores_)\n",
    "print (selector.pvalues_)\n",
    "```\n",
    "\n",
    "> **p-value** က 0.05 ထက်ကြီးရင် တွဲလျက် F-score က မတော်တဆ ရလာတာဖြစ်တယ် (သုံးမရဘူး)။ \n",
    "\n",
    "သုံးရတဲ့ **F-score** တွေက ကြီးလေ ကောင်းလေပဲ။\n",
    "\n",
    "---"
   ]
  },
  {
   "cell_type": "markdown",
   "metadata": {},
   "source": [
    "## Inner-workings of Linear Regression"
   ]
  },
  {
   "cell_type": "code",
   "execution_count": 17,
   "metadata": {},
   "outputs": [],
   "source": [
    "import numpy as np\n",
    "from scipy import linalg as sp_linalg\n",
    "\n",
    "import pandas as pd\n",
    "from sklearn import datasets, metrics, linear_model, model_selection as ms"
   ]
  },
  {
   "cell_type": "code",
   "execution_count": 2,
   "metadata": {},
   "outputs": [],
   "source": [
    "%matplotlib inline\n",
    "from matplotlib import pyplot as plt"
   ]
  },
  {
   "cell_type": "code",
   "execution_count": 11,
   "metadata": {},
   "outputs": [],
   "source": [
    "import importlib\n",
    "import utils\n",
    "importlib.reload(utils)\n",
    "\n",
    "np.random.seed(42)"
   ]
  },
  {
   "cell_type": "code",
   "execution_count": 4,
   "metadata": {},
   "outputs": [
    {
     "data": {
      "text/html": [
       "<div>\n",
       "<style scoped>\n",
       "    .dataframe tbody tr th:only-of-type {\n",
       "        vertical-align: middle;\n",
       "    }\n",
       "\n",
       "    .dataframe tbody tr th {\n",
       "        vertical-align: top;\n",
       "    }\n",
       "\n",
       "    .dataframe thead th {\n",
       "        text-align: right;\n",
       "    }\n",
       "</style>\n",
       "<table border=\"1\" class=\"dataframe\">\n",
       "  <thead>\n",
       "    <tr style=\"text-align: right;\">\n",
       "      <th></th>\n",
       "      <th>MedInc</th>\n",
       "      <th>HouseAge</th>\n",
       "      <th>AveRooms</th>\n",
       "      <th>AveBedrms</th>\n",
       "      <th>Population</th>\n",
       "      <th>AveOccup</th>\n",
       "      <th>Latitude</th>\n",
       "      <th>Longitude</th>\n",
       "    </tr>\n",
       "  </thead>\n",
       "  <tbody>\n",
       "    <tr>\n",
       "      <th>0</th>\n",
       "      <td>8.3252</td>\n",
       "      <td>41.0</td>\n",
       "      <td>6.984127</td>\n",
       "      <td>1.023810</td>\n",
       "      <td>322.0</td>\n",
       "      <td>2.555556</td>\n",
       "      <td>37.88</td>\n",
       "      <td>-122.23</td>\n",
       "    </tr>\n",
       "    <tr>\n",
       "      <th>1</th>\n",
       "      <td>8.3014</td>\n",
       "      <td>21.0</td>\n",
       "      <td>6.238137</td>\n",
       "      <td>0.971880</td>\n",
       "      <td>2401.0</td>\n",
       "      <td>2.109842</td>\n",
       "      <td>37.86</td>\n",
       "      <td>-122.22</td>\n",
       "    </tr>\n",
       "    <tr>\n",
       "      <th>2</th>\n",
       "      <td>7.2574</td>\n",
       "      <td>52.0</td>\n",
       "      <td>8.288136</td>\n",
       "      <td>1.073446</td>\n",
       "      <td>496.0</td>\n",
       "      <td>2.802260</td>\n",
       "      <td>37.85</td>\n",
       "      <td>-122.24</td>\n",
       "    </tr>\n",
       "    <tr>\n",
       "      <th>3</th>\n",
       "      <td>5.6431</td>\n",
       "      <td>52.0</td>\n",
       "      <td>5.817352</td>\n",
       "      <td>1.073059</td>\n",
       "      <td>558.0</td>\n",
       "      <td>2.547945</td>\n",
       "      <td>37.85</td>\n",
       "      <td>-122.25</td>\n",
       "    </tr>\n",
       "    <tr>\n",
       "      <th>4</th>\n",
       "      <td>3.8462</td>\n",
       "      <td>52.0</td>\n",
       "      <td>6.281853</td>\n",
       "      <td>1.081081</td>\n",
       "      <td>565.0</td>\n",
       "      <td>2.181467</td>\n",
       "      <td>37.85</td>\n",
       "      <td>-122.25</td>\n",
       "    </tr>\n",
       "  </tbody>\n",
       "</table>\n",
       "</div>"
      ],
      "text/plain": [
       "   MedInc  HouseAge  AveRooms  AveBedrms  Population  AveOccup  Latitude  \\\n",
       "0  8.3252      41.0  6.984127   1.023810       322.0  2.555556     37.88   \n",
       "1  8.3014      21.0  6.238137   0.971880      2401.0  2.109842     37.86   \n",
       "2  7.2574      52.0  8.288136   1.073446       496.0  2.802260     37.85   \n",
       "3  5.6431      52.0  5.817352   1.073059       558.0  2.547945     37.85   \n",
       "4  3.8462      52.0  6.281853   1.081081       565.0  2.181467     37.85   \n",
       "\n",
       "   Longitude  \n",
       "0    -122.23  \n",
       "1    -122.22  \n",
       "2    -122.24  \n",
       "3    -122.25  \n",
       "4    -122.25  "
      ]
     },
     "execution_count": 4,
     "metadata": {},
     "output_type": "execute_result"
    }
   ],
   "source": [
    "df_X, ds_y = datasets.fetch_california_housing(return_X_y=True, as_frame=True)\n",
    "df_X.head()"
   ]
  },
  {
   "cell_type": "code",
   "execution_count": 5,
   "metadata": {},
   "outputs": [],
   "source": [
    "N = len(ds_y)\n",
    "k_select_every = 50\n",
    "selected_col = \"MedInc\""
   ]
  },
  {
   "cell_type": "code",
   "execution_count": 6,
   "metadata": {},
   "outputs": [
    {
     "data": {
      "image/png": "[encoded data removed]",
      "text/plain": [
       "<Figure size 432x288 with 1 Axes>"
      ]
     },
     "metadata": {
      "needs_background": "light"
     },
     "output_type": "display_data"
    }
   ],
   "source": [
    "selector = range(0, N, k_select_every)\n",
    "selected_X = df_X[selected_col][selector]\n",
    "selected_y = ds_y[selector]\n",
    "utils.scatter_xy(selected_X, y=selected_y, xlabel=selected_col)"
   ]
  },
  {
   "cell_type": "code",
   "execution_count": 8,
   "metadata": {},
   "outputs": [
    {
     "data": {
      "text/plain": [
       "(array([0.42511566]), 0.41172495663170916)"
      ]
     },
     "execution_count": 8,
     "metadata": {},
     "output_type": "execute_result"
    }
   ],
   "source": [
    "model = linear_model.LinearRegression()\n",
    "model.fit(selected_X.values.reshape((-1, 1)), selected_y)\n",
    "model.coef_, model.intercept_"
   ]
  },
  {
   "cell_type": "markdown",
   "metadata": {},
   "source": [
    "**အဲဒီ အပေါ်က ဂဏန်း ၂ လုံး ဘယ်က ရလာသလဲ**"
   ]
  },
  {
   "cell_type": "code",
   "execution_count": 10,
   "metadata": {},
   "outputs": [
    {
     "data": {
      "image/png": "[encoded data removed]",
      "text/plain": [
       "<Figure size 432x288 with 1 Axes>"
      ]
     },
     "metadata": {
      "needs_background": "light"
     },
     "output_type": "display_data"
    }
   ],
   "source": [
    "utils.scatter_xy(selected_X, y=selected_y, xlabel=selected_col)\n",
    "utils.draw_line(model.coef_[0], model.intercept_, ylim=(0, 5.5))\n",
    "plt.show()"
   ]
  },
  {
   "cell_type": "markdown",
   "metadata": {},
   "source": [
    "လိုင်း အနီဟာ ဂဏန်း ၂ လုံးကို ကိုယ်စားပြုတယ်။ `model` ရဲ့ `predict` function ဟာ အောက်ပါ function နဲ့ တူတူပဲ ဖြစ်တယ်။\n",
    "\n",
    "```python\n",
    "def predict(x, coef_=model.coef_[0], intercept_=model.intercept_):\n",
    "    return x * coef_ + intercept_\n",
    "```"
   ]
  },
  {
   "cell_type": "code",
   "execution_count": 20,
   "metadata": {},
   "outputs": [
    {
     "data": {
      "text/plain": [
       "0        3.950898\n",
       "50       0.803597\n",
       "100      1.470773\n",
       "150      2.142796\n",
       "200      1.697997\n",
       "           ...   \n",
       "20400    2.504739\n",
       "20450    2.631084\n",
       "20500    3.040003\n",
       "20550    1.638779\n",
       "20600    1.730816\n",
       "Name: MedInc, Length: 413, dtype: float64"
      ]
     },
     "execution_count": 20,
     "metadata": {},
     "output_type": "execute_result"
    }
   ],
   "source": [
    "def predict(x, coef_=model.coef_[0], intercept_=model.intercept_):\n",
    "    return x * coef_ + intercept_\n",
    "predict(selected_X)"
   ]
  },
  {
   "cell_type": "code",
   "execution_count": 22,
   "metadata": {},
   "outputs": [
    {
     "data": {
      "text/html": [
       "<div>\n",
       "<style scoped>\n",
       "    .dataframe tbody tr th:only-of-type {\n",
       "        vertical-align: middle;\n",
       "    }\n",
       "\n",
       "    .dataframe tbody tr th {\n",
       "        vertical-align: top;\n",
       "    }\n",
       "\n",
       "    .dataframe thead th {\n",
       "        text-align: right;\n",
       "    }\n",
       "</style>\n",
       "<table border=\"1\" class=\"dataframe\">\n",
       "  <thead>\n",
       "    <tr style=\"text-align: right;\">\n",
       "      <th></th>\n",
       "      <th>MedInc</th>\n",
       "      <th>predict_function</th>\n",
       "      <th>model_predict_function</th>\n",
       "    </tr>\n",
       "  </thead>\n",
       "  <tbody>\n",
       "    <tr>\n",
       "      <th>0</th>\n",
       "      <td>8.3252</td>\n",
       "      <td>3.950898</td>\n",
       "      <td>3.950898</td>\n",
       "    </tr>\n",
       "    <tr>\n",
       "      <th>50</th>\n",
       "      <td>0.9218</td>\n",
       "      <td>0.803597</td>\n",
       "      <td>0.803597</td>\n",
       "    </tr>\n",
       "    <tr>\n",
       "      <th>100</th>\n",
       "      <td>2.4912</td>\n",
       "      <td>1.470773</td>\n",
       "      <td>1.470773</td>\n",
       "    </tr>\n",
       "    <tr>\n",
       "      <th>150</th>\n",
       "      <td>4.0720</td>\n",
       "      <td>2.142796</td>\n",
       "      <td>2.142796</td>\n",
       "    </tr>\n",
       "    <tr>\n",
       "      <th>200</th>\n",
       "      <td>3.0257</td>\n",
       "      <td>1.697997</td>\n",
       "      <td>1.697997</td>\n",
       "    </tr>\n",
       "    <tr>\n",
       "      <th>...</th>\n",
       "      <td>...</td>\n",
       "      <td>...</td>\n",
       "      <td>...</td>\n",
       "    </tr>\n",
       "    <tr>\n",
       "      <th>20400</th>\n",
       "      <td>4.9234</td>\n",
       "      <td>2.504739</td>\n",
       "      <td>2.504739</td>\n",
       "    </tr>\n",
       "    <tr>\n",
       "      <th>20450</th>\n",
       "      <td>5.2206</td>\n",
       "      <td>2.631084</td>\n",
       "      <td>2.631084</td>\n",
       "    </tr>\n",
       "    <tr>\n",
       "      <th>20500</th>\n",
       "      <td>6.1825</td>\n",
       "      <td>3.040003</td>\n",
       "      <td>3.040003</td>\n",
       "    </tr>\n",
       "    <tr>\n",
       "      <th>20550</th>\n",
       "      <td>2.8864</td>\n",
       "      <td>1.638779</td>\n",
       "      <td>1.638779</td>\n",
       "    </tr>\n",
       "    <tr>\n",
       "      <th>20600</th>\n",
       "      <td>3.1029</td>\n",
       "      <td>1.730816</td>\n",
       "      <td>1.730816</td>\n",
       "    </tr>\n",
       "  </tbody>\n",
       "</table>\n",
       "<p>413 rows × 3 columns</p>\n",
       "</div>"
      ],
      "text/plain": [
       "       MedInc  predict_function  model_predict_function\n",
       "0      8.3252          3.950898                3.950898\n",
       "50     0.9218          0.803597                0.803597\n",
       "100    2.4912          1.470773                1.470773\n",
       "150    4.0720          2.142796                2.142796\n",
       "200    3.0257          1.697997                1.697997\n",
       "...       ...               ...                     ...\n",
       "20400  4.9234          2.504739                2.504739\n",
       "20450  5.2206          2.631084                2.631084\n",
       "20500  6.1825          3.040003                3.040003\n",
       "20550  2.8864          1.638779                1.638779\n",
       "20600  3.1029          1.730816                1.730816\n",
       "\n",
       "[413 rows x 3 columns]"
      ]
     },
     "execution_count": 22,
     "metadata": {},
     "output_type": "execute_result"
    }
   ],
   "source": [
    "# fix this error\n",
    "temp_df = pd.DataFrame({\n",
    "    selected_col : selected_X, \n",
    "    \"predict_function\" : predict(selected_X),\n",
    "    \"model_predict_function\" : model.predict(selected_X.values.reshape((-1, 1))),\n",
    "})\n",
    "temp_df"
   ]
  },
  {
   "cell_type": "markdown",
   "metadata": {},
   "source": [
    "အဖြစ်မှန်နဲ့ `model` output နဲ့ ကွာခြားချက်ကို သိစေဖို့ `error` ကို `predict_function` ထဲက `selected_y` ကို နှုတ်ပြီး ရှာကြည့်ကြမယ်။ \n",
    "\n",
    "ပြီးတော့ အဲဒီ `error` ကို အမြဲ အပေါင်းကိန်းဖြစ်စေဖို့ ၂ ထပ် တင်လိုက်မယ်။"
   ]
  },
  {
   "cell_type": "code",
   "execution_count": 31,
   "metadata": {},
   "outputs": [
    {
     "data": {
      "text/html": [
       "<div>\n",
       "<style scoped>\n",
       "    .dataframe tbody tr th:only-of-type {\n",
       "        vertical-align: middle;\n",
       "    }\n",
       "\n",
       "    .dataframe tbody tr th {\n",
       "        vertical-align: top;\n",
       "    }\n",
       "\n",
       "    .dataframe thead th {\n",
       "        text-align: right;\n",
       "    }\n",
       "</style>\n",
       "<table border=\"1\" class=\"dataframe\">\n",
       "  <thead>\n",
       "    <tr style=\"text-align: right;\">\n",
       "      <th></th>\n",
       "      <th>MedInc</th>\n",
       "      <th>predict_function</th>\n",
       "      <th>model_predict_function</th>\n",
       "      <th>error</th>\n",
       "      <th>square_error</th>\n",
       "    </tr>\n",
       "  </thead>\n",
       "  <tbody>\n",
       "    <tr>\n",
       "      <th>0</th>\n",
       "      <td>8.3252</td>\n",
       "      <td>3.950898</td>\n",
       "      <td>3.950898</td>\n",
       "      <td>-0.575102</td>\n",
       "      <td>0.330742</td>\n",
       "    </tr>\n",
       "    <tr>\n",
       "      <th>50</th>\n",
       "      <td>0.9218</td>\n",
       "      <td>0.803597</td>\n",
       "      <td>0.803597</td>\n",
       "      <td>-0.915403</td>\n",
       "      <td>0.837963</td>\n",
       "    </tr>\n",
       "    <tr>\n",
       "      <th>100</th>\n",
       "      <td>2.4912</td>\n",
       "      <td>1.470773</td>\n",
       "      <td>1.470773</td>\n",
       "      <td>-1.107227</td>\n",
       "      <td>1.225951</td>\n",
       "    </tr>\n",
       "    <tr>\n",
       "      <th>150</th>\n",
       "      <td>4.0720</td>\n",
       "      <td>2.142796</td>\n",
       "      <td>2.142796</td>\n",
       "      <td>-0.558204</td>\n",
       "      <td>0.311592</td>\n",
       "    </tr>\n",
       "    <tr>\n",
       "      <th>200</th>\n",
       "      <td>3.0257</td>\n",
       "      <td>1.697997</td>\n",
       "      <td>1.697997</td>\n",
       "      <td>0.889997</td>\n",
       "      <td>0.792095</td>\n",
       "    </tr>\n",
       "    <tr>\n",
       "      <th>...</th>\n",
       "      <td>...</td>\n",
       "      <td>...</td>\n",
       "      <td>...</td>\n",
       "      <td>...</td>\n",
       "      <td>...</td>\n",
       "    </tr>\n",
       "    <tr>\n",
       "      <th>20400</th>\n",
       "      <td>4.9234</td>\n",
       "      <td>2.504739</td>\n",
       "      <td>2.504739</td>\n",
       "      <td>0.090739</td>\n",
       "      <td>0.008234</td>\n",
       "    </tr>\n",
       "    <tr>\n",
       "      <th>20450</th>\n",
       "      <td>5.2206</td>\n",
       "      <td>2.631084</td>\n",
       "      <td>2.631084</td>\n",
       "      <td>-0.170916</td>\n",
       "      <td>0.029212</td>\n",
       "    </tr>\n",
       "    <tr>\n",
       "      <th>20500</th>\n",
       "      <td>6.1825</td>\n",
       "      <td>3.040003</td>\n",
       "      <td>3.040003</td>\n",
       "      <td>0.770003</td>\n",
       "      <td>0.592904</td>\n",
       "    </tr>\n",
       "    <tr>\n",
       "      <th>20550</th>\n",
       "      <td>2.8864</td>\n",
       "      <td>1.638779</td>\n",
       "      <td>1.638779</td>\n",
       "      <td>0.607779</td>\n",
       "      <td>0.369395</td>\n",
       "    </tr>\n",
       "    <tr>\n",
       "      <th>20600</th>\n",
       "      <td>3.1029</td>\n",
       "      <td>1.730816</td>\n",
       "      <td>1.730816</td>\n",
       "      <td>1.013816</td>\n",
       "      <td>1.027824</td>\n",
       "    </tr>\n",
       "  </tbody>\n",
       "</table>\n",
       "<p>413 rows × 5 columns</p>\n",
       "</div>"
      ],
      "text/plain": [
       "       MedInc  predict_function  model_predict_function     error  \\\n",
       "0      8.3252          3.950898                3.950898 -0.575102   \n",
       "50     0.9218          0.803597                0.803597 -0.915403   \n",
       "100    2.4912          1.470773                1.470773 -1.107227   \n",
       "150    4.0720          2.142796                2.142796 -0.558204   \n",
       "200    3.0257          1.697997                1.697997  0.889997   \n",
       "...       ...               ...                     ...       ...   \n",
       "20400  4.9234          2.504739                2.504739  0.090739   \n",
       "20450  5.2206          2.631084                2.631084 -0.170916   \n",
       "20500  6.1825          3.040003                3.040003  0.770003   \n",
       "20550  2.8864          1.638779                1.638779  0.607779   \n",
       "20600  3.1029          1.730816                1.730816  1.013816   \n",
       "\n",
       "       square_error  \n",
       "0          0.330742  \n",
       "50         0.837963  \n",
       "100        1.225951  \n",
       "150        0.311592  \n",
       "200        0.792095  \n",
       "...             ...  \n",
       "20400      0.008234  \n",
       "20450      0.029212  \n",
       "20500      0.592904  \n",
       "20550      0.369395  \n",
       "20600      1.027824  \n",
       "\n",
       "[413 rows x 5 columns]"
      ]
     },
     "execution_count": 31,
     "metadata": {},
     "output_type": "execute_result"
    }
   ],
   "source": [
    "temp_df[\"error\"] = temp_df[\"predict_function\"] - selected_y\n",
    "temp_df[\"square_error\"] = temp_df[\"error\"].values ** 2\n",
    "temp_df"
   ]
  },
  {
   "cell_type": "code",
   "execution_count": 32,
   "metadata": {},
   "outputs": [
    {
     "data": {
      "text/plain": [
       "270.67898459248806"
      ]
     },
     "execution_count": 32,
     "metadata": {},
     "output_type": "execute_result"
    }
   ],
   "source": [
    "def calculate_sum_square_error(predict, actual):\n",
    "    return np.sum((predict - actual) ** 2)\n",
    "\n",
    "calculate_sum_square_error(temp_df[\"predict_function\"], selected_y)"
   ]
  },
  {
   "cell_type": "code",
   "execution_count": 29,
   "metadata": {},
   "outputs": [],
   "source": [
    "temp_df.drop(\"square_error_2\", axis=1, inplace=True)"
   ]
  },
  {
   "cell_type": "code",
   "execution_count": null,
   "metadata": {},
   "outputs": [],
   "source": []
  }
 ],
 "metadata": {
  "kernelspec": {
   "display_name": "Python 3.7.11 ('py37-dsup')",
   "language": "python",
   "name": "python3"
  },
  "language_info": {
   "codemirror_mode": {
    "name": "ipython",
    "version": 3
   },
   "file_extension": ".py",
   "mimetype": "text/x-python",
   "name": "python",
   "nbconvert_exporter": "python",
   "pygments_lexer": "ipython3",
   "version": "3.7.11"
  },
  "orig_nbformat": 4,
  "vscode": {
   "interpreter": {
    "hash": "3a9c1e998c7d6d5f29587b2c70e9bd488bb486b902354401efc27ca8457f04e9"
   }
  }
 },
 "nbformat": 4,
 "nbformat_minor": 2
}
