{
 "cells": [
  {
   "cell_type": "markdown",
   "metadata": {},
   "source": [
    "# `matplotlib`\n",
    "\n",
    "မင်္ဂလာပါ၊ **Data Science Using Python -- *Week 15 Day 1*** မှ ကြိုဆိုပါတယ်။\n",
    "\n",
    "ဒီနေ့ `matplotlib` library အကြောင်းကို ဆက်ပြီး လေ့လာကြမယ်။\n",
    "\n",
    "![](https://i.ibb.co/Mfm14sZ/python-sci-com-landscape-drawio.png)\n",
    "\n",
    "အပေါ်က ပုံမှာ ပြထားသလိုပဲ `numpy`, `scipy` နဲ့ `pandas` တို့လိုပဲ `matplotlib` ဟာ python data stack မှာ အရေးပါတဲ့ member တခုဖြစ်ပါတယ်။"
   ]
  },
  {
   "cell_type": "code",
   "execution_count": null,
   "metadata": {},
   "outputs": [],
   "source": [
    "%matplotlib inline\n",
    "import matplotlib\n",
    "from matplotlib import pyplot as plt\n",
    "# interactive ON ထားရင် plt.show() ကို ခေါ်စရာ မလိုဘူး။\n",
    "# ဒါပေမဲ့ good practice က interactive OFF ထားတာ ပိုကောင်းတယ်။\n",
    "matplotlib.interactive(False) "
   ]
  },
  {
   "cell_type": "markdown",
   "metadata": {},
   "source": [
    "x, y coordinate system မှာ point တွေ ပြန့်ကျဲပြီး ပြတဲ့ scatter plot ကို `matplotlib` သုံးပြီး ဆွဲနိုင်တယ်။ "
   ]
  },
  {
   "cell_type": "code",
   "execution_count": null,
   "metadata": {},
   "outputs": [],
   "source": [
    "import numpy as np\n",
    "np.random.seed(42)\n",
    "x = np.random.normal(loc=5.0, scale=5.0, size=100)\n",
    "y = np.random.binomial(10, 0.5, size=100).astype(np.float16)"
   ]
  },
  {
   "cell_type": "code",
   "execution_count": null,
   "metadata": {},
   "outputs": [],
   "source": [
    "plt.scatter(x, y)\n",
    "plt.show()"
   ]
  },
  {
   "cell_type": "markdown",
   "metadata": {},
   "source": [
    "`scatter` ကိုလဲ `plot` လိုပဲ setting ပြောင်းနိုင်တယ်။"
   ]
  },
  {
   "cell_type": "code",
   "execution_count": null,
   "metadata": {},
   "outputs": [],
   "source": [
    "plt.scatter(x, y, marker=\".\")\n",
    "plt.show()"
   ]
  },
  {
   "cell_type": "code",
   "execution_count": null,
   "metadata": {},
   "outputs": [],
   "source": [
    "plt.scatter(x, y, marker=\"d\", s=10)\n",
    "plt.show()"
   ]
  },
  {
   "cell_type": "code",
   "execution_count": null,
   "metadata": {},
   "outputs": [],
   "source": [
    "# Try to change the marker type to \"o\" and size 20"
   ]
  },
  {
   "cell_type": "markdown",
   "metadata": {},
   "source": [
    "size `s` ကို အသေမပေးပဲ array ပုံစံမျိုးနဲ့လဲ ပေးလို့ရတယ်။"
   ]
  },
  {
   "cell_type": "code",
   "execution_count": null,
   "metadata": {},
   "outputs": [],
   "source": [
    "def x_plus_y(x, y):\n",
    "    return np.absolute(x) + np.absolute(y)\n",
    "\n",
    "s = x_plus_y(x, y)\n",
    "print (type(s))\n",
    "print (s.shape)\n",
    "plt.scatter(x, y, s=s)\n",
    "plt.show()"
   ]
  },
  {
   "cell_type": "code",
   "execution_count": null,
   "metadata": {},
   "outputs": [],
   "source": [
    "from sklearn import datasets, model_selection as ms, linear_model as lm, cluster"
   ]
  },
  {
   "cell_type": "code",
   "execution_count": null,
   "metadata": {},
   "outputs": [],
   "source": [
    "df_X, ds_y = datasets.fetch_california_housing(as_frame=True, return_X_y=True)\n",
    "tr_X, ts_X, tr_y, ts_y = ms.train_test_split(df_X, ds_y, test_size=0.3, random_state=42, shuffle=True)\n",
    "tr_X.head()"
   ]
  },
  {
   "cell_type": "code",
   "execution_count": null,
   "metadata": {},
   "outputs": [],
   "source": [
    "lat_to_plot = tr_X[\"Latitude\"][::50]\n",
    "lon_to_plot = tr_X[\"Longitude\"][::50]\n",
    "plt.scatter(lon_to_plot, lat_to_plot, marker=\".\")\n",
    "plt.show()"
   ]
  },
  {
   "cell_type": "markdown",
   "metadata": {},
   "source": [
    "scatter `plt` တခုမှာ color ကို customize လုပ်ချင်ရင် `c` ဆိုတဲ့ parameter ကို ပေးရတယ်။"
   ]
  },
  {
   "cell_type": "code",
   "execution_count": null,
   "metadata": {},
   "outputs": [],
   "source": [
    "c = np.random.randint(0, 8, size=len(lat_to_plot))\n",
    "plt.scatter(lon_to_plot, lat_to_plot, c=c)\n",
    "plt.show()"
   ]
  },
  {
   "cell_type": "markdown",
   "metadata": {},
   "source": [
    "ဒါကြောင့် clustering algorithm က ထွက်လာတဲ့ cluster id တွေကို `c` ထဲ ထည့်လိုက်ရင် cluster တခုစီ ထွက်လာတယ်။ "
   ]
  },
  {
   "cell_type": "code",
   "execution_count": null,
   "metadata": {},
   "outputs": [],
   "source": [
    "kmean = cluster.KMeans()\n",
    "kmean.fit(tr_X[[\"Longitude\", \"Latitude\"]])\n",
    "c = kmean.predict(tr_X[[\"Longitude\", \"Latitude\"]][::50])\n",
    "plt.scatter(lon_to_plot, lat_to_plot, c=c)\n",
    "plt.show()"
   ]
  },
  {
   "cell_type": "markdown",
   "metadata": {},
   "source": [
    "**Assignment**\n",
    "\n",
    "1. Try to plot a scatter plot with `HouseAge` divided by 10 and `AveRooms` features.\n",
    "\n",
    "2. Put these features into `KMeans` and color your plot."
   ]
  },
  {
   "cell_type": "markdown",
   "metadata": {},
   "source": [
    "plot တခုတည်းမှာ plot နဲ့ scatter နဲ့လဲ တွဲဆွဲလို့ရတယ်။"
   ]
  },
  {
   "cell_type": "code",
   "execution_count": null,
   "metadata": {},
   "outputs": [],
   "source": [
    "model = lm.LinearRegression()\n",
    "model.fit(tr_X[[\"MedInc\"]], tr_y)\n",
    "\n",
    "x_to_plot = tr_X[\"MedInc\"][::100]\n",
    "y_act_to_plot = tr_y[::100]\n",
    "# solve the error caused by the following line\n",
    "y_pred_to_plot = model.predict(x_to_plot)\n",
    "\n",
    "plt.scatter(x_to_plot, y_act_to_plot, marker=\".\")\n",
    "plt.plot(x_to_plot, y_pred_to_plot, color=\"orange\")\n",
    "plt.show()"
   ]
  },
  {
   "cell_type": "markdown",
   "metadata": {},
   "source": [
    "အခု ... အပေါ်ကလိုမျိုး ကော်လံအားလုံး (Lat/Lon မပါ) နဲ့ ဆွဲကြည့်ရအောင်။"
   ]
  },
  {
   "cell_type": "code",
   "execution_count": null,
   "metadata": {},
   "outputs": [],
   "source": [
    "def get_things_to_plot(tr_X, tr_y, c):\n",
    "    model = lm.LinearRegression()\n",
    "    model.fit(tr_X[[c]], tr_y)\n",
    "\n",
    "    x_to_plot = tr_X[c][::100]\n",
    "    y_act_to_plot = tr_y[::100]\n",
    "    # solve the error caused by the following line\n",
    "    y_pred_to_plot = model.predict(x_to_plot)\n",
    "    return x_to_plot, y_act_to_plot, y_pred_to_plot"
   ]
  },
  {
   "cell_type": "code",
   "execution_count": null,
   "metadata": {},
   "outputs": [],
   "source": [
    "for c in tr_X.columns[:-2]:\n",
    "    x_to_plot, y_act_to_plot, y_pred_to_plot = get_things_to_plot(tr_X, tr_y, c)\n",
    "\n",
    "    plt.scatter(x_to_plot, y_act_to_plot, marker=\".\")\n",
    "    plt.plot(x_to_plot, y_pred_to_plot, color=\"orange\")\n",
    "    plt.title(\"Linear Regression against {}\".format(c))\n",
    "    plt.show()"
   ]
  },
  {
   "cell_type": "markdown",
   "metadata": {},
   "source": [
    "## Subplots\n",
    "\n",
    "ပုံတွေအများကြီးကို အတူတူတွဲပြီး ပြဖို့အတွက် subplot ကို သုံးတယ်။ subplot ဆွဲနည်း ၃ မျိုးရှိတယ်။ "
   ]
  },
  {
   "cell_type": "code",
   "execution_count": null,
   "metadata": {},
   "outputs": [],
   "source": [
    "# အလွယ်ဆုံးနဲ့ အရှင်းဆုံးနည်းလမ်းကတော့ plt.subplots ပါပဲ။\n",
    "fig, axs = plt.subplots(2, 3, figsize=(10, 10)) # axs will contain 2 rows 3 columns\n",
    "for c, ax in zip (tr_X.columns[:-2], axs.reshape((6))):\n",
    "    x, ya, yp = get_things_to_plot(tr_X, tr_y, c)\n",
    "    ax.scatter(x_to_plot, y_act_to_plot, marker=\".\")\n",
    "    ax.plot(x_to_plot, y_pred_to_plot, color=\"orange\")\n",
    "    ax.title.set_text(c)\n",
    "plt.show()\n",
    "# fix why all subplots are the same."
   ]
  },
  {
   "cell_type": "code",
   "execution_count": null,
   "metadata": {},
   "outputs": [],
   "source": [
    "# ဒုတိယနည်းကတော့ plt.subplot or fig.add_supplot ပါ။\n",
    "_ = plt.figure(figsize=(10, 10))\n",
    "for idx, c in enumerate(tr_X.columns[:-2]):\n",
    "    x, ya, yp = get_things_to_plot(tr_X, tr_y, c)\n",
    "    ax = plt.subplot(2, 3, idx + 1) # 2 row, 3 column, give me idx-th subplot\n",
    "    # သတိထားဖို့က သူ့ index က 1 ကနေ စတယ်။\n",
    "    ax.scatter(x, ya, marker=\".\")\n",
    "    ax.plot(x, yp, color=\"orange\")\n",
    "    ax.title.set_text(c)\n",
    "plt.show()"
   ]
  },
  {
   "cell_type": "code",
   "execution_count": null,
   "metadata": {},
   "outputs": [],
   "source": [
    "# ဒုတိယနည်း မူကွဲ\n",
    "fig = plt.figure(figsize=(10, 10))\n",
    "for idx, c in enumerate(tr_X.columns[:-2]):\n",
    "    x, ya, yp = get_things_to_plot(tr_X, tr_y, c)\n",
    "    ax = fig.add_subplot(2, 3, idx + 1) # 2 row, 3 column, give me idx-th subplot\n",
    "    # သတိထားဖို့က သူ့ index က 1 ကနေ စတယ်။\n",
    "    ax.scatter(x, ya, marker=\".\")\n",
    "    ax.plot(x, yp, color=\"orange\")\n",
    "    ax.title.set_text(c)\n",
    "plt.show()"
   ]
  },
  {
   "cell_type": "code",
   "execution_count": null,
   "metadata": {},
   "outputs": [],
   "source": [
    "# နောက်ဆုံးနည်းကတော့ subplot2grid ပါ\n",
    "\n",
    "_ = plt.figure(figsize=(10, 10))\n",
    "for row in range(0, 2):\n",
    "    for col in range(0, 3):\n",
    "        col_idx = row * 3 + col\n",
    "        print (\"col_idx is : {}\".format(col_idx))\n",
    "        c = tr_X.columns[col_idx]\n",
    "        print (\"column is : {}\".format(c))\n",
    "\n",
    "        x, ya, yp = get_things_to_plot(tr_X, tr_y, c)\n",
    "        ax = plt.subplot2grid((2, 3), (row, col)) # 2 row, 3 column, give me subplot at (row, col)\n",
    "        \n",
    "        ax.scatter(x, ya, marker=\".\")\n",
    "        ax.plot(x, yp, color=\"orange\")\n",
    "        ax.title.set_text(c)\n",
    "plt.show()"
   ]
  },
  {
   "cell_type": "markdown",
   "metadata": {},
   "source": [
    "အဲဒီ နည်း ၃ နည်းထဲမှာ သုံးလို့ အလွယ်ဆုံးက ပထမဆုံး `subplots` ဖြစ်ပြီး versatile အဖြစ်ဆုံးက `subplot2grid` ဖြစ်တယ်။ \n",
    "\n",
    "ဘယ်လို versatile ဖြစ်သလဲဆိုတာကို အောက်မှာ ကြည့်ရအောင်။"
   ]
  },
  {
   "cell_type": "code",
   "execution_count": null,
   "metadata": {},
   "outputs": [],
   "source": [
    "x = np.linspace(0, 10, num=1000)\n",
    "sin_x = np.sin(x)\n",
    "cos_x = np.cos(x)\n",
    "exp_x = np.exp(x)\n",
    "log_x = np.log(x)"
   ]
  },
  {
   "cell_type": "code",
   "execution_count": null,
   "metadata": {},
   "outputs": [],
   "source": [
    "\n",
    "_ = plt.figure(figsize=(10, 10))\n",
    "\n",
    "ax_sin = plt.subplot2grid((2, 3), (0, 0))\n",
    "ax_sin.plot(x, sin_x)\n",
    "\n",
    "ax_cos = plt.subplot2grid((2, 3), (0, 1))\n",
    "ax_cos.plot(x, cos_x)\n",
    "\n",
    "ax_exp = plt.subplot2grid((2, 3), (0, 2), rowspan=2)\n",
    "ax_exp.plot(x, exp_x)\n",
    "\n",
    "ax_log = plt.subplot2grid((2, 3), (1, 0), colspan=2)\n",
    "ax_log.plot(x, log_x)\n",
    "\n",
    "plt.show()"
   ]
  },
  {
   "cell_type": "markdown",
   "metadata": {},
   "source": [
    "`figsize` ကို ပြင်ချင်ရင် `plt.figure` or `plt.subplots` မှာ `figsize` ဆိုပြီး `(width, size)` tuple အဖြစ် ပေးလိုက်လို့ရတယ်။ unit က inch ဖြစ်တယ်။\n",
    "\n",
    "`axes` ရဲ့ aspect ratio ကို ပြင်ချင်ရင် `set_aspect` function ကို သုံးရတယ်။ \n",
    "\n",
    "`axes` ကို `plt` ကနေ `gca` function သုံးပြီး ယူလို့ရတယ်။\n",
    "\n",
    "grid တွေ ပေါ်စေချင်ရင် `plt.grid` or `axes.grid` function နဲ့ ဖော်နိုင်တယ်။"
   ]
  },
  {
   "cell_type": "code",
   "execution_count": null,
   "metadata": {},
   "outputs": [],
   "source": [
    "plt.grid(True)\n",
    "ax = plt.gca()\n",
    "ax.set_aspect(1)\n",
    "plt.plot(x, sin_x)\n",
    "plt.show()"
   ]
  },
  {
   "cell_type": "markdown",
   "metadata": {},
   "source": [
    "`set_aspect` မှာ \"auto\", \"equal\" or numeric value ပေးနိုင်တယ်။ numeric value က height/width ဖြစ်တယ်။ ဒါကြောင့် 16:9 aspect ratio ကို လိုချင်ရင် 9/16 လို့ ပေးရမယ်။"
   ]
  },
  {
   "cell_type": "markdown",
   "metadata": {},
   "source": [
    "### More Subplot Customisation\n",
    "\n",
    "subplot ဆိုတာ axes object တွေပဲ ဖြစ်တယ်။ စောစောက ပြောခဲ့တဲ့ subplot တွေအကုန်လုံးက figure အောက်ထဲမှာ axes တွေ အနေနဲ့ သွားထည့်တာ ဖြစ်တယ်။ \n",
    "\n",
    "figure အောက်ထဲကို custom axes တွေလဲ ထည့်လို့ရတယ်။"
   ]
  },
  {
   "cell_type": "code",
   "execution_count": null,
   "metadata": {},
   "outputs": [],
   "source": [
    "fig = plt.figure(figsize=(10, 10))\n",
    "\n",
    "# now we will draw exponential function in the big axes starting from (0, 0) and of size (1, 1)\n",
    "ax_exp = fig.add_axes([0, 0, 1, 1])\n",
    "ax_exp.plot(x, exp_x)\n",
    "\n",
    "# then, we will add another axes starting from (0.05, 0.5) and of size (0.4, 0.4) to plot sin wave\n",
    "ax_sin = fig.add_axes([0.05, 0.5, 0.4, 0.4])\n",
    "ax_sin.plot(x, sin_x)\n",
    "\n",
    "plt.show()"
   ]
  },
  {
   "cell_type": "markdown",
   "metadata": {},
   "source": [
    "sub plot တွေမှာ title တပ်ချင်ရင် plt မှာ title တပ်နည်းနဲ့ တပ်မရဘူး။ အပေါ်က ပုံမှာ \"Sine Wave\" နဲ့ \"Exponential Curve\" လို့ စာထိုးကြည့်ပါ။"
   ]
  },
  {
   "cell_type": "code",
   "execution_count": null,
   "metadata": {},
   "outputs": [],
   "source": [
    "# try to put titles to the sub plots there"
   ]
  },
  {
   "cell_type": "markdown",
   "metadata": {},
   "source": [
    "## Putting Texts\n",
    "\n",
    "Axes နဲ့ Fugure တွေမှာ `text` function ကို သုံးပြီး စာထည့်လို့ရတယ်။ "
   ]
  },
  {
   "cell_type": "code",
   "execution_count": null,
   "metadata": {},
   "outputs": [],
   "source": [
    "fig = plt.gcf() # or just use plt.figure() as usual\n",
    "fig.text(0.3, 0.3, s=\"figure text\", color=\"black\", alpha=0.3)\n",
    "\n",
    "ax = plt.gca()\n",
    "ax.set_xlim(5, 10)\n",
    "ax.text(6, 1, s=\"Exponential Curve\", fontsize=12, color=\"red\", ha=\"center\", va=\"center\", alpha=1.0)\n",
    "plt.plot(x, exp_x)\n",
    "plt.show()"
   ]
  },
  {
   "cell_type": "markdown",
   "metadata": {},
   "source": [
    "Possible values for `ha` are:\n",
    "\n",
    "* \"left\"\n",
    "* \"right\"\n",
    "* \"center\" etc. \n",
    "\n",
    "Possible values for `va` are:\n",
    "\n",
    "* \"top\"\n",
    "* \"bottom\"\n",
    "* \"center\"\n",
    "\n",
    "**သတိထားဖို့က `fig` ရဲ့ coordinate ဟာ 0 နဲ့ 1 ကြားဖြစ်ပြီး `axes` ရဲ့ coordinate ဟာ `xlim` နဲ့ `ylim` ပေးသလောက်ဖြစ်တယ်။"
   ]
  },
  {
   "cell_type": "code",
   "execution_count": null,
   "metadata": {},
   "outputs": [],
   "source": [
    "from scipy import stats\n",
    "mu = np.mean(tr_X[\"MedInc\"])\n",
    "sigma = np.std(tr_X[\"MedInc\"])\n",
    "x = np.linspace(mu - 3*sigma, mu + 3*sigma, 100)\n",
    "plt.plot(x, stats.norm.pdf(x, mu, sigma))\n",
    "plt.annotate(\"mean\", xy=(mu, 0.0), arrowprops={\"color\":\"green\"})\n",
    "plt.annotate(\"standard deviation\", xy=(sigma, 0.10), xytext=(mu, 0.10), ha=\"left\", arrowprops={\"color\": \"green\"})\n",
    "plt.show()"
   ]
  },
  {
   "cell_type": "code",
   "execution_count": null,
   "metadata": {},
   "outputs": [],
   "source": [
    "c = tr_X[\"MedInc\"].apply(lambda x : \"green\" if x > mu else \"red\")\n",
    "x_to_plot, y_to_plot, c_to_plot = tr_X[\"Longitude\"][::50], tr_X[\"Latitude\"][::50], c[::50]\n",
    "# solve the error occured below\n",
    "plt.scatter(x_to_plot[c_to_plot == \"green\"], y_to_plot[c_to_plot == \"green\"], label=\"high income\", marker=\".\", c=c)\n",
    "plt.scatter(x_to_plot[c_to_plot == \"red\"], y_to_plot[c_to_plot == \"red\"], label=\"low income\", marker=\".\", c=c)\n",
    "plt.legend()\n",
    "\n",
    "plt.text(-123, 40, \"Northern California\", ha=\"center\", bbox={\"alpha\": 0.2, \"color\": \"gray\"})\n",
    "plt.text(-116, 34, \"Southern California\", ha=\"right\", bbox={\"alpha\": 0.2, \"color\": \"gray\"})\n",
    "\n",
    "plt.show()"
   ]
  },
  {
   "cell_type": "markdown",
   "metadata": {},
   "source": [
    "### Using twin Ys\n",
    "\n",
    "`twinx` (not to be confused by its name) means TWIN aXes. Use this to create a parallel y axis. "
   ]
  },
  {
   "cell_type": "code",
   "execution_count": 108,
   "metadata": {},
   "outputs": [
    {
     "data": {
      "image/png": "[encoded data removed]",
      "text/plain": [
       "<Figure size 432x288 with 2 Axes>"
      ]
     },
     "metadata": {
      "needs_background": "light"
     },
     "output_type": "display_data"
    }
   ],
   "source": [
    "ax = plt.gca()\n",
    "ax.set_xlabel(\"x\")\n",
    "ax.set_ylabel(\"linear values\")\n",
    "\n",
    "x = np.linspace(-5, 5, num=1000)\n",
    "prob = stats.norm.pdf(x)\n",
    "ax.plot(x, prob, label=\"probability(x)\")\n",
    "odds = prob/(1 - prob)\n",
    "ax.plot(x, odds, label=\"odds\")\n",
    "\n",
    "ax_log = ax.twinx()\n",
    "ax_log.set_ylabel(\"log values\")\n",
    "\n",
    "log_odds = np.log(odds)\n",
    "ax_log.plot(x, log_odds, label=\"log(odds)\", color=\"green\")\n",
    "\n",
    "ax.legend(loc=2)\n",
    "ax_log.legend()\n",
    "\n",
    "plt.show()"
   ]
  },
  {
   "cell_type": "code",
   "execution_count": null,
   "metadata": {},
   "outputs": [],
   "source": []
  }
 ],
 "metadata": {
  "kernelspec": {
   "display_name": "Python 3.7.11 ('py37-dsup')",
   "language": "python",
   "name": "python3"
  },
  "language_info": {
   "codemirror_mode": {
    "name": "ipython",
    "version": 3
   },
   "file_extension": ".py",
   "mimetype": "text/x-python",
   "name": "python",
   "nbconvert_exporter": "python",
   "pygments_lexer": "ipython3",
   "version": "3.7.11"
  },
  "orig_nbformat": 4,
  "vscode": {
   "interpreter": {
    "hash": "3a9c1e998c7d6d5f29587b2c70e9bd488bb486b902354401efc27ca8457f04e9"
   }
  }
 },
 "nbformat": 4,
 "nbformat_minor": 2
}
