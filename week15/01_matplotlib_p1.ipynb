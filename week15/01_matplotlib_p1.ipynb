{
 "cells": [
  {
   "cell_type": "markdown",
   "metadata": {},
   "source": [
    "# `matplotlib`\n",
    "\n",
    "မင်္ဂလာပါ၊ **Data Science Using Python -- *Week 15*** မှ ကြိုဆိုပါတယ်။\n",
    "\n",
    "ဒီတပါတ် လေ့လာကြမှာကတော့ `matplotlib` library ပဲ ဖြစ်ပါတယ်။\n",
    "\n",
    "![](https://i.ibb.co/Mfm14sZ/python-sci-com-landscape-drawio.png)\n",
    "\n",
    "အပေါ်က ပုံမှာ ပြထားသလိုပဲ `numpy`, `scipy` နဲ့ `pandas` တို့လိုပဲ `matplotlib` ဟာ python data stack မှာ အရေးပါတဲ့ member တခုဖြစ်ပါတယ်။"
   ]
  },
  {
   "cell_type": "code",
   "execution_count": null,
   "metadata": {},
   "outputs": [],
   "source": [
    "%matplotlib inline\n",
    "import matplotlib\n",
    "from matplotlib import pyplot as plt\n",
    "# interactive ON ထားရင် plt.show() ကို ခေါ်စရာ မလိုဘူး။\n",
    "# ဒါပေမဲ့ good practice က interactive OFF ထားတာ ပိုကောင်းတယ်။\n",
    "matplotlib.interactive(False) "
   ]
  },
  {
   "cell_type": "markdown",
   "metadata": {},
   "source": [
    "ပထမဆုံး `matplotlib` ကို `import` လုပ်ရတယ်။ \n",
    "\n",
    "ပြီးတော့ `matplotlib.pyplot` ကို `import` လုပ်တယ်။ \n",
    "\n",
    "> စာရိုက်ရ သက်သာအောင် `plt` လို့ နာမည်ပြောင်းပေးလိုက်တယ်။ \n",
    "\n",
    "`matplotlib` မှာ `interactive` mode နဲ့ non-interactive mode ဆိုပြီး ၂ မျိုး ရှိတယ်။ ပုံမှန်အားဖြင့် on-screen device တွေ (jupyter notebook လိုမျိုး) ဆိုရင် `interactive` mode နဲ့ ပွင့်လာတတ်တယ်။ paper/printed-medium အတွက်ဆိုရင် non-interactive mode နဲ့ ပွင့်လာတတ်တယ်။ တခါတလေလဲ ကွန်ပျူတာက detect လုပ်တာ မှားတတ်တယ်။ အဓိကက `interactive` mode နဲ့ဆိုရင် cell တခု ဆုံးသွားတိုင်းမှာ `plt.show()` မခေါ်ပဲ plot ပြတာပါပဲ။\n",
    "\n",
    "> ဘာပဲ ဖြစ်ဖြစ် လေ့လာနေတုန်းမှာ `interactive` mode ကို OFF ထားတာ ကောင်းတယ်။"
   ]
  },
  {
   "cell_type": "code",
   "execution_count": null,
   "metadata": {},
   "outputs": [],
   "source": [
    "import numpy as np\n",
    "from sklearn import datasets"
   ]
  },
  {
   "cell_type": "code",
   "execution_count": null,
   "metadata": {},
   "outputs": [],
   "source": [
    "np.random.seed(42)\n",
    "x = np.arange(0, 10)\n",
    "y = np.random.random(size=10)\n",
    "print (\"x : {}\".format(x))\n",
    "print (\"y : {}\".format(y))"
   ]
  },
  {
   "cell_type": "code",
   "execution_count": null,
   "metadata": {},
   "outputs": [],
   "source": [
    "plt.plot(x, y) # this will draw a line plot\n",
    "plt.show() # this will show the drawn plot"
   ]
  },
  {
   "cell_type": "markdown",
   "metadata": {},
   "source": [
    "## History of `matplotlib`\n",
    "\n",
    "အပေါ်မှာ မြင်ခဲ့သလိုပဲ `matplotlib` ဟာ 2D data plotting tool ဖြစ်တယ်။ \n",
    "\n",
    "> `x` ရယ် `y` ရယ် ၂ ခုရှိတာမို့ 2-dimension ဖြစ်တယ်။ \n",
    "\n",
    "matlab ရဲ့ functionality ကို တုပပြီး python အတွက် `matplotlib` ကို ဖန်တီးထားတာ ဖြစ်တယ်။ ဒါကြောင့် `matplotlib` ဟာ \n",
    "\n",
    "* open-source ဖြစ်ပြီး matlab လိုမျိုး ပိုက်ဆံအများကြီးပေးပြီး ဝယ်စရာမလိုဘူး။\n",
    "* matlab လိုပဲ သုံးရလွယ်တယ်။\n",
    "* `gnuplot` လို printed media အတွက်သာမကပဲ printed or web media ၂ မျိုးလုံးအတွက် အသုံးပြုနိုင်တယ်။\n",
    "* `numpy` and `pandas` နဲ့ တွဲဘက်အသုံးပြုနိုင်တဲ့အတွက် scalable ဖြစ်တယ်။"
   ]
  },
  {
   "cell_type": "markdown",
   "metadata": {},
   "source": [
    "## Structure of `matplotlib` Figure\n",
    "\n",
    "![](http://www.pybloggers.com/wp-content/uploads/2018/02/files.realpython.comfig_map.bc8c7cabd823-03e2d63797282262cea23cc71441490b42740644.png)"
   ]
  },
  {
   "cell_type": "code",
   "execution_count": null,
   "metadata": {},
   "outputs": [],
   "source": [
    "# matplotlib ဟာ x ကို မပေးရင် [0, 1, 2, ... , len(y) - 1] လို့ assume တယ်။\n",
    "plt.plot(y)\n",
    "plt.show()"
   ]
  },
  {
   "cell_type": "code",
   "execution_count": null,
   "metadata": {},
   "outputs": [],
   "source": [
    "# plot ခိုင်းလိုက်တဲ့ line ရဲ့ color ကို color parameter အနေနဲ့ ပေးလို့ရတယ်။\n",
    "plt.plot(x, y, color=\"#123456\") \n",
    "# common color name တွေလဲ ပေးလို့ရတယ်။ ဥပမာ \"red\", \"green\" etc. \n",
    "plt.show()"
   ]
  },
  {
   "cell_type": "code",
   "execution_count": null,
   "metadata": {},
   "outputs": [],
   "source": [
    "# plot ကို xlabel နဲ့ ylabel လဲ ပေးလို့ရတယ်။ ပေါ်ချင်တဲ့ စာတင်မကပဲ fontsize နဲ့ color ကိုပါ ပေးလို့ရတယ်။\n",
    "plt.plot(x, y, color=\"#123456\")\n",
    "plt.xlabel(\"np.arange(0, 10)\", fontsize=15, color=\"green\")\n",
    "plt.ylabel(\"np.random.random(10)\", fontsize=10, color=\"blue\")\n",
    "plt.show()"
   ]
  },
  {
   "cell_type": "code",
   "execution_count": null,
   "metadata": {},
   "outputs": [],
   "source": [
    "# we can also make changes to the ticks and color/size of the labels\n",
    "plt.plot(x, y)\n",
    "plt.tick_params(axis=\"x\", color=\"red\", labelcolor=\"blue\", labelsize=\"x-large\")\n",
    "plt.tick_params(axis=\"y\", color=\"green\", labelcolor=\"gray\", labelsize=\"x-small\")\n",
    "plt.show()"
   ]
  },
  {
   "cell_type": "code",
   "execution_count": null,
   "metadata": {},
   "outputs": [],
   "source": [
    "# it is also possible to show no tick and no labels\n",
    "plt.plot(x, y)\n",
    "plt.tick_params(axis=\"x\", bottom=False, labelbottom=False)\n",
    "plt.show()"
   ]
  },
  {
   "cell_type": "code",
   "execution_count": null,
   "metadata": {},
   "outputs": [],
   "source": [
    "# putting a \"legend\" of each line is possible\n",
    "plt.plot(x, y, label=\"random\")\n",
    "plt.plot(x, 2*y, label=\"2 * random\")\n",
    "plt.legend()\n",
    "\n",
    "# and a title for the plot\n",
    "plt.title(\"My Random Numbers\")\n",
    "plt.show()\n",
    "\n",
    "# notice that putting Burmese characters is not supported yet\n",
    "# try ... "
   ]
  },
  {
   "cell_type": "code",
   "execution_count": null,
   "metadata": {},
   "outputs": [],
   "source": [
    "# it is also possible to limit the x axis and y axis\n",
    "plt.plot(x, y)\n",
    "plt.xlim(0, 7) # only show between 0 and 7\n",
    "plt.ylim(1, 0) # flip the plot\n",
    "plt.show()"
   ]
  },
  {
   "cell_type": "code",
   "execution_count": null,
   "metadata": {},
   "outputs": [],
   "source": [
    "\n",
    "\n",
    "df_X, ds_y = datasets.fetch_california_housing(return_X_y=True, as_frame=True)"
   ]
  },
  {
   "cell_type": "markdown",
   "metadata": {},
   "source": []
  }
 ],
 "metadata": {
  "kernelspec": {
   "display_name": "Python 3.7.11 ('py37-dsup')",
   "language": "python",
   "name": "python3"
  },
  "language_info": {
   "codemirror_mode": {
    "name": "ipython",
    "version": 3
   },
   "file_extension": ".py",
   "mimetype": "text/x-python",
   "name": "python",
   "nbconvert_exporter": "python",
   "pygments_lexer": "ipython3",
   "version": "3.7.11"
  },
  "orig_nbformat": 4,
  "vscode": {
   "interpreter": {
    "hash": "3a9c1e998c7d6d5f29587b2c70e9bd488bb486b902354401efc27ca8457f04e9"
   }
  }
 },
 "nbformat": 4,
 "nbformat_minor": 2
}
