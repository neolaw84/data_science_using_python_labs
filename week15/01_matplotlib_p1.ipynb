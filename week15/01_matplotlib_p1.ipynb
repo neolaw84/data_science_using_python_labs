{
 "cells": [
  {
   "cell_type": "markdown",
   "metadata": {},
   "source": [
    "# `matplotlib`\n",
    "\n",
    "မင်္ဂလာပါ၊ **Data Science Using Python -- *Week 15*** မှ ကြိုဆိုပါတယ်။\n",
    "\n",
    "ဒီတပါတ် လေ့လာကြမှာကတော့ `matplotlib` library ပဲ ဖြစ်ပါတယ်။\n",
    "\n",
    "![](https://i.ibb.co/Mfm14sZ/python-sci-com-landscape-drawio.png)\n",
    "\n",
    "အပေါ်က ပုံမှာ ပြထားသလိုပဲ `numpy`, `scipy` နဲ့ `pandas` တို့လိုပဲ `matplotlib` ဟာ python data stack မှာ အရေးပါတဲ့ member တခုဖြစ်ပါတယ်။"
   ]
  },
  {
   "cell_type": "code",
   "execution_count": 9,
   "metadata": {},
   "outputs": [],
   "source": [
    "%matplotlib inline\n",
    "import matplotlib\n",
    "from matplotlib import pyplot as plt\n",
    "# interactive ON ထားရင် plt.show() ကို ခေါ်စရာ မလိုဘူး။\n",
    "# ဒါပေမဲ့ good practice က interactive OFF ထားတာ ပိုကောင်းတယ်။\n",
    "matplotlib.interactive(False) "
   ]
  },
  {
   "cell_type": "markdown",
   "metadata": {},
   "source": [
    "ပထမဆုံး `matplotlib` ကို `import` လုပ်ရတယ်။ \n",
    "\n",
    "ပြီးတော့ `matplotlib.pyplot` ကို `import` လုပ်တယ်။ \n",
    "\n",
    "> စာရိုက်ရ သက်သာအောင် `plt` လို့ နာမည်ပြောင်းပေးလိုက်တယ်။ \n",
    "\n",
    "`matplotlib` မှာ `interactive` mode နဲ့ non-interactive mode ဆိုပြီး ၂ မျိုး ရှိတယ်။ ပုံမှန်အားဖြင့် on-screen device တွေ (jupyter notebook လိုမျိုး) ဆိုရင် `interactive` mode နဲ့ ပွင့်လာတတ်တယ်။ paper/printed-medium အတွက်ဆိုရင် non-interactive mode နဲ့ ပွင့်လာတတ်တယ်။ တခါတလေလဲ ကွန်ပျူတာက detect လုပ်တာ မှားတတ်တယ်။ အဓိကက `interactive` mode နဲ့ဆိုရင် cell တခု ဆုံးသွားတိုင်းမှာ `plt.show()` မခေါ်ပဲ plot ပြတာပါပဲ။\n",
    "\n",
    "> ဘာပဲ ဖြစ်ဖြစ် လေ့လာနေတုန်းမှာ `interactive` mode ကို OFF ထားတာ ကောင်းတယ်။"
   ]
  },
  {
   "cell_type": "code",
   "execution_count": 2,
   "metadata": {},
   "outputs": [
    {
     "name": "stdout",
     "output_type": "stream",
     "text": [
      "Collecting yfinance\n",
      "  Downloading yfinance-0.1.74-py2.py3-none-any.whl (27 kB)\n",
      "Collecting lxml>=4.5.1\n",
      "  Downloading lxml-4.9.1-cp37-cp37m-manylinux_2_17_x86_64.manylinux2014_x86_64.manylinux_2_24_x86_64.whl (6.4 MB)\n",
      "\u001b[K     |████████████████████████████████| 6.4 MB 6.8 MB/s eta 0:00:01     |███████████████████████████     | 5.4 MB 6.6 MB/s eta 0:00:01\n",
      "\u001b[?25hRequirement already satisfied: numpy>=1.15 in /home/edward/anaconda3/envs/py37-dsup/lib/python3.7/site-packages (from yfinance) (1.21.6)\n",
      "Collecting requests>=2.26\n",
      "  Downloading requests-2.28.1-py3-none-any.whl (62 kB)\n",
      "\u001b[K     |████████████████████████████████| 62 kB 143 kB/s eta 0:00:01\n",
      "\u001b[?25hRequirement already satisfied: multitasking>=0.0.7 in /home/edward/anaconda3/envs/py37-dsup/lib/python3.7/site-packages (from yfinance) (0.0.10)\n",
      "Requirement already satisfied: pandas>=0.24.0 in /home/edward/anaconda3/envs/py37-dsup/lib/python3.7/site-packages (from yfinance) (1.1.5)\n",
      "Requirement already satisfied: python-dateutil>=2.7.3 in /home/edward/anaconda3/envs/py37-dsup/lib/python3.7/site-packages (from pandas>=0.24.0->yfinance) (2.8.2)\n",
      "Requirement already satisfied: pytz>=2017.2 in /home/edward/anaconda3/envs/py37-dsup/lib/python3.7/site-packages (from pandas>=0.24.0->yfinance) (2018.9)\n",
      "Requirement already satisfied: six>=1.5 in /home/edward/anaconda3/envs/py37-dsup/lib/python3.7/site-packages (from python-dateutil>=2.7.3->pandas>=0.24.0->yfinance) (1.15.0)\n",
      "Requirement already satisfied: idna<4,>=2.5 in /home/edward/anaconda3/envs/py37-dsup/lib/python3.7/site-packages (from requests>=2.26->yfinance) (2.10)\n",
      "Requirement already satisfied: urllib3<1.27,>=1.21.1 in /home/edward/anaconda3/envs/py37-dsup/lib/python3.7/site-packages (from requests>=2.26->yfinance) (1.24.3)\n",
      "Requirement already satisfied: charset-normalizer<3,>=2 in /home/edward/anaconda3/envs/py37-dsup/lib/python3.7/site-packages (from requests>=2.26->yfinance) (2.0.9)\n",
      "Requirement already satisfied: certifi>=2017.4.17 in /home/edward/anaconda3/envs/py37-dsup/lib/python3.7/site-packages (from requests>=2.26->yfinance) (2021.10.8)\n",
      "Installing collected packages: requests, lxml, yfinance\n",
      "  Attempting uninstall: requests\n",
      "    Found existing installation: requests 2.23.0\n",
      "    Uninstalling requests-2.23.0:\n",
      "      Successfully uninstalled requests-2.23.0\n",
      "  Attempting uninstall: lxml\n",
      "    Found existing installation: lxml 4.2.6\n",
      "    Uninstalling lxml-4.2.6:\n",
      "      Successfully uninstalled lxml-4.2.6\n",
      "Successfully installed lxml-4.9.1 requests-2.28.1 yfinance-0.1.74\n"
     ]
    }
   ],
   "source": [
    "!pip install yfinance"
   ]
  },
  {
   "cell_type": "code",
   "execution_count": 3,
   "metadata": {},
   "outputs": [],
   "source": [
    "import numpy as np\n",
    "from sklearn import datasets"
   ]
  },
  {
   "cell_type": "code",
   "execution_count": 23,
   "metadata": {},
   "outputs": [
    {
     "name": "stdout",
     "output_type": "stream",
     "text": [
      "x : [0 1 2 3 4 5 6 7 8 9]\n",
      "y : [0.37454012 0.95071431 0.73199394 0.59865848 0.15601864 0.15599452\n",
      " 0.05808361 0.86617615 0.60111501 0.70807258]\n"
     ]
    }
   ],
   "source": [
    "np.random.seed(42)\n",
    "x = np.arange(0, 10)\n",
    "y = np.random.random(size=10)\n",
    "print (\"x : {}\".format(x))\n",
    "print (\"y : {}\".format(y))"
   ]
  },
  {
   "cell_type": "code",
   "execution_count": null,
   "metadata": {},
   "outputs": [],
   "source": [
    "plt.plot(x, y) # this will draw a line plot\n",
    "plt.show() # this will show the drawn plot"
   ]
  },
  {
   "cell_type": "markdown",
   "metadata": {},
   "source": [
    "## History of `matplotlib`\n",
    "\n",
    "အပေါ်မှာ မြင်ခဲ့သလိုပဲ `matplotlib` ဟာ 2D data plotting tool ဖြစ်တယ်။ \n",
    "\n",
    "> `x` ရယ် `y` ရယ် ၂ ခုရှိတာမို့ 2-dimension ဖြစ်တယ်။ \n",
    "\n",
    "matlab ရဲ့ functionality ကို တုပပြီး python အတွက် `matplotlib` ကို ဖန်တီးထားတာ ဖြစ်တယ်။ ဒါကြောင့် `matplotlib` ဟာ \n",
    "\n",
    "* open-source ဖြစ်ပြီး matlab လိုမျိုး ပိုက်ဆံအများကြီးပေးပြီး ဝယ်စရာမလိုဘူး။\n",
    "* matlab လိုပဲ သုံးရလွယ်တယ်။\n",
    "* `gnuplot` လို printed media အတွက်သာမကပဲ printed or web media ၂ မျိုးလုံးအတွက် အသုံးပြုနိုင်တယ်။\n",
    "* `numpy` and `pandas` နဲ့ တွဲဘက်အသုံးပြုနိုင်တဲ့အတွက် scalable ဖြစ်တယ်။"
   ]
  },
  {
   "cell_type": "markdown",
   "metadata": {},
   "source": [
    "## Structure of `matplotlib` Figure\n",
    "\n",
    "![](http://www.pybloggers.com/wp-content/uploads/2018/02/files.realpython.comfig_map.bc8c7cabd823-03e2d63797282262cea23cc71441490b42740644.png)"
   ]
  },
  {
   "cell_type": "code",
   "execution_count": null,
   "metadata": {},
   "outputs": [],
   "source": [
    "# matplotlib ဟာ x ကို မပေးရင် [0, 1, 2, ... , len(y) - 1] လို့ assume တယ်။\n",
    "plt.plot(y)\n",
    "plt.show()"
   ]
  },
  {
   "cell_type": "code",
   "execution_count": null,
   "metadata": {},
   "outputs": [],
   "source": [
    "# plot ခိုင်းလိုက်တဲ့ line ရဲ့ color ကို color parameter အနေနဲ့ ပေးလို့ရတယ်။\n",
    "plt.plot(x, y, color=\"#123456\") \n",
    "# common color name တွေလဲ ပေးလို့ရတယ်။ ဥပမာ \"red\", \"green\" etc. \n",
    "plt.show()"
   ]
  },
  {
   "cell_type": "code",
   "execution_count": null,
   "metadata": {},
   "outputs": [],
   "source": [
    "# plot ကို xlabel နဲ့ ylabel လဲ ပေးလို့ရတယ်။ ပေါ်ချင်တဲ့ စာတင်မကပဲ fontsize နဲ့ color ကိုပါ ပေးလို့ရတယ်။\n",
    "plt.plot(x, y, color=\"#123456\")\n",
    "plt.xlabel(\"np.arange(0, 10)\", fontsize=15, color=\"green\")\n",
    "plt.ylabel(\"np.random.random(10)\", fontsize=10, color=\"blue\")\n",
    "plt.show()"
   ]
  },
  {
   "cell_type": "code",
   "execution_count": null,
   "metadata": {},
   "outputs": [],
   "source": [
    "# we can also make changes to the ticks and color/size of the labels\n",
    "plt.plot(x, y)\n",
    "plt.tick_params(axis=\"x\", color=\"red\", labelcolor=\"blue\", labelsize=\"x-large\")\n",
    "plt.tick_params(axis=\"y\", color=\"green\", labelcolor=\"gray\", labelsize=\"x-small\")\n",
    "plt.show()"
   ]
  },
  {
   "cell_type": "code",
   "execution_count": null,
   "metadata": {},
   "outputs": [],
   "source": [
    "# it is also possible to show no tick and no labels\n",
    "plt.plot(x, y)\n",
    "plt.tick_params(axis=\"x\", bottom=False, labelbottom=False)\n",
    "plt.show()"
   ]
  },
  {
   "cell_type": "code",
   "execution_count": null,
   "metadata": {},
   "outputs": [],
   "source": [
    "# putting a \"legend\" of each line is possible\n",
    "plt.plot(x, y, label=\"random\")\n",
    "plt.plot(x, 2*y, label=\"2 * random\")\n",
    "plt.legend()\n",
    "\n",
    "# and a title for the plot\n",
    "plt.title(\"My Random Numbers\")\n",
    "plt.show()\n",
    "\n",
    "# notice that putting Burmese characters is not supported yet\n",
    "# try ... "
   ]
  },
  {
   "cell_type": "code",
   "execution_count": null,
   "metadata": {},
   "outputs": [],
   "source": [
    "# it is also possible to limit the x axis and y axis\n",
    "plt.plot(x, y)\n",
    "plt.xlim(0, 7) # only show between 0 and 7\n",
    "plt.ylim(1, 0) # flip the plot\n",
    "plt.show()"
   ]
  },
  {
   "cell_type": "markdown",
   "metadata": {},
   "source": [
    "## Let's talk briefly about Stocks\n",
    "\n",
    "Stock တော်တော်များများရဲ့ Data ကို `yfinance` library ကနေ ရယူနိုင်တယ်။ \n",
    "\n",
    "အရင်ဆုံးတော့ `yfinance` ကို install လုပ်ရမယ်။"
   ]
  },
  {
   "cell_type": "code",
   "execution_count": null,
   "metadata": {},
   "outputs": [],
   "source": [
    "%pip install yfinance"
   ]
  },
  {
   "cell_type": "code",
   "execution_count": null,
   "metadata": {},
   "outputs": [],
   "source": [
    "import yfinance as yf"
   ]
  },
  {
   "cell_type": "code",
   "execution_count": 7,
   "metadata": {},
   "outputs": [
    {
     "name": "stdout",
     "output_type": "stream",
     "text": [
      "<class 'pandas.core.frame.DataFrame'>\n"
     ]
    },
    {
     "data": {
      "text/html": [
       "<div>\n",
       "<style scoped>\n",
       "    .dataframe tbody tr th:only-of-type {\n",
       "        vertical-align: middle;\n",
       "    }\n",
       "\n",
       "    .dataframe tbody tr th {\n",
       "        vertical-align: top;\n",
       "    }\n",
       "\n",
       "    .dataframe thead th {\n",
       "        text-align: right;\n",
       "    }\n",
       "</style>\n",
       "<table border=\"1\" class=\"dataframe\">\n",
       "  <thead>\n",
       "    <tr style=\"text-align: right;\">\n",
       "      <th></th>\n",
       "      <th>Open</th>\n",
       "      <th>High</th>\n",
       "      <th>Low</th>\n",
       "      <th>Close</th>\n",
       "      <th>Volume</th>\n",
       "      <th>Dividends</th>\n",
       "      <th>Stock Splits</th>\n",
       "    </tr>\n",
       "    <tr>\n",
       "      <th>Date</th>\n",
       "      <th></th>\n",
       "      <th></th>\n",
       "      <th></th>\n",
       "      <th></th>\n",
       "      <th></th>\n",
       "      <th></th>\n",
       "      <th></th>\n",
       "    </tr>\n",
       "  </thead>\n",
       "  <tbody>\n",
       "    <tr>\n",
       "      <th>1986-03-13</th>\n",
       "      <td>0.055654</td>\n",
       "      <td>0.063838</td>\n",
       "      <td>0.055654</td>\n",
       "      <td>0.061109</td>\n",
       "      <td>1031788800</td>\n",
       "      <td>0.0</td>\n",
       "      <td>0.0</td>\n",
       "    </tr>\n",
       "    <tr>\n",
       "      <th>1986-03-14</th>\n",
       "      <td>0.061109</td>\n",
       "      <td>0.064384</td>\n",
       "      <td>0.061109</td>\n",
       "      <td>0.063292</td>\n",
       "      <td>308160000</td>\n",
       "      <td>0.0</td>\n",
       "      <td>0.0</td>\n",
       "    </tr>\n",
       "    <tr>\n",
       "      <th>1986-03-17</th>\n",
       "      <td>0.063292</td>\n",
       "      <td>0.064929</td>\n",
       "      <td>0.063292</td>\n",
       "      <td>0.064384</td>\n",
       "      <td>133171200</td>\n",
       "      <td>0.0</td>\n",
       "      <td>0.0</td>\n",
       "    </tr>\n",
       "    <tr>\n",
       "      <th>1986-03-18</th>\n",
       "      <td>0.064384</td>\n",
       "      <td>0.064929</td>\n",
       "      <td>0.062201</td>\n",
       "      <td>0.062746</td>\n",
       "      <td>67766400</td>\n",
       "      <td>0.0</td>\n",
       "      <td>0.0</td>\n",
       "    </tr>\n",
       "    <tr>\n",
       "      <th>1986-03-19</th>\n",
       "      <td>0.062746</td>\n",
       "      <td>0.063292</td>\n",
       "      <td>0.061109</td>\n",
       "      <td>0.061655</td>\n",
       "      <td>47894400</td>\n",
       "      <td>0.0</td>\n",
       "      <td>0.0</td>\n",
       "    </tr>\n",
       "  </tbody>\n",
       "</table>\n",
       "</div>"
      ],
      "text/plain": [
       "                Open      High       Low     Close      Volume  Dividends  \\\n",
       "Date                                                                        \n",
       "1986-03-13  0.055654  0.063838  0.055654  0.061109  1031788800        0.0   \n",
       "1986-03-14  0.061109  0.064384  0.061109  0.063292   308160000        0.0   \n",
       "1986-03-17  0.063292  0.064929  0.063292  0.064384   133171200        0.0   \n",
       "1986-03-18  0.064384  0.064929  0.062201  0.062746    67766400        0.0   \n",
       "1986-03-19  0.062746  0.063292  0.061109  0.061655    47894400        0.0   \n",
       "\n",
       "            Stock Splits  \n",
       "Date                      \n",
       "1986-03-13           0.0  \n",
       "1986-03-14           0.0  \n",
       "1986-03-17           0.0  \n",
       "1986-03-18           0.0  \n",
       "1986-03-19           0.0  "
      ]
     },
     "execution_count": 7,
     "metadata": {},
     "output_type": "execute_result"
    }
   ],
   "source": [
    "msft = yf.Ticker(\"MSFT\")\n",
    "\n",
    "# get historical market data\n",
    "hist = msft.history(period=\"max\")\n",
    "print (type(hist))\n",
    "hist.head()"
   ]
  },
  {
   "cell_type": "markdown",
   "metadata": {},
   "source": [
    "အခု ရက်ပေါင်း 1500 စာ စျေးကွက်ပိတ်ချိန်မှာ MSFT ရဲ့ စျေးနှုန်းတွေကို plot ဆွဲကြည့်ရအောင်။"
   ]
  },
  {
   "cell_type": "code",
   "execution_count": 42,
   "metadata": {},
   "outputs": [
    {
     "data": {
      "image/png": "[encoded data removed]",
      "text/plain": [
       "<Figure size 432x288 with 1 Axes>"
      ]
     },
     "metadata": {
      "needs_background": "light"
     },
     "output_type": "display_data"
    }
   ],
   "source": [
    "NUM_DAYS = 1500\n",
    "plt.plot(hist.index[-NUM_DAYS:], hist.Close[-NUM_DAYS:])\n",
    "plt.show()"
   ]
  },
  {
   "cell_type": "markdown",
   "metadata": {},
   "source": [
    "### Fast Fourier Transform\n",
    "\n",
    "ဒီနေရာမှာ ကြားဖြတ်ပြီး SVD လိုပဲ dimensionality reduction technique နောက်တခု ဖြစ်တဲ့ Fourier Transform အကြောင်း ပြောပြချင်တယ်။ \n",
    "\n",
    "* **ဒီ အပေါ်ပုံမှာ Data point ဘယ်နှခုရှိသလဲ။**\n",
    "\n",
    "အပေါ်ကပုံဟာ time series တခုပဲ ဖြစ်တယ်။ MSFT Close တခုတည်း (dimension တခုတည်း) ကို နေ့တိုင်း စျေးကွက်ပိတ်ချိန်မှာ ယူထားတာ ဖြစ်တယ်။\n",
    "\n",
    "ဒါပေမဲ့ နေ့တိုင်းနေ့တိုင်းမှာ အရင် $k$ ရက်က ဘာဖြစ်ခဲ့သလဲဆိုတာ ပြန်ကြည့်လို့ရတယ်။ နောက်တနည်း ပြောရရင် $k=1500$ ဖြစ်ရင် သူ့ထဲမှာ Data point 1500 ရှိတယ်။ \n",
    "\n",
    "ဒီတော့ ဒါဟာ 1500 dimension ရှိတဲ့ data point တခုလို့လဲ ယူလို့ရတယ်။ \n",
    "\n",
    "ဒီလို အခြေအနေမျိုးတွေမှာ Dimension ကို Reduce လုပ်ဖို့ Fourier Transform ကို အသုံးပြုနိုင်တယ်။ "
   ]
  },
  {
   "cell_type": "code",
   "execution_count": 110,
   "metadata": {},
   "outputs": [
    {
     "name": "stderr",
     "output_type": "stream",
     "text": [
      "/home/edward/anaconda3/envs/py37-dsup/lib/python3.7/site-packages/matplotlib/cbook/__init__.py:1317: ComplexWarning: Casting complex values to real discards the imaginary part\n",
      "  return np.asarray(x, float)\n"
     ]
    },
    {
     "data": {
      "image/png": "[encoded data removed]",
      "text/plain": [
       "<Figure size 432x288 with 1 Axes>"
      ]
     },
     "metadata": {
      "needs_background": "light"
     },
     "output_type": "display_data"
    }
   ],
   "source": [
    "from scipy import fft\n",
    "close = hist.Close[-NUM_DAYS:].values\n",
    "frequencies = fft.fft(close)\n",
    "plt.plot(np.log(frequencies))\n",
    "plt.show()"
   ]
  },
  {
   "cell_type": "markdown",
   "metadata": {},
   "source": [
    "Fast Fourier Transform ဟာ Fourier Transform ကို အမြန်တွက်ပေးနိုင်တဲ့ နည်းလမ်းဖြစ်တယ်။ \n",
    "\n",
    "> Fourier Transform က ဘာလုပ်သလဲ (what) ဖြစ်ပြီး\n",
    "\n",
    "> Fast Fourier Transform က ဘယ်လိုလုပ်သလဲ (how) ဖြစ်တယ်။\n",
    "\n",
    "Fourier Transform ဟာ Time Domain ကနေ Frequency Domain ကို ပြောင်းပေးတာဖြစ်တယ်။ Frequency Domain မှာ ချွန်ထွက်နေတဲ့ Frequency တွေဟာ အရေးပါပြီး ကျန် Frequency တွေဟာ အရေးမပါဘူး။"
   ]
  },
  {
   "cell_type": "code",
   "execution_count": 111,
   "metadata": {},
   "outputs": [
    {
     "name": "stdout",
     "output_type": "stream",
     "text": [
      "100\n",
      "1500\n"
     ]
    },
    {
     "name": "stderr",
     "output_type": "stream",
     "text": [
      "/home/edward/anaconda3/envs/py37-dsup/lib/python3.7/site-packages/ipykernel_launcher.py:5: RuntimeWarning: divide by zero encountered in log\n",
      "  \"\"\"\n",
      "/home/edward/anaconda3/envs/py37-dsup/lib/python3.7/site-packages/matplotlib/cbook/__init__.py:1317: ComplexWarning: Casting complex values to real discards the imaginary part\n",
      "  return np.asarray(x, float)\n"
     ]
    },
    {
     "data": {
      "image/png": "[encoded data removed]",
      "text/plain": [
       "<Figure size 432x288 with 1 Axes>"
      ]
     },
     "metadata": {
      "needs_background": "light"
     },
     "output_type": "display_data"
    }
   ],
   "source": [
    "frequencies_ = frequencies.copy()\n",
    "frequencies_[50:1450] = 0\n",
    "print (np.count_nonzero(frequencies_))\n",
    "print (len(frequencies_))\n",
    "plt.plot(np.log(frequencies_))\n",
    "plt.show()"
   ]
  },
  {
   "cell_type": "code",
   "execution_count": 112,
   "metadata": {},
   "outputs": [
    {
     "name": "stderr",
     "output_type": "stream",
     "text": [
      "/home/edward/anaconda3/envs/py37-dsup/lib/python3.7/site-packages/matplotlib/cbook/__init__.py:1317: ComplexWarning: Casting complex values to real discards the imaginary part\n",
      "  return np.asarray(x, float)\n"
     ]
    },
    {
     "data": {
      "image/png": "[encoded data removed]",
      "text/plain": [
       "<Figure size 432x288 with 1 Axes>"
      ]
     },
     "metadata": {
      "needs_background": "light"
     },
     "output_type": "display_data"
    }
   ],
   "source": [
    "close_ = fft.ifft(frequencies_)\n",
    "plt.plot(hist.index[-NUM_DAYS:], close_)\n",
    "plt.show()"
   ]
  },
  {
   "cell_type": "code",
   "execution_count": 113,
   "metadata": {},
   "outputs": [
    {
     "name": "stdout",
     "output_type": "stream",
     "text": [
      "(1500,)\n",
      "45\n"
     ]
    }
   ],
   "source": [
    "print (frequencies_.shape)\n",
    "frequencies_dict = {k: v for k, v in enumerate(frequencies_) if v > 0}\n",
    "print (len(frequencies_dict))"
   ]
  },
  {
   "cell_type": "markdown",
   "metadata": {},
   "source": [
    "Frequency Domain က ဂဏန်း 100 လုံး ထက်မများပဲ မှတ်ရုံနဲ့ Curve ပုံကို အတော်တူအောင် ပြန်ဆွဲနိုင်တာကို တွေ့ရတယ်။\n",
    "\n",
    "#### လေ့ကျင့်ခန်းအနေနဲ့ `aapl` နဲ့ `goog` တို့ကို FFT နဲ့ အသုံးချ Curve ဆွဲကြည့်ပါ။"
   ]
  },
  {
   "cell_type": "markdown",
   "metadata": {},
   "source": [
    "### Some Feature Engineering for Time Series Data\n",
    "\n",
    "`pandas` မှာ ရှိတဲ့ `shift` function ကို သုံးပြီး **days_ago** feature တွေ ဖန်တီးလို့ရတယ် \n",
    "\n",
    "> but why not days_ahead features ?"
   ]
  },
  {
   "cell_type": "code",
   "execution_count": 118,
   "metadata": {},
   "outputs": [
    {
     "data": {
      "text/html": [
       "<div>\n",
       "<style scoped>\n",
       "    .dataframe tbody tr th:only-of-type {\n",
       "        vertical-align: middle;\n",
       "    }\n",
       "\n",
       "    .dataframe tbody tr th {\n",
       "        vertical-align: top;\n",
       "    }\n",
       "\n",
       "    .dataframe thead th {\n",
       "        text-align: right;\n",
       "    }\n",
       "</style>\n",
       "<table border=\"1\" class=\"dataframe\">\n",
       "  <thead>\n",
       "    <tr style=\"text-align: right;\">\n",
       "      <th></th>\n",
       "      <th>Open</th>\n",
       "      <th>High</th>\n",
       "      <th>Low</th>\n",
       "      <th>Close</th>\n",
       "      <th>Volume</th>\n",
       "      <th>Dividends</th>\n",
       "      <th>Stock Splits</th>\n",
       "      <th>Close_1_day_ago</th>\n",
       "    </tr>\n",
       "    <tr>\n",
       "      <th>Date</th>\n",
       "      <th></th>\n",
       "      <th></th>\n",
       "      <th></th>\n",
       "      <th></th>\n",
       "      <th></th>\n",
       "      <th></th>\n",
       "      <th></th>\n",
       "      <th></th>\n",
       "    </tr>\n",
       "  </thead>\n",
       "  <tbody>\n",
       "    <tr>\n",
       "      <th>1986-03-13</th>\n",
       "      <td>0.055654</td>\n",
       "      <td>0.063838</td>\n",
       "      <td>0.055654</td>\n",
       "      <td>0.061109</td>\n",
       "      <td>1031788800</td>\n",
       "      <td>0.0</td>\n",
       "      <td>0.0</td>\n",
       "      <td>NaN</td>\n",
       "    </tr>\n",
       "    <tr>\n",
       "      <th>1986-03-14</th>\n",
       "      <td>0.061109</td>\n",
       "      <td>0.064384</td>\n",
       "      <td>0.061109</td>\n",
       "      <td>0.063292</td>\n",
       "      <td>308160000</td>\n",
       "      <td>0.0</td>\n",
       "      <td>0.0</td>\n",
       "      <td>0.061109</td>\n",
       "    </tr>\n",
       "    <tr>\n",
       "      <th>1986-03-17</th>\n",
       "      <td>0.063292</td>\n",
       "      <td>0.064929</td>\n",
       "      <td>0.063292</td>\n",
       "      <td>0.064384</td>\n",
       "      <td>133171200</td>\n",
       "      <td>0.0</td>\n",
       "      <td>0.0</td>\n",
       "      <td>0.063292</td>\n",
       "    </tr>\n",
       "    <tr>\n",
       "      <th>1986-03-18</th>\n",
       "      <td>0.064384</td>\n",
       "      <td>0.064929</td>\n",
       "      <td>0.062201</td>\n",
       "      <td>0.062746</td>\n",
       "      <td>67766400</td>\n",
       "      <td>0.0</td>\n",
       "      <td>0.0</td>\n",
       "      <td>0.064384</td>\n",
       "    </tr>\n",
       "    <tr>\n",
       "      <th>1986-03-19</th>\n",
       "      <td>0.062746</td>\n",
       "      <td>0.063292</td>\n",
       "      <td>0.061109</td>\n",
       "      <td>0.061655</td>\n",
       "      <td>47894400</td>\n",
       "      <td>0.0</td>\n",
       "      <td>0.0</td>\n",
       "      <td>0.062746</td>\n",
       "    </tr>\n",
       "  </tbody>\n",
       "</table>\n",
       "</div>"
      ],
      "text/plain": [
       "                Open      High       Low     Close      Volume  Dividends  \\\n",
       "Date                                                                        \n",
       "1986-03-13  0.055654  0.063838  0.055654  0.061109  1031788800        0.0   \n",
       "1986-03-14  0.061109  0.064384  0.061109  0.063292   308160000        0.0   \n",
       "1986-03-17  0.063292  0.064929  0.063292  0.064384   133171200        0.0   \n",
       "1986-03-18  0.064384  0.064929  0.062201  0.062746    67766400        0.0   \n",
       "1986-03-19  0.062746  0.063292  0.061109  0.061655    47894400        0.0   \n",
       "\n",
       "            Stock Splits  Close_1_day_ago  \n",
       "Date                                       \n",
       "1986-03-13           0.0              NaN  \n",
       "1986-03-14           0.0         0.061109  \n",
       "1986-03-17           0.0         0.063292  \n",
       "1986-03-18           0.0         0.064384  \n",
       "1986-03-19           0.0         0.062746  "
      ]
     },
     "execution_count": 118,
     "metadata": {},
     "output_type": "execute_result"
    }
   ],
   "source": [
    "hist[\"Close_1_day_ago\"] = hist[\"Close\"].shift(periods=1)\n",
    "hist.head()"
   ]
  },
  {
   "cell_type": "markdown",
   "metadata": {},
   "source": [
    "ဒီနေ့ ပိတ်ချိန်အထိ ရှိတဲ့ data တွေကို သုံးပြီး နက်ဖြန် ဖွင့်မဲ့ Open ကို predict လုပ်တဲ့ မော်ဒယ်လ် ဆောက်ကြည့်ရအောင်။\n",
    "\n",
    "```python\n",
    "target_y = hist[\"Open\"].shift(periods=-1) - hist[\"Close\"]\n",
    "# why we minus today's Close ? \n",
    "```\n",
    "\n",
    "အဲဒါနဲ့ \"Close_2_day_ago\", \"Close_3_day_ago\", ... , \"Close_5_day_ago\" feature တွေပေါင်းပြီး model တခု ဆောက်ကြည့်ပါ။"
   ]
  },
  {
   "cell_type": "code",
   "execution_count": null,
   "metadata": {},
   "outputs": [],
   "source": []
  }
 ],
 "metadata": {
  "kernelspec": {
   "display_name": "Python 3.7.11 ('py37-dsup')",
   "language": "python",
   "name": "python3"
  },
  "language_info": {
   "codemirror_mode": {
    "name": "ipython",
    "version": 3
   },
   "file_extension": ".py",
   "mimetype": "text/x-python",
   "name": "python",
   "nbconvert_exporter": "python",
   "pygments_lexer": "ipython3",
   "version": "3.7.11"
  },
  "orig_nbformat": 4,
  "vscode": {
   "interpreter": {
    "hash": "3a9c1e998c7d6d5f29587b2c70e9bd488bb486b902354401efc27ca8457f04e9"
   }
  }
 },
 "nbformat": 4,
 "nbformat_minor": 2
}
