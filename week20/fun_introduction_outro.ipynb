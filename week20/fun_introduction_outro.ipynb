{
  "cells": [
    {
      "cell_type": "markdown",
      "metadata": {
        "id": "_pQ2MokGcqxa"
      },
      "source": [
        "# Part 2 - the last Day!\n",
        "\n",
        "မင်္ဂလာပါ။ **Data Science *Using Python*** - Part 2 (week 20) မှ ကြိုဆိုပါတယ်။ "
      ]
    },
    {
      "cell_type": "code",
      "execution_count": null,
      "metadata": {},
      "outputs": [],
      "source": [
        "%matplotlib inline \n",
        "\n",
        "import numpy as np\n",
        "import scipy as sp\n",
        "from scipy import linalg\n",
        "\n",
        "from matplotlib import pyplot as plt\n",
        "\n",
        "import cv2"
      ]
    },
    {
      "cell_type": "code",
      "execution_count": null,
      "metadata": {
        "vscode": {
          "languageId": "html"
        }
      },
      "outputs": [],
      "source": [
        "%pip install -U insightface onnxruntime"
      ]
    },
    {
      "cell_type": "code",
      "execution_count": null,
      "metadata": {},
      "outputs": [],
      "source": [
        "import requests\n",
        "from insightface.app import FaceAnalysis\n",
        "\n",
        "def download_and_decode_cv2(url):\n",
        "    rr = requests.get(url)\n",
        "    _nparr = np.frombuffer(rr.content, np.uint8)\n",
        "    _img = cv2.imdecode(_nparr, cv2.IMREAD_COLOR)\n",
        "    return _img\n",
        "\n",
        "def show_cv2_image(img): \n",
        "    img = cv2.cvtColor(img, cv2.COLOR_BGR2RGB)\n",
        "    plt.imshow(img)\n",
        "    plt.show()"
      ]
    },
    {
      "cell_type": "code",
      "execution_count": null,
      "metadata": {},
      "outputs": [],
      "source": [
        "img_ch = download_and_decode_cv2(\"https://m.media-amazon.com/images/M/MV5BOTU2MTI0NTIyNV5BMl5BanBnXkFtZTcwMTA4Nzc3OA@@._V1_UY1200_CR85,0,630,1200_AL_.jpg\")\n",
        "\n",
        "img = cv2.cvtColor(img_ch, cv2.COLOR_BGR2RGB)\n",
        "\n",
        "app = FaceAnalysis(allowed_modules=[\"detection\", \"landmark_3d_68\", \"genderage\"], providers=['TensorrtExecutionProvider', 'CUDAExecutionProvider', 'CPUExecutionProvider'])\n",
        "app.prepare(ctx_id=0, det_size=(640, 640))\n",
        "\n",
        "faces = app.get(img)\n",
        "rimg = app.draw_on(img, faces)\n",
        "\n",
        "_ = plt.figure(figsize=(10, 10))\n",
        "plt.imshow(rimg)\n",
        "plt.show()"
      ]
    },
    {
      "cell_type": "code",
      "execution_count": null,
      "metadata": {},
      "outputs": [],
      "source": []
    }
  ],
  "metadata": {
    "colab": {
      "collapsed_sections": [],
      "name": "Notes_on_git.ipynb",
      "provenance": []
    },
    "gpuClass": "standard",
    "kernelspec": {
      "display_name": "Python 3.7.11 ('py37-dsup')",
      "language": "python",
      "name": "python3"
    },
    "language_info": {
      "codemirror_mode": {
        "name": "ipython",
        "version": 3
      },
      "file_extension": ".py",
      "mimetype": "text/x-python",
      "name": "python",
      "nbconvert_exporter": "python",
      "pygments_lexer": "ipython3",
      "version": "3.7.13"
    },
    "vscode": {
      "interpreter": {
        "hash": "3a9c1e998c7d6d5f29587b2c70e9bd488bb486b902354401efc27ca8457f04e9"
      }
    }
  },
  "nbformat": 4,
  "nbformat_minor": 0
}
