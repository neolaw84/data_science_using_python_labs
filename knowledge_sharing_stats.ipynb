{
 "cells": [
  {
   "cell_type": "code",
   "execution_count": 4,
   "id": "80017055",
   "metadata": {},
   "outputs": [
    {
     "name": "stdout",
     "output_type": "stream",
     "text": [
      "Collecting openpyxl\n",
      "  Downloading openpyxl-3.0.10-py2.py3-none-any.whl (242 kB)\n",
      "\u001b[2K     \u001b[38;2;114;156;31m━━━━━━━━━━━━━━━━━━━━━━━━━━━━━━━━━━━━━━━\u001b[0m \u001b[32m242.1/242.1 kB\u001b[0m \u001b[31m5.2 MB/s\u001b[0m eta \u001b[36m0:00:00\u001b[0m MB/s\u001b[0m eta \u001b[36m0:00:01\u001b[0m\n",
      "\u001b[?25hCollecting et-xmlfile\n",
      "  Downloading et_xmlfile-1.1.0-py3-none-any.whl (4.7 kB)\n",
      "Installing collected packages: et-xmlfile, openpyxl\n",
      "Successfully installed et-xmlfile-1.1.0 openpyxl-3.0.10\n",
      "Note: you may need to restart the kernel to use updated packages.\n"
     ]
    }
   ],
   "source": [
    "%pip install openpyxl"
   ]
  },
  {
   "cell_type": "code",
   "execution_count": 1,
   "id": "b7f8cbab",
   "metadata": {},
   "outputs": [
    {
     "data": {
      "text/plain": [
       "'1.5.0'"
      ]
     },
     "execution_count": 1,
     "metadata": {},
     "output_type": "execute_result"
    }
   ],
   "source": [
    "import pandas as pd\n",
    "pd.__version__"
   ]
  },
  {
   "cell_type": "code",
   "execution_count": 18,
   "id": "87cb05fe",
   "metadata": {},
   "outputs": [
    {
     "name": "stdout",
     "output_type": "stream",
     "text": [
      "(47, 12)\n"
     ]
    },
    {
     "data": {
      "text/html": [
       "<div>\n",
       "<style scoped>\n",
       "    .dataframe tbody tr th:only-of-type {\n",
       "        vertical-align: middle;\n",
       "    }\n",
       "\n",
       "    .dataframe tbody tr th {\n",
       "        vertical-align: top;\n",
       "    }\n",
       "\n",
       "    .dataframe thead th {\n",
       "        text-align: right;\n",
       "    }\n",
       "</style>\n",
       "<table border=\"1\" class=\"dataframe\">\n",
       "  <thead>\n",
       "    <tr style=\"text-align: right;\">\n",
       "      <th></th>\n",
       "      <th>Timestamp</th>\n",
       "      <th>တက်ရောက်မည့်သူ အမည်</th>\n",
       "      <th>Occupation  (အလုပ်အကိုင်)</th>\n",
       "      <th>Qualification Field  (ပညာအရည်အချင်း)</th>\n",
       "      <th>Free Knowledge Sharing Session for Data Science သို့တက်ရောက်ရသည့် အကြောင်းရင်း</th>\n",
       "      <th>Data Science  နှင့် ပတ်သက်သော Training Programme အား တက်ရောက်ရန် စိတ်ဝင်ပါသလား။</th>\n",
       "      <th>Gender</th>\n",
       "      <th>Contact Number(ဆက်သွယ်ရမည့် ဖုန်းနံပါတ်)</th>\n",
       "      <th>Contact Email (ဆက်သွယ်ရမည့် အီးမေးလ်လိပ်စာ)</th>\n",
       "      <th>Address (နေရပ်လိပ်စာ)</th>\n",
       "      <th>Applications of Data Science  နှင့် Job Opportunities of a Data Scientist အကြောင်းအရာနဲ့ပတ်သတ်လို့ မိမိသိလိုသည့် အကြောင်းအရာကို လွတ်လပ်စွာ မေးမြန်းနိုင်ပါသည်။</th>\n",
       "      <th>CodeChamps Coding School မှ ဖွင့်လှစ်သော သင်တန်းများအကြောင်း နှင့် ပတ်သက်သော information များ နှင့် newsletter တို့အား ရယူလိုပါသလား။</th>\n",
       "    </tr>\n",
       "  </thead>\n",
       "  <tbody>\n",
       "    <tr>\n",
       "      <th>0</th>\n",
       "      <td>2022-09-25 18:52:36.497</td>\n",
       "      <td>Kyaw Ko Ko Nyein</td>\n",
       "      <td>Data Assistant</td>\n",
       "      <td>BA (Political Science)</td>\n",
       "      <td>Data Scientist တစ်ယောက်ဖြစ်ချင်သောကြောင့်, မိမ...</td>\n",
       "      <td>Yes</td>\n",
       "      <td>Male</td>\n",
       "      <td>09422525552, 09254399676</td>\n",
       "      <td>kyawko2nyein@gmail.com</td>\n",
       "      <td>Pakokku</td>\n",
       "      <td>Data mining, big data နဲ့ deep learning အကြောင...</td>\n",
       "      <td>no</td>\n",
       "    </tr>\n",
       "    <tr>\n",
       "      <th>1</th>\n",
       "      <td>2022-09-25 19:15:24.273</td>\n",
       "      <td>Shwe yee</td>\n",
       "      <td>Automation engineer</td>\n",
       "      <td>G.Dip.S.A(NUS, SG)</td>\n",
       "      <td>Data Scientist တစ်ယောက်ဖြစ်ချင်သောကြောင့်, မိမ...</td>\n",
       "      <td>Yes</td>\n",
       "      <td>Female</td>\n",
       "      <td>09953153181/ 09953153101</td>\n",
       "      <td>Shweyeetint@gmail.com</td>\n",
       "      <td>Yangon</td>\n",
       "      <td>Data Analyst အဖြစ်မလုပ်ကိုင်ဖူးဘဲ Data scienti...</td>\n",
       "      <td>yes</td>\n",
       "    </tr>\n",
       "  </tbody>\n",
       "</table>\n",
       "</div>"
      ],
      "text/plain": [
       "                Timestamp တက်ရောက်မည့်သူ အမည်  Occupation  (အလုပ်အကိုင်)  \\\n",
       "0 2022-09-25 18:52:36.497     Kyaw Ko Ko Nyein            Data Assistant   \n",
       "1 2022-09-25 19:15:24.273             Shwe yee       Automation engineer   \n",
       "\n",
       "  Qualification Field  (ပညာအရည်အချင်း)  \\\n",
       "0               BA (Political Science)   \n",
       "1                   G.Dip.S.A(NUS, SG)   \n",
       "\n",
       "  Free Knowledge Sharing Session for Data Science သို့တက်ရောက်ရသည့် အကြောင်းရင်း   \\\n",
       "0  Data Scientist တစ်ယောက်ဖြစ်ချင်သောကြောင့်, မိမ...                                \n",
       "1  Data Scientist တစ်ယောက်ဖြစ်ချင်သောကြောင့်, မိမ...                                \n",
       "\n",
       "  Data Science  နှင့် ပတ်သက်သော Training Programme အား တက်ရောက်ရန် စိတ်ဝင်ပါသလား။  \\\n",
       "0                                                Yes                                \n",
       "1                                                Yes                                \n",
       "\n",
       "   Gender Contact Number(ဆက်သွယ်ရမည့် ဖုန်းနံပါတ်)  \\\n",
       "0    Male                 09422525552, 09254399676   \n",
       "1  Female                 09953153181/ 09953153101   \n",
       "\n",
       "  Contact Email (ဆက်သွယ်ရမည့် အီးမေးလ်လိပ်စာ) Address (နေရပ်လိပ်စာ)  \\\n",
       "0                      kyawko2nyein@gmail.com               Pakokku   \n",
       "1                       Shweyeetint@gmail.com                Yangon   \n",
       "\n",
       "   Applications of Data Science  နှင့် Job Opportunities of a Data Scientist အကြောင်းအရာနဲ့ပတ်သတ်လို့ မိမိသိလိုသည့် အကြောင်းအရာကို လွတ်လပ်စွာ မေးမြန်းနိုင်ပါသည်။   \\\n",
       "0  Data mining, big data နဲ့ deep learning အကြောင...                                                                                                                 \n",
       "1  Data Analyst အဖြစ်မလုပ်ကိုင်ဖူးဘဲ Data scienti...                                                                                                                 \n",
       "\n",
       "  CodeChamps Coding School မှ ဖွင့်လှစ်သော သင်တန်းများအကြောင်း နှင့် ပတ်သက်သော information များ နှင့် newsletter တို့အား ရယူလိုပါသလား။  \n",
       "0                                                 no                                                                                    \n",
       "1                                                yes                                                                                    "
      ]
     },
     "execution_count": 18,
     "metadata": {},
     "output_type": "execute_result"
    }
   ],
   "source": [
    "df = pd.read_excel(\"./ks_2022_10_02.xlsx\")\n",
    "print (df.shape)\n",
    "df.head(n=2)"
   ]
  },
  {
   "cell_type": "code",
   "execution_count": 3,
   "id": "91547f08",
   "metadata": {},
   "outputs": [
    {
     "data": {
      "text/plain": [
       "Index(['Timestamp', 'တက်ရောက်မည့်သူ အမည် ', 'Occupation  (အလုပ်အကိုင်)',\n",
       "       'Qualification Field  (ပညာအရည်အချင်း)',\n",
       "       'Free Knowledge Sharing Session for Data Science သို့တက်ရောက်ရသည့် အကြောင်းရင်း ',\n",
       "       'Data Science  နှင့် ပတ်သက်သော Training Programme အား တက်ရောက်ရန် စိတ်ဝင်ပါသလား။',\n",
       "       'Gender', 'Contact Number(ဆက်သွယ်ရမည့် ဖုန်းနံပါတ်)',\n",
       "       'Contact Email (ဆက်သွယ်ရမည့် အီးမေးလ်လိပ်စာ)', 'Address (နေရပ်လိပ်စာ)',\n",
       "       ' Applications of Data Science  နှင့် Job Opportunities of a Data Scientist အကြောင်းအရာနဲ့ပတ်သတ်လို့ မိမိသိလိုသည့် အကြောင်းအရာကို လွတ်လပ်စွာ မေးမြန်းနိုင်ပါသည်။ ',\n",
       "       'CodeChamps Coding School မှ ဖွင့်လှစ်သော သင်တန်းများအကြောင်း နှင့် ပတ်သက်သော information များ နှင့် newsletter တို့အား ရယူလိုပါသလား။'],\n",
       "      dtype='object')"
      ]
     },
     "execution_count": 3,
     "metadata": {},
     "output_type": "execute_result"
    }
   ],
   "source": [
    "df.columns"
   ]
  },
  {
   "cell_type": "code",
   "execution_count": 19,
   "id": "b87c02bc",
   "metadata": {},
   "outputs": [
    {
     "data": {
      "text/html": [
       "<div>\n",
       "<style scoped>\n",
       "    .dataframe tbody tr th:only-of-type {\n",
       "        vertical-align: middle;\n",
       "    }\n",
       "\n",
       "    .dataframe tbody tr th {\n",
       "        vertical-align: top;\n",
       "    }\n",
       "\n",
       "    .dataframe thead th {\n",
       "        text-align: right;\n",
       "    }\n",
       "</style>\n",
       "<table border=\"1\" class=\"dataframe\">\n",
       "  <thead>\n",
       "    <tr style=\"text-align: right;\">\n",
       "      <th></th>\n",
       "      <th>ts</th>\n",
       "      <th>name</th>\n",
       "      <th>occupation</th>\n",
       "      <th>education</th>\n",
       "      <th>reason</th>\n",
       "      <th>interest_for_training</th>\n",
       "      <th>gender</th>\n",
       "      <th>phone_number</th>\n",
       "      <th>email</th>\n",
       "      <th>address</th>\n",
       "      <th>question</th>\n",
       "      <th>opt_in</th>\n",
       "    </tr>\n",
       "  </thead>\n",
       "  <tbody>\n",
       "    <tr>\n",
       "      <th>0</th>\n",
       "      <td>2022-09-25 18:52:36.497</td>\n",
       "      <td>Kyaw Ko Ko Nyein</td>\n",
       "      <td>Data Assistant</td>\n",
       "      <td>BA (Political Science)</td>\n",
       "      <td>Data Scientist တစ်ယောက်ဖြစ်ချင်သောကြောင့်, မိမ...</td>\n",
       "      <td>Yes</td>\n",
       "      <td>Male</td>\n",
       "      <td>09422525552, 09254399676</td>\n",
       "      <td>kyawko2nyein@gmail.com</td>\n",
       "      <td>Pakokku</td>\n",
       "      <td>Data mining, big data နဲ့ deep learning အကြောင...</td>\n",
       "      <td>no</td>\n",
       "    </tr>\n",
       "    <tr>\n",
       "      <th>1</th>\n",
       "      <td>2022-09-25 19:15:24.273</td>\n",
       "      <td>Shwe yee</td>\n",
       "      <td>Automation engineer</td>\n",
       "      <td>G.Dip.S.A(NUS, SG)</td>\n",
       "      <td>Data Scientist တစ်ယောက်ဖြစ်ချင်သောကြောင့်, မိမ...</td>\n",
       "      <td>Yes</td>\n",
       "      <td>Female</td>\n",
       "      <td>09953153181/ 09953153101</td>\n",
       "      <td>Shweyeetint@gmail.com</td>\n",
       "      <td>Yangon</td>\n",
       "      <td>Data Analyst အဖြစ်မလုပ်ကိုင်ဖူးဘဲ Data scienti...</td>\n",
       "      <td>yes</td>\n",
       "    </tr>\n",
       "  </tbody>\n",
       "</table>\n",
       "</div>"
      ],
      "text/plain": [
       "                       ts              name           occupation  \\\n",
       "0 2022-09-25 18:52:36.497  Kyaw Ko Ko Nyein       Data Assistant   \n",
       "1 2022-09-25 19:15:24.273          Shwe yee  Automation engineer   \n",
       "\n",
       "                education                                             reason  \\\n",
       "0  BA (Political Science)  Data Scientist တစ်ယောက်ဖြစ်ချင်သောကြောင့်, မိမ...   \n",
       "1      G.Dip.S.A(NUS, SG)  Data Scientist တစ်ယောက်ဖြစ်ချင်သောကြောင့်, မိမ...   \n",
       "\n",
       "  interest_for_training  gender              phone_number  \\\n",
       "0                   Yes    Male  09422525552, 09254399676   \n",
       "1                   Yes  Female  09953153181/ 09953153101   \n",
       "\n",
       "                    email  address  \\\n",
       "0  kyawko2nyein@gmail.com  Pakokku   \n",
       "1   Shweyeetint@gmail.com   Yangon   \n",
       "\n",
       "                                            question opt_in  \n",
       "0  Data mining, big data နဲ့ deep learning အကြောင...     no  \n",
       "1  Data Analyst အဖြစ်မလုပ်ကိုင်ဖူးဘဲ Data scienti...    yes  "
      ]
     },
     "execution_count": 19,
     "metadata": {},
     "output_type": "execute_result"
    }
   ],
   "source": [
    "df.columns = ['ts', 'name', 'occupation', 'education', 'reason', \\\n",
    "    'interest_for_training', 'gender', 'phone_number', \\\n",
    "    'email', 'address', 'question', 'opt_in']\n",
    "df.head(n=2)"
   ]
  },
  {
   "cell_type": "code",
   "execution_count": 20,
   "id": "7cabbe1b",
   "metadata": {},
   "outputs": [
    {
     "data": {
      "text/plain": [
       "array(['Data Science  ဆိုတာ ဘာလဲ သိချင်သောကြောင့်',\n",
       "       'Data Science နှင့်ပတ်သက်သော အသိပညာတိုးပွားလိုသောကြောင့်',\n",
       "       'Data Scientist တစ်ယောက်ဖြစ်ချင်သောကြောင့်',\n",
       "       'Data Scientist တစ်ယောက်ဖြစ်နေခြင်းကြောင့်',\n",
       "       'မိမိ လုပ်ငန်းခွင်တွင် ပြန်လည်အသုံးချနိုင်ရန်အတွက်'], dtype=object)"
      ]
     },
     "execution_count": 20,
     "metadata": {},
     "output_type": "execute_result"
    }
   ],
   "source": [
    "from sklearn import preprocessing as pp\n",
    "mlb = pp.MultiLabelBinarizer()\n",
    "df[\"reasons\"] = df.apply(lambda x : [item.strip() for item in x.reason.split(\",\")], axis=1)\n",
    "df_ = mlb.fit_transform(df['reasons'])\n",
    "mlb.classes_"
   ]
  },
  {
   "cell_type": "code",
   "execution_count": 21,
   "id": "fe5fcaf2",
   "metadata": {},
   "outputs": [
    {
     "name": "stdout",
     "output_type": "stream",
     "text": [
      "   reason__know_what_data_science_is  \\\n",
      "0                                  0   \n",
      "1                                  0   \n",
      "\n",
      "   reason__increase_knowledge_on_data_science  \\\n",
      "0                                           1   \n",
      "1                                           1   \n",
      "\n",
      "   reason__want_to_be_a_data_scientist  reason__i_am_a_data_science  \\\n",
      "0                                    1                            0   \n",
      "1                                    1                            0   \n",
      "\n",
      "   reason__to_use_in_workplace  \n",
      "0                            1  \n",
      "1                            1  \n"
     ]
    },
    {
     "data": {
      "text/html": [
       "<div>\n",
       "<style scoped>\n",
       "    .dataframe tbody tr th:only-of-type {\n",
       "        vertical-align: middle;\n",
       "    }\n",
       "\n",
       "    .dataframe tbody tr th {\n",
       "        vertical-align: top;\n",
       "    }\n",
       "\n",
       "    .dataframe thead th {\n",
       "        text-align: right;\n",
       "    }\n",
       "</style>\n",
       "<table border=\"1\" class=\"dataframe\">\n",
       "  <thead>\n",
       "    <tr style=\"text-align: right;\">\n",
       "      <th></th>\n",
       "      <th>ts</th>\n",
       "      <th>name</th>\n",
       "      <th>occupation</th>\n",
       "      <th>education</th>\n",
       "      <th>reason</th>\n",
       "      <th>interest_for_training</th>\n",
       "      <th>gender</th>\n",
       "      <th>phone_number</th>\n",
       "      <th>email</th>\n",
       "      <th>address</th>\n",
       "      <th>question</th>\n",
       "      <th>opt_in</th>\n",
       "      <th>reasons</th>\n",
       "      <th>reason__know_what_data_science_is</th>\n",
       "      <th>reason__increase_knowledge_on_data_science</th>\n",
       "      <th>reason__want_to_be_a_data_scientist</th>\n",
       "      <th>reason__i_am_a_data_science</th>\n",
       "      <th>reason__to_use_in_workplace</th>\n",
       "    </tr>\n",
       "  </thead>\n",
       "  <tbody>\n",
       "    <tr>\n",
       "      <th>0</th>\n",
       "      <td>2022-09-25 18:52:36.497</td>\n",
       "      <td>Kyaw Ko Ko Nyein</td>\n",
       "      <td>Data Assistant</td>\n",
       "      <td>BA (Political Science)</td>\n",
       "      <td>Data Scientist တစ်ယောက်ဖြစ်ချင်သောကြောင့်, မိမ...</td>\n",
       "      <td>Yes</td>\n",
       "      <td>Male</td>\n",
       "      <td>09422525552, 09254399676</td>\n",
       "      <td>kyawko2nyein@gmail.com</td>\n",
       "      <td>Pakokku</td>\n",
       "      <td>Data mining, big data နဲ့ deep learning အကြောင...</td>\n",
       "      <td>no</td>\n",
       "      <td>[Data Scientist တစ်ယောက်ဖြစ်ချင်သောကြောင့်, မိ...</td>\n",
       "      <td>0</td>\n",
       "      <td>1</td>\n",
       "      <td>1</td>\n",
       "      <td>0</td>\n",
       "      <td>1</td>\n",
       "    </tr>\n",
       "    <tr>\n",
       "      <th>1</th>\n",
       "      <td>2022-09-25 19:15:24.273</td>\n",
       "      <td>Shwe yee</td>\n",
       "      <td>Automation engineer</td>\n",
       "      <td>G.Dip.S.A(NUS, SG)</td>\n",
       "      <td>Data Scientist တစ်ယောက်ဖြစ်ချင်သောကြောင့်, မိမ...</td>\n",
       "      <td>Yes</td>\n",
       "      <td>Female</td>\n",
       "      <td>09953153181/ 09953153101</td>\n",
       "      <td>Shweyeetint@gmail.com</td>\n",
       "      <td>Yangon</td>\n",
       "      <td>Data Analyst အဖြစ်မလုပ်ကိုင်ဖူးဘဲ Data scienti...</td>\n",
       "      <td>yes</td>\n",
       "      <td>[Data Scientist တစ်ယောက်ဖြစ်ချင်သောကြောင့်, မိ...</td>\n",
       "      <td>0</td>\n",
       "      <td>1</td>\n",
       "      <td>1</td>\n",
       "      <td>0</td>\n",
       "      <td>1</td>\n",
       "    </tr>\n",
       "  </tbody>\n",
       "</table>\n",
       "</div>"
      ],
      "text/plain": [
       "                       ts              name           occupation  \\\n",
       "0 2022-09-25 18:52:36.497  Kyaw Ko Ko Nyein       Data Assistant   \n",
       "1 2022-09-25 19:15:24.273          Shwe yee  Automation engineer   \n",
       "\n",
       "                education                                             reason  \\\n",
       "0  BA (Political Science)  Data Scientist တစ်ယောက်ဖြစ်ချင်သောကြောင့်, မိမ...   \n",
       "1      G.Dip.S.A(NUS, SG)  Data Scientist တစ်ယောက်ဖြစ်ချင်သောကြောင့်, မိမ...   \n",
       "\n",
       "  interest_for_training  gender              phone_number  \\\n",
       "0                   Yes    Male  09422525552, 09254399676   \n",
       "1                   Yes  Female  09953153181/ 09953153101   \n",
       "\n",
       "                    email  address  \\\n",
       "0  kyawko2nyein@gmail.com  Pakokku   \n",
       "1   Shweyeetint@gmail.com   Yangon   \n",
       "\n",
       "                                            question opt_in  \\\n",
       "0  Data mining, big data နဲ့ deep learning အကြောင...     no   \n",
       "1  Data Analyst အဖြစ်မလုပ်ကိုင်ဖူးဘဲ Data scienti...    yes   \n",
       "\n",
       "                                             reasons  \\\n",
       "0  [Data Scientist တစ်ယောက်ဖြစ်ချင်သောကြောင့်, မိ...   \n",
       "1  [Data Scientist တစ်ယောက်ဖြစ်ချင်သောကြောင့်, မိ...   \n",
       "\n",
       "   reason__know_what_data_science_is  \\\n",
       "0                                  0   \n",
       "1                                  0   \n",
       "\n",
       "   reason__increase_knowledge_on_data_science  \\\n",
       "0                                           1   \n",
       "1                                           1   \n",
       "\n",
       "   reason__want_to_be_a_data_scientist  reason__i_am_a_data_science  \\\n",
       "0                                    1                            0   \n",
       "1                                    1                            0   \n",
       "\n",
       "   reason__to_use_in_workplace  \n",
       "0                            1  \n",
       "1                            1  "
      ]
     },
     "execution_count": 21,
     "metadata": {},
     "output_type": "execute_result"
    }
   ],
   "source": [
    "df_ = pd.DataFrame(df_, columns=[\"reason__{}\".format(x) for x in [\n",
    "    \"know_what_data_science_is\", \"increase_knowledge_on_data_science\", \n",
    "    \"want_to_be_a_data_scientist\", \"i_am_a_data_science\", \n",
    "    \"to_use_in_workplace\"\n",
    "]])\n",
    "print (df_.head(n=2))\n",
    "df = pd.concat([df, df_], axis=1)\n",
    "df.head(n=2)"
   ]
  },
  {
   "cell_type": "code",
   "execution_count": 22,
   "id": "bcf66b6f",
   "metadata": {},
   "outputs": [
    {
     "data": {
      "text/plain": [
       "education\n",
       "2BE EP                                         1\n",
       "ACCOUNTING                                     1\n",
       "B PHARM                                        1\n",
       "B.C.SC                                         8\n",
       "B.ECON (STATS)                                 1\n",
       "B.ED                                           1\n",
       "B.ED; M.ED                                     1\n",
       "B.SC ( PHY)                                    1\n",
       "B.SC (PHYSICS)                                 1\n",
       "B.SC(ZOOLOGY)                                  1\n",
       "BA (POLITICAL SCIENCE)                         1\n",
       "BDEVS                                          1\n",
       "BE METALLURGY                                  1\n",
       "BE(IT)                                         1\n",
       "COMPUTER SCIENCE                               1\n",
       "COMPUTER STUDIES                               1\n",
       "DIPLOMA IN COMPUTER STUDIES                    1\n",
       "ELECTRONIC COMMUNICATION FINAL YEAR STUDENT    1\n",
       "FINANCE GRADUATE                               1\n",
       "FIRST YEAR DIPLOMA IN COMPUTING, NCC           1\n",
       "G.DIP.S.A(NUS, SG)                             1\n",
       "M.B.,B.S                                       1\n",
       "M.C.SC                                         3\n",
       "M.ED                                           1\n",
       "M.SC(BOTANY)                                   1\n",
       "MBBS                                           1\n",
       "MCSC                                           1\n",
       "MCSC UCSY                                      1\n",
       "MSC                                            1\n",
       "NAN                                            1\n",
       "PH.D (IT)                                      1\n",
       "PHD IN ENVIRONMENTAL SCIENCE                   1\n",
       "PHYSICS                                        1\n",
       "PRE IG                                         1\n",
       "SECOND YEAR                                    1\n",
       "SECOND YEAR STATISTICS FROM YUECO              1\n",
       "UNDERGRADUATE                                  1\n",
       "ဘွဲ့ရ                                          1\n",
       "Name: ts, dtype: int64"
      ]
     },
     "execution_count": 22,
     "metadata": {},
     "output_type": "execute_result"
    }
   ],
   "source": [
    "df[\"education\"] = df.apply(lambda x : str(x.education).strip().upper(), axis=1)\n",
    "df.groupby(\"education\")[\"ts\"].count()"
   ]
  },
  {
   "cell_type": "code",
   "execution_count": 8,
   "id": "e36788e0",
   "metadata": {},
   "outputs": [
    {
     "data": {
      "text/plain": [
       "(47, 18)"
      ]
     },
     "execution_count": 8,
     "metadata": {},
     "output_type": "execute_result"
    }
   ],
   "source": [
    "df.shape"
   ]
  },
  {
   "cell_type": "code",
   "execution_count": 12,
   "id": "912a016c",
   "metadata": {},
   "outputs": [
    {
     "data": {
      "text/plain": [
       "reason__know_what_data_science_is             22\n",
       "reason__increase_knowledge_on_data_science    26\n",
       "reason__want_to_be_a_data_scientist           17\n",
       "reason__i_am_a_data_science                    2\n",
       "reason__to_use_in_workplace                   23\n",
       "dtype: int64"
      ]
     },
     "execution_count": 12,
     "metadata": {},
     "output_type": "execute_result"
    }
   ],
   "source": [
    "selected_columns = [x for x in df.columns if x.startswith(\"reason__\")]\n",
    "df[selected_columns].sum()"
   ]
  },
  {
   "cell_type": "code",
   "execution_count": 16,
   "id": "800959b5",
   "metadata": {},
   "outputs": [
    {
     "data": {
      "text/html": [
       "<div>\n",
       "<style scoped>\n",
       "    .dataframe tbody tr th:only-of-type {\n",
       "        vertical-align: middle;\n",
       "    }\n",
       "\n",
       "    .dataframe tbody tr th {\n",
       "        vertical-align: top;\n",
       "    }\n",
       "\n",
       "    .dataframe thead th {\n",
       "        text-align: right;\n",
       "    }\n",
       "</style>\n",
       "<table border=\"1\" class=\"dataframe\">\n",
       "  <thead>\n",
       "    <tr style=\"text-align: right;\">\n",
       "      <th></th>\n",
       "      <th>ts</th>\n",
       "      <th>name</th>\n",
       "      <th>occupation</th>\n",
       "      <th>education</th>\n",
       "      <th>reason</th>\n",
       "      <th>interest_for_training</th>\n",
       "      <th>phone_number</th>\n",
       "      <th>email</th>\n",
       "      <th>address</th>\n",
       "      <th>question</th>\n",
       "      <th>opt_in</th>\n",
       "      <th>reasons</th>\n",
       "      <th>reason__know_what_data_science_is</th>\n",
       "      <th>reason__increase_knowledge_on_data_science</th>\n",
       "      <th>reason__want_to_be_a_data_scientist</th>\n",
       "      <th>reason__i_am_a_data_science</th>\n",
       "      <th>reason__to_use_in_workplace</th>\n",
       "    </tr>\n",
       "    <tr>\n",
       "      <th>gender</th>\n",
       "      <th></th>\n",
       "      <th></th>\n",
       "      <th></th>\n",
       "      <th></th>\n",
       "      <th></th>\n",
       "      <th></th>\n",
       "      <th></th>\n",
       "      <th></th>\n",
       "      <th></th>\n",
       "      <th></th>\n",
       "      <th></th>\n",
       "      <th></th>\n",
       "      <th></th>\n",
       "      <th></th>\n",
       "      <th></th>\n",
       "      <th></th>\n",
       "      <th></th>\n",
       "    </tr>\n",
       "  </thead>\n",
       "  <tbody>\n",
       "    <tr>\n",
       "      <th>Female</th>\n",
       "      <td>34</td>\n",
       "      <td>34</td>\n",
       "      <td>32</td>\n",
       "      <td>34</td>\n",
       "      <td>34</td>\n",
       "      <td>34</td>\n",
       "      <td>34</td>\n",
       "      <td>34</td>\n",
       "      <td>34</td>\n",
       "      <td>34</td>\n",
       "      <td>34</td>\n",
       "      <td>34</td>\n",
       "      <td>34</td>\n",
       "      <td>34</td>\n",
       "      <td>34</td>\n",
       "      <td>34</td>\n",
       "      <td>34</td>\n",
       "    </tr>\n",
       "    <tr>\n",
       "      <th>Male</th>\n",
       "      <td>13</td>\n",
       "      <td>13</td>\n",
       "      <td>13</td>\n",
       "      <td>13</td>\n",
       "      <td>13</td>\n",
       "      <td>13</td>\n",
       "      <td>13</td>\n",
       "      <td>13</td>\n",
       "      <td>13</td>\n",
       "      <td>13</td>\n",
       "      <td>13</td>\n",
       "      <td>13</td>\n",
       "      <td>13</td>\n",
       "      <td>13</td>\n",
       "      <td>13</td>\n",
       "      <td>13</td>\n",
       "      <td>13</td>\n",
       "    </tr>\n",
       "  </tbody>\n",
       "</table>\n",
       "</div>"
      ],
      "text/plain": [
       "        ts  name  occupation  education  reason  interest_for_training  \\\n",
       "gender                                                                   \n",
       "Female  34    34          32         34      34                     34   \n",
       "Male    13    13          13         13      13                     13   \n",
       "\n",
       "        phone_number  email  address  question  opt_in  reasons  \\\n",
       "gender                                                            \n",
       "Female            34     34       34        34      34       34   \n",
       "Male              13     13       13        13      13       13   \n",
       "\n",
       "        reason__know_what_data_science_is  \\\n",
       "gender                                      \n",
       "Female                                 34   \n",
       "Male                                   13   \n",
       "\n",
       "        reason__increase_knowledge_on_data_science  \\\n",
       "gender                                               \n",
       "Female                                          34   \n",
       "Male                                            13   \n",
       "\n",
       "        reason__want_to_be_a_data_scientist  reason__i_am_a_data_science  \\\n",
       "gender                                                                     \n",
       "Female                                   34                           34   \n",
       "Male                                     13                           13   \n",
       "\n",
       "        reason__to_use_in_workplace  \n",
       "gender                               \n",
       "Female                           34  \n",
       "Male                             13  "
      ]
     },
     "execution_count": 16,
     "metadata": {},
     "output_type": "execute_result"
    }
   ],
   "source": [
    "df.groupby('gender').count()"
   ]
  },
  {
   "cell_type": "code",
   "execution_count": 23,
   "id": "e83b69cb",
   "metadata": {},
   "outputs": [
    {
     "data": {
      "text/plain": [
       "occupation\n",
       "-                                                1\n",
       "ADMIN                                            1\n",
       "ADMIN MANAGER                                    1\n",
       "AUTOMATION ENGINEER                              1\n",
       "BUSINESS DEVELOPMENT MANAGER                     1\n",
       "COMPUTER SCIENCE STUDENT                         1\n",
       "DATA ASSISTANT                                   1\n",
       "DOCTOR                                           1\n",
       "ENGINEER                                         1\n",
       "FASHION DES                                      1\n",
       "HOUSEWIFE                                        2\n",
       "IT LECTURER                                      1\n",
       "IT SPECIALIST                                    1\n",
       "JUNIOR WEB DEVELOPER                             1\n",
       "LECTURER                                         1\n",
       "MANAGER                                          1\n",
       "MARKETING                                        2\n",
       "MERCHANT                                         1\n",
       "MOTHER OF 2 KIDS                                 1\n",
       "NAN                                              2\n",
       "NO                                               1\n",
       "NOTHING                                          2\n",
       "OWN BUSINESS                                     1\n",
       "PHARMACIST                                       1\n",
       "SCHOOL PRINCIPAL                                 1\n",
       "SELF STUDY                                       1\n",
       "SITE MANAGER                                     1\n",
       "SR BUSINESS ANALYST                              1\n",
       "STAFF OFFICER                                    1\n",
       "STUDENT                                          5\n",
       "STUDENT (CURRENTLY TAKING A BREAK FROM STUDY)    1\n",
       "STUDENTS                                         1\n",
       "TEACHER                                          5\n",
       "ကျောင်းဆရာမ                                      1\n",
       "မရှိပါ                                           1\n",
       "Name: ts, dtype: int64"
      ]
     },
     "execution_count": 23,
     "metadata": {},
     "output_type": "execute_result"
    }
   ],
   "source": [
    "df[\"occupation\"] = df.apply(lambda x : str(x.occupation).strip().upper(), axis=1)\n",
    "df.groupby(\"occupation\")[\"ts\"].count()"
   ]
  },
  {
   "cell_type": "code",
   "execution_count": null,
   "id": "bb2294fd",
   "metadata": {},
   "outputs": [],
   "source": []
  }
 ],
 "metadata": {
  "kernelspec": {
   "display_name": "Python 3 (ipykernel)",
   "language": "python",
   "name": "python3"
  },
  "language_info": {
   "codemirror_mode": {
    "name": "ipython",
    "version": 3
   },
   "file_extension": ".py",
   "mimetype": "text/x-python",
   "name": "python",
   "nbconvert_exporter": "python",
   "pygments_lexer": "ipython3",
   "version": "3.8.13"
  }
 },
 "nbformat": 4,
 "nbformat_minor": 5
}
