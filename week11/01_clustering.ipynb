{
 "cells": [
  {
   "cell_type": "markdown",
   "metadata": {},
   "source": [
    "# `k`-mean Clustering\n",
    "\n",
    "**Welcome from Week 11** of Data Science *Using Python*!\n",
    "\n",
    "ဒီတပါတ်မှာ ကျနော်တို့ **clustering** အကြောင်းကို ဆွေးနွေးကြမယ်။ \n",
    "\n",
    "## A Review\n",
    "\n",
    "**Machine Learning (ML)** ဟာ Data Science ရဲ့ အရေးပါတဲ့ အစိတ်အပိုင်းတခုဖြစ်တယ်။ \n",
    "\n",
    "Machine Learning မှာ အောက်ပါအတိုင်း ၄ ပိုင်းပါဝင်တယ်လို့ ယေဘုယျအားဖြင့် ယူဆကြတယ်\n",
    "\n",
    "1. **Regression** - Real number တွေကို ခန့်မှန်း/တွက်ချက် predict နိုင်တဲ့ Model များကို တည်ဆောက်ခြင်း\n",
    "    * ဥပမာ ... အိမ်တလုံးရဲ့ တန်ဖိုး၊ မုန်တိုင်းရဲ့ ပြင်းထန်မှုအား စသည်\n",
    "  \n",
    "2. **Classification** - Category (class) တွေကို ခန့်မှန်း/တွက်ချက် predict နိုင်တဲ့ Model များကို တည်ဆောက်ခြင်း\n",
    "    * ဥပမာ ... ပုံတပုံသည် ကြောင်/ခွေးဖြစ်သည်၊ Transaction တခုသည် Fraud ဖြစ်သည်/မဖြစ်သည်၊ မေးခွန်း၏ အဖြေသည် Y/N ဖြစ်သည် စသည်\n",
    "\n",
    "3. **Clustering** - Sample (point/vector) တွေကို တူရာ စုပေးခြင်း (ဒီနေ့ လေ့လာမဲ့ အပိုင်း) နဲ့\n",
    "\n",
    "4. **Dimensionality Reduction** - Data များ၏ dimension (column အရေအတွက်) ကို လျှော့ချခြင်း (part 2 မှာ လေ့လာမဲ့ အပိုင်း) တို့ ဖြစ်ကြတယ်။\n",
    "\n",
    "## Clustering Techniques\n",
    "\n",
    "Clustering မှာ label မရှိဘူး၊ Data တွေကို အစုဘယ်နှစု စုပုံပေးရမယ်ဆိုတဲ့ အစုအရေအတွက် (number of cluster) ကို ကြိုသိ/မသိပေါ်မှာ မူတည်ပြီး Clustering Techniques တွေကို 2 မျိုး ခွဲနိုင်တယ်။ \n",
    "\n",
    "1. Clustering techniques where number of cluster is known in advance and\n",
    "2. Clustering techniques where number of cluster is NOT known in advance\n",
    "\n",
    "ထုံးစံအတိုင်း အသင့်ရေးထားတဲ့ code တွေနဲ့ စလိုက်ရအောင်။"
   ]
  },
  {
   "cell_type": "code",
   "execution_count": 1,
   "metadata": {},
   "outputs": [],
   "source": [
    "%matplotlib inline\n",
    "\n",
    "import numpy as np\n",
    "\n",
    "from matplotlib import pyplot as plt\n",
    "from matplotlib import colors as mcolors\n",
    "from sklearn import datasets\n",
    "from sklearn import cluster"
   ]
  },
  {
   "cell_type": "code",
   "execution_count": 2,
   "metadata": {},
   "outputs": [
    {
     "data": {
      "text/html": [
       "<div>\n",
       "<style scoped>\n",
       "    .dataframe tbody tr th:only-of-type {\n",
       "        vertical-align: middle;\n",
       "    }\n",
       "\n",
       "    .dataframe tbody tr th {\n",
       "        vertical-align: top;\n",
       "    }\n",
       "\n",
       "    .dataframe thead th {\n",
       "        text-align: right;\n",
       "    }\n",
       "</style>\n",
       "<table border=\"1\" class=\"dataframe\">\n",
       "  <thead>\n",
       "    <tr style=\"text-align: right;\">\n",
       "      <th></th>\n",
       "      <th>MedInc</th>\n",
       "      <th>HouseAge</th>\n",
       "      <th>AveRooms</th>\n",
       "      <th>AveBedrms</th>\n",
       "      <th>Population</th>\n",
       "      <th>AveOccup</th>\n",
       "      <th>Latitude</th>\n",
       "      <th>Longitude</th>\n",
       "    </tr>\n",
       "  </thead>\n",
       "  <tbody>\n",
       "    <tr>\n",
       "      <th>0</th>\n",
       "      <td>8.3252</td>\n",
       "      <td>41.0</td>\n",
       "      <td>6.984127</td>\n",
       "      <td>1.023810</td>\n",
       "      <td>322.0</td>\n",
       "      <td>2.555556</td>\n",
       "      <td>37.88</td>\n",
       "      <td>-122.23</td>\n",
       "    </tr>\n",
       "    <tr>\n",
       "      <th>1</th>\n",
       "      <td>8.3014</td>\n",
       "      <td>21.0</td>\n",
       "      <td>6.238137</td>\n",
       "      <td>0.971880</td>\n",
       "      <td>2401.0</td>\n",
       "      <td>2.109842</td>\n",
       "      <td>37.86</td>\n",
       "      <td>-122.22</td>\n",
       "    </tr>\n",
       "    <tr>\n",
       "      <th>2</th>\n",
       "      <td>7.2574</td>\n",
       "      <td>52.0</td>\n",
       "      <td>8.288136</td>\n",
       "      <td>1.073446</td>\n",
       "      <td>496.0</td>\n",
       "      <td>2.802260</td>\n",
       "      <td>37.85</td>\n",
       "      <td>-122.24</td>\n",
       "    </tr>\n",
       "    <tr>\n",
       "      <th>3</th>\n",
       "      <td>5.6431</td>\n",
       "      <td>52.0</td>\n",
       "      <td>5.817352</td>\n",
       "      <td>1.073059</td>\n",
       "      <td>558.0</td>\n",
       "      <td>2.547945</td>\n",
       "      <td>37.85</td>\n",
       "      <td>-122.25</td>\n",
       "    </tr>\n",
       "    <tr>\n",
       "      <th>4</th>\n",
       "      <td>3.8462</td>\n",
       "      <td>52.0</td>\n",
       "      <td>6.281853</td>\n",
       "      <td>1.081081</td>\n",
       "      <td>565.0</td>\n",
       "      <td>2.181467</td>\n",
       "      <td>37.85</td>\n",
       "      <td>-122.25</td>\n",
       "    </tr>\n",
       "  </tbody>\n",
       "</table>\n",
       "</div>"
      ],
      "text/plain": [
       "   MedInc  HouseAge  AveRooms  AveBedrms  Population  AveOccup  Latitude  \\\n",
       "0  8.3252      41.0  6.984127   1.023810       322.0  2.555556     37.88   \n",
       "1  8.3014      21.0  6.238137   0.971880      2401.0  2.109842     37.86   \n",
       "2  7.2574      52.0  8.288136   1.073446       496.0  2.802260     37.85   \n",
       "3  5.6431      52.0  5.817352   1.073059       558.0  2.547945     37.85   \n",
       "4  3.8462      52.0  6.281853   1.081081       565.0  2.181467     37.85   \n",
       "\n",
       "   Longitude  \n",
       "0    -122.23  \n",
       "1    -122.22  \n",
       "2    -122.24  \n",
       "3    -122.25  \n",
       "4    -122.25  "
      ]
     },
     "execution_count": 2,
     "metadata": {},
     "output_type": "execute_result"
    }
   ],
   "source": [
    "df_X, ds_y = datasets.fetch_california_housing(return_X_y=True, as_frame=True)\n",
    "df_X.head()"
   ]
  },
  {
   "cell_type": "markdown",
   "metadata": {},
   "source": [
    "`Latitude` နဲ့ `Longitude` ကို အခု ပုံဆွဲကြည့်ရအောင်။"
   ]
  },
  {
   "cell_type": "code",
   "execution_count": 3,
   "metadata": {},
   "outputs": [
    {
     "data": {
      "image/png": "[encoded data removed]",
      "text/plain": [
       "<Figure size 432x288 with 1 Axes>"
      ]
     },
     "metadata": {
      "needs_background": "light"
     },
     "output_type": "display_data"
    }
   ],
   "source": [
    "plt.scatter(df_X.Longitude, df_X.Latitude, marker=\".\")\n",
    "plt.show()"
   ]
  },
  {
   "cell_type": "code",
   "execution_count": null,
   "metadata": {},
   "outputs": [],
   "source": [
    "model = cluster.KMeans()\n",
    "model.fit(df_X[[\"Longitude\", \"Latitude\"]])\n",
    "results = model.transform(df_X[[\"Longitude\", \"Latitude\"]])\n",
    "results[:10]"
   ]
  },
  {
   "cell_type": "markdown",
   "metadata": {},
   "source": [
    "`KMeans` model ရဲ့ `transform` result က sample (row/vector/point) တခုချင်းကနေ cluster တခုချင်းစီရဲ့ အလယ်မှတ် (centroid) ကြား distance ပဲဖြစ်တယ်။ `KMeans` ရဲ့ default `n_clusters` ဟာ 8 ဖြစ်တာမို့ အပေါ်က `result` မှာ column 8 ခု ပါတာကို သတိထားပါ။\n",
    "\n",
    "တနည်းအားဖြင့် အဲဒီ column 8 ခုထဲက အငယ်ဆုံး distance ပိုင်ရှင် cluster ထဲမှာ အဲဒီ data sample (row/vector/point) ပါတယ်။ \n",
    "\n",
    "**row-by-row အငယ်ဆုံး ဂဏန်းရဲ့ index ကို ရှာတာ ဘယ်လိုရှာကြသလဲ။**"
   ]
  },
  {
   "cell_type": "code",
   "execution_count": null,
   "metadata": {},
   "outputs": [],
   "source": [
    "clusters = np.argmin(results, axis=1)\n",
    "cmap = {idx: c for idx, c in enumerate(mcolors.TABLEAU_COLORS.values())}\n",
    "plt.scatter(df_X[\"Longitude\"], df_X[\"Latitude\"], s=1, c=clusters, cmap=\"plasma\")\n",
    "plt.show()"
   ]
  },
  {
   "cell_type": "code",
   "execution_count": null,
   "metadata": {},
   "outputs": [],
   "source": [
    "# or there's an easier way !!!\n",
    "clusters = model.predict(df_X[[\"Longitude\", \"Latitude\"]])\n",
    "clusters[:10]"
   ]
  },
  {
   "cell_type": "markdown",
   "metadata": {},
   "source": [
    "**COOL!!!**\n",
    "\n",
    "Now, try it with different parameters. `KMeans()` ရဲ့ parameter တွေက ... \n",
    "\n",
    "* `n_clusters` : default 8\n",
    "* `init` : default 'k-means++' or 'random' or array-like of (n_clusters, n_features) giving initial centers\n",
    "* `n_init` : how many time to try clustering to get the best. များလေ ကြာလေ၊ နည်းလေ performance မကောင်းလေ\n",
    "* `max_iter` : number of iterations. များလေ ကြာလေ၊ နည်းလေ performance မကောင်းလေ\n",
    "* `tol` : default 1e-4 (0.0001) when to stop before `max_iter`. များလေ မြန်လေ၊ performance မကောင်းလေ\n",
    "* `random_state` : for debugging"
   ]
  },
  {
   "cell_type": "code",
   "execution_count": null,
   "metadata": {},
   "outputs": [],
   "source": [
    "# try a 3 different sets of parameters.\n",
    "# draw them out and show in chatbox. "
   ]
  },
  {
   "cell_type": "markdown",
   "metadata": {},
   "source": [
    "## Other Notable Use of Clustering\n",
    "\n",
    "တူရာစုပေးတာအပြင် `KMeans` (အပါအဝင် Clustering တွေ) ရဲ့ အသုံးဝင်မှု တချို့ကတော့ ... \n",
    "\n",
    "1. As a feature engineering tool \n",
    "   မတူညီတဲ့ parameter တွေကို အသုံးပြုထားပြီး ရလာတဲ့ clustering label တွေကို additional feature column တွေအနေနဲ့ regression/classification တွေမှာ အသုံးပြုနိုင်ပါတယ်။\n",
    "\n",
    "2. As dimensionality reduction tool\n",
    "   dimension အများ (မူလ column အရေအတွက် `n`) ကို dimension အနည်း (`n_clusters` ကို) ကို ပြောင်းနိုင်ပါတယ်။ စောစောတုန်းက တွေ့ထားတဲ့ `transform` ရလာဒ်ကို `feature` အနေနဲ့ အသုံးပြုတာပါ။ "
   ]
  },
  {
   "cell_type": "code",
   "execution_count": null,
   "metadata": {},
   "outputs": [],
   "source": [
    "# try to cluster using other columns. \n",
    "# use 3 different sets of parameters x column sets. \n",
    "# it is ok to use more than 2 columns for clustering but\n",
    "# you should normalize them first."
   ]
  },
  {
   "cell_type": "markdown",
   "metadata": {},
   "source": [
    "---\n",
    "\n",
    "# Week 8 - Assignment\n",
    "\n",
    "**Week 8 - Assignment အတွက် မေးရန်ရှိများကို မေးရန်**\n",
    "\n",
    "---"
   ]
  },
  {
   "cell_type": "markdown",
   "metadata": {},
   "source": [
    "# Week 10 - Assignment\n",
    "\n",
    "```python\n",
    "%matplotlib inline\n",
    "\n",
    "import matplotlib.pyplot as plt\n",
    "from sklearn import datasets as sk_ds\n",
    "\n",
    "df_X, ds_y = sk_ds.load_digits(return_X_y=True, as_frame=True)\n",
    "images = sk_ds.load_digits().images\n",
    "\n",
    "plt.gray()\n",
    "plt.matshow(images[0])\n",
    "plt.show()\n",
    "```\n",
    "\n",
    "Week 10 - Assignment မေးခွန်းမှာ ... \n",
    "\n",
    "အထက်ပါ dataset ကို အသုံးပြုပြီး parameter 3 စုံဖြင့် classification model 3 ခု တည်ဆောက်ရန်ဖြစ်သည်။ \n",
    "\n",
    "> image များသည် x, y, color နှင့် 3 dimensional array (3d tensor) များဖြစ်ကြသည်။\n",
    "\n",
    "> classification model များအတွက် sample များသည် 1 dimension သာ (1 row/1 sample/1 dimension) ဖြစ်ကြသည်။\n",
    "\n",
    "> ထို့ကြောင့် အောက်ပါဥပမာအတိုင်း flatten ရန် လိုအပ်သည်\n",
    "> ```\n",
    "> 1 2 3\n",
    "> 4 5 6\n",
    "> 7 8 9\n",
    "> ```\n",
    "> ဟူသော 2 dimensional data structure ကို \n",
    "> ```\n",
    "> 1 2 3 4 5 6 7 8 9\n",
    "> ```\n",
    "> ဟု ဖြန့်လိုက်ခြင်းကို flattern ဟုခေါ်သည်\n",
    "\n",
    "> ယခု Assignment အတွက် data မှာ flatten လုပ်ပြီးသားဖြစ်သည်။\n",
    "\n",
    "**Week 10 - Assignment အတွက် မေးရန်ရှိများကို မေးရန် နှင့် Assignment ပြီးအောင် တခါတည်း လုပ်ဆောင်ရန်**\n",
    "\n",
    "---"
   ]
  },
  {
   "cell_type": "markdown",
   "metadata": {},
   "source": [
    "# Week 11 and 12 Project\n",
    "\n",
    "Week 11 and 12 Project မှာ Week 10 Assignment နှင့် အတူတူပင်ဖြစ်သည်။ ပို၍ ကြီးသော dataset ကို သုံးမည်။"
   ]
  },
  {
   "cell_type": "code",
   "execution_count": 1,
   "metadata": {},
   "outputs": [
    {
     "name": "stdout",
     "output_type": "stream",
     "text": [
      "Downloading data from https://storage.googleapis.com/tensorflow/tf-keras-datasets/mnist.npz\n",
      "11493376/11490434 [==============================] - 2s 0us/step\n",
      "11501568/11490434 [==============================] - 2s 0us/step\n",
      "X_train: (60000, 28, 28)\n",
      "Y_train: (60000,)\n",
      "X_test:  (10000, 28, 28)\n",
      "Y_test:  (10000,)\n"
     ]
    }
   ],
   "source": [
    "from keras.datasets import mnist\n",
    "\n",
    "(train_X, train_y), (test_X, test_y) = mnist.load_data()\n",
    "print('X_train: ' + str(train_X.shape))\n",
    "print('Y_train: ' + str(train_y.shape))\n",
    "print('X_test:  '  + str(test_X.shape))\n",
    "print('Y_test:  '  + str(test_y.shape))"
   ]
  },
  {
   "cell_type": "code",
   "execution_count": 3,
   "metadata": {},
   "outputs": [
    {
     "data": {
      "image/png": "[encoded data removed]",
      "text/plain": [
       "<Figure size 432x288 with 9 Axes>"
      ]
     },
     "metadata": {
      "needs_background": "light"
     },
     "output_type": "display_data"
    }
   ],
   "source": [
    "for i in range(9):  \n",
    "    plt.subplot(330 + 1 + i)\n",
    "    plt.imshow(train_X[i], cmap=plt.get_cmap('gray'))\n",
    "plt.show()"
   ]
  },
  {
   "cell_type": "markdown",
   "metadata": {},
   "source": [
    "## Project အိမ်စာ\n",
    "\n",
    "1. **Project အတွက် Data (X) သည် flatten ရန် လိုပါမည်။** ထို့ကြောင့် flatten လုပ်ရန် နည်းစနစ်များကို လေ့ကျင့်ခဲ့ပါ။\n",
    "   \n",
    "2. **28 x 28 image သည် 784 column ရှိပါသည်။** သိပ်မကြီးလှသော်လည်း သိပ်မသေးလှသေးပါ။ သိပြီးဖြစ်သည့် recipe များနှင့် dimensionality reduction လုပ်ရန် လေ့ကျင့်ခဲ့ပါ။ \n",
    "\n",
    "> Hint: use test set (10k samples) ကိုသုံးပြီး code များကို ရေးပါ။ ဒါမှ စောင့်ရတာ မကြာပဲ အဖြေကို မြန်မြန် သိရမည်။\n",
    "> Hint: အမြဲ function ခွဲပြီး ရေးပါ။ ဒါမှ ပြန်သုံးလို့ရမည်။\n",
    "\n",
    "3. **ပြဿနာကြီးကို မရှင်းခင် ခပ်သေးသေးကို ရှင်းရန် ကြိုးစားကြည့်ပါ** `y = 0` နှင့် `y = 1` စသည့် subset မျှကိုသာ ယူပြီး သိပြီးဖြစ်သည့် နည်းစနစ်များနှင့် model ဆောက်ရန် ကြိုးစားပါ။"
   ]
  },
  {
   "cell_type": "markdown",
   "metadata": {},
   "source": []
  }
 ],
 "metadata": {
  "kernelspec": {
   "display_name": "Python 3.7.11 ('py37-dsup')",
   "language": "python",
   "name": "python3"
  },
  "language_info": {
   "codemirror_mode": {
    "name": "ipython",
    "version": 3
   },
   "file_extension": ".py",
   "mimetype": "text/x-python",
   "name": "python",
   "nbconvert_exporter": "python",
   "pygments_lexer": "ipython3",
   "version": "3.7.11"
  },
  "orig_nbformat": 4,
  "vscode": {
   "interpreter": {
    "hash": "3a9c1e998c7d6d5f29587b2c70e9bd488bb486b902354401efc27ca8457f04e9"
   }
  }
 },
 "nbformat": 4,
 "nbformat_minor": 2
}
