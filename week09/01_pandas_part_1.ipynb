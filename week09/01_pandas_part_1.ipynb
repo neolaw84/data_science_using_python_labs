{
 "cells": [
  {
   "cell_type": "markdown",
   "metadata": {},
   "source": [
    "# Welcome from Week 09\n",
    "\n",
    "ဒီတပါတ်မှာ ကျနော်တို့ Data Science နဲ့ Machine Learning မှာ အထူးအရေးပါတဲ့ Library တခုဖြစ်တဲ့ `pandas` library အကြောင်းကို လေ့လာကြမှာ ဖြစ်ပါတယ်။"
   ]
  },
  {
   "cell_type": "code",
   "execution_count": null,
   "metadata": {},
   "outputs": [],
   "source": [
    "import pandas as pd\n",
    "\n",
    "df_country = pd.read_csv(\"https://raw.githubusercontent.com/datasciencedojo/datasets/master/WorldDBTables/CountryTable.csv\")\n",
    "df_country.head()"
   ]
  },
  {
   "cell_type": "markdown",
   "metadata": {},
   "source": [
    "# Data Frame and Data Series\n",
    "\n",
    "![](https://i.ibb.co/Mfm14sZ/python-sci-com-landscape-drawio.png)\n",
    "\n",
    "အရင်အပါတ်တွေက ပြောခဲ့သလိုပဲ python language + built-ins တွေအပေါ်မှာ `numpy` ကို အခြေခံထားတဲ့ `scipy` နဲ့ `pandas`၊ visualization အတွက် `matplotlib` တို့ကြောင့် python ecosystem ဟာ matlab တို့လိုပဲ scientific computing အတွက် သုံးလို့ကောင်းတဲ့ ecosystem တခု ဖြစ်လာရတယ်။ \n",
    "\n",
    "`pandas` မှာ `DataFrame` နဲ့ Data `Series` ဆိုတဲ့ class နှစ်ခုပါတယ်။ `Series` ကို ကော်လံတခုလို့ အလွယ်ပြောလို့ရပြီး `DataFrame` ကိုတော့ ဇယားကွက်လို့ အလွယ်ပြောလို့ ရတယ်။ \n",
    "\n",
    "`numpy` က 2d array ကို အခြေခံတာမို့လို့ `pandas` `DataFrame` မှာ `describe` ဆိုတဲ့ function ပါတယ်။"
   ]
  },
  {
   "cell_type": "code",
   "execution_count": null,
   "metadata": {},
   "outputs": [],
   "source": [
    "df_country.describe()"
   ]
  },
  {
   "cell_type": "code",
   "execution_count": null,
   "metadata": {},
   "outputs": [],
   "source": [
    "df_titanic = pd.read_csv(\"https://raw.githubusercontent.com/datasciencedojo/datasets/master/titanic.csv\")\n",
    "df_titanic.head()"
   ]
  },
  {
   "cell_type": "code",
   "execution_count": null,
   "metadata": {},
   "outputs": [],
   "source": [
    "df_titanic.describe()"
   ]
  },
  {
   "cell_type": "markdown",
   "metadata": {},
   "source": [
    "## အားလုံးနဲ့ အလုပ်လုပ်တဲ့ `pandas`\n",
    "\n",
    "### Jupyter Notebook နဲ့ အတူ လက်တွဲအလုပ်လုပ်ခြင်း\n",
    "\n",
    "အပေါ်က ဥပမာတွေမှာ ဘာသတိထားမိသလဲ။\n",
    "\n",
    "> `pandas` object တွေဟာ `matplotlib` graph တွေလိုပဲ jupyter notebook နဲ့ လက်တွဲအလုပ်လုပ်ကြတယ်။ ဒါကြောင့် `print` လို့ explicitly မပြောရင် လှလှပပ ဇယားကွက်အနေနဲ့ ပေါ်လာကြတယ်။"
   ]
  },
  {
   "cell_type": "code",
   "execution_count": null,
   "metadata": {},
   "outputs": [],
   "source": [
    "# Series တခုကို DataFrame ထဲက ထုတ်ယူမယ်။\n",
    "df_titanic.Survived"
   ]
  },
  {
   "cell_type": "code",
   "execution_count": null,
   "metadata": {},
   "outputs": [],
   "source": [
    "type(df_titanic.Survived)"
   ]
  },
  {
   "cell_type": "code",
   "execution_count": null,
   "metadata": {},
   "outputs": [],
   "source": [
    "type(df_titanic)"
   ]
  },
  {
   "cell_type": "markdown",
   "metadata": {},
   "source": [
    "### format တွေအများကြီး ဖတ်နိုင်/ရေးနိုင်ခြင်း\n",
    "\n",
    "`pandas` `DataFrame` အဖြစ် ဖတ်နိုင်/ရေးနိုင်တဲ့ format တွေက အများကြီးပါပဲ။ အဲဒီထဲမှာ ထင်ရှားတာတွေကတော့ ...\n",
    "\n",
    "* Databases (`read_sql`/`to_sql`)\n",
    "* json (`read_json`/`to_json`)\n",
    "* xml (`read_xml`/`to_xml`)\n",
    "* Excel (`read_excel`/`to_excel`) နဲ့\n",
    "* parquet (`read_parquet`/`to_parquet`) တို့ပဲ ဖြစ်ကြတယ်။"
   ]
  },
  {
   "cell_type": "code",
   "execution_count": null,
   "metadata": {},
   "outputs": [],
   "source": [
    "df_titanic.to_json(\"titanic.json\")\n",
    "\n",
    "import json\n",
    "from pprint import pprint\n",
    "\n",
    "with open(\"titanic.json\", \"rt\") as f:\n",
    "    json_str = json.load(f)\n",
    "    pprint(json_str)    "
   ]
  },
  {
   "cell_type": "markdown",
   "metadata": {},
   "source": [
    "`read_sql` နဲ့ `to_sql` တို့ကို နောက်တချိန်ကျရင် ပြောပါမယ်။ အခုတော့ `to_json`, `to_xml`, `to_excel`, `to_parquet` နဲ့ `read_json`, `read_xml`, `read_excel`, `read_parquet`  တို့ကို စမ်းကြည့်ပါဦး။"
   ]
  },
  {
   "cell_type": "code",
   "execution_count": null,
   "metadata": {},
   "outputs": [],
   "source": [
    "# to test"
   ]
  },
  {
   "cell_type": "markdown",
   "metadata": {},
   "source": [
    "## Frequently Used properties and functions\n",
    "\n",
    "`DataFrame` ရဲ့ `dtypes` ဟာ `Series` တခုပဲ ဖြစ်ပြီး data type တွေကို သိမ်းထားတယ်။"
   ]
  },
  {
   "cell_type": "code",
   "execution_count": null,
   "metadata": {},
   "outputs": [],
   "source": [
    "df_titanic.dtypes"
   ]
  },
  {
   "cell_type": "code",
   "execution_count": null,
   "metadata": {},
   "outputs": [],
   "source": [
    "import numpy as np\n",
    "df_titanic.select_dtypes(include=np.number, exclude=np.object0)"
   ]
  },
  {
   "cell_type": "markdown",
   "metadata": {},
   "source": [
    "row `index` တွေနဲ့ column name `columns` တွေကိုလဲ access လုပ်နိုင်တယ်။"
   ]
  },
  {
   "cell_type": "code",
   "execution_count": null,
   "metadata": {},
   "outputs": [],
   "source": [
    "df_titanic.index"
   ]
  },
  {
   "cell_type": "code",
   "execution_count": null,
   "metadata": {},
   "outputs": [],
   "source": [
    "df_titanic.columns"
   ]
  },
  {
   "cell_type": "markdown",
   "metadata": {},
   "source": [
    "`numpy` မှာလိုပဲ transpose လုပ်တာကို `T` ဆိုတဲ့ property ကနေ လုပ်ရတယ်။"
   ]
  },
  {
   "cell_type": "code",
   "execution_count": null,
   "metadata": {},
   "outputs": [],
   "source": [
    "df_titanic.T"
   ]
  },
  {
   "cell_type": "markdown",
   "metadata": {},
   "source": [
    "### `head` နဲ့ `tail`\n",
    "\n",
    "အပေါ်ဆုံး row တွေနဲ့ အောက်ဆုံးက row တွေကို ကြည့်ဖို့ `head` နဲ့ `tail` function တွေကို သုံးနိုင်တယ်။"
   ]
  },
  {
   "cell_type": "code",
   "execution_count": null,
   "metadata": {},
   "outputs": [],
   "source": [
    "df_titanic.head()"
   ]
  },
  {
   "cell_type": "code",
   "execution_count": null,
   "metadata": {},
   "outputs": [],
   "source": [
    "df_titanic.tail(n=10)"
   ]
  },
  {
   "cell_type": "markdown",
   "metadata": {},
   "source": [
    "စီချင်တာတွေ စီဖို့ `sort_values` function ကို သုံးရတယ်။\n",
    "\n",
    "`ascending` argument ရဲ့ default value က `True` ဖြစ်တယ်။\n",
    "\n",
    "`inplace` argument ရဲ့ default value က `False` ဖြစ်ပြီး စီထားတဲ့ `DataFrame` **အသစ်** ကို return တယ်။ `inplace` ကို `True` လို့ပေးရင် `DataFrame` ကိုပဲ sort လုပ်သွားပြီး `None` return ပြန်ပေးတယ်။ "
   ]
  },
  {
   "cell_type": "code",
   "execution_count": null,
   "metadata": {},
   "outputs": [],
   "source": [
    "df_titanic.sort_values(by=\"Pclass\")"
   ]
  },
  {
   "cell_type": "code",
   "execution_count": null,
   "metadata": {},
   "outputs": [],
   "source": [
    "df_titanic.sort_values(by=\"Pclass\", ascending=False)"
   ]
  },
  {
   "cell_type": "markdown",
   "metadata": {},
   "source": [
    "`to_numpy` ဆိုတဲ့ function က `numpy` array ကို ပြောင်းပေးတာ။ အလားတူပဲ `values` ဆိုတဲ့ property က underlying `numpy` array ကို ထုတ်ပေးတယ်။"
   ]
  },
  {
   "cell_type": "code",
   "execution_count": null,
   "metadata": {},
   "outputs": [],
   "source": [
    "df_titanic.to_numpy()"
   ]
  },
  {
   "cell_type": "code",
   "execution_count": null,
   "metadata": {},
   "outputs": [],
   "source": [
    "df_titanic.values"
   ]
  },
  {
   "cell_type": "markdown",
   "metadata": {},
   "source": [
    "## Basic Access\n",
    "\n",
    "### Column Access\n",
    "\n",
    "Column တခုကို access လုပ်ဖို့ `.` နောက်မှာ column name သော်လည်းကောင်း၊ ဒါမှမဟုတ် square bracket အတွင်းမှာ `str` column name သော်လည်းကောင်း ထည့်ရေးရတယ်။\n",
    "\n",
    "```python\n",
    "survived_series = df_titanic.Survived\n",
    "survived_series = df_titanic[\"Survived]\n",
    "```"
   ]
  },
  {
   "cell_type": "code",
   "execution_count": null,
   "metadata": {},
   "outputs": [],
   "source": [
    "# to test"
   ]
  },
  {
   "cell_type": "markdown",
   "metadata": {},
   "source": [
    "`DataFrame` မှာ column အသစ်ထပ်တိုးလို့လဲ ရတယ်။ list-like object တခု ဒါမှမဟုတ် scalar value တခုကို assign လုပ်ပေးရုံပဲ။"
   ]
  },
  {
   "cell_type": "code",
   "execution_count": null,
   "metadata": {},
   "outputs": [],
   "source": [
    "df_titanic[\"new_scalar_column\"] = 0 # this will get extended as per numpy's broadcasting rules\n",
    "df_titanic[\"new_vector_column\"] = np.random.random(size=len(df_titanic))\n",
    "df_titanic"
   ]
  },
  {
   "cell_type": "markdown",
   "metadata": {},
   "source": [
    "column တွေအများကြီးပါတဲ့ sub `DataFrame` တခုကို ထုတ်ချင်ရင် column name တွေပါတဲ့ `list` တခုနဲ့ ထုတ်နိုင်တယ်။\n",
    "\n",
    "ဥပမာ \n",
    "\n",
    "```python\n",
    "df_sub = df_titanic[[\"PassengerId\", \"Name\"]]\n",
    "```"
   ]
  },
  {
   "cell_type": "code",
   "execution_count": null,
   "metadata": {},
   "outputs": [],
   "source": [
    "df_sub = df_titanic[[\"PassengerId\", \"Name\"]]\n",
    "df_sub"
   ]
  },
  {
   "cell_type": "code",
   "execution_count": null,
   "metadata": {},
   "outputs": [],
   "source": [
    "# write a function, when given a name \"Last Name, Honorific. First Name\", return Last Name, Honorific and First Name\n",
    "def divide_name(name):\n",
    "    # write code here to divide name to last_name, honorific and first_name\n",
    "    return last_name, honorific, first_name"
   ]
  },
  {
   "cell_type": "markdown",
   "metadata": {},
   "source": [
    "### အထူး function `apply`\n",
    "\n",
    "အရင်တွေ့ခဲ့ဖူးတဲ့ `map` function လိုပဲ `apply` function ရှိတယ်။ သူ့အလုပ်လုပ်ပုံက default `axis=0` မှာ column by column, `axis=1` ဆိုရင် row by row အလုပ်လုပ်တယ်။"
   ]
  },
  {
   "cell_type": "code",
   "execution_count": null,
   "metadata": {},
   "outputs": [],
   "source": [
    "df_titanic[[\"last_name\", \"honorific\", \"first_name\"]] = df_titanic.apply(lambda x : divide_name(x.Name), axis=1, result_type=\"expand\")\n",
    "df_titanic"
   ]
  },
  {
   "cell_type": "code",
   "execution_count": null,
   "metadata": {},
   "outputs": [],
   "source": [
    "# write code to add a column \"embarked_full\" based on value of \"embarked\" column\n",
    "# C = Cherbourg, Q = Queenstown, S = Southampton"
   ]
  },
  {
   "cell_type": "code",
   "execution_count": null,
   "metadata": {},
   "outputs": [],
   "source": [
    "def by_embarked_sex_and_age(x_1, x_2):\n",
    "    t_1 = (x_1.Embarked, 0 if x_1.Sex == \"female\" else 1, x_1.Age)\n",
    "    t_2 = (x_2.Embarked, 0 if x_2.Sex == \"female\" else 1, x_2.Age)\n",
    "    if t_1 < t_2:\n",
    "        return -1\n",
    "    elif t_1 == t_2:\n",
    "        return 0\n",
    "    else:\n",
    "        return +1\n",
    "\n",
    "# အပေါ်က function ကပေးတဲ့ value ပေါ်မူတည်ပြီး sort ပေးပါ။"
   ]
  },
  {
   "cell_type": "markdown",
   "metadata": {},
   "source": [
    "### Row Access\n",
    "\n",
    "Row တွေကို square bracket နဲ့ `numpy` ပုံစံ access လို့ရတယ်။"
   ]
  },
  {
   "cell_type": "code",
   "execution_count": null,
   "metadata": {},
   "outputs": [],
   "source": [
    "df_titanic[5:10]"
   ]
  },
  {
   "cell_type": "markdown",
   "metadata": {},
   "source": [
    "### `loc` and `iloc`\n",
    "\n",
    "> **Please avoid them as much as possible**\n",
    "\n",
    "`loc` access is by labels (i.e. `index` and `columns`).\n",
    "\n",
    "`iloc` is by pure integer index."
   ]
  },
  {
   "cell_type": "code",
   "execution_count": null,
   "metadata": {},
   "outputs": [],
   "source": [
    "df_titanic.loc[5:10, [\"Name\", \"Survived\"]]"
   ]
  },
  {
   "cell_type": "code",
   "execution_count": null,
   "metadata": {},
   "outputs": [],
   "source": [
    "df_titanic.iloc[0:5, 2:4]"
   ]
  },
  {
   "cell_type": "code",
   "execution_count": null,
   "metadata": {},
   "outputs": [],
   "source": [
    "# write code to obtain a DataFrame with PassengerId, honorific, Embarked, Cabin_First_Letter, Age, Sex and Fare"
   ]
  },
  {
   "cell_type": "code",
   "execution_count": null,
   "metadata": {},
   "outputs": [],
   "source": [
    "# based on the previous DataFrame, write code to obtain a DataFrame with \n",
    "# PassengerId, honorific_Mr, honorific_Ms, honorific_Mrs, honorific_Others with honorific_<x> having boolean values"
   ]
  },
  {
   "cell_type": "code",
   "execution_count": null,
   "metadata": {},
   "outputs": [],
   "source": [
    "# based on the previous DataFrame, write code to obtain a DataFRame with\n",
    "# PassengerId, Fare_25, Fare_50, Fare_75 and Fare_100 (they will have boolean values based on the percentile of fare they paid)"
   ]
  }
 ],
 "metadata": {
  "interpreter": {
   "hash": "2458648b5873a8511ce5d0b68ae5943af1ad0cfd25276a02b44cf6fbc34eca5c"
  },
  "kernelspec": {
   "display_name": "Python 3.7.13 ('py37-dsup')",
   "language": "python",
   "name": "python3"
  },
  "language_info": {
   "codemirror_mode": {
    "name": "ipython",
    "version": 3
   },
   "file_extension": ".py",
   "mimetype": "text/x-python",
   "name": "python",
   "nbconvert_exporter": "python",
   "pygments_lexer": "ipython3",
   "version": "3.7.13"
  },
  "orig_nbformat": 4
 },
 "nbformat": 4,
 "nbformat_minor": 2
}
