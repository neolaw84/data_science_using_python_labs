{
 "cells": [
  {
   "cell_type": "markdown",
   "metadata": {},
   "source": [
    "# Refresher \n",
    "\n",
    "**function are first class objects** \n",
    "\n",
    "Python မှာ `int`/`bool`/`str`/`float` နဲ့ `list`/`tuple`/`dict` တွေလိုပဲ function တွေဟာလဲ first class object တွေ ဖြစ်တယ်။ \n",
    "\n",
    "Variable တခုထဲကို data value တွေ ထည့်လို့ရသလိုပဲ function တခုကို ထည့်လို့ရတယ်။ "
   ]
  },
  {
   "cell_type": "code",
   "execution_count": null,
   "metadata": {},
   "outputs": [],
   "source": [
    "# ဒီဟာကို စမ်းကြည့်ပါ။\n",
    "\n",
    "def my_constant_function():\n",
    "    return 42\n",
    "\n",
    "# notice there is NO bracket because it is not function invokation\n",
    "fn_fourty_two=my_constant_function \n",
    "print (fn_fourty_two()) # this is invokation of function in variable fn_fourty_two"
   ]
  },
  {
   "cell_type": "markdown",
   "metadata": {},
   "source": [
    "အလားတူပဲ function တခုကို parameter အနေနဲ့ တခြား function တခုထဲကို pass လို့ရတယ်။"
   ]
  },
  {
   "cell_type": "code",
   "execution_count": null,
   "metadata": {},
   "outputs": [],
   "source": [
    "# စမ်းကြည့်ရန်\n",
    "\n",
    "def fn_sub(x1, x2):\n",
    "    return x1 - x2\n",
    "\n",
    "def fn_div(x1, x2):\n",
    "    if x2 == 0:\n",
    "        raise ValueError(\"x2 is zero. Division by zero is not supported\")\n",
    "    return x1/x2\n",
    "\n",
    "def print_result(fn, x1, x2):\n",
    "    print (fn(x1, x2))\n",
    "    \n",
    "print_result(fn_sub, 5, 2)\n",
    "print_result(fn_div, 10, 5)\n",
    "print_result(fn_div, 10, 0)"
   ]
  },
  {
   "cell_type": "markdown",
   "metadata": {},
   "source": [
    "Function တခုဟာ အမည်မရှိတဲ့ anonymous function ဖြစ်နိုင်တယ်။ `lambda` keyword နဲ့ ရေးရလို့ **lambda function** လို့ ခေါ်တဲ့သူတွေလဲ ရှိတယ်။ \n",
    "\n",
    "> သင်္ချာက lambda သင်္ကေတ $\\lambda$ ဟာ half-life အတွက် အသုံးများတယ်။\n",
    "\n",
    "> Data Science (Machine Learning) မှာလဲ $\\lambda$ သင်္ကေတကို model ရဲ့ performance နဲ့ model ရဲ့ complexity ကြား ညှိပေးရတဲ့ ratio (parameter) အတွက် သုံးလေ့ရှိတယ်။\n",
    "\n",
    "> **AWS** ရဲ့ product **lambda** ဆိုတာလဲ ရှိတယ်။\n",
    "\n",
    "> အဲဒါတွေနဲ့ ရှုပ်ထွေးနိုင်တဲ့အတွက် သင်တန်းမှာ **anonymous function** လို့ပဲ သုံးနှုန်းမယ်။"
   ]
  },
  {
   "cell_type": "code",
   "execution_count": null,
   "metadata": {},
   "outputs": [],
   "source": [
    "# စမ်းကြည့်ရန် \n",
    "\n",
    "fn_another_constant = lambda : 42\n",
    "print (fn_another_constant())\n",
    "\n",
    "fn_x = lambda x : x\n",
    "print (fn_x(5))\n",
    "\n",
    "fn_relu = lambda x : x if x >= 0 else 0\n",
    "print (fn_relu(-0.5))\n",
    "print (fn_relu(0.75))\n",
    "\n",
    "fn_add = lambda x1, x2 : x1+x2\n",
    "print (fn_add(1, 1))"
   ]
  },
  {
   "cell_type": "markdown",
   "metadata": {},
   "source": [
    "ဒီနေရာမှာ `map` ဆိုတဲ့ special function အကြောင်း ပြောပြချင်တယ်။\n",
    "\n",
    "သူ့ရဲ့ ပထမ parameter ကို function တခု ပေးရတယ်။ ဒုတိယ parameter ကို collection တခု (list/tuple စသည်) ပေးရတယ်။ \n",
    "\n",
    "အဲဒါဆိုရင် သူက function ကို collection ထဲက element တွေအားလုံးကို apply လုပ်ပြီး generator တခု return ပြန်ပေးတယ်။"
   ]
  },
  {
   "cell_type": "code",
   "execution_count": null,
   "metadata": {},
   "outputs": [],
   "source": [
    "def add_5(x):\n",
    "    return x + 5\n",
    "\n",
    "double_it = lambda x : x*2\n",
    "\n",
    "my_list = [1, 2, 3, 4, 5]\n",
    "\n",
    "print (list( map(double_it, my_list) ))\n",
    "\n",
    "add_5_gen = map(add_5, my_list)\n",
    "for i in add_5_gen:\n",
    "    print (i)\n",
    "print (\"here, the generator is spent\")\n",
    "print (\"the following for loop won't print anything\")\n",
    "for i in add_5_gen:\n",
    "    print (i) # this will print blanks"
   ]
  },
  {
   "cell_type": "markdown",
   "metadata": {},
   "source": [
    "**a little bit of `numpy`**\n",
    "\n",
    "Python ရဲ့ `list` ကို အသုံးပြုပြီး multi-dimensional array တွေ တည်ဆောက်ရတာ လက်ဝင်တယ်။"
   ]
  },
  {
   "cell_type": "code",
   "execution_count": null,
   "metadata": {},
   "outputs": [],
   "source": [
    "import numpy as np\n",
    "A = np.array([\n",
    "    [0, 1, 2, 3, 4],\n",
    "    [0, 1, 2, 3, 4],\n",
    "    [0, 1, 2, 3, 4],\n",
    "    [0, 1, 2, 3, 4],\n",
    "    [0, 1, 2, 3, 4]\n",
    "] )\n",
    "B = np.array([\n",
    "    [8, 1, 9, 2, 8],\n",
    "    [8, 1, 9, 2, 8],\n",
    "    [8, 1, 9, 2, 8],\n",
    "    [8, 1, 9, 2, 8],\n",
    "    [8, 1, 9, 2, 8]\n",
    "])\n",
    "C = A + B\n",
    "print (C)"
   ]
  },
  {
   "cell_type": "markdown",
   "metadata": {},
   "source": [
    "`numpy` နဲ့ဆိုရင် ရေးရတာ ပိုလွယ်တယ်၊ nested loop တွေ သုံးစရာ မလိုဘူး။ \n",
    "\n",
    "အဆင်သင့်လုပ်ပေးထားတဲ့ `ndim`, `shape`, `size` function တွေလဲ ရှိတယ်။ \n",
    "\n",
    "ပြီးတော့ ... Slicing/Dicing လုပ်ရတာလဲ ပိုပြီး သက်တောင့်သက်သာ ရှိတယ်။ အရင်က သိခဲ့ပြီးသား `range` လိုမျိုး ရေးလို့ရတယ်။"
   ]
  },
  {
   "cell_type": "code",
   "execution_count": null,
   "metadata": {},
   "outputs": [],
   "source": [
    "Arr = np.array([\n",
    "    [0, 1, 2, 3, 4],\n",
    "    [10, 11, 12, 13, 14],\n",
    "    [20, 21, 22, 23, 24],\n",
    "    [30, 31, 32, 33, 34],\n",
    "    [40, 41, 42, 43, 44]\n",
    "])\n",
    "\n",
    "Arr[1:4:2, 2:4] = [\n",
    "    [112, 113],\n",
    "    [132, 133]\n",
    "]\n",
    "print (Arr) "
   ]
  },
  {
   "cell_type": "markdown",
   "metadata": {},
   "source": [
    "အရေးအကြီးဆုံးက `numpy` က **vectorization** technique ကို အသုံးပြုတဲ့အတွက် `list` ထက်ပိုပြီး efficient ဖြစ်တယ်။"
   ]
  },
  {
   "cell_type": "code",
   "execution_count": null,
   "metadata": {},
   "outputs": [],
   "source": [
    "import random\n",
    "\n",
    "random.seed(42)\n",
    "n = 100\n",
    "my_list = [random.randint(0, n - 1) for i in range(0, 1000)]\n",
    "my_np_array = np.array(my_list)\n",
    "\n",
    "def sum_of_square(list):\n",
    "    return sum([x**2 for x in list])\n",
    "\n",
    "def sum_of_square_np(arr):\n",
    "    return np.sum(np.square(arr))"
   ]
  },
  {
   "cell_type": "code",
   "execution_count": null,
   "metadata": {},
   "outputs": [],
   "source": [
    "%%timeit -n1\n",
    "sum_of_square(my_list)"
   ]
  },
  {
   "cell_type": "code",
   "execution_count": null,
   "metadata": {},
   "outputs": [],
   "source": [
    "%%timeit -n1\n",
    "sum_of_square_np(my_np_array)"
   ]
  },
  {
   "cell_type": "markdown",
   "metadata": {},
   "source": [
    "# Introduction to `scipy`\n",
    "\n",
    "မင်္ဂလာပါ၊ Data Science Using Python - Week 6 Day 2 က ကြိုဆိုပါတယ်။\n",
    "\n",
    "![](https://i.ibb.co/Mfm14sZ/python-sci-com-landscape-drawio.png)\n",
    "\n",
    "အခု မြင်ရတဲ့အတိုင်း python scientific computing landscape မှာ python ကို matlab (octave) တို့ R တို့ SPSS တို့ နဲ့ တန်းညှိနိုင်အောင် တွန်းပို့ပေးခဲ့တာ `numpy` နဲ့ `scipy` တို့ပဲ ဖြစ်ပါတယ်။ data handling မှာ အသုံးများတဲ့ (နောက် အပါတ်တွေမှာ ပြောမဲ့) `pandas` ဟာ `numpy` ကို အခြေခံထားတာ ဖြစ်ပြီး machine learning မှာ တွင်ကျယ်တဲ့ `sklearn` ဟာ `scipy` ပေါ်မှာ အခြေခံထားတာ ဖြစ်ပါတယ်။ \n",
    "\n",
    "> technically ပြောရရင်တော့ `scipy` ကိုယ်တိုင်က `numpy` ပေါ်မှာ အခြေခံပြီး တည်ဆောက်ထားတာပါ။\n",
    "\n",
    "ဒီ ပုစ္ဆာလေးကို စဉ်းစားကြည့်ပါ။\n",
    "\n",
    "Silvex Products produces gasoline tanks of types $J$ and $K$. Two time constraints result from the use of two machines $M_1$ and $M_2$. On $M_1$ one needs 2 min for a $J$ tank and 8 min for a $K$ tank. On $M_2$ one needs 5 min for a $J$ tank and 2 min for a $K$ tank. A $J$ tank sells for $40 and a $K$ tank for $88 (because of higher material cost). Determine production figures $x_1$ for $J$ and $x_2$ for $K$ that maximize the hourly revenue.\n",
    "\n",
    "[Erwin Kreysig's Advanced Engineering Mathematics](https://drive.google.com/file/d/1uWWK8pnwMLmWja5BTyOlctw5__5Bs_um/view?usp=sharing)\n",
    "\n",
    "Note: machines can be only used 60 minutes in an hour (assuming zero overhead)."
   ]
  },
  {
   "cell_type": "code",
   "execution_count": null,
   "metadata": {},
   "outputs": [],
   "source": [
    "import numpy as np\n",
    "import matplotlib.pyplot as plt"
   ]
  },
  {
   "cell_type": "code",
   "execution_count": null,
   "metadata": {},
   "outputs": [],
   "source": [
    "from scipy.optimize import linprog\n",
    "\n",
    "c = np.array([-40.0, -88.0], dtype=np.float16)\n",
    "A_ub = np.array([\n",
    "    [2, 8],\n",
    "    [5, 2]\n",
    "], dtype=np.float16)\n",
    "b_ub=np.array([60, 60], dtype=np.float16)\n",
    "bounds=(0.0, None)\n",
    "\n",
    "X = linprog(\n",
    "    c=c, \n",
    "    A_ub=A_ub, \n",
    "    b_ub=b_ub, \n",
    "    bounds=bounds\n",
    ")\n",
    "print (X.x)"
   ]
  },
  {
   "cell_type": "markdown",
   "metadata": {},
   "source": [
    "**WAIT !!! WHAT ??? MAGIC ???**\n",
    "\n",
    "Here is the behind-the-scene. \n",
    "\n",
    "Let $x_1$ and $x_2$ to be number of $J$ and $K$ to produce. The revenue of selling them (at $40 and $88 respectively) is : \n",
    "\n",
    "$$z=40x_1+88x_2$$\n",
    "\n",
    "We want to **maximize** this $z$. \n",
    "\n",
    "*Since `scipy` can only work with minization,* we say, we want to **MINIMIZE**\n",
    "\n",
    "$$\\hat{z}=(-40)x_1+(-88)x_2$$\n",
    "\n",
    "And, for no reason, we make this into matrix form *(because Neo, Trinity and Morpheus were so cool)*: \n",
    "\n",
    "$$\\hat{z}=\\left(\\begin{array}{cc} \n",
    "-40 & -88\n",
    "\\end{array}\\right)\n",
    "\\left(\\begin{array}{cc}\n",
    "x_1\\\\\n",
    "x_2\n",
    "\\end{array}\\right)$$\n",
    "\n",
    "\n",
    "Since $J$ and $K$ needs 2 minute and 8 minute of machine $M_1$ respectively (and we can only use 60 minutes of $M_1$), \n",
    "\n",
    "$$2x_1+8x_2 \\leq 60$$\n",
    "\n",
    "Similarly, for machine $M_2$, \n",
    "\n",
    "$$5x_1+2x_2 \\leq 60$$\n",
    "\n",
    "Again, for no reason, we make these into matrix form as well: \n",
    "\n",
    "$$\\left(\\begin{array}{cc}\n",
    "2 & 8\\\\\n",
    "5 & 2\n",
    "\\end{array}\\right)\n",
    "\\left(\\begin{array}{cc}\n",
    "x_1\\\\\n",
    "x_2\n",
    "\\end{array}\\right)\n",
    "\\leq\n",
    "\\left(\\begin{array}{cc}\n",
    "60\\\\\n",
    "60\n",
    "\\end{array}\\right)\n",
    "$$\n",
    "\n",
    "`scipy.optimize` has a method called `linprog` that solves any problem with following shape:\n",
    "\n",
    "**Objective: to *minimize* $\\hat{z}=c^Tx$** under the following constraint(s):\n",
    "\n",
    "$$A_{ub}x \\leq b_{ub}$$\n",
    "$$A_{eq}x \\leq b_{eq}$$\n",
    "$$l \\leq x \\leq u$$\n",
    "\n",
    "That's how the following code works:\n",
    "\n",
    "```python\n",
    "c = np.array([-40.0, -88.0], dtype=np.float16)\n",
    "A_ub = np.array([\n",
    "    [2, 8],\n",
    "    [5, 2]\n",
    "], dtype=np.float16)\n",
    "b_ub=np.array([60, 60], dtype=np.float16)\n",
    "bounds=(0.0, None)\n",
    "\n",
    "X = linprog(\n",
    "    c=c, \n",
    "    A_ub=A_ub, \n",
    "    b_ub=b_ub, \n",
    "    bounds=bounds\n",
    ")\n",
    "```"
   ]
  },
  {
   "cell_type": "code",
   "execution_count": null,
   "metadata": {},
   "outputs": [],
   "source": [
    "c = np.array([-40.0, -88.0], dtype=np.float16)\n",
    "A_ub = np.array([\n",
    "    [2, 8],\n",
    "    [5, 2]\n",
    "], dtype=np.float16)\n",
    "b_ub=np.array([60, 60], dtype=np.float16)\n",
    "bounds=(0.0, None)\n",
    "\n",
    "def fn_callback_to_print(X):\n",
    "    print (\"current x : {} and current z : {}\".format(X.x, np.sum(X.x*[40, 88])))\n",
    "\n",
    "X = linprog(\n",
    "    c=c, \n",
    "    A_ub=A_ub, \n",
    "    b_ub=b_ub, \n",
    "    bounds=bounds,\n",
    "    callback=fn_callback_to_print\n",
    ")"
   ]
  },
  {
   "cell_type": "markdown",
   "metadata": {},
   "source": [
    "### Assignment 1\n",
    "\n",
    "Food A and B have 700 and 500 calories, contain 10 g and 35 g of protein, and cost $1.50 and $2.00 per unit, respectively. Find the minimum cost diet of at least 3100 calories containing at least 100 g of protein. "
   ]
  },
  {
   "cell_type": "code",
   "execution_count": null,
   "metadata": {},
   "outputs": [],
   "source": [
    "# write code here"
   ]
  },
  {
   "cell_type": "markdown",
   "metadata": {},
   "source": [
    "ဒီလိုပုစ္ဆာမျိုးတွေကို လက်နဲ့ တက္ကသိုလ်ဝင်တန်းမှာ simplex or graphical နည်းလမ်းတွေသုံးပြီး တွက်ခဲ့ကြဖူးပါတယ်။ ဒါပေမဲ့ variable 2 လုံးကနေ 3 လုံး၊ 10 လုံး၊ အလုံး 100 ဖြစ်လာရင် ဒီလိုတွက်ဖို့ မဖြစ်နိုင်တော့ပါဘူး။ ဒီလိုကိစ္စမျိုးတွေအတွက် `scipy` library တွေကို သုံးပြီး တွက်နိုင်ပါတယ်။\n",
    "\n",
    "### Assignment 2\n",
    "\n",
    "Hardbrick Company has two kilns. Kiln I can produce 3000 grey bricks, 2000 red bricks, and 300 glazed bricks daily. For kiln II the corresponding figures are 2000, 5000 and 1500. Daily operating costs of kilns I and II are $400 and $600, respectively. Find the number of days of operation of each kiln so that operation cost in filling an order of 9000 grey, 17000 red and 4500 glazed bricks is minimized."
   ]
  },
  {
   "cell_type": "code",
   "execution_count": null,
   "metadata": {},
   "outputs": [],
   "source": [
    "# write code here"
   ]
  },
  {
   "cell_type": "markdown",
   "metadata": {},
   "source": [
    "\n",
    "### Assignment 3\n",
    "\n",
    "Say that a factory produces four different products, and that the daily produced amount of the first product is $x_1$, the amount produced of the second product is $x_2$, and so on. The goal is to determine the profit-maximizing daily production amount for each product, bearing in mind the following conditions:\n",
    "\n",
    "The profit per unit of product is $20, $12, $40, and $25 for the first, second, third, and fourth product, respectively.\n",
    "\n",
    "Due to manpower constraints, the total number of units produced per day can’t exceed fifty.\n",
    "\n",
    "For each unit of the first product, three units of the raw material A are consumed. Each unit of the second product requires two units of the raw material A and one unit of the raw material B. Each unit of the third product needs one unit of A and two units of B. Finally, each unit of the fourth product requires three units of B.\n",
    "\n",
    "Due to the transportation and storage constraints, the factory can consume up to one hundred units of the raw material A and ninety units of B per day.\n",
    "\n",
    "Determine the number of each product to be produced to **miximize** profit.\n",
    "\n",
    "[Article on realpython.com](https://realpython.com/linear-programming-python/)"
   ]
  },
  {
   "cell_type": "code",
   "execution_count": null,
   "metadata": {},
   "outputs": [],
   "source": [
    "# write code here\n"
   ]
  },
  {
   "cell_type": "markdown",
   "metadata": {},
   "source": [
    "## Convolution\n",
    "\n",
    "Convolution အကြောင်းကို Scipy အကြောင်း လေ့လာရင်း အသေးစိတ် ပြောပါမယ်။ Convolution ဟာ Deep Learning အတွက် အရေးပါတဲ့ Function တမျိုး ဖြစ်တယ်။ \n",
    "\n",
    "အခုတော့ photoshop က gaussian blur လေးကို လက်တွေ့ စမ်းကြည့်ကြစို့။"
   ]
  },
  {
   "cell_type": "code",
   "execution_count": null,
   "metadata": {},
   "outputs": [],
   "source": [
    "import requests\n",
    "\n",
    "import cv2\n",
    "import numpy as np\n",
    "from matplotlib import pyplot as plt\n",
    "\n",
    "from IPython.display import Image\n",
    "\n",
    "def download_and_decode_cv2(url):\n",
    "    rr = requests.get(url)\n",
    "    _nparr = np.frombuffer(rr.content, np.uint8)\n",
    "    _img = cv2.imdecode(_nparr, cv2.IMREAD_ANYCOLOR)\n",
    "    _img = cv2.cvtColor(_img, cv2.COLOR_BGR2RGB)\n",
    "    _img = cv2.cvtColor(_img, cv2.COLOR_RGB2GRAY)\n",
    "    return _img\n",
    "\n",
    "def show_cv2_image(img): \n",
    "    plt.imshow(cv2.cvtColor(img, cv2.COLOR_GRAY2RGB))\n",
    "    plt.show()\n",
    "    \n",
    "def normalize(img):\n",
    "    img = img * (255.0/img.max())\n",
    "    img = img.astype(np.uint8)\n",
    "    return img\n",
    "\n",
    "img = download_and_decode_cv2(\"https://i.ibb.co/5WNdy1R/1200px-Tom-Holland-by-Gage-Skidmore.jpg\")\n",
    "\n",
    "x = 390\n",
    "y = 400\n",
    "img = img[y:y+512, x:x+512]\n",
    "\n",
    "show_cv2_image(img)"
   ]
  },
  {
   "cell_type": "code",
   "execution_count": null,
   "metadata": {},
   "outputs": [],
   "source": [
    "x, y = np.meshgrid(np.linspace(-1,1,20), np.linspace(-1,1,20))\n",
    "dst = np.sqrt(x*x+y*y)\n",
    " \n",
    "# Initializing sigma and muu\n",
    "sigma = 0.5\n",
    "muu = 0\n",
    " \n",
    "# Calculating Gaussian array\n",
    "gauss = np.exp(-( (dst-muu)**2 / ( 2.0 * sigma**2 ) ) )\n",
    "\n",
    "show_cv2_image(normalize(gauss))"
   ]
  },
  {
   "cell_type": "code",
   "execution_count": null,
   "metadata": {},
   "outputs": [],
   "source": [
    "from scipy.signal import convolve2d\n",
    "\n",
    "img_convol = convolve2d(img, gauss)\n",
    "\n",
    "show_cv2_image(normalize(img_convol))"
   ]
  }
 ],
 "metadata": {
  "interpreter": {
   "hash": "3a9c1e998c7d6d5f29587b2c70e9bd488bb486b902354401efc27ca8457f04e9"
  },
  "kernelspec": {
   "display_name": "Python 3.7.11 ('py37-dsup')",
   "language": "python",
   "name": "python3"
  },
  "language_info": {
   "codemirror_mode": {
    "name": "ipython",
    "version": 3
   },
   "file_extension": ".py",
   "mimetype": "text/x-python",
   "name": "python",
   "nbconvert_exporter": "python",
   "pygments_lexer": "ipython3",
   "version": "3.7.11"
  },
  "orig_nbformat": 4
 },
 "nbformat": 4,
 "nbformat_minor": 2
}
