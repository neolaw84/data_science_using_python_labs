{
 "cells": [
  {
   "cell_type": "markdown",
   "metadata": {},
   "source": [
    "# Maths Revision\n",
    "\n",
    "မင်္ဂလာပါ၊ Welcome back to Data Science using Python - Week 5. \n",
    "\n",
    "In this week, we will discuss:\n",
    "\n",
    "* mathematics revision\n",
    "* ipython magics\n",
    "* what Data Science is and who a Data Science is"
   ]
  },
  {
   "cell_type": "markdown",
   "metadata": {},
   "source": [
    "## Linear Algebra\n",
    "\n",
    "1. ပန်းသီး 10 လုံးကို $15.00 ပေးရသော် ပန်းသီးတလုံး မည်မျှပေးရသနည်း။ \n",
    "\n",
    "2. ပန်းသီး 5 လုံးနှင့် ငှက်ပျောသီး 10 လုံးဝယ်ရာ $17.50 ကျသည်။ ပန်းသီး 2 လုံးနှင့် ငှက်ပျောသီး 3 လုံး တန်ဖိုးတူသည်ဟုဆိုသော် ပန်းသီးတလုံးနှင့် ငှက်ပျောသီးတလုံး၏ တန်ဖိုးများကို ရှာပါ။\n",
    "\n",
    "3. ပန်းသီးကို 20% discount ပေးနေသည့်ဆိုင်မှ ပန်းသီးအလုံး 20၊ ငှက်ပျောသီး အလုံး 30 နှင့် မုန်လာဥ 2 တောင့်ဝယ်ရာ $59 ကျသင့်သည်။ ငှက်ပျောသီး 10 လုံးနှင့် မုန်လာဥများကို 20% အမြတ်နှင့် ရောင်းရာ $18 ရသည်။ ပန်းသီး 3 လုံးနှင့် မုန်လာဥ 1 တောင့်ကို နောက်နေ့တွင် ထပ်ဝယ်ရာ $10 တန်မအမ်းနိုင်သဖြင့် ငှက်ပျောသီး 3 လုံး ယူလာရသော် မုန်လာဥ တလုံး ဘယ်စျေးလဲ။ \n",
    "\n",
    "ချတွက်ကြည့်ပါ။"
   ]
  },
  {
   "cell_type": "code",
   "execution_count": null,
   "metadata": {},
   "outputs": [],
   "source": [
    "# numpy နှင့် scipy အကြောင်းကို နောင်အပါတ်များတွင် အသေးစိတ် ပြောပါမည်။\n",
    "import numpy as np\n",
    "import scipy as sp\n",
    "\n",
    "A = np.array([\n",
    "    [5, 10],\n",
    "    [2, -3],\n",
    "])\n",
    "c = np.array([\n",
    "    17.50, \n",
    "    0\n",
    "])\n",
    "print (np.matmul(sp.linalg.inv(A), c))"
   ]
  },
  {
   "cell_type": "markdown",
   "metadata": {},
   "source": [
    "\n",
    "အထက်ပါ ပုစ္ဆာများကို အဖြေရအောင် တွက်ဖို့ လွယ်ပါသည်။ ခက်သည့် ပုစ္ဆာများကို မသွားမီ ရေးထုံး (notation) များကို ခဏ ကြည့်ရအောင်။ \n",
    "\n",
    "1. ပန်းသီးတလုံး တန်ဖိုးကို $x_a$ ဟုထားပါ။ ပန်းသီး ၁၀ လုံးကို $15 ပေးရသည်ကို အောက်ပါအတိုင်း ရေးပါမည်။\n",
    "\n",
    "$$10x_a=15$$\n",
    "\n",
    "2. ပန်းသီးတလုံး တန်ဖိုးကို $x_a$, ငှက်ပျောသီးတလုံး တန်ဖိုးကို $x_b$ ဟုထားပါ။ ထိုအခါ အောက်ပါ တပြိုင်နက် ညီမျှခြင်း (simultenous linear equation) 2 ကြောင်းရလာပါမည်။ \n",
    "\n",
    "$$5 x_a + 10 x_b = 17.50$$\n",
    "$$2 x_a = 3 x_b$$\n",
    "\n",
    "ဒုတိယ equation ကို (၂ ဘက်လုံးမှ $3x_b$ နှုတ်ပြီး) အောက်ပါအတိုင်း ပြောင်းရေးနိုင်သည်။ \n",
    "\n",
    "$$2 x_a - 3 x_b = 0$$\n",
    "\n",
    "### Linear Equation\n",
    "\n",
    "$a_1x_1 + a_2x_2 + \\dots + a_kx_k = a_{k+1}$ ပုံစံဖြင့် ရေးနိုင်သော ညီမျှခြင်း (equation) များကို linear equation ဟု ခေါ်သည်။ \n",
    "\n",
    "အထက်ပါ ဥပမာများတွင် $x_a$ ကို $x_1$, $x_b$ ကို $x_2$ ဟု ပြောင်းရေးလျှင် ...\n",
    "\n",
    "$$10x_1 = 15 $$\n",
    "$$ \\Rightarrow a_1 = 10, a_{k+1} = 15$$ \n",
    "\n",
    "$$5 x_1 + 10 x_2 = 17.50$$\n",
    "$$ \\Rightarrow a_1 = 5, a_2 = 10, a_3 = 17.50$$\n",
    "\n",
    "$$2 x_1 + (-3) x_2 = 0$$\n",
    "$$ \\Rightarrow a_1 = 2, a_2 = -3, a_3 = 0$$\n",
    "\n",
    "ဖြစ်သည်။\n",
    "\n",
    "### Linear System\n",
    "\n",
    "တကြောင်းထက်ပိုသော Linear Equation များကို Linear System ဟု ခေါ်သည်။ အထက်ပါ ဥပမာတွင် ... \n",
    "\n",
    "$$5 x_1 + 10 x_2 = 17.50$$\n",
    "$$ \\Rightarrow a_1 = 5, a_2 = 10, a_3 = 17.50$$\n",
    "\n",
    "နှင့်\n",
    "\n",
    "$$2 x_1 + (-3) x_2 = 0$$\n",
    "$$ \\Rightarrow a_1 = 2, a_2 = -3, a_3 = 0$$\n",
    "\n",
    "Linear Equation 2 ခုဖြင့် Linear System တခု ဖြစ်သည်။\n",
    "\n",
    "### Matrix\n",
    "\n",
    "Linear System များကို Matrix Form ဖြင့် ရေးနိုင်သည်။\n",
    "\n",
    "ဥပမာ $$5 x_1 + 10 x_2 = 17.50$$\n",
    "\n",
    "နှင့်\n",
    "\n",
    "$$2 x_1 + (-3) x_2 = 0$$\n",
    "\n",
    "တို့ကို \n",
    "\n",
    "$$\n",
    "\\left(\\begin{array}{cc} \n",
    "5 & 10\\\\\n",
    "2 & -3\n",
    "\\end{array}\\right)\n",
    "\\left(\\begin{array}{cc}\n",
    "x_1\\\\\n",
    "x_2\n",
    "\\end{array}\\right)\n",
    "\\left(\\begin{array}{cc} \n",
    "17.50\\\\ \n",
    "0\n",
    "\\end{array}\\right)\n",
    "$$\n",
    "ဟု ပြောင်းရေးနိုင်သည်။ "
   ]
  },
  {
   "cell_type": "code",
   "execution_count": null,
   "metadata": {},
   "outputs": [],
   "source": [
    "# numpy နှင့် scipy အကြောင်းကို နောင်အပါတ်များတွင် အသေးစိတ် ပြောပါမည်။\n",
    "import numpy as np\n",
    "import scipy as sp\n",
    "\n",
    "A = np.array([\n",
    "    [0.8*20, 30, 2],\n",
    "    [0, 1.2*10, 1.2*2],\n",
    "    [3, 3, 1]\n",
    "])\n",
    "c = np.array([\n",
    "    59, \n",
    "    18,\n",
    "    10\n",
    "])\n",
    "print (np.matmul(sp.linalg.inv(A), c))"
   ]
  },
  {
   "cell_type": "code",
   "execution_count": null,
   "metadata": {},
   "outputs": [],
   "source": [
    "import numpy as np\n",
    "a = np.array([\n",
    "    [16, 30, 2],\n",
    "    [0, 12, 2.4],\n",
    "    [3, 3, 1]\n",
    "])\n",
    "from scipy import linalg\n",
    "np.matmul(linalg.inv(a), np.array([59, 18, 10]))"
   ]
  },
  {
   "cell_type": "markdown",
   "metadata": {},
   "source": []
  },
  {
   "cell_type": "markdown",
   "metadata": {},
   "source": [
    "\n",
    "## Functions\n",
    "\n",
    "Oxford English Dictionary says, \n",
    "\n",
    "> **function (*noun*)**: an activity that is natural to or the purpose of a person or thing.\n",
    "> **function (*noun*)**: (in mathematics) a relation or expression involving one or more variables.\n",
    "> **function (*noun*)**: a thing dependent on another factor or factors.\n",
    "> **function (*verb*)**: work or operate in a proper or particular way.\n",
    "\n",
    "Also, in high school mathematics, it defines: \n",
    "\n",
    "> A **function** from a set $A$ to a set $B$ relates (maps) **each** element of $A$ to **exactly one** element of $B$. "
   ]
  },
  {
   "cell_type": "markdown",
   "metadata": {},
   "source": []
  }
 ],
 "metadata": {
  "interpreter": {
   "hash": "3a9c1e998c7d6d5f29587b2c70e9bd488bb486b902354401efc27ca8457f04e9"
  },
  "kernelspec": {
   "display_name": "Python 3.7.11 ('py37-dsup')",
   "language": "python",
   "name": "python3"
  },
  "language_info": {
   "codemirror_mode": {
    "name": "ipython",
    "version": 3
   },
   "file_extension": ".py",
   "mimetype": "text/x-python",
   "name": "python",
   "nbconvert_exporter": "python",
   "pygments_lexer": "ipython3",
   "version": "3.7.11"
  },
  "orig_nbformat": 4
 },
 "nbformat": 4,
 "nbformat_minor": 2
}
