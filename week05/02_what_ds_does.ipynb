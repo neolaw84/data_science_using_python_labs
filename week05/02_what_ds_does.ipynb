{
 "cells": [
  {
   "cell_type": "markdown",
   "metadata": {},
   "source": [
    "မင်္ဂလာပါ၊ Data Science Using Python - Week 5 (day 2) က ကြိုဆိုပါတယ်။\n",
    "\n",
    "# Data Scientist တယောက်ရဲ့ တာဝန်၊ ဝတ္တရားများ\n",
    "\n",
    "Data Scientist တယောက် ဘာတွေ လုပ်ရသလဲဆိုတာကို မပြောခင် Data Science ဟာ ဘာလဲဆိုတာကို အရင်ကြည့်ရအောင်။\n",
    "\n",
    "![Data Science Venn Diagram](https://i.ibb.co/4NpbV0C/data-science.png)\n",
    "\n",
    "ပုံမှာပြထားသလိုပဲ Data Science ဆိုတာ \n",
    "\n",
    "* Statistics - စာရင်းအင်းပညာ (စာရင်းကိုင်ပညာ - Accounting မဟုတ်)\n",
    "* Computer Science - ကွန်ပျူတာသိပ္ပံနဲ့\n",
    "* Domain Knowledge - လုပ်ငန်းနဲ့ ဆိုင်တဲ့ အသိပညာ ဗဟုသုတ\n",
    "\n",
    "၃ မျိုးနဲ့ ဖွဲ့စည်းထားတယ်။ \n",
    "\n",
    "ဒါ့အပြင် အဲဒီ ၃ မျိုးရဲ့ ပေါင်းကူးပညာရပ်တွေ ဖြစ်တဲ့ ... \n",
    "\n",
    "* Software Engineering\n",
    "* Machine Learning\n",
    "* (Traditional) Science/Research တွေလဲ ပါတယ်။ \n",
    "\n",
    "ဒီတော့ ဒီအတိုင်း ပြောနေရတာ ပျင်းစရာ ကောင်းတဲ့အတွက် လက်တွေ့ lab လုပ်ပြီး ကြည့်ကြစို့။"
   ]
  },
  {
   "cell_type": "markdown",
   "metadata": {},
   "source": [
    "## Research and Data Analytics\n",
    "\n",
    "Non-tech industry ကြီးတွေ (Telco/Finance/Bank/Insurance) မှာ Data Scientist တွေဟာ Data Analytics တပိုင်းအဖြစ် အလုပ်လုပ်ရတယ်။ ဆိုလိုတာက Business Data ကို လေ့လာပြီး Business ရဲ့ မေးခွန်းတွေကို ဖြေရတယ်။ ဒီတော့ အရင်အပါတ်က boston dataset ကို တခေါက် load လုပ်ပြီး လေ့လာကြည့်ကြစို့။"
   ]
  },
  {
   "cell_type": "code",
   "execution_count": null,
   "metadata": {},
   "outputs": [],
   "source": [
    "from utils import load_boston_dataset\n",
    "df = load_boston_dataset()\n",
    "df.head()"
   ]
  },
  {
   "cell_type": "markdown",
   "metadata": {},
   "source": [
    "ဒီ Data ကို Industry လုပ်ငန်းခွင်မှာတော့ Data Warehouse/Data Mart တွေကနေ ယူရတယ် (Data Warehouse/Data Mart ဆိုတာ RDBMS - Relational DataBase Management System တွေပါပဲ)။ ဒီလို ယူဖို့ Data Engineer တွေနဲ့ တွဲအလုပ်လုပ်ရတယ်။ တော်တော် Advanced ဖြစ်တဲ့ Grab/Uber လို Tech တပိုင်း ကုမ္ပဏီတွေမှာတော့ Data Engineer တွေ ဆောက်ပေးထားတဲ့ Feature Store လို System တွေကနေ ယူလို့လဲ ရတတ်တယ်။ \n",
    "\n",
    "ဒီလို Data တွေ ရလာရင် အရင်ဆုံး Business ရဲ့ မေးခွန်းတွေကို အဖြေပေးရတယ်။ ဥပမာ ... \n",
    "\n",
    "* What is the Average Crime Rate ?\n",
    "* What is the 25 percentile of Tax paid ?\n",
    "* What is the 75 percentile of Apartment Price ?\n",
    "* What is the mean/median/mode of Apartment Price ?\n",
    "* What is the mean/median/mode of Apartment Age ?\n",
    "* Is there any correlation between Crime Rate and Tax paid ?\n",
    "* Are old Apartment prices valued lower than new Apartment ?\n",
    "\n",
    "### Pandas DataFrame `describe` function\n",
    "\n",
    "pandas library ရဲ့ `describe` function ဟာ တချက်တည်းနဲ့ မေးခွန်း တော်တော်များများကို ပြေလည်စေတဲ့ function ဖြစ်တယ်။ \n",
    "\n",
    "စမ်းကြည့်ရအောင်"
   ]
  },
  {
   "cell_type": "code",
   "execution_count": null,
   "metadata": {},
   "outputs": [],
   "source": [
    "df.describe()"
   ]
  },
  {
   "cell_type": "markdown",
   "metadata": {},
   "source": [
    "အပေါ်က ဥပမာမှာ ပြထားသလိုပဲ တချက်တည်းနဲ့ uni-variate analysis ရလာဒ်တွေ ဖြစ်တဲ့ ... \n",
    "\n",
    "* minimum (`min`)\n",
    "* maximum (`max`)\n",
    "* 25/50/75 percentiles (50 percentile is also median)\n",
    "* average (`mean`)\n",
    "* standard deviation (`std`) နဲ့\n",
    "* number of values (`count`)\n",
    "\n",
    "တို့ကို တချက်တည်းနဲ့ ရှာတွေ့နိုင်တယ်။\n",
    "\n",
    "* What is the Average Crime Rate ?\n",
    "    > 3.613524\n",
    "\n",
    "* What is the 25 percentile of Tax paid ?\n",
    "    > 279.000000\n",
    "\n",
    "* What is the 75 percentile of Apartment Price ?\n",
    "    > 25.000000 (၂ သောင်းခွဲ ??? how old is this dataset anyway ??)\n",
    "\n",
    "* What is the mean/median/mode of Apartment Price ?\n",
    "    > mean : 22.532806\n",
    "    > median : 21.200000\n",
    "    > mode : unknown\n",
    "\n",
    "* What is the mean/median/mode of Apartment Age ?\n",
    "    > mean : 28.148861\t\n",
    "    > median : 77.500000\n",
    "    > mode : unknown\n",
    "\n",
    "* Is there any correlation between Crime Rate and Tax paid ?\n",
    "    > unknown - need bi-variate analytics (for next weeks)\n",
    "\n",
    "* Are old Apartment prices valued lower than new Apartment ?\n",
    "    > unknown - need bi-variate analytics (for next weeks)"
   ]
  },
  {
   "cell_type": "markdown",
   "metadata": {},
   "source": [
    "### Finding Mode\n",
    "\n",
    "ဒီအတိုင်း စမ်းကြည့်တော့ ... \n",
    "\n",
    "```python\n",
    "from collections import Counter\n",
    "data = Counter(df.MEDV)\n",
    "print (data.most_common(1))  # Returns the highest occurring item\n",
    "\n",
    "# this will print a list of tuple [(50.0, 16)] \n",
    "# the amount 50.0 appears the most, 16 times.\n",
    "```"
   ]
  },
  {
   "cell_type": "code",
   "execution_count": null,
   "metadata": {},
   "outputs": [],
   "source": [
    "from collections import Counter\n",
    "data = Counter(df.MEDV)\n",
    "print (data.most_common(1))  # Returns the highest occurring item"
   ]
  },
  {
   "cell_type": "markdown",
   "metadata": {},
   "source": [
    "များသောအားဖြင့် **ordinal** data ကိုပဲ သုံးကြတာဖြစ်တယ်။ \n",
    "\n",
    "> စကားမစပ် statistics မှာ data type 3 မျိုးရှိတယ်၊ numerical/ordinal/norminal data လို့ ခေါ်တယ်။  numerical ကို continuous/discrete ဆိုပြီး ၂ မျိုး ခွဲနိုင်တယ်။ နောက်ပိုင်းမှာ ခဏခဏ တွေ့ရပါလိမ့်မယ်။\n",
    "\n",
    "ဒီတော့ Apartment Price ကို ပိုပြီး အဓိပ္ပါယ်ရှိအောင် Binning လုပ်ကြစို့။"
   ]
  },
  {
   "cell_type": "code",
   "execution_count": null,
   "metadata": {},
   "outputs": [],
   "source": [
    "from matplotlib import pyplot\n",
    "# matplotlib ကို နောင်အပါတ်များတွင် အကျယ် ဆွေးနွေးပါမည်။\n",
    "\n",
    "binned_MEDV_freq, binned_MEDV_range, _ = pyplot.hist(df.MEDV, 20)"
   ]
  },
  {
   "cell_type": "code",
   "execution_count": null,
   "metadata": {},
   "outputs": [],
   "source": [
    "print (\"frequencies : \")\n",
    "print (binned_MEDV_freq)\n",
    "print (\"bin values : \")\n",
    "print (binned_MEDV_range)"
   ]
  },
  {
   "cell_type": "code",
   "execution_count": null,
   "metadata": {},
   "outputs": [],
   "source": [
    "max_index = max(\n",
    "    range(0, len(binned_MEDV_freq)), \n",
    "    key=lambda x : binned_MEDV_freq[x]\n",
    ")\n",
    "print (max_index)\n",
    "print (\"max freq : {}\".format(binned_MEDV_freq[max_index]))\n",
    "print (\"max bin range : {} - {}\".format(binned_MEDV_range[max_index], binned_MEDV_range[max_index + 1]))"
   ]
  },
  {
   "cell_type": "code",
   "execution_count": null,
   "metadata": {},
   "outputs": [],
   "source": [
    "# so find mode of apartment age here"
   ]
  },
  {
   "cell_type": "markdown",
   "metadata": {},
   "source": [
    "## Machine Learning\n",
    "\n",
    "Data Scientist တွေရဲ့ **အဓိက** တာဝန်၊ ဝတ္တရားကတော့ Machine Learning ပါပဲ။ Machine Learning Model တွေကို Train ရတာ၊ အသုံးချဖို့ လုပ်ဆောင်ပေးရတာ ဖြစ်ပါတယ်။ \n",
    "\n",
    "အရင်အပါတ်က ဥပမာ ပေးခဲ့သလိုပဲ Machine Learning ဆိုတာ Machine (computer) အတွက် function တခုကို code အဖြစ် မရေးပေးနိုင်တဲ့အခါ Model တခုခုကို အခြေခံပြီး အဲဒီ function ကို (code အဖြစ် မရေးတော့ပဲ) တည်ဆောက်တာ ဖြစ်ပါတယ်။ \n",
    "\n",
    "Model တွေ အများကြီးရှိပြီး ဒီသင်တန်းမှာ အဲဒီ အခြေခံ Model တွေကို တခုပြီးတခု လေ့လာသွားမှာ ဖြစ်ပါတယ်။ "
   ]
  },
  {
   "cell_type": "code",
   "execution_count": 36,
   "metadata": {},
   "outputs": [
    {
     "data": {
      "image/png": "[encoded data removed]",
      "text/plain": [
       "<Figure size 432x288 with 1 Axes>"
      ]
     },
     "metadata": {
      "needs_background": "light"
     },
     "output_type": "display_data"
    },
    {
     "data": {
      "image/png": "[encoded data removed]",
      "text/plain": [
       "<Figure size 432x288 with 1 Axes>"
      ]
     },
     "metadata": {
      "needs_background": "light"
     },
     "output_type": "display_data"
    }
   ],
   "source": [
    "def show_scatter_plot(x, y, title, xlabel, ylabel):\n",
    "    pyplot.scatter(x, y)\n",
    "    pyplot.title(title)\n",
    "    pyplot.xlabel(xlabel)\n",
    "    pyplot.ylabel(ylabel)\n",
    "    pyplot.show()\n",
    "\n",
    "show_scatter_plot(df.AGE, df.MEDV, \"age vs price\", xlabel=\"age\", ylabel=\"price\")\n",
    "show_scatter_plot(df.RM, df.MEDV, \"rm vs price\", xlabel=\"rm\", ylabel=\"price\")"
   ]
  },
  {
   "cell_type": "markdown",
   "metadata": {},
   "source": [
    "## Software Engineering\n",
    "\n",
    "အောက်က ပုံမှာ ပြထားတဲ့အတိုင်း တကယ် လက်တွေ့ လုပ်ငန်းခွင်မှာ Machine Learning Code ရဲ့ ပမာဏက သေးတယ် (အဲဒီ Code ထွက်လာအောင် စိုက်ထုတ်ရတဲ့ အားထုတ်မှုကို မဆိုလို)။ \n",
    "\n",
    "![](https://i.ibb.co/BBhBhXq/ml-vs-rest.png)\n",
    "\n",
    "Machine-Learning Engineer Title ထားတဲ့ FAANG (Facebook/Apple/Amazon/Netflix/Google) တို့လို Tech Company တွေမှာ Data Scientist တွေဟာ Software Engineer တပိုင်းအဖြစ် အလုပ်လုပ်ရတယ်။ \n",
    "\n",
    "ဒါကြောင့် Software Development Lifecycle ကိုနားလည်ပြီး အဆင့်တိုင်းကို ကျွမ်းကျွမ်းကျင်ကျင် လုပ်နိုင်ရမယ်။"
   ]
  },
  {
   "cell_type": "markdown",
   "metadata": {},
   "source": [
    "## Summary\n",
    "\n",
    "Data Scientist တွေဟာ Computer Science, Statistics နဲ့ Domain Knowledge တွေကို သုံးပြီး Data တွေကနေ Information or Knowledge တွေ ထုတ်ပေးပါတယ်။ \n",
    "\n",
    "> တခါတလေမှာ knowledge ဟာ codified knowledge (model) အနေနဲ့ ဖြစ်ပြီး တခါတလေမှာ trend analysis (dashboard/report) အနေနဲ့ ဖြစ်ပါတယ်။\n",
    "\n",
    "ဒါ့အပြင် Data Scientist တွေဟာ Data ကနေ Information/Knowledge တွေကို what kind of transform နဲ့ ထွက်အောင် လုပ်မလဲဆိုတဲ့ နည်းလမ်းတွေကို Data Engineer တွေကို ဝေမျှပါတယ်။ \n",
    "\n",
    "> ဒီနေရာမှာ transform ဟာ codified knowledge (feature) အနေနဲ့ ဖြစ်တတ်ပါတယ်။\n",
    "\n",
    "နောက်ဆုံးအနေနဲ့ Data Scientist တွေဟာ Information/Knowledge တွေကို ဘယ်လိုအသုံးပြရမယ်၊ ဘယ်လောက်အထိ အသုံးပြုနိုင်တယ် (စိတ်ချနိုင်တယ်) စတာတွေကိုလဲ Business SME တွေကို communicate လုပ်ရပါသေးတယ်။\n",
    "\n",
    "> တခါတလေမှာ Data Scientist တွေဟာ ဒီလို consultation/communications တွေကို automate တောင် လုပ်ထားတတ်ပါသေးတယ်။"
   ]
  },
  {
   "cell_type": "markdown",
   "metadata": {},
   "source": []
  }
 ],
 "metadata": {
  "interpreter": {
   "hash": "3a9c1e998c7d6d5f29587b2c70e9bd488bb486b902354401efc27ca8457f04e9"
  },
  "kernelspec": {
   "display_name": "Python 3.7.11 ('py37-dsup')",
   "language": "python",
   "name": "python3"
  },
  "language_info": {
   "codemirror_mode": {
    "name": "ipython",
    "version": 3
   },
   "file_extension": ".py",
   "mimetype": "text/x-python",
   "name": "python",
   "nbconvert_exporter": "python",
   "pygments_lexer": "ipython3",
   "version": "3.7.11"
  },
  "orig_nbformat": 4
 },
 "nbformat": 4,
 "nbformat_minor": 2
}
