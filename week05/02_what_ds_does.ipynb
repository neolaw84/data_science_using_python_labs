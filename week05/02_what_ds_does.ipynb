{
 "cells": [
  {
   "cell_type": "markdown",
   "metadata": {},
   "source": [
    "မင်္ဂလာပါ၊ Data Science Using Python - Week 5 (day 2) က ကြိုဆိုပါတယ်။\n",
    "\n",
    "# Data Scientist တယောက်ရဲ့ တာဝန်၊ ဝတ္တရားများ\n",
    "\n",
    "Data Scientist တယောက် ဘာတွေ လုပ်ရသလဲဆိုတာကို မပြောခင် Data Science ဟာ ဘာလဲဆိုတာကို အရင်ကြည့်ရအောင်။\n",
    "\n",
    "![Data Science Venn Diagram](https://i.ibb.co/4NpbV0C/data-science.png)\n",
    "\n",
    "ပုံမှာပြထားသလိုပဲ Data Science ဆိုတာ \n",
    "\n",
    "* Statistics - စာရင်းအင်းပညာ (စာရင်းကိုင်ပညာ - Accounting မဟုတ်)\n",
    "* Computer Science - ကွန်ပျူတာသိပ္ပံနဲ့\n",
    "* Domain Knowledge - လုပ်ငန်းနဲ့ ဆိုင်တဲ့ အသိပညာ ဗဟုသုတ\n",
    "\n",
    "၃ မျိုးနဲ့ ဖွဲ့စည်းထားတယ်။ \n",
    "\n",
    "ဒါ့အပြင် အဲဒီ ၃ မျိုးရဲ့ ပေါင်းကူးပညာရပ်တွေ ဖြစ်တဲ့ ... \n",
    "\n",
    "* Software Engineering\n",
    "* Machine Learning\n",
    "* (Traditional) Science/Research တွေလဲ ပါတယ်။ \n",
    "\n",
    "ဒီတော့ ဒီအတိုင်း ပြောနေရတာ ပျင်းစရာ ကောင်းတဲ့အတွက် လက်တွေ့ lab လုပ်ပြီး ကြည့်ကြစို့။"
   ]
  },
  {
   "cell_type": "markdown",
   "metadata": {},
   "source": [
    "## Research and Data Analytics\n",
    "\n",
    "Non-tech industry ကြီးတွေ (Telco/Finance/Bank/Insurance) မှာ Data Scientist တွေဟာ Data Analytics တပိုင်းအဖြစ် အလုပ်လုပ်ရတယ်။ ဆိုလိုတာက Business Data ကို လေ့လာပြီး Business ရဲ့ မေးခွန်းတွေကို ဖြေရတယ်။ ဒီတော့ အရင်အပါတ်က boston dataset ကို တခေါက် load လုပ်ပြီး လေ့လာကြည့်ကြစို့။"
   ]
  },
  {
   "cell_type": "code",
   "execution_count": null,
   "metadata": {},
   "outputs": [],
   "source": [
    "from utils import load_boston_dataset\n",
    "df = load_boston_dataset()\n",
    "df.head()"
   ]
  },
  {
   "cell_type": "markdown",
   "metadata": {},
   "source": [
    "ဒီ Data ကို Industry လုပ်ငန်းခွင်မှာတော့ Data Warehouse/Data Mart တွေကနေ ယူရတယ် (Data Warehouse/Data Mart ဆိုတာ RDBMS - Relational DataBase Management System တွေပါပဲ)။ ဒီလို ယူဖို့ Data Engineer တွေနဲ့ တွဲအလုပ်လုပ်ရတယ်။ တော်တော် Advanced ဖြစ်တဲ့ Grab/Uber လို Tech တပိုင်း ကုမ္ပဏီတွေမှာတော့ Data Engineer တွေ ဆောက်ပေးထားတဲ့ Feature Store လို System တွေကနေ ယူလို့လဲ ရတတ်တယ်။ \n",
    "\n",
    "ဒီလို Data တွေ ရလာရင် အရင်ဆုံး Business ရဲ့ မေးခွန်းတွေကို အဖြေပေးရတယ်။ ဥပမာ ... \n",
    "\n",
    "* What is the Average Crime Rate ?\n",
    "* What is the 25 percentile of Tax paid ?\n",
    "* What is the 75 percentile of Apartment Price ?\n",
    "* What is the mean/median/mode of Apartment Price ?\n",
    "* What is the mean/median/mode of Apartment Age ?\n",
    "* Is there any correlation between Crime Rate and Tax paid ?\n",
    "* Are old Apartment prices valued lower than new Apartment ?\n",
    "\n",
    "### Pandas DataFrame `describe` function\n",
    "\n",
    "pandas library ရဲ့ `describe` function ဟာ တချက်တည်းနဲ့ မေးခွန်း တော်တော်များများကို ပြေလည်စေတဲ့ function ဖြစ်တယ်။ \n",
    "\n",
    "စမ်းကြည့်ရအောင်"
   ]
  },
  {
   "cell_type": "code",
   "execution_count": null,
   "metadata": {},
   "outputs": [],
   "source": [
    "df.describe()"
   ]
  },
  {
   "cell_type": "markdown",
   "metadata": {},
   "source": [
    "အပေါ်က ဥပမာမှာ ပြထားသလိုပဲ တချက်တည်းနဲ့ uni-variate analysis ရလာဒ်တွေ ဖြစ်တဲ့ ... \n",
    "\n",
    "* minimum (`min`)\n",
    "* maximum (`max`)\n",
    "* 25/50/75 percentiles (50 percentile is also median)\n",
    "* average (`mean`)\n",
    "* standard deviation (`std`) နဲ့\n",
    "* number of values (`count`)\n",
    "\n",
    "တို့ကို တချက်တည်းနဲ့ ရှာတွေ့နိုင်တယ်။\n",
    "\n",
    "* What is the Average Crime Rate ?\n",
    "    > 3.613524\n",
    "\n",
    "* What is the 25 percentile of Tax paid ?\n",
    "    > 279.000000\n",
    "\n",
    "* What is the 75 percentile of Apartment Price ?\n",
    "    > 25.000000 (၂ သောင်းခွဲ ??? how old is this dataset anyway ??)\n",
    "\n",
    "* What is the mean/median/mode of Apartment Price ?\n",
    "    > mean : 22.532806\n",
    "    > median : 21.200000\n",
    "    > mode : unknown\n",
    "\n",
    "* What is the mean/median/mode of Apartment Age ?\n",
    "    > mean : 28.148861\t\n",
    "    > median : 77.500000\n",
    "    > mode : unknown\n",
    "\n",
    "* Is there any correlation between Crime Rate and Tax paid ?\n",
    "    > unknown - need bi-variate analytics (for next weeks)\n",
    "\n",
    "* Are old Apartment prices valued lower than new Apartment ?\n",
    "    > unknown - need bi-variate analytics (for next weeks)"
   ]
  },
  {
   "cell_type": "markdown",
   "metadata": {},
   "source": [
    "### Finding Mode\n",
    "\n",
    "ဒီအတိုင်း စမ်းကြည့်တော့ ... \n",
    "\n",
    "```python\n",
    "from collections import Counter\n",
    "data = Counter(df.MEDV)\n",
    "print (data.most_common(1))  # Returns the highest occurring item\n",
    "\n",
    "# this will print a list of tuple [(50.0, 16)] \n",
    "# the amount 50.0 appears the most, 16 times.\n",
    "```"
   ]
  },
  {
   "cell_type": "code",
   "execution_count": null,
   "metadata": {},
   "outputs": [],
   "source": [
    "from collections import Counter\n",
    "data = Counter(df.MEDV)\n",
    "print (data.most_common(1))  # Returns the highest occurring item"
   ]
  },
  {
   "cell_type": "markdown",
   "metadata": {},
   "source": [
    "များသောအားဖြင့် **ordinal** data ကိုပဲ သုံးကြတာဖြစ်တယ်။ \n",
    "\n",
    "> စကားမစပ် statistics မှာ data type 3 မျိုးရှိတယ်၊ numerical/ordinal/norminal data လို့ ခေါ်တယ်။  numerical ကို continuous/discrete ဆိုပြီး ၂ မျိုး ခွဲနိုင်တယ်။ နောက်ပိုင်းမှာ ခဏခဏ တွေ့ရပါလိမ့်မယ်။\n",
    "\n",
    "ဒီတော့ Apartment Price ကို ပိုပြီး အဓိပ္ပါယ်ရှိအောင် Binning လုပ်ကြစို့။"
   ]
  },
  {
   "cell_type": "code",
   "execution_count": null,
   "metadata": {},
   "outputs": [],
   "source": [
    "from matplotlib import pyplot\n",
    "# matplotlib ကို နောင်အပါတ်များတွင် အကျယ် ဆွေးနွေးပါမည်။\n",
    "\n",
    "binned_MEDV_freq, binned_MEDV_range, _ = pyplot.hist(df.MEDV, 20)"
   ]
  },
  {
   "cell_type": "code",
   "execution_count": null,
   "metadata": {},
   "outputs": [],
   "source": [
    "print (\"frequencies : \")\n",
    "print (binned_MEDV_freq)\n",
    "print (\"bin values : \")\n",
    "print (binned_MEDV_range)"
   ]
  },
  {
   "cell_type": "code",
   "execution_count": null,
   "metadata": {},
   "outputs": [],
   "source": [
    "max_index = max(\n",
    "    range(0, len(binned_MEDV_freq)), \n",
    "    key=lambda x : binned_MEDV_freq[x]\n",
    ")\n",
    "print (max_index)\n",
    "print (\"max freq : {}\".format(binned_MEDV_freq[max_index]))\n",
    "print (\"max bin range : {} - {}\".format(binned_MEDV_range[max_index], binned_MEDV_range[max_index + 1]))"
   ]
  },
  {
   "cell_type": "code",
   "execution_count": null,
   "metadata": {},
   "outputs": [],
   "source": [
    "# so find mode of apartment age here"
   ]
  },
  {
   "cell_type": "markdown",
   "metadata": {},
   "source": [
    "## Machine Learning\n",
    "\n",
    "Data Scientist တွေရဲ့ **အဓိက** တာဝန်၊ ဝတ္တရားကတော့ Machine Learning ပါပဲ။ Machine Learning Model တွေကို Train ရတာ၊ အသုံးချဖို့ လုပ်ဆောင်ပေးရတာ ဖြစ်ပါတယ်။ \n",
    "\n",
    "အရင်အပါတ်က ဥပမာ ပေးခဲ့သလိုပဲ Machine Learning ဆိုတာ Machine (computer) အတွက် function တခုကို code အဖြစ် မရေးပေးနိုင်တဲ့အခါ Model တခုခုကို အခြေခံပြီး အဲဒီ function ကို (code အဖြစ် မရေးတော့ပဲ) တည်ဆောက်တာ ဖြစ်ပါတယ်။ \n",
    "\n",
    "Model တွေ အများကြီးရှိပြီး ဒီသင်တန်းမှာ အဲဒီ အခြေခံ Model တွေကို တခုပြီးတခု လေ့လာသွားမှာ ဖြစ်ပါတယ်။ "
   ]
  },
  {
   "cell_type": "code",
   "execution_count": null,
   "metadata": {},
   "outputs": [],
   "source": [
    "from utils import show_scatter_plot\n",
    "from utils import show_scatter_plot_with_line"
   ]
  },
  {
   "cell_type": "code",
   "execution_count": null,
   "metadata": {},
   "outputs": [],
   "source": [
    "show_scatter_plot(df.AGE, df.MEDV, \"age vs price\", xlabel=\"age\", ylabel=\"price\")\n",
    "show_scatter_plot(df.RM, df.MEDV, \"rm vs price\", xlabel=\"rm\", ylabel=\"price\")"
   ]
  },
  {
   "cell_type": "code",
   "execution_count": null,
   "metadata": {},
   "outputs": [],
   "source": [
    "from sklearn.linear_model import LinearRegression"
   ]
  },
  {
   "cell_type": "code",
   "execution_count": null,
   "metadata": {},
   "outputs": [],
   "source": [
    "m_age = LinearRegression()\n",
    "m_age.fit(df.AGE.values.reshape(-1,1), df.MEDV)\n",
    "print (\"age_model coefficient: {}; intercept: {}\".format(m_age.coef_, m_age.intercept_))\n",
    "show_scatter_plot_with_line(df.AGE, df.MEDV, \"age vs price\", \"age\", \"price\", a=m_age.coef_, b=m_age.intercept_)"
   ]
  },
  {
   "cell_type": "code",
   "execution_count": null,
   "metadata": {},
   "outputs": [],
   "source": [
    "m_rm = LinearRegression()\n",
    "m_rm.fit(df.RM.values.reshape(-1,1), df.MEDV)\n",
    "print (\"room_model coefficient: {}; intercept: {}\".format(m_rm.coef_, m_rm.intercept_))\n",
    "show_scatter_plot_with_line(df.RM, df.MEDV, \"rm vs price\", \"rm\", \"price\", a=m_rm.coef_, b=m_rm.intercept_)"
   ]
  },
  {
   "cell_type": "markdown",
   "metadata": {},
   "source": [
    "### Behind the Scene\n",
    "\n",
    "Think about this equation: \n",
    "\n",
    "$Xw = y$, \n",
    "\n",
    "where $X$ is a $m \\times n$ matrix, $y$ is $m \\times 1$ vector and $w$ is $n \\times 1$ vector.\n",
    "\n",
    "In our example, $X$ is `AGE` data series comprising $m$ records, $y$ is the `MEDV` data series comprising $m$ values. We want a weight vector $w$ that gives $\\hat{y} = Xw$ that is **as close to $y$ as possible**. \n",
    "\n",
    "> We CANNOT use inverse matrix because we CANNOT find determinent of $m \\times 1$ matrix. \n",
    "\n",
    "> Thus, we use the **least square** method. "
   ]
  },
  {
   "cell_type": "markdown",
   "metadata": {},
   "source": [
    "## Software Engineering\n",
    "\n",
    "အောက်က ပုံမှာ ပြထားတဲ့အတိုင်း တကယ် လက်တွေ့ လုပ်ငန်းခွင်မှာ Machine Learning Code ရဲ့ ပမာဏက သေးတယ် (အဲဒီ Code ထွက်လာအောင် စိုက်ထုတ်ရတဲ့ အားထုတ်မှုကို မဆိုလို)။ \n",
    "\n",
    "![](https://i.ibb.co/BBhBhXq/ml-vs-rest.png)\n",
    "\n",
    "Machine-Learning Engineer Title ထားတဲ့ FAANG (Facebook/Apple/Amazon/Netflix/Google) တို့လို Tech Company တွေမှာ Data Scientist တွေဟာ Software Engineer တပိုင်းအဖြစ် အလုပ်လုပ်ရတယ်။ \n",
    "\n",
    "ဒါကြောင့် Software Development Lifecycle ကိုနားလည်ပြီး အဆင့်တိုင်းကို ကျွမ်းကျွမ်းကျင်ကျင် လုပ်နိုင်ရမယ်။"
   ]
  },
  {
   "cell_type": "markdown",
   "metadata": {},
   "source": [
    "### Rock Paper Scissor Game\n",
    "\n",
    "1. စမရေးခင် software component (function) တွေကို နေရာချပါ။ \n",
    "\n",
    "```python\n",
    "\n",
    "def ask_input():\n",
    "    # R/P/S ကြိုက်ရာ ရွေးခိုင်းမည့် function ဖြစ်သည်။\n",
    "    pass\n",
    "\n",
    "def ask_exit():\n",
    "    # ထွက်မလား၊ နောက်တပွဲ ကစားမလားလို့ မေးဖို့ function ဖြစ်သည်။\n",
    "    pass\n",
    "\n",
    "def who_wins(player_a, player_b):\n",
    "    # မည်သူနိုင်သည်ကို အဖြေထုတ်ပေးမည့် function ဖြစ်သည်။\n",
    "    pass\n",
    "\n",
    "def main():\n",
    "    # main function ဖြစ်သည်\n",
    "    pass\n",
    "\n",
    "main()\n",
    "\n",
    "```\n",
    "\n",
    "2. ပြီးရင် Test Case တွေ ရေးပါ။ \n",
    "\n",
    "```\n",
    "Case 1:\n",
    "    Call: ask_exit()\n",
    "    Input: Y\n",
    "    Expected Output: True\n",
    "\n",
    "Case 2:\n",
    "    Call: ask_exit()\n",
    "    Input: N\n",
    "    Expected Output: False\n",
    "\n",
    "Case 3:\n",
    "    Call: ask_exit()\n",
    "    Input: B 1 N\n",
    "    Expected Output: False\n",
    "...\n",
    "\n",
    "Case 11: \n",
    "    Input: R N S Y\n",
    "    Computer Choice: R P\n",
    "    Expected Output: \"neither wins\" \"player_a wins\"\n",
    "\n",
    "Case 12:\n",
    "    Input: R Y\n",
    "    Computer Choice: R\n",
    "    Expected Output: \"neither wins\"\n",
    "\n",
    "Case 13:\n",
    "    Input: R N R N R Y\n",
    "    Computer Choice: R P S\n",
    "    Expected Output: \"neither wins\" \"player_b wins\" \"player_a wins\"\n",
    "```\n",
    "\n",
    "3. Program ကို ရေးပါ၊ စမ်းပါ၊ မမှန်မချင်း ရေးပါ။\n",
    "\n",
    "```python\n",
    "def ask_exit():\n",
    "    while True:\n",
    "        choice = input(\"Want to exit ? : \")\n",
    "        return True if choice.upper() == \"Y\" \n",
    "        return False if choice.upper() == \"N\"\n",
    "\n",
    "def main():\n",
    "    user_exit = False\n",
    "    while not user_exit:\n",
    "        # other playing things\n",
    "        user_exit = ask_exit()\n",
    "```"
   ]
  },
  {
   "cell_type": "code",
   "execution_count": null,
   "metadata": {},
   "outputs": [],
   "source": [
    "%%writefile lab_rps.py\n",
    "def ask_exit():\n",
    "    while True:\n",
    "        choice = input(\"Want to exit ? : \")\n",
    "        if choice.upper() == \"Y\": return True \n",
    "        if choice.upper() == \"N\": return False \n",
    "\n",
    "def main():\n",
    "    user_exit = False\n",
    "    while not user_exit:\n",
    "        \n",
    "        user_exit = ask_exit()"
   ]
  },
  {
   "cell_type": "code",
   "execution_count": null,
   "metadata": {},
   "outputs": [],
   "source": [
    "%%writefile lab_rps.py\n",
    "import random \n",
    "\n",
    "def ask_exit():\n",
    "    while True:\n",
    "        choice = input(\"Want to exit ? : \")\n",
    "        if choice.upper() == \"Y\": return True \n",
    "        if choice.upper() == \"N\": return False \n",
    "\n",
    "def ask_input():\n",
    "    user_input = \"\"\n",
    "    while user_input.lower() not in [\"r\", \"p\", \"s\"]:\n",
    "        user_input = input(\"[R]ock/[P]aper/[S]cissor ? : \")\n",
    "    return user_input.lower()\n",
    "\n",
    "rules = {\n",
    "    \"r\" : {\n",
    "        \"r\" : \"neither\",\n",
    "        \"p\" : \"player_b\",\n",
    "        \"s\" : \"player_a\"\n",
    "    },\n",
    "    \"p\" : {\n",
    "        \"r\" : \"player_a\",\n",
    "        \"p\" : \"neither\",\n",
    "        \"s\" : \"player_b\"\n",
    "    },\n",
    "    \"s\" : {\n",
    "        \"r\" : \"player_b\",\n",
    "        \"p\" : \"player_a\",\n",
    "        \"s\" : \"neither\"\n",
    "    }\n",
    "}\n",
    "\n",
    "def who_wins(player_a, player_b):\n",
    "    return rules[player_a[0]][player_b[0]]\n",
    "\n",
    "def main():\n",
    "    user_exit = False\n",
    "    while not user_exit:\n",
    "        player_a = ask_input()\n",
    "        player_b = [\"r\", \"p\", \"s\"][random.randint(0, 2)]\n",
    "        print (\"{} wins\".format(who_wins(player_a, player_b)))\n",
    "        user_exit = ask_exit()\n",
    "\n",
    "if __name__ == \"__main__\":\n",
    "    main()"
   ]
  },
  {
   "cell_type": "markdown",
   "metadata": {},
   "source": [
    "## Summary\n",
    "\n",
    "Data Scientist တွေဟာ Computer Science, Statistics နဲ့ Domain Knowledge တွေကို သုံးပြီး Data တွေကနေ Information or Knowledge တွေ ထုတ်ပေးပါတယ်။ \n",
    "\n",
    "> တခါတလေမှာ knowledge ဟာ codified knowledge (model) အနေနဲ့ ဖြစ်ပြီး တခါတလေမှာ trend analysis (dashboard/report) အနေနဲ့ ဖြစ်ပါတယ်။\n",
    "\n",
    "ဒါ့အပြင် Data Scientist တွေဟာ Data ကနေ Information/Knowledge တွေကို what kind of transform နဲ့ ထွက်အောင် လုပ်မလဲဆိုတဲ့ နည်းလမ်းတွေကို Data Engineer တွေကို ဝေမျှပါတယ်။ \n",
    "\n",
    "> ဒီနေရာမှာ transform ဟာ codified knowledge (feature) အနေနဲ့ ဖြစ်တတ်ပါတယ်။\n",
    "\n",
    "နောက်ဆုံးအနေနဲ့ Data Scientist တွေဟာ Information/Knowledge တွေကို ဘယ်လိုအသုံးပြရမယ်၊ ဘယ်လောက်အထိ အသုံးပြုနိုင်တယ် (စိတ်ချနိုင်တယ်) စတာတွေကိုလဲ Business SME တွေကို communicate လုပ်ရပါသေးတယ်။\n",
    "\n",
    "> တခါတလေမှာ Data Scientist တွေဟာ ဒီလို consultation/communications တွေကို automate တောင် လုပ်ထားတတ်ပါသေးတယ်။\n",
    "\n",
    "ဒီနေရာမှာ codified knowledge/information/dashboard စသဖြင့် automate လုပ်နိုင်ဖို့ SDLC ကို ကျွမ်းကျင်ပိုင်နိုင်ဖို့ လိုအပ်ပါတယ်။"
   ]
  }
 ],
 "metadata": {
  "interpreter": {
   "hash": "3a9c1e998c7d6d5f29587b2c70e9bd488bb486b902354401efc27ca8457f04e9"
  },
  "kernelspec": {
   "display_name": "Python 3.7.11 ('py37-dsup')",
   "language": "python",
   "name": "python3"
  },
  "language_info": {
   "codemirror_mode": {
    "name": "ipython",
    "version": 3
   },
   "file_extension": ".py",
   "mimetype": "text/x-python",
   "name": "python",
   "nbconvert_exporter": "python",
   "pygments_lexer": "ipython3",
   "version": "3.7.11"
  },
  "orig_nbformat": 4
 },
 "nbformat": 4,
 "nbformat_minor": 2
}
