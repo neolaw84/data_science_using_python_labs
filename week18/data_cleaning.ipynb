{
 "cells": [
  {
   "cell_type": "code",
   "execution_count": null,
   "metadata": {},
   "outputs": [],
   "source": [
    "%pip install gdown"
   ]
  },
  {
   "cell_type": "code",
   "execution_count": null,
   "metadata": {},
   "outputs": [],
   "source": [
    "!gdown https://drive.google.com/drive/folders/1XLLR97Pc1uriSjJV7yZ5lgkC_IVZDV_g?usp=sharing -O ./data --folder"
   ]
  },
  {
   "cell_type": "markdown",
   "metadata": {},
   "source": [
    "# Data Preparation\n",
    "\n",
    "မင်္ဂလာပါ၊ ဒီနေ့ လက်တွေ့ လုပ်ရမှာကတော့ Myanmar Digit Project -- Part 1 အဖြစ် Data Collection, Data Cleaning နဲ့ Data Labelling အလုပ်များပဲ ဖြစ်ပါတယ်။ \n",
    "\n",
    "**What is the most important ingredient in a Data Science project ?**\n",
    "\n",
    "* Data Science project တခုမှာ အရေးအကြီးဆုံးကတော့ Data ပဲ ဖြစ်ပါတယ်။ \n",
    "\n",
    "လက်တွေ့ဘဝမှာ `datasets.load_my_data()` လို့ ခေါ်သုံးလို့မရတဲ့အတွက် Data ကို collect အရင် လုပ်ရပါမယ်။ \n",
    "\n",
    "collect ကောက်ထားပြီးသား မရှိဘူးဆိုခဲ့ရင်တော့ Data ကို ကိုယ်တိုင် ကောက်ရပါမယ်။ \n",
    "\n",
    "*Myanmar Digit Project* ဟာ MNIST project လိုပဲ ဗမာ ဂဏန်း ၀ (သုည) ကနေ ၉ (ကိုး) အထိကို classification လုပ်မဲ့ project ဖြစ်ပါတယ်။\n",
    "\n",
    "**So, what kind of data are we collecting ?**\n",
    "\n",
    "* မြန်မာဂဏန်း ၀ (သုည) ကနေ ၉ (ကိုး) အထိ ရေးထားတဲ့ လက်ရေး စာလုံးတွေကို ကောက်ရမှာ ဖြစ်ပါတယ်။ "
   ]
  },
  {
   "cell_type": "markdown",
   "metadata": {},
   "source": [
    "## Step 1 - Digitization\n",
    "\n",
    "ပထမဆုံး အဆင့်အဖြစ် စာရွက်နဲ့ ရေးထားတဲ့ ဂဏန်းတွေကို အရင်ဆုံး digitize လုပ်ရမှာ ဖြစ်ပါတယ်။\n",
    "\n",
    "ဒီလိုလုပ်ရာမှာ ၃ မျိုး လုပ်ဆောင်နိုင်ပါတယ်။ \n",
    "\n",
    "1. Digital Pen နဲ့ user ကို ရေးသားစေခြင်း\n",
    "2. user ရေးသားထားသော ဂဏန်းများကို Scanner နှင့် ဖတ်ခြင်းနှင့်\n",
    "3. Microsoft Office Lens ကဲ့သို့ application များကို အသုံးပြု၍ Scan ဖတ်ခြင်းတို့ပဲ ဖြစ်ပါတယ်။ \n",
    "\n",
    "ဒီနေရာမှာ သတိပြုဖို့ကတော့ user convenient factor ဖြစ်ပါတယ်။ \n",
    "\n",
    "> ကွန်ပျူတာရှေ့မှာလာထိုင်ပြီး တခုရေး၊ တခါ save တာက user အဖို့ convenient မဖြစ်စေပါဘူး။ \n",
    "> \n",
    "> ဒါကြောင့် စာရွက်ပေါ်မှာ ဂဏန်းတွေကို ခပ်ကျဲကျဲလေး တန်းစီရေးထားတဲ့ ပုံစံကို အသုံးပြုပါမယ်။\n",
    "\n",
    "ရေးထားတဲ့ စာရွက်တွေကို scanner ဖတ်ချင်ဖတ် ဒါမှမဟုတ် Microsoft Office Lens လိုမျိုး App နဲ့ scan ဖတ်ပြီး ကြိုတင်သဘောတူထားတဲ့ [Google Drive](https://drive.google.com/drive/folders/1XLLR97Pc1uriSjJV7yZ5lgkC_IVZDV_g?usp=sharing) သို့ upload လုပ်ပါ။"
   ]
  },
  {
   "cell_type": "markdown",
   "metadata": {},
   "source": [
    "## Step 2 - Chopping up individual digits\n",
    "\n",
    "ဒုတိယ အဆင့်အဖြစ် ရလာတဲ့ ဂဏန်းပုံတွေကို ဂဏန်းတခု ရုပ်ပုံတခုဖြစ်အောင် ဖြတ်တောက်ပါမယ်။ \n",
    "\n",
    "ဒီလို ဖြတ်တောက်ရာမှာ Photoshop, Gimp ကဲ့သို့သော software များကို အသုံးပြုပြီး ဖြတ်တောက်နိုင်ပါတယ်။\n",
    "\n",
    "ဒီနေရာမှာ သတိပြုဖို့ကတော့ Data Professional ရဲ့ အချိန်ဖြစ်ပါတယ်။ \n",
    "\n",
    "> ကနဦး မြင်တွေ့ချက်တွေအရ scanner ဖတ်ထားတဲ့ file တခုမှာ ဂဏန်း 100 - 180 ကြား ပါဝင်နိုင်ပါတယ်။ \n",
    ">\n",
    "> ဒီအခြေအနေနဲ့ manual crop လုပ်ပြီး save လုပ်မယ်ဆိုရင် အချိန် အတော်ကြာသွားမှာ ဖြစ်ပါတယ်။ \n",
    "> \n",
    "> ဒါကြောင့် Data Tool တွေ အသုံးပြုပြီး automatic crop, manual label and save method ကို သုံးမှာ ဖြစ်ပါတယ်။ "
   ]
  },
  {
   "cell_type": "code",
   "execution_count": null,
   "metadata": {},
   "outputs": [],
   "source": [
    "%matplotlib inline\n",
    "from matplotlib import pyplot as plt\n",
    "\n",
    "import cv2\n",
    "from PIL import Image, ImageOps\n",
    "\n",
    "import numpy as np\n",
    "from sklearn import cluster"
   ]
  },
  {
   "cell_type": "markdown",
   "metadata": {},
   "source": [
    "### Step 2.1. Reading the image and conversion to grayscale\n",
    "\n",
    "Image ကို ဖတ်ဖို့ Pillow library (`PIL`) ထဲက `Image.open` function ကို သုံးပါမယ်။\n",
    "\n",
    "Image ကို grayscale ကို ပြောင်းဖို့ Pillow library (`PIL`) ထဲက `ImageOps.grayscale` function ကို သုံးပါမယ်။\n",
    "\n",
    "* **Exercise** -- အားလုံးပြီးသွားတော့ ရလာတဲ့ image `im_sample_gray` ကို matplotlib နဲ့ ကြည့်ပါမယ်။"
   ]
  },
  {
   "cell_type": "code",
   "execution_count": null,
   "metadata": {},
   "outputs": [],
   "source": [
    "# do something with plt to make image shown is 15 x 15 \n",
    "with open(\"data/sample_grid.1.png\", \"rb\") as f:\n",
    "    im_sample = Image.open(f)\n",
    "    im_sample_gray = ImageOps.grayscale(im_sample)\n",
    "    # do something with plt, im_sample_gray to view the image on screen\n",
    "    # plt.show()"
   ]
  },
  {
   "cell_type": "markdown",
   "metadata": {},
   "source": [
    "### Step 2.2. Normalize the image \n",
    "\n",
    "image မှာ သုံးထားတဲ့ မှင် အမျိုးအစားနဲ့ စာရွက်သား ပေါ်မူတည်ပြီး image က imperfection တွေ ရှိနေတာကို မြင်ရမှာပါ။\n",
    "\n",
    "Normalization ဆိုတာက imperfection တွေ လျော့သွားအောင်လို့ pixel value တွေကို 0.0 နဲ့ 1.0 ကြား ဖြစ်သွားအောင် ညှိပေးတဲ့ သဘောပါ။ \n",
    "\n",
    "$$f_{\\text{normalize}}(p) = \\frac{p - max(P)}{max(P) - min(P)}$$ \n",
    "\n",
    "where $p \\in P$ ဆိုတဲ့ formula နဲ့ တွက်တယ်။\n",
    "\n",
    "ပြီးရင် စာရေးထားတဲ့ နေရာ (အနက်) တွေကို non-zero ၊ စာမရေးထားတဲ့ စာရွက်သား (အဖြူ) တွေကို 0 ဖြစ်စေချင်တာမို့ normalized လုပ်ထားတဲ့ တန်ဖိုးကို 1.0 ထဲက နှုတ်ရပါမယ်။ \n",
    "\n",
    "$$f_{\\text{color correct}} = 1.0 - P$$\n",
    "\n",
    "အဲဒါ ၂ ခုကို ပေါင်းရေးတော့ ... \n",
    "\n",
    "$$f_{\\text{normalize and correct}} = 1.0 - \\frac{p - max(P)}{max(P) - min(P)}$$ \n",
    "\n",
    "လို့ရပါမယ်။ \n",
    "\n",
    "ပြီးတော့မှ ရလာတဲ့ pixel value တွေကို 255 နဲ့ ပြန်မြှောက်ခြင်းဖြင့် 0 နဲ့ 255 ကြား ပြန်ရောက်အောင် လုပ်ရမှာ ဖြစ်ပါတယ်။ \n",
    "\n",
    "* **Exercise** -- ဒီ normalization ကို `numpy` သုံးပြီး ရေးပါ။"
   ]
  },
  {
   "cell_type": "code",
   "execution_count": null,
   "metadata": {},
   "outputs": [],
   "source": [
    "# rudimentary normalization \n",
    "np_sample_gray = np.array(im_sample_gray)\n",
    "oh , ow = np_sample_gray.shape\n",
    "np_sample_gray = # implement f_normalize_and_correct here\n",
    "np_sample_gray = # and make the range between 0 to 255 instead of 0.0 to 1.0 in integer format\n",
    "\n",
    "_ = plt.figure(figsize=(10, 10))\n",
    "plt.imshow(np_sample_gray, cmap=\"gray\")\n",
    "plt.show()"
   ]
  },
  {
   "cell_type": "markdown",
   "metadata": {},
   "source": [
    "### Step 2.3. Enhancing\n",
    "\n",
    "အခု ရလာတဲ့ Image မှာ အနက်သားတွေက ဖြူလျော်လျော်၊ အဖြူရောင်စာလုံးတွေက သိပ်မထင်းတာကို တွေ့ရပါမယ်။ \n",
    "\n",
    "ဒါကြောင့် 64 ထက် နည်းတဲ့ pixel တွေကို 0 ၊ 255 - 64 = 191 ထက် များတဲ့ pixel တွေကို 255 ကို ပြောင်းပစ်ပါမယ်။ \n",
    "\n",
    "* **Exercise** -- ဒီ transformation ကို `numpy` သုံးပြီး ရေးပါ။"
   ]
  },
  {
   "cell_type": "code",
   "execution_count": null,
   "metadata": {},
   "outputs": [],
   "source": [
    "# uncomment and fix the ???s\n",
    "# np_sample_gray[???] = 0\n",
    "# np_sample_gray[???] = 255\n",
    "\n",
    "_ = plt.figure(figsize=(10, 10))\n",
    "plt.imshow(np_sample_gray, cmap=\"gray\")\n",
    "plt.show()"
   ]
  },
  {
   "cell_type": "code",
   "execution_count": null,
   "metadata": {},
   "outputs": [],
   "source": [
    "# get the points (coordinates) likely to be in a digit\n",
    "mser = cv2.MSER_create(10)\n",
    "points, _ = mser.detectRegions(np_sample_gray)\n",
    "points_X = np.concatenate([np.array(p) for p in points])\n",
    "points_X.shape, len(points)"
   ]
  },
  {
   "cell_type": "code",
   "execution_count": 52,
   "metadata": {},
   "outputs": [
    {
     "data": {
      "text/plain": [
       "(0, 139)"
      ]
     },
     "execution_count": 52,
     "metadata": {},
     "output_type": "execute_result"
    }
   ],
   "source": [
    "#dbscan = cluster.DBSCAN(eps=1.0, min_samples=15)\n",
    "#ys = dbscan.fit_predict(points_X)\n",
    "kmeans = cluster.KMeans(n_clusters=140)\n",
    "ys = kmeans.fit_predict(points_X)\n",
    "ys.min(), ys.max()"
   ]
  },
  {
   "cell_type": "code",
   "execution_count": null,
   "metadata": {},
   "outputs": [],
   "source": [
    "def get_center(points_X, ys, cluster_id):\n",
    "    selector = ys == cluster_id\n",
    "    min_y, max_y =  points_X[selector, 1].min(), points_X[selector, 1].max()\n",
    "    min_x, max_x, = points_X[selector, 0].min(), points_X[selector, 0].max()\n",
    "    w, h = max_x - min_x, max_y - min_y\n",
    "    cx, cy = min_x + w/2, min_y + h/2\n",
    "    return cy, cx\n",
    "\n",
    "def get_digit(np_sample, points_X, ys, cluster_id, width=256, height=256):\n",
    "    cy, cx = get_center(points_X, ys, cluster_id)\n",
    "    st_x, st_y = max(0, int(cx - width/2)), max(0, int(cy - height/2))\n",
    "    en_x, en_y = min(np_sample.shape[1], st_x + width), min(np_sample.shape[0], st_y + height)\n",
    "    return np_sample[st_y:en_y, st_x: en_x]\n",
    "    \n",
    "def show_digit(np_sample, points_X, ys, cluster_id, ax=plt, width=256, height=256):\n",
    "    ax.imshow(get_digit(np_sample, points_X, ys, cluster_id, width=width, height=height), cmap=\"gray\")"
   ]
  },
  {
   "cell_type": "code",
   "execution_count": null,
   "metadata": {},
   "outputs": [],
   "source": [
    "fig, axs = plt.subplots(14, 10, figsize=(15, 10))\n",
    "id = 0\n",
    "for r in axs:\n",
    "    for ax in r:\n",
    "        show_digit(np_sample_gray, points_X, ys, id , ax=ax, width=64, height=64)\n",
    "        id = id + 1\n",
    "        if id >= ys.max():\n",
    "            break\n",
    "        \n",
    "plt.show()"
   ]
  },
  {
   "cell_type": "code",
   "execution_count": null,
   "metadata": {},
   "outputs": [],
   "source": [
    "labels = np.array([\n",
    "    [5, 2, 8, 0, 5, 8, 7, 3, 5, 8],\n",
    "    [0, 0, 2, 8, 5, 7, 0, 4, 0, 2],\n",
    "])"
   ]
  },
  {
   "cell_type": "code",
   "execution_count": null,
   "metadata": {},
   "outputs": [],
   "source": [
    "offset = 1000\n",
    "for id in range(ys.min() + offset, ys.max() + offset):\n",
    "    img = get_digit(np_sample_gray, points_X, ys, id, width=64, height=64)\n",
    "    img = Image.fromarray(img, mode=\"L\")\n",
    "    img.save(\"data/img_{}_{}.png\".format(str(id).zfill(4), labels.flatten()[id]))"
   ]
  },
  {
   "cell_type": "code",
   "execution_count": null,
   "metadata": {},
   "outputs": [],
   "source": []
  }
 ],
 "metadata": {
  "kernelspec": {
   "display_name": "Python 3.7.13 ('py37-dsup')",
   "language": "python",
   "name": "python3"
  },
  "language_info": {
   "codemirror_mode": {
    "name": "ipython",
    "version": 3
   },
   "file_extension": ".py",
   "mimetype": "text/x-python",
   "name": "python",
   "nbconvert_exporter": "python",
   "pygments_lexer": "ipython3",
   "version": "3.7.13"
  },
  "orig_nbformat": 4,
  "vscode": {
   "interpreter": {
    "hash": "cf5841eeb9fdd70b5a32cd740512a3aae54df2b4f66ae714b228eb262545450d"
   }
  }
 },
 "nbformat": 4,
 "nbformat_minor": 2
}
