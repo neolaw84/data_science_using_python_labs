{
 "cells": [
  {
   "cell_type": "code",
   "execution_count": null,
   "metadata": {},
   "outputs": [],
   "source": [
    "# git clone ... you know the drill. url is https://github.com/neolaw84/data_science_using_python_labs.git"
   ]
  },
  {
   "cell_type": "code",
   "execution_count": null,
   "metadata": {},
   "outputs": [],
   "source": [
    "# and change directory to data_science_using_python_labs/week02"
   ]
  },
  {
   "cell_type": "markdown",
   "metadata": {},
   "source": [
    "## Control Flow (If Statement)\n",
    "\n",
    "Consider this function: \n",
    "\n",
    "$$\n",
    "  f(x) =\n",
    "    \\begin{cases}\n",
    "      x & \\text{if $x \\geq 0$}\\\\\n",
    "      0 & \\text{otherwise}\n",
    "    \\end{cases}\n",
    "$$\n",
    "\n",
    "\n"
   ]
  },
  {
   "cell_type": "code",
   "execution_count": null,
   "metadata": {},
   "outputs": [],
   "source": [
    "# try this\n",
    "# this is more traditional programming-like\n",
    "def f(x):\n",
    "  if x >= 0:\n",
    "    return x\n",
    "  else:\n",
    "    return 0\n",
    "\n",
    "print (\"f(-0.2) is {}\".format(f(-0.2)))\n",
    "print (\"f(0.78) is {}\".format(f(0.78)))"
   ]
  },
  {
   "cell_type": "code",
   "execution_count": null,
   "metadata": {},
   "outputs": [],
   "source": [
    "# also try this\n",
    "def sales_tax(state, amount):\n",
    "    if state.lower() == \"oregon\":\n",
    "        return amount * 0.0\n",
    "    elif state.lower() == \"california\":\n",
    "        return amount * 0.0725\n",
    "    elif state.lower() == \"washington\":\n",
    "        return amount * 0.065\n",
    "    else:\n",
    "        return 0.0\n",
    "    \n",
    "print (sales_tax(\"oregon\", 100.0))\n",
    "print (sales_tax(\"california\", 100.0))\n",
    "print (sales_tax(\"washington\", 100.0))"
   ]
  },
  {
   "cell_type": "markdown",
   "metadata": {},
   "source": [
    "## Boolean Expressions\n",
    "\n",
    "Remember `boolean` primitive data type ? \n",
    "\n",
    "A boolean `True` or `False` is result of \"logical expression\". \n",
    "\n",
    "### Comparison Operators\n",
    "\n",
    "Evaluation of comparison operators gives you a boolean value.\n",
    "\n",
    "```python\n",
    "print (10.0 >= 5.0) # print True\n",
    "print (10.0 == 5.0) # print False (it means equal)\n",
    "print (10.0 > 5.0)  # print True\n",
    "print (10.0 < 5.0)  # print False\n",
    "print (10.0 <= 5.0) # print False\n",
    "print (10.0 != 5.0) # print True (it means not equal)\n",
    "print ('a' == 'a')  # print True\n",
    "print ('a' != 'b')  # print True\n",
    "a = None\n",
    "b = 5\n",
    "print (a is None)   # print True\n",
    "print (b is not None) # print True\n",
    "```"
   ]
  },
  {
   "cell_type": "code",
   "execution_count": null,
   "metadata": {},
   "outputs": [],
   "source": [
    "# Try here"
   ]
  },
  {
   "cell_type": "markdown",
   "metadata": {},
   "source": [
    "### Logical Operators\n",
    "\n",
    "Evaluation of logical operators also gives you a boolean value. \n",
    "\n",
    "```python\n",
    "print (True or False) # print True\n",
    "print (not True)      # print False\n",
    "print (not True or False) # print False\n",
    "print (True and 10 > 5) # print True\n",
    "print (not False and True and (10 > 5 or 10 < 5>)) # print True\n",
    "```"
   ]
  },
  {
   "cell_type": "code",
   "execution_count": null,
   "metadata": {},
   "outputs": [],
   "source": [
    "# Try here"
   ]
  },
  {
   "cell_type": "markdown",
   "metadata": {},
   "source": [
    "## Anatomy of an if Statement\n",
    "\n",
    "A simple if without an `else`:\n",
    "\n",
    "```python\n",
    "if <boolean expression>:\n",
    "    # statements to run if <boolean expression> evaluates to True\n",
    "    do_this_if_true()\n",
    "    # it can be multi statements\n",
    "    do_this_as_well_if_true()\n",
    "```\n",
    "\n",
    "An if/else statement:\n",
    "\n",
    "```python\n",
    "if <boolean expression>:\n",
    "    # statements to run if <boolean expression> evaluates to True\n",
    "    do_this_if_true()\n",
    "    # it can be multi statements\n",
    "    do_this_as_well_if_true()\n",
    "else:\n",
    "    # statements to run if <boolean expression> evaluates to False\n",
    "    do_this_if_false()\n",
    "    # it can be multi statements\n",
    "    do_this_as_well_if_false()\n",
    "```\n",
    "\n",
    "An if/elif/else statement:\n",
    "\n",
    "```python\n",
    "if <boolean expression 1>:\n",
    "    # statements to run if <boolean expression 1> evaluates to True\n",
    "    do_this_if_exp_1_true()\n",
    "    # it can be multi statements\n",
    "    do_this_as_well_if_exp_1_true()\n",
    "elif <boolean expression 2>:\n",
    "    # statements to run if <boolean expression 1> evaluates to True\n",
    "    do_this_if_exp_2_true()\n",
    "    # it can be multi statements\n",
    "    do_this_as_well_if_exp_2_true()\n",
    "elif <boolean expression 3>:\n",
    "    # so on and so forth\n",
    "else:\n",
    "    # statements to run if <boolean expression> evaluates to False\n",
    "    do_this_if_false()\n",
    "    # it can be multi statements\n",
    "    do_this_as_well_if_false()\n",
    "```"
   ]
  },
  {
   "cell_type": "code",
   "execution_count": null,
   "metadata": {},
   "outputs": [],
   "source": [
    "%%writefile lab_control_1.py\n",
    "def add_or_subtract(operator, num_1, num_2):\n",
    "    if operator == '+':\n",
    "        return num_1 + num_2\n",
    "    elif operator == '-':\n",
    "        return None # modify this\n",
    "    else:\n",
    "        raise NotImplementedError(\"operator other than '+' and '-' are not implemented.\")\n",
    "    \n",
    "def arithmetic(operator, num_1, num_2):\n",
    "    # implement all arithmetic operators '+', '-', '*' and '/'\n",
    "    # raise NotImplementedError(\"division by zero is undefined.\") if num_2 is zero\n",
    "    pass"
   ]
  },
  {
   "cell_type": "code",
   "execution_count": null,
   "metadata": {},
   "outputs": [],
   "source": [
    "!pytest test_control_1.py"
   ]
  }
 ],
 "metadata": {
  "interpreter": {
   "hash": "3a9c1e998c7d6d5f29587b2c70e9bd488bb486b902354401efc27ca8457f04e9"
  },
  "kernelspec": {
   "display_name": "Python 3.7.11 ('py37-dsup')",
   "language": "python",
   "name": "python3"
  },
  "language_info": {
   "codemirror_mode": {
    "name": "ipython",
    "version": 3
   },
   "file_extension": ".py",
   "mimetype": "text/x-python",
   "name": "python",
   "nbconvert_exporter": "python",
   "pygments_lexer": "ipython3",
   "version": "3.7.11"
  },
  "orig_nbformat": 4
 },
 "nbformat": 4,
 "nbformat_minor": 2
}
