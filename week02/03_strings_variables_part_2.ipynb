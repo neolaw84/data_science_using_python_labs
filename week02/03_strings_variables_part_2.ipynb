{
 "cells": [
  {
   "cell_type": "markdown",
   "metadata": {},
   "source": [
    "# String နဲ့ Variable တွေ အကြောင်း Part II\n",
    "\n",
    "String နဲ့ Variable တွေ အကြောင်းကို ခပ်သွက်သွက်လေး ပြန်ကြည့်ရအောင်။ အရင်ဆုံး lab တွေရဲ့ အဖြေကို အောက်မှာ ပေးထားမယ်။"
   ]
  },
  {
   "cell_type": "code",
   "execution_count": null,
   "metadata": {},
   "outputs": [],
   "source": [
    "# ဒီ cell ကို run လိုက်ပါ။\n",
    "!git clone https://github.com/neolaw84/data_science_using_python_labs.git"
   ]
  },
  {
   "cell_type": "code",
   "execution_count": null,
   "metadata": {},
   "outputs": [],
   "source": [
    "%cd data_science_using_python_labs/week02"
   ]
  },
  {
   "cell_type": "code",
   "execution_count": null,
   "metadata": {},
   "outputs": [],
   "source": [
    "%%writefile lab_string.py\n",
    "print (\"I'm a string, \")\n",
    "print ('said, \"A piece of data\"')"
   ]
  },
  {
   "cell_type": "code",
   "execution_count": null,
   "metadata": {},
   "outputs": [],
   "source": [
    "!pytest test_string.py"
   ]
  },
  {
   "cell_type": "code",
   "execution_count": null,
   "metadata": {},
   "outputs": [],
   "source": [
    "%%writefile lab_variable_1.py\n",
    "a=10\n",
    "b=10.0\n",
    "c=False"
   ]
  },
  {
   "cell_type": "code",
   "execution_count": null,
   "metadata": {},
   "outputs": [],
   "source": [
    "!pytest test_variable_1.py"
   ]
  },
  {
   "cell_type": "code",
   "execution_count": null,
   "metadata": {},
   "outputs": [],
   "source": [
    "%%writefile lab_variable_2.py\n",
    "price=99.99\n",
    "quantity=5\n",
    "VAT=0.10\n",
    "total_before_vat = price*quantity\n",
    "total=total_before_vat + total_before_vat * VAT"
   ]
  },
  {
   "cell_type": "code",
   "execution_count": null,
   "metadata": {},
   "outputs": [],
   "source": [
    "!pytest test_variable_2.py"
   ]
  },
  {
   "cell_type": "code",
   "execution_count": null,
   "metadata": {},
   "outputs": [],
   "source": [
    "%%writefile lab_variable_3.py\n",
    "def area_of_rectangle(length, breadth):\n",
    "    area = length * breadth\n",
    "    return area\n",
    "\n",
    "from math import pi\n",
    "def area_of_circle(radius):\n",
    "    area = pi * radius * radius\n",
    "    return area\n",
    "\n",
    "def area_of_triangle(base, height):\n",
    "    area = 0.5 * base * height\n",
    "    return area"
   ]
  },
  {
   "cell_type": "code",
   "execution_count": null,
   "metadata": {},
   "outputs": [],
   "source": [
    "!pytest test_variable_3.py"
   ]
  },
  {
   "cell_type": "markdown",
   "metadata": {},
   "source": [
    "မမေ့အောင် String လေ့ကျင့်ခန်း နောက်တခု လုပ်ကြည့်ရအောင်။\n",
    "\n",
    "a ဆိုတဲ့ variable ထဲကို \"Alice\" ဆိုတဲ့ string ထည့်ပါ။ \n",
    "b ဆိုတဲ့ variable ထဲကို \"Bob\" ဆိုတဲ့ string ထည့်ပါ။ \n",
    "sym_key ဆိုတဲ့ variable ထဲကို \"symmetric_key\" ဆိုတဲ့ string ထည့်ပါ။\n",
    "b_sign ထဲကို \"bob's signature\", a_public ထဲကို \"alice' public key\", a_private ထဲကို \"alice' private key\" အသီးသီး ထည့်ပါ။\n",
    "\n",
    "ပြီးရင် အောက်ပါ message ကို print ထုတ်ပေးပါ။ (format method ကို သုံးပါ။)\n",
    "\n",
    "Now let’s say that Bob is a lawyer, and he wants to send a secret message 'hello A, from B' to Alice. He takes a box from his shelf, and which has a unique key (symmetric_key). He takes photograph of himself holding the message, and puts the message into the box with the photograph (bob's signature). Next, he takes a box that Alice send to him (alice' public key) and puts the secret key into the box. Now Bob cannot open any of the boxes. He then sends the two boxes to Alice. Alice takes the second box, and sources the key (alice' private key) to that box. She opens this box, and it contains the key for the first box, and then opens it. She then reads the message, and check the photograph."
   ]
  },
  {
   "cell_type": "code",
   "execution_count": null,
   "metadata": {},
   "outputs": [],
   "source": [
    "%%writefile lab_string_2.py\n",
    "# write your program here"
   ]
  },
  {
   "cell_type": "code",
   "execution_count": null,
   "metadata": {},
   "outputs": [],
   "source": [
    "!pytest test_string_2.py"
   ]
  },
  {
   "cell_type": "markdown",
   "metadata": {},
   "source": [
    "### String Arithmetics \n",
    "\n",
    "```python\n",
    "a = \"Hello\" + \" \" + \"World\" # concatenation of \"Hello\", \" \" and \"World\" will be in variable 'a'\n",
    "```\n",
    "\n",
    "So what happens when you add (+) a string with an integer ? \n",
    "\n",
    "Try it yourself: \n",
    "\n",
    "```python\n",
    "a = \"Hello \" + 42\n",
    "```"
   ]
  },
  {
   "cell_type": "code",
   "execution_count": null,
   "metadata": {},
   "outputs": [],
   "source": [
    "a = \"Hello \" + 42"
   ]
  },
  {
   "cell_type": "markdown",
   "metadata": {},
   "source": [
    "ဒီလေ့ကျင့်ခန်းမှာ ... \n",
    "\n",
    "Variable 'i' ထဲကို 42 ကို ထည့်ပါ။ \n",
    "ပြီးတော့ \"The Ultimate Answer is <i ရဲ့ တန်ဖိုး>\" လို့ format method မသုံးပဲ ရိုက်ထုတ်ကြည့်ပါ။ \n",
    "\n",
    "> Hint: use function to convert primitive type"
   ]
  },
  {
   "cell_type": "code",
   "execution_count": null,
   "metadata": {},
   "outputs": [],
   "source": [
    "%%writefile lab_string_3.py\n"
   ]
  },
  {
   "cell_type": "code",
   "execution_count": null,
   "metadata": {},
   "outputs": [],
   "source": [
    "!pytest test_string_3.py"
   ]
  },
  {
   "cell_type": "code",
   "execution_count": null,
   "metadata": {},
   "outputs": [],
   "source": []
  }
 ],
 "metadata": {
  "interpreter": {
   "hash": "3a9c1e998c7d6d5f29587b2c70e9bd488bb486b902354401efc27ca8457f04e9"
  },
  "kernelspec": {
   "display_name": "Python 3.7.11 ('py37-dsup')",
   "language": "python",
   "name": "python3"
  },
  "language_info": {
   "codemirror_mode": {
    "name": "ipython",
    "version": 3
   },
   "file_extension": ".py",
   "mimetype": "text/x-python",
   "name": "python",
   "nbconvert_exporter": "python",
   "pygments_lexer": "ipython3",
   "version": "3.7.11"
  },
  "orig_nbformat": 4
 },
 "nbformat": 4,
 "nbformat_minor": 2
}
