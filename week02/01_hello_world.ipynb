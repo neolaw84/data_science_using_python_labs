{
 "cells": [
  {
   "cell_type": "code",
   "execution_count": null,
   "metadata": {},
   "outputs": [],
   "source": [
    "# ဒီ cell ကို run လိုက်ပါ။\n",
    "!git clone https://github.com/neolaw84/data_science_using_python_labs.git\n",
    "%cd week02"
   ]
  },
  {
   "cell_type": "markdown",
   "metadata": {},
   "source": [
    "# Hello World\n",
    "\n",
    "\"Hello World\" လို့ print ထုတ်တဲ့ statement တကြောင်းထဲပါတဲ့ Python program ကို ရေးကြည့်ရအောင်။\n",
    "\n",
    "```python\n",
    "# beginning of program\n",
    "print(\"Hello World\")\n",
    "# end of program\n",
    "```\n",
    "\n",
    "အပေါ်က program ကို အောက်က cell မှာ ကူးရေးပါ။"
   ]
  },
  {
   "cell_type": "code",
   "execution_count": null,
   "metadata": {},
   "outputs": [],
   "source": [
    "# copy the program here and run\n",
    "# you will see the output underneath\n"
   ]
  },
  {
   "cell_type": "code",
   "execution_count": 1,
   "metadata": {},
   "outputs": [
    {
     "name": "stdout",
     "output_type": "stream",
     "text": [
      "Writing lab_hello_world.py\n"
     ]
    }
   ],
   "source": [
    "%%writefile lab_hello_world.py\n",
    "# copy the program here to make the program file called \"lab_hello_world.py\"\n"
   ]
  },
  {
   "cell_type": "code",
   "execution_count": null,
   "metadata": {},
   "outputs": [],
   "source": [
    "# program မှန် မမှန်ကို ဒီ cell ကို run ပြီး စမ်းသပ်ပါ။\n",
    "!pytest test_hello_world.py"
   ]
  },
  {
   "cell_type": "code",
   "execution_count": null,
   "metadata": {},
   "outputs": [],
   "source": [
    "# မင်္ဂလာပါ ကမ္ဘာကြီး လို့ output ထုတ်ပေးတဲ့ program ကို ဒီ cell မှာ ရေးကြည့်ပါ။\n",
    "# ပြီးရင် run စမ်းကြည့်ပါ။"
   ]
  },
  {
   "cell_type": "code",
   "execution_count": null,
   "metadata": {},
   "outputs": [],
   "source": [
    "%%writefile lab_hello_world_burmese.py\n",
    "# အပေါ်က မင်္ဂလာပါ ကမ္ဘာကြီး လို့ output ထုတ်ပေးတဲ့ program ကို ဒီ cell မှာ ပြန်ရေးပါ။\n",
    "# this is how to make a program file called \"lab_hello_world_burmese.py\"\n"
   ]
  },
  {
   "cell_type": "code",
   "execution_count": null,
   "metadata": {},
   "outputs": [],
   "source": [
    "# program မှန် မမှန်ကို ဒီ cell ကို run ပြီး စမ်းသပ်ပါ။\n",
    "!pytest test_hello_world_burmese.py"
   ]
  },
  {
   "cell_type": "code",
   "execution_count": null,
   "metadata": {},
   "outputs": [],
   "source": [
    "# \"My name is xxxxx\" လို့ ကိုယ့်နာမည်ကိုယ် output ထုတ်တဲ့ program ရေးကြည့်ပါ။\n"
   ]
  },
  {
   "cell_type": "code",
   "execution_count": null,
   "metadata": {},
   "outputs": [],
   "source": [
    "%%writefile ???\n",
    "# now create \"lab_my_name.py\" file containing the above program\n"
   ]
  },
  {
   "cell_type": "code",
   "execution_count": null,
   "metadata": {},
   "outputs": [],
   "source": [
    "# now test your program file here\n",
    "!pytest test_my_name.py"
   ]
  },
  {
   "cell_type": "markdown",
   "metadata": {},
   "source": [
    "ဒီနေ့ print statement တကြောင်းပါတဲ့ program ၃ ပုဒ် တိတိ ရေးသားခဲ့ပြီးပြီ ဖြစ်တယ်။ အဲဒီ program တွေကို ကိုယ်တိုင်လဲ run ပြီး စမ်းသလို ကြိုရေးထားတဲ့ unit test တွေနဲ့လဲ စမ်းသပ်ခဲ့ကြတယ်။"
   ]
  }
 ],
 "metadata": {
  "interpreter": {
   "hash": "f792a7eec3ba60b8007a3aae8ec9cd60d75909b5c6defe1f32f0e6f2b206c5f7"
  },
  "kernelspec": {
   "display_name": "Python 3.7.11 64-bit ('py37-dspy': conda)",
   "language": "python",
   "name": "python3"
  },
  "language_info": {
   "codemirror_mode": {
    "name": "ipython",
    "version": 3
   },
   "file_extension": ".py",
   "mimetype": "text/x-python",
   "name": "python",
   "nbconvert_exporter": "python",
   "pygments_lexer": "ipython3",
   "version": "3.7.11"
  },
  "orig_nbformat": 4
 },
 "nbformat": 4,
 "nbformat_minor": 2
}
