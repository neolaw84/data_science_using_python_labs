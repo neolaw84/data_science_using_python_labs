{
 "cells": [
  {
   "cell_type": "markdown",
   "metadata": {},
   "source": [
    "# String နဲ့ Variable တွေ အကြောင်း\n",
    "\n",
    "## Strings\n",
    "\n",
    "String နဲ့ ပတ်သက်တဲ့ လေ့ကျင့်ခန်းတွေ လုပ်ကြမယ်။"
   ]
  },
  {
   "cell_type": "code",
   "execution_count": null,
   "metadata": {},
   "outputs": [],
   "source": [
    "# ဒီ cell ကို run လိုက်ပါ။\n",
    "!git clone https://github.com/neolaw84/data_science_using_python_labs.git\n",
    "%cd week02"
   ]
  },
  {
   "cell_type": "code",
   "execution_count": null,
   "metadata": {},
   "outputs": [],
   "source": [
    "# လေ့ကျင့်ခန်း အနေနဲ့ အောက်ပါ output ထုတ်ပေးတဲ့ program ကို ရေးပါ။ Multi-line String (\"\"\" xxx \"\"\") မသုံးရ\n",
    "# I'm a string,\n",
    "# said, \"A piece of data\""
   ]
  },
  {
   "cell_type": "code",
   "execution_count": null,
   "metadata": {},
   "outputs": [],
   "source": [
    "# အပေါ်က ရေးထားတဲ့ program ကို lab_string.py ထဲကို ရေးထည့်ပါ"
   ]
  },
  {
   "cell_type": "code",
   "execution_count": null,
   "metadata": {},
   "outputs": [],
   "source": [
    "# ပြီးရင် စမ်းပါ\n",
    "!pytest test_string.py"
   ]
  },
  {
   "cell_type": "markdown",
   "metadata": {},
   "source": [
    "## Variables\n",
    "\n",
    "Variable နဲ့ ပတ်သက်တဲ့ လေ့ကျင့်ခန်းတွေ လုပ်ကြမယ်။\n",
    "\n",
    "1. lab_variable_1.py ကို ရေးပါ။ ပြီးရင် test_variable_1.py နဲ့ စမ်းပါ။\n",
    "variable 'a' ထဲကို integer တန်ဖိုး 10 ထည့်ပါ။ variable 'b' ထဲကို float တန်ဖိုး 10.0 ထည့်ပါ။ variable 'c' ထဲကို boolean တန်ဖိုး False ထည့်ပါ။\n",
    "\n",
    "2. lab_variable_2.py ကို ရေးပါ။ ပြီးရင် test_variable_2.py နဲ့ စမ်းပါ။\n",
    "variable 'price' ထဲကို float တန်ဖိုး 99.99 ထည့်ပါ။ variable 'quantity' ထဲကို integer တန်ဖိုး 5 ထည့်ပါ။ variable 'VAT' ထဲကို float တန်ဖိုး 0.10 ထည့်ပါ။ 99.99 တန် ပစ္စည်း 5 ခု ဝယ်လျှင် Value Added Tax (VAT) 10% ထည့်ပေါင်းအပြီး ရှင်းရမည့် ငွေပမာဏကို variable 'total' ထဲ ထည့်ပါ။\n",
    "\n",
    "3. Geometry shape များဖြစ်သည့် Rectangle, Circle, Triagle များ၏ Area တွက်သည့် Function များကို အောက်တွင် ပေးထားသည်။ ၄င်းကို lab_variable_3.py ထဲ ရေးပါ။ ပြီးရင် test_variable_3.py နဲ့ စမ်းပါ။\n",
    "```python\n",
    "def area_of_rectangle(length, breadth):\n",
    "    # variable 'area' ထဲသို့ ပေးထားသော rectangle ၏ area တွက်ထည့်ပါ။\n",
    "    return area\n",
    "\n",
    "from math import pi\n",
    "def area_of_circle(radius):\n",
    "    # constant 'pi' နှင့် variable 'radius' တို့ကို အသုံးပြုပြီး variable 'area' ထဲသို့ circle ၏ area တွက်ထည့်ပါ။\n",
    "    return area\n",
    "\n",
    "def area_of_triangle(base, height):\n",
    "    # variable 'area' ထဲသို့ triangle ၏ area တွက်ထည့်ပါ။\n",
    "    return area\n",
    "```"
   ]
  },
  {
   "cell_type": "code",
   "execution_count": null,
   "metadata": {},
   "outputs": [],
   "source": []
  }
 ],
 "metadata": {
  "interpreter": {
   "hash": "3a9c1e998c7d6d5f29587b2c70e9bd488bb486b902354401efc27ca8457f04e9"
  },
  "kernelspec": {
   "display_name": "Python 3.7.11 ('py37-dsup')",
   "language": "python",
   "name": "python3"
  },
  "language_info": {
   "codemirror_mode": {
    "name": "ipython",
    "version": 3
   },
   "file_extension": ".py",
   "mimetype": "text/x-python",
   "name": "python",
   "nbconvert_exporter": "python",
   "pygments_lexer": "ipython3",
   "version": "3.7.11"
  },
  "orig_nbformat": 4
 },
 "nbformat": 4,
 "nbformat_minor": 2
}
