{
 "cells": [
  {
   "cell_type": "markdown",
   "metadata": {},
   "source": [
    "# Part 1 - Project\n",
    "\n",
    "Part 1 ရဲ့ အဆုံးသတ်အဖြစ် [MNIST dataset](http://yann.lecun.com/exdb/mnist/) က ဂဏန်း ရုပ်ပုံတွေကို Machine က ဖတ်ပြီး ဘာဂဏန်းလဲလို့ အဖြေထုတ်နိုင်စေမဲ့ ပြဿနာကို ဖြေရှင်းမှာ ဖြစ်ပါတယ်။"
   ]
  },
  {
   "cell_type": "code",
   "execution_count": null,
   "metadata": {},
   "outputs": [],
   "source": [
    "!git clone https://github.com/neolaw84/data_science_using_python_labs.git\n",
    "%cd data_science_using_python_labs/week12"
   ]
  },
  {
   "cell_type": "code",
   "execution_count": null,
   "metadata": {},
   "outputs": [],
   "source": [
    "%matplotlib inline\n",
    "import importlib\n",
    "\n",
    "import numpy as np\n",
    "from scipy import linalg \n",
    "\n",
    "from matplotlib import pyplot as plt\n",
    "\n",
    "from sklearn import datasets\n",
    "from sklearn import linear_model\n",
    "from sklearn import metrics\n",
    "from sklearn import model_selection\n",
    "from sklearn import cluster\n",
    "\n",
    "import utils"
   ]
  },
  {
   "cell_type": "code",
   "execution_count": null,
   "metadata": {},
   "outputs": [],
   "source": [
    "from keras.datasets import mnist\n",
    "\n",
    "(train_X, train_y), (test_X, test_y) = mnist.load_data()\n",
    "\n",
    "print('train_X: ' + str(train_X.shape))\n",
    "print('train_y: ' + str(train_y.shape))\n",
    "print('test_X:  '  + str(test_X.shape))\n",
    "print('test_y:  '  + str(test_y.shape))"
   ]
  },
  {
   "cell_type": "markdown",
   "metadata": {},
   "source": [
    "အပေါ်က cell က output တွေအရ train_X ဟာ 3d array တခု ဖြစ်တယ်။ ပထမဆုံး dimension မှာ sample 60,000 ပါတယ်။ sample တခုစီမှာ 28 x 28 image တခုစီပါတယ်။ \n",
    "\n",
    "1. Dimension 1 : 60,000\n",
    "2. Dimension 2 : 28 and\n",
    "3. Dimension 3 : 28 ဖြစ်တယ်။ \n",
    "\n",
    "ဒီတော့ အဲဒီ ပုံတွေနဲ့ label တွေကို ကြည့်နိုင်ဖို့ `utils.visualize` ဆိုတဲ့ function ကို သုံးကြမယ်။"
   ]
  },
  {
   "cell_type": "code",
   "execution_count": null,
   "metadata": {},
   "outputs": [],
   "source": [
    "utils.visualize(train_X[:12], train_y[:12], n_cols=3)"
   ]
  },
  {
   "cell_type": "markdown",
   "metadata": {},
   "source": [
    "အပေါ်က ပုံမှာ train_X ထဲက ဓာတ်ပုံတွေနဲ့ train_y ထဲက class အမှန်တွေကို ပြထားတယ်။ \n",
    "\n",
    "အခု အသုံးနည်းနည်း ကျင်လည်သွားအောင် `utils.visualize` ကိုသုံးပြီး X_train ထဲက 1001-1012 အထိ data တွေကို visualize ကြည့်ပါဦး။"
   ]
  },
  {
   "cell_type": "code",
   "execution_count": null,
   "metadata": {},
   "outputs": [],
   "source": [
    "# visualize sample 1001 - 1015 with 5 images in a row"
   ]
  },
  {
   "cell_type": "markdown",
   "metadata": {},
   "source": [
    "## 1. What problem is it ? \n",
    "\n",
    "ဒီပြဿနာက ဘာပြဿနာလဲ။ \n",
    "\n",
    "* Regression\n",
    "* Classification\n",
    "* ~~Clustering~~ or \n",
    "* ~~Dimensional Reduction~~ ?\n",
    "\n",
    "> Hint: Recipe 10 and Recipe 16\n",
    "\n",
    "## 2. ဘာပြဿနာပဲ ဖြစ်ဖြစ် အခုအတိုင်း model ဆောက်လို့ ရလား။\n",
    "\n",
    "What is the function signature of `fit` ? \n",
    "\n",
    "တကယ်လို့ မရခဲ့ရင် ဘယ်လို လုပ်ကြမလဲ။\n",
    "\n",
    "> Hint: Recipe 20\n",
    "\n",
    "## 3. ဘာပဲပြောပြော data က သိပ်များလွန်းအားကြီးတယ်။ \n",
    "\n",
    "ဒီတော့ data ရှေ့ဆုံး 5000 ကိုပဲ သုံးပြီး model ဆောက်ကြရအောင်။ \n",
    "ပြီးတော့ ပုံရဲ့ အနားသားတွေက သိပ်အရေးမပါဘူး၊ ဟိုဘက် ဒီဘက် 5 pixel စီလောက် လှီး (crop) လိုက်ရင်လဲ accuracy မှာ သိပ်သိသာမှာ မဟုတ်ဘူး။ ဒီတော့ အဲဒါတွေလဲ လှီးထုတ်လိုက်ရအောင်။\n",
    "\n",
    "> Hint: Use `numpy` slicing"
   ]
  },
  {
   "cell_type": "code",
   "execution_count": null,
   "metadata": {},
   "outputs": [],
   "source": [
    "# Make train_X_sm and train_y_sm to include only 5000 samples\n",
    "# Also make sure train_X_sm include only the center piece of the images.\n",
    "# Finally, make train_X_sm_flat to contain flatten/reshaped data (1d data)."
   ]
  },
  {
   "cell_type": "code",
   "execution_count": null,
   "metadata": {},
   "outputs": [],
   "source": [
    "# then, try to build a LogisticRegression model\n",
    "model = linear_model.LogisticRegression(\n",
    "    penalty=???,  # put what ?\n",
    "    C=???, # put some value like 1/0.0001 or 1/0.005\n",
    "    random_state=42,\n",
    "    solver=\"saga\", \n",
    "    max_iter=???, # put something like 2500\n",
    "    multi_class=\"ovr\",\n",
    "    l1_ratio=???, # put what ?\n",
    "    verbose=1,\n",
    "    n_jobs=4\n",
    ")\n",
    "model.fit(train_X_sm_flat, train_y_sm)"
   ]
  },
  {
   "cell_type": "code",
   "execution_count": null,
   "metadata": {},
   "outputs": [],
   "source": [
    "y_pred=model.predict(test_X[:,5:-5, 5:-5].reshape(-1, 18*18))\n",
    "print (metrics.classification_report(y_pred=y_pred, y_true=test_y))"
   ]
  },
  {
   "cell_type": "code",
   "execution_count": null,
   "metadata": {},
   "outputs": [],
   "source": [
    "utils.visualize(test_X[:100], model.predict(test_X[:100,5:-5, 5:-5].reshape(-1, 18*18)), n_cols=10)"
   ]
  },
  {
   "cell_type": "code",
   "execution_count": null,
   "metadata": {},
   "outputs": [],
   "source": [
    "# anyway, let's save this model\n",
    "import pickle\n",
    "with open(\"model.bin\", \"wb\") as f:\n",
    "    pickle.dump(model, f, protocol=pickle.HIGHEST_PROTOCOL)"
   ]
  },
  {
   "cell_type": "markdown",
   "metadata": {},
   "source": [
    "# 4. Data is still too huge!\n",
    "\n",
    "ဒီတော့ technique ပြောင်းရမယ်။ 0, 1 နဲ့ 2 ကိုပဲ ယူရမယ်။ train_y ထဲက y = 0/1/2 ဖြစ်တဲ့ index တွေယူပြီး `train_X_012_sm_flat` နဲ့ `train_y_012` ကို build ပါ။ \n",
    "\n",
    "အလားတူပဲ test_y ထဲက index နဲ့ `test_X_012_sm_flat` နဲ့ `test_y_012` ကို build ပါ။"
   ]
  },
  {
   "cell_type": "code",
   "execution_count": null,
   "metadata": {},
   "outputs": [],
   "source": [
    "# create train_X_012_sm_flat and train_y_012\n",
    "# as well as test_X_012_sm_flat, test_y_012"
   ]
  },
  {
   "cell_type": "code",
   "execution_count": null,
   "metadata": {},
   "outputs": [],
   "source": [
    "model2 = linear_model.LogisticRegression(\n",
    "    penalty=???,  # put what ?\n",
    "    C=???, # put some value like 1/0.0001 or 1/0.005\n",
    "    random_state=42,\n",
    "    solver=\"saga\", \n",
    "    max_iter=???, # put something like 2500\n",
    "    multi_class=\"ovr\",\n",
    "    verbose=1,\n",
    "    n_jobs=4\n",
    ")\n",
    "model2.fit(train_X_012_sm_flat, train_y_012)"
   ]
  },
  {
   "cell_type": "code",
   "execution_count": null,
   "metadata": {},
   "outputs": [],
   "source": [
    "y_pred = model2.predict(test_X_012_sm_flat)\n",
    "print (metrics.classification_report(y_pred=y_pred, y_true=test_y_012))"
   ]
  },
  {
   "cell_type": "code",
   "execution_count": null,
   "metadata": {},
   "outputs": [],
   "source": [
    "model2.coef_"
   ]
  },
  {
   "cell_type": "markdown",
   "metadata": {},
   "source": [
    "## 5. `coef_`\n",
    "\n",
    "`coef_` ထဲမှာ ဘယ် column က ဘယ်လောက် အရေးပါသလဲဆိုတဲ့ ဂဏန်းတွေ ရှိတယ်။ များလေအရေးပါလေပေါ့။\n",
    "\n",
    "> multi-class ဆိုရင် `n_class` row ရှိတယ်။\n",
    "\n",
    "အရေးအပါဆုံး column 50 စီကို ဘယ်လိုရှာမလဲ။\n",
    "\n",
    "> Hint: `numpy.argsort`\n",
    "\n",
    "ပထမ `model` ကနေ အရေးအပါဆုံး 50 စီကိုပြန်ရှာပြီး အဲဒီ column တွေပဲ သုံးပြီး `model3` ကို ဆောက်ကြည့်ပါ။ "
   ]
  },
  {
   "cell_type": "code",
   "execution_count": null,
   "metadata": {},
   "outputs": [],
   "source": [
    "# try to use argsort to get the indices of the important features\n",
    "# note: need to sort descending"
   ]
  },
  {
   "cell_type": "code",
   "execution_count": null,
   "metadata": {},
   "outputs": [],
   "source": [
    "# when you get the features, try to build model3 with only these features"
   ]
  },
  {
   "cell_type": "markdown",
   "metadata": {},
   "source": [
    "## တခြား dimensionality reduction technique ဘာရှိသေးလဲ။\n",
    "\n",
    "> Hint: Recipe 5"
   ]
  },
  {
   "cell_type": "code",
   "execution_count": null,
   "metadata": {},
   "outputs": [],
   "source": []
  }
 ],
 "metadata": {
  "kernelspec": {
   "display_name": "Python 3.7.11 ('py37-dsup')",
   "language": "python",
   "name": "python3"
  },
  "language_info": {
   "codemirror_mode": {
    "name": "ipython",
    "version": 3
   },
   "file_extension": ".py",
   "mimetype": "text/x-python",
   "name": "python",
   "nbconvert_exporter": "python",
   "pygments_lexer": "ipython3",
   "version": "3.7.11"
  },
  "orig_nbformat": 4,
  "vscode": {
   "interpreter": {
    "hash": "3a9c1e998c7d6d5f29587b2c70e9bd488bb486b902354401efc27ca8457f04e9"
   }
  }
 },
 "nbformat": 4,
 "nbformat_minor": 2
}
