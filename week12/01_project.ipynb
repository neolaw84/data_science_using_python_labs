{
 "cells": [
  {
   "cell_type": "markdown",
   "metadata": {},
   "source": [
    "# Part 1 - Project\n",
    "\n",
    "Part 1 ရဲ့ အဆုံးသတ်အဖြစ် [MNIST dataset](http://yann.lecun.com/exdb/mnist/) က ဂဏန်း ရုပ်ပုံတွေကို Machine က ဖတ်ပြီး ဘာဂဏန်းလဲလို့ အဖြေထုတ်နိုင်စေမဲ့ ပြဿနာကို ဖြေရှင်းမှာ ဖြစ်ပါတယ်။"
   ]
  },
  {
   "cell_type": "code",
   "execution_count": null,
   "metadata": {},
   "outputs": [],
   "source": [
    "!git clone https://github.com/neolaw84/data_science_using_python_labs.git\n",
    "%cd data_science_using_python_labs/week12"
   ]
  },
  {
   "cell_type": "code",
   "execution_count": null,
   "metadata": {},
   "outputs": [],
   "source": [
    "%matplotlib inline\n",
    "import importlib\n",
    "\n",
    "import numpy as np\n",
    "from scipy import linalg \n",
    "\n",
    "from matplotlib import pyplot as plt\n",
    "\n",
    "from sklearn import datasets\n",
    "from sklearn import linear_model\n",
    "from sklearn import metrics\n",
    "from sklearn import model_selection\n",
    "from sklearn import cluster\n",
    "\n",
    "import utils"
   ]
  },
  {
   "cell_type": "code",
   "execution_count": null,
   "metadata": {},
   "outputs": [],
   "source": [
    "from keras.datasets import mnist\n",
    "\n",
    "(train_X, train_y), (test_X, test_y) = mnist.load_data()\n",
    "\n",
    "print('train_X: ' + str(train_X.shape))\n",
    "print('train_y: ' + str(train_y.shape))\n",
    "print('test_X:  '  + str(test_X.shape))\n",
    "print('test_y:  '  + str(test_y.shape))"
   ]
  },
  {
   "cell_type": "markdown",
   "metadata": {},
   "source": [
    "အပေါ်က cell က output တွေအရ train_X ဟာ 3d array တခု ဖြစ်တယ်။ ပထမဆုံး dimension မှာ sample 60,000 ပါတယ်။ sample တခုစီမှာ 28 x 28 image တခုစီပါတယ်။ \n",
    "\n",
    "1. Dimension 1 : 60,000\n",
    "2. Dimension 2 : 28 and\n",
    "3. Dimension 3 : 28 ဖြစ်တယ်။ \n",
    "\n",
    "ဒီတော့ အဲဒီ ပုံတွေနဲ့ label တွေကို ကြည့်နိုင်ဖို့ `utils.visualize` ဆိုတဲ့ function ကို သုံးကြမယ်။"
   ]
  },
  {
   "cell_type": "code",
   "execution_count": null,
   "metadata": {},
   "outputs": [],
   "source": [
    "importlib.reload(utils)"
   ]
  },
  {
   "cell_type": "code",
   "execution_count": null,
   "metadata": {},
   "outputs": [],
   "source": [
    "utils.visualize(train_X[:12], train_y[:12], n_cols=3)"
   ]
  },
  {
   "cell_type": "markdown",
   "metadata": {},
   "source": [
    "အပေါ်က ပုံမှာ train_X ထဲက ဓာတ်ပုံတွေနဲ့ train_y ထဲက class အမှန်တွေကို ပြထားတယ်။ \n",
    "\n",
    "အခု အသုံးနည်းနည်း ကျင်လည်သွားအောင် `utils.visualize` ကိုသုံးပြီး X_train ထဲက 1001-1012 အထိ data တွေကို visualize ကြည့်ပါဦး။"
   ]
  },
  {
   "cell_type": "code",
   "execution_count": null,
   "metadata": {},
   "outputs": [],
   "source": [
    "# visualize sample 1001 - 1015 with 5 images in a row"
   ]
  },
  {
   "cell_type": "markdown",
   "metadata": {},
   "source": [
    "## 1. What problem is it ? \n",
    "\n",
    "ဒီပြဿနာက ဘာပြဿနာလဲ။ \n",
    "\n",
    "* Regression\n",
    "* Classification\n",
    "* ~~Clustering~~ or \n",
    "* ~~Dimensional Reduction~~ ?\n",
    "\n",
    "> Hint: Recipe 10 and Recipe 16\n",
    "\n",
    "## 2. ဘာပြဿနာပဲ ဖြစ်ဖြစ် အခုအတိုင်း model ဆောက်လို့ ရလား။\n",
    "\n",
    "What is the function signature of `fit` ? \n",
    "\n",
    "တကယ်လို့ မရခဲ့ရင် ဘယ်လို လုပ်ကြမလဲ။\n",
    "\n",
    "> Hint: Recipe 20\n",
    "\n",
    "## 3. ဘာပဲပြောပြော data က သိပ်များလွန်းအားကြီးတယ်။ \n",
    "\n",
    "ဒီတော့ data တဝက်ကိုပဲ သုံးပြီး model ဆောက်ကြရအောင်။ \n",
    "ပြီးတော့ ပုံရဲ့ အနားသားတွေက သိပ်အရေးမပါဘူး၊ ဟိုဘက် ဒီဘက် 5 pixel စီလောက် လှီး (crop) လိုက်ရင်လဲ accuracy မှာ သိပ်သိသာမှာ မဟုတ်ဘူး။ ဒီတော့ အဲဒါတွေလဲ လှီးထုတ်လိုက်ရအောင်။\n",
    "\n",
    "> Hint: Use `numpy` slicing"
   ]
  },
  {
   "cell_type": "code",
   "execution_count": null,
   "metadata": {},
   "outputs": [],
   "source": [
    "# Make train_X_sm and train_y_sm to include only half the data \n",
    "# Also make sure train_X_sm include only the center piece of the images.\n",
    "# Finally, make train_X_sm_flat to contain flatten/reshaped data (1d data)."
   ]
  },
  {
   "cell_type": "code",
   "execution_count": 7,
   "metadata": {},
   "outputs": [],
   "source": [
    "train_X_sm = train_X[:30000, 5:-5, 5:-5]\n",
    "train_X_sm_flat = train_X_sm.reshape(-1, 18*18)\n",
    "train_y_sm = train_y[:30000]"
   ]
  },
  {
   "cell_type": "code",
   "execution_count": 9,
   "metadata": {},
   "outputs": [
    {
     "name": "stderr",
     "output_type": "stream",
     "text": [
      "[Parallel(n_jobs=4)]: Using backend ThreadingBackend with 4 concurrent workers.\n"
     ]
    },
    {
     "name": "stdout",
     "output_type": "stream",
     "text": [
      "convergence after 675 epochs took 143 seconds\n",
      "convergence after 863 epochs took 199 seconds\n",
      "convergence after 840 epochs took 204 seconds\n",
      "convergence after 2443 epochs took 527 seconds\n",
      "convergence after 675 epochs took 150 seconds\n",
      "convergence after 2115 epochs took 472 seconds\n",
      "convergence after 2443 epochs took 545 seconds\n",
      "convergence after 1450 epochs took 284 seconds\n",
      "convergence after 2115 epochs took 444 seconds\n",
      "convergence after 964 epochs took 194 seconds\n",
      "convergence after 2287 epochs took 476 seconds\n"
     ]
    }
   ],
   "source": [
    "# then, try to build\n",
    "model = linear_model.LogisticRegression(\n",
    "    penalty=\"elasticnet\", \n",
    "    C=1/1e-6,\n",
    "    random_state=42,\n",
    "    solver=\"saga\", \n",
    "    max_iter=10000,\n",
    "    multi_class=\"ovr\",\n",
    "    l1_ratio=0.4,\n",
    "    verbose=1,\n",
    "    n_jobs=4\n",
    ")\n",
    "model.fit(train_X_sm_flat, train_y_sm)"
   ]
  },
  {
   "cell_type": "code",
   "execution_count": null,
   "metadata": {},
   "outputs": [
    {
     "name": "stdout",
     "output_type": "stream",
     "text": [
      "              precision    recall  f1-score   support\n",
      "\n",
      "           0       0.90      0.95      0.92       980\n",
      "           1       0.94      0.96      0.95      1135\n",
      "           2       0.89      0.82      0.86      1032\n",
      "           3       0.86      0.88      0.87      1010\n",
      "           4       0.87      0.88      0.88       982\n",
      "           5       0.87      0.80      0.83       892\n",
      "           6       0.90      0.89      0.89       958\n",
      "           7       0.89      0.89      0.89      1028\n",
      "           8       0.77      0.83      0.80       974\n",
      "           9       0.85      0.82      0.83      1009\n",
      "\n",
      "    accuracy                           0.87     10000\n",
      "   macro avg       0.87      0.87      0.87     10000\n",
      "weighted avg       0.87      0.87      0.87     10000\n",
      "\n"
     ]
    }
   ],
   "source": [
    "print (metrics.classification_report(y_pred=model.predict(test_X[:,5:-5, 5:-5].reshape(-1, 18*18)), y_true=test_y))"
   ]
  },
  {
   "cell_type": "code",
   "execution_count": null,
   "metadata": {},
   "outputs": [],
   "source": [
    "utils.visualize(test_X[:100], test_y[:100], n_cols=10)"
   ]
  },
  {
   "cell_type": "code",
   "execution_count": null,
   "metadata": {},
   "outputs": [],
   "source": []
  }
 ],
 "metadata": {
  "kernelspec": {
   "display_name": "Python 3.7.11 ('py37-dsup')",
   "language": "python",
   "name": "python3"
  },
  "language_info": {
   "codemirror_mode": {
    "name": "ipython",
    "version": 3
   },
   "file_extension": ".py",
   "mimetype": "text/x-python",
   "name": "python",
   "nbconvert_exporter": "python",
   "pygments_lexer": "ipython3",
   "version": "3.7.11"
  },
  "orig_nbformat": 4,
  "vscode": {
   "interpreter": {
    "hash": "3a9c1e998c7d6d5f29587b2c70e9bd488bb486b902354401efc27ca8457f04e9"
   }
  }
 },
 "nbformat": 4,
 "nbformat_minor": 2
}
