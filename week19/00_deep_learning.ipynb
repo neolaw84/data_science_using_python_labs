{
 "cells": [
  {
   "attachments": {},
   "cell_type": "markdown",
   "metadata": {},
   "source": [
    "# Week 19 - Deep Learning"
   ]
  },
  {
   "attachments": {},
   "cell_type": "markdown",
   "metadata": {},
   "source": [
    "မင်္ဂလာပါ။ Data Science Using Python - Week 19 က ကြိုဆိုပါတယ်။ \n",
    "\n",
    "ဒီအပါတ်မှာ ကျနော်တို့ **Deep Learning** ကို မိတ်ဆက်သဘောနဲ့ လေ့လာမှာ ဖြစ်ပါတယ်။ \n",
    "\n",
    "> Deep Learning ဟာ Machine Learning ရဲ့ အစိတ်အပိုင်းတခု၊ Machine Learning ဟာ Data Science ရဲ့ အစိတ်အပိုင်းတခုလို့ ဆိုပေမဲ့ Deep Learning နဲ့ ပတ်သက်တာအကုန်လုံးကို ဒီ course ထဲမှာ အကုန် ထည့်သွင်း သင်ကြားဖို့ လက်တွေ့မှာ မဖြစ်နိုင်ပါဘူး။\n",
    "\n",
    "Deep Learning အကြောင်းကို မပြောခင် Machine Learning technique တခုရဲ့ သဘောကို ပြန်နွှေး လေ့လာကြည့်ရအောင်။"
   ]
  },
  {
   "attachments": {},
   "cell_type": "markdown",
   "metadata": {},
   "source": [
    "## Structure of a Machine Learning Application"
   ]
  },
  {
   "cell_type": "code",
   "execution_count": null,
   "metadata": {},
   "outputs": [],
   "source": [
    "from sklearn import datasets as sk_ds\n",
    "from sklearn import neural_network as sk_nn\n",
    "from sklearn import preprocessing as sk_pp\n",
    "from sklearn import model_selection as sk_ms\n",
    "from sklearn import metrics as sk_metrics\n",
    "\n",
    "import pandas as pd\n",
    "import numpy as np"
   ]
  },
  {
   "attachments": {},
   "cell_type": "markdown",
   "metadata": {},
   "source": [
    "### 0. Data Preparation"
   ]
  },
  {
   "cell_type": "code",
   "execution_count": null,
   "metadata": {},
   "outputs": [],
   "source": [
    "# 0. This is not ML; This is loading and preparing data\n",
    "df_X, ds_y = sk_ds.fetch_openml(\"credit-g\", as_frame=True, return_X_y=True)\n",
    "df_X_tr, df_X_ts, ds_y_tr, ds_y_ts = sk_ms.train_test_split(df_X, ds_y, test_size=0.2, random_state=42, shuffle=True)"
   ]
  },
  {
   "attachments": {},
   "cell_type": "markdown",
   "metadata": {},
   "source": [
    "### 1. Feature Definition \n",
    "\n",
    "ဒီအဆင့်မှာ ဘယ် feature transformation (အလုပ်ထဲတွင် feature ဟုပဲ လုံးချပြီး ပြောတတ်) တွေကို ဘယ်လို အဆင့်ဆင့် သုံးမယ်ဆိုတာကို စဉ်းစား သတ်မှတ် ရပါတယ်။\n",
    "\n",
    "> အရေးအကြီးဆုံးက test set ကို ဘယ်တော့မှ ထည့်ပြီး မ `fit` ဖို့ပါပဲ။"
   ]
  },
  {
   "cell_type": "code",
   "execution_count": null,
   "metadata": {},
   "outputs": [],
   "source": [
    "# 1. Feature Definition\n",
    "def fit_features(X: pd.DataFrame):\n",
    "    X_num = X.select_dtypes(include=[\"number\"])\n",
    "    feature_1_ss = sk_pp.StandardScaler()\n",
    "    feature_2_pf = sk_pp.PolynomialFeatures(degree=2)\n",
    "    feature_1_ss.fit(X_num)\n",
    "    X_f1 = feature_1_ss.transform(X_num)\n",
    "    feature_2_pf.fit(X_f1)\n",
    "    return (feature_1_ss, feature_2_pf)\n",
    "\n",
    "feature_definitions = fit_features(df_X_tr)"
   ]
  },
  {
   "attachments": {},
   "cell_type": "markdown",
   "metadata": {},
   "source": [
    "### 2. Model Definition\n",
    "\n",
    "ဒီအဆင့်မှာတော့ ဘယ် model definition (အလုပ်ထဲတွင် model ဟုပဲ လုံးချပြီး ပြောတတ်) ကို သုံးမယ်ဆိုတာကို စဉ်းစား သတ်မှတ်ရပါတယ်။ \n",
    "\n",
    "> course တခုလုံးမှာ init လို့ ပြောခဲ့တဲ့ အဆင့်ပါ။\n",
    "\n",
    "1. ဒီလို စဉ်းစားရာမှာ linear model, svm, random forest, gradient boosting trees သို့မဟုတ် neural network စသဖြင့် စဉ်းစားရတာက ပထမအဆင့် ဖြစ်ပြီး\n",
    "   \n",
    "2. ဒုတိယအဆင့်အနေနဲ့ တခုချင်းစီရဲ့ hyper-parameter တွေကို သတ်မှတ်ပေးရပါတယ်။ \n",
    "   \n",
    "   > ဥပမာအားဖြင့် `sklearn.linear_models.SGDClassifier` မှာဆိုရင် hyper-parameter အနေနဲ့ `l1_ratio`, `penalty` စတာတွေကို သတ်မှတ်ပေးရပါတယ်။ \n",
    "   အဲဒီကမှ model-parameter (`coef_` နဲ့ `intercept_` တို့) ကို learn ယူတာ ဖြစ်ပါတယ်။\n",
    "   \n"
   ]
  },
  {
   "cell_type": "code",
   "execution_count": null,
   "metadata": {},
   "outputs": [],
   "source": [
    "# 2. Model Definition - What model **architecture** to use\n",
    "model_nn = sk_nn.MLPClassifier(\n",
    "    # architecture of neural network\n",
    "    hidden_layer_sizes=(20, 20), activation=\"relu\", \n",
    "    # optimizer SGD, ADAM or whatever fancy one\n",
    "    solver=\"adam\", \n",
    "    # steps in train loop characteristics\n",
    "    batch_size=100, learning_rate=\"constant\", learning_rate_init=0.001, max_iter=10000, shuffle=True, random_state=42,\n",
    "    # other model parameters\n",
    "    alpha=0.0001)"
   ]
  },
  {
   "attachments": {},
   "cell_type": "markdown",
   "metadata": {},
   "source": [
    "### 3. Feature Computation\n",
    "\n",
    "ဒီအဆင့်မှာ စောစောက သတ်မှတ်ထားတဲ့ feature definition တွေအတိုင်း feature value တွေ (အလုပ်ထဲမှာ feature လို့ပဲ လုံးချပြီး ပြော) ကို compute လုပ်ရတာ ဖြစ်ပါတယ်။ "
   ]
  },
  {
   "cell_type": "code",
   "execution_count": null,
   "metadata": {},
   "outputs": [],
   "source": [
    "# 3. Feature Computation\n",
    "def transform_features(X: pd.DataFrame, features=()):\n",
    "    X_num = X.select_dtypes(include=[\"number\"])\n",
    "    _features = X_num\n",
    "    for f in features:\n",
    "        _features = f.transform(_features)\n",
    "    return _features\n",
    "\n",
    "feature_values_tr = transform_features(df_X_tr, features=feature_definitions)"
   ]
  },
  {
   "attachments": {},
   "cell_type": "markdown",
   "metadata": {},
   "source": [
    "### 4. Model Training\n",
    "\n",
    "ဒီအဆင့်မှာတော့ အဆင့် ၃ က ရထားတဲ့ feature values တွေကို အဆင့် ၂ မှာ သတ်မှတ်ထားတဲ့ model definition နဲ့ train (`fit`) တာ ဖြစ်ပါတယ်။"
   ]
  },
  {
   "cell_type": "code",
   "execution_count": null,
   "metadata": {},
   "outputs": [],
   "source": [
    "# 4. Model Training\n",
    "\n",
    "def fit_model(model, X, y):\n",
    "    model.fit(X, y)\n",
    "    return model\n",
    "\n",
    "model_nn = fit_model(model_nn, feature_values_tr, ds_y_tr)"
   ]
  },
  {
   "attachments": {},
   "cell_type": "markdown",
   "metadata": {},
   "source": [
    "### 5. Model Validation\n",
    "\n",
    "ဒုတိယ နောက်ဆုံးအဆင့်ဖြစ်တဲ့ ဒီအဆင့်မှာတော့ ရလာတဲ့ trained model ကို စာမေးပွဲစစ်သလို unseen data နဲ့ စစ်ဆေးတဲ့ သဘောဖြစ်ပါတယ်။"
   ]
  },
  {
   "cell_type": "code",
   "execution_count": null,
   "metadata": {},
   "outputs": [],
   "source": [
    "# 5. Model Validation\n",
    "\n",
    "def validate_model(features, model, X_ts, y_ts):\n",
    "    feature_values_ts = transform_features(X_ts, features=features)\n",
    "    y_hat = model.predict(feature_values_ts)\n",
    "    print (sk_metrics.classification_report(y_ts, y_hat, sample_weight=[{\"good\": 1, \"bad\": 5}[_y] for _y in y_ts]))\n",
    "    return feature_values_ts\n",
    "\n",
    "feature_values_ts = validate_model(features=feature_definitions, model=model_nn, X_ts=df_X_ts, y_ts=ds_y_ts)"
   ]
  },
  {
   "attachments": {},
   "cell_type": "markdown",
   "metadata": {},
   "source": [
    "### 6. Model Application\n",
    "\n",
    "Model Scoring/Inferencing လို့လဲ ခေါ်ကြတဲ့ ဒီ နောက်ဆုံး အဆင့်ကတော့ validation လုပ်လို့ ကျေနပ်မှ (model စာမေးပွဲအောင်မှ) ဆက်လုပ်ကြတာပါ။\n",
    "\n",
    "> Validation မှာ performance မကောင်းရင် ဘာဆက်လုပ်ကြမလဲ ??? \n",
    "\n",
    "စောစောက feature definition တွေနဲ့ model definition တွေကို production ကို ယူသွားပြီး data အသစ်တွေကို apply လုပ်ကြပါတယ်။ \n",
    "\n",
    "```python\n",
    "# how to move features and models to production ?\n",
    "\n",
    "# 1. pickle them in training machine\n",
    "\n",
    "import pickle\n",
    "with open(\"feats_and_model.bin\", \"wb\") as f:\n",
    "    pickle.dump({\n",
    "        \"features\": feature_definitions, \n",
    "        \"model\": model_nn\n",
    "    }, f)\n",
    "\n",
    "# 2. un-pickle them in production machine\n",
    "\n",
    "import pickle\n",
    "with open(\"feats_and_model.bin\", \"rb\") as f:\n",
    "    _fm = pickle.load(f)\n",
    "    feature_definitions = _fm[\"features\"]\n",
    "    model_nn = _fm[\"model\"]\n",
    "\n",
    "# use them with new data \n",
    "```"
   ]
  },
  {
   "attachments": {},
   "cell_type": "markdown",
   "metadata": {},
   "source": [
    "### Summary\n",
    "\n",
    "အကျဉ်းချုပ် အနေနဲ့ Machine Learning Application တခုရဲ့ structure ဟာ ဒီလို လာပါတယ်။\n",
    "\n",
    "```python\n",
    "df_X_tr, df_X_ts, ds_y_tr, ds_y_ts = load_and_split_data()\n",
    "\n",
    "feature_def = get_feature_definition()\n",
    "feature_def.fit(df_X_tr)\n",
    "\n",
    "model_def = get_model_definition(\n",
    "    model_architecture,\n",
    "    model_optimizer,\n",
    "    model_step\n",
    ")\n",
    "\n",
    "feature_values_tr = feature_def.transform(df_X_tr)\n",
    "model_def.fit(feature_values_tr, ds_y_tr)\n",
    "\n",
    "feature_values_ts = feature_def.transform(df_X_ts)\n",
    "y_hat = model_def.predict(feature_values_ts)\n",
    "print (classification_report(ds_y_ts, y_hat))\n",
    "```\n",
    "\n",
    "> အရေးပါတဲ့ မှတ်သားစရာတွေက \n",
    "> * `model_def` မှာ `model_architecture`, `model_optimizer` နဲ့ `model_step` ဆိုပြီး ၃ ပိုင်းပါပါတယ်။\n",
    "> * trained model ရဲ့ performance ပေါ်မူတည်ပြီး `feature_def` ကို သွားသွားပြန်ပြောင်းပြီး စမ်းဖို့ လိုပါတယ်။ "
   ]
  },
  {
   "attachments": {},
   "cell_type": "markdown",
   "metadata": {},
   "source": [
    "## Deep Learning"
   ]
  },
  {
   "attachments": {},
   "cell_type": "markdown",
   "metadata": {},
   "source": [
    "\n",
    "Deep Learning ဟာ hidden layer 1 ခုထက် ပိုပါတဲ့ Neural Network ပဲ ဖြစ်တယ်။ \n",
    "\n",
    "Computing efficiency ကြောင့်ပဲလို့ ဆိုဆို၊ ဘာကြောင့်ပဲလို့ ဆိုဆို width ရော၊ breadth ရော၊ depth ရော ကြီးတဲ့ neural network model တွေအနေနဲ့ `sklearn.neural_network` ထဲက model တွေလိုမျိုး **fully connected** ဖြစ်လို့ အဆင်မပြေပါဘူး။ \n",
    "\n",
    "ဒါကြောင့် neural network ရဲ့ definition (အလုပ်ထဲတွင် architecture ဟု ပြော) ကို စိတ်ကြိုက် ပြောင်းပေးနိုင်ဖို့ လိုလာပါတယ်။ \n",
    "\n",
    "အဲဒါကို လုပ်ပေးနိုင်တဲ့ library ၂ ခု ရှိပါတယ်။ \n",
    "\n",
    "* tensorflow by Google and\n",
    "* torch by Facebook \n",
    "\n",
    "တို့ ဖြစ်ပါတယ်။ \n",
    "\n",
    "tensorflow က powerful ပိုဖြစ်ပြီး torch (pytorch) က လေ့လာရတာ ပိုလွယ်ပါတယ်။ ဒါကြောင့် ဒီနေ့ `torch` ကို စမ်းကြည့်ကြပါမယ်။ "
   ]
  },
  {
   "cell_type": "code",
   "execution_count": null,
   "metadata": {},
   "outputs": [],
   "source": [
    "import torch\n",
    "import torch.nn.functional as F"
   ]
  },
  {
   "attachments": {},
   "cell_type": "markdown",
   "metadata": {},
   "source": [
    "အောက်က model definition နဲ့ တူတဲ့ model တခုကို ဆောက်ကြည့်ရအောင်။\n",
    "\n",
    "```python\n",
    "# 2. Model Definition - What model **architecture** to use\n",
    "model_nn = sk_nn.MLPClassifier(\n",
    "    # architecture of neural network\n",
    "    hidden_layer_sizes=(20, 20), activation=\"relu\", \n",
    "    # optimizer SGD, ADAM or whatever fancy one\n",
    "    solver=\"adam\", \n",
    "    # steps in train loop characteristics\n",
    "    batch_size=100, learning_rate=\"constant\", learning_rate_init=0.001, max_iter=10000, shuffle=True, random_state=42,\n",
    "    # other model parameters\n",
    "    alpha=0.0001)\n",
    "```"
   ]
  },
  {
   "cell_type": "code",
   "execution_count": null,
   "metadata": {},
   "outputs": [],
   "source": [
    "input_layer_size = feature_definitions[-1].n_output_features_ # the number of columns in X\n",
    "hidden_layer_sizes = (20, 20)\n",
    "output_layer_size = 2 # it has good and bad (2 classes)\n",
    "\n",
    "# architecture of neural network (including activation)\n",
    "class TorchModel(torch.nn.Module):\n",
    "\n",
    "    def __init__(self):\n",
    "        super(TorchModel, self).__init__()\n",
    "\n",
    "        self.layer1 = torch.nn.Linear(input_layer_size, hidden_layer_sizes[0])\n",
    "        self.relu1 = torch.nn.ReLU()\n",
    "        self.layer2 = torch.nn.Linear(hidden_layer_sizes[0], hidden_layer_sizes[1])\n",
    "        self.relu2 = torch.nn.ReLU()\n",
    "        self.output = torch.nn.Linear(hidden_layer_sizes[1], output_layer_size)\n",
    "        self.relu3 = torch.nn.ReLU()\n",
    "        \n",
    "    def forward(self, x):\n",
    "        x_1 = self.relu1(self.layer1(x))\n",
    "        x_2 = self.relu2(self.layer2(x_1))\n",
    "        x_3 = self.relu3(self.output(x_2))\n",
    "        return x_3\n",
    "\n",
    "model_t = TorchModel()"
   ]
  },
  {
   "cell_type": "code",
   "execution_count": null,
   "metadata": {},
   "outputs": [],
   "source": [
    "# optimizer\n",
    "learning_rate_init=0.001\n",
    "solver = torch.optim.Adam(model_t.parameters(), lr=0.001)"
   ]
  },
  {
   "cell_type": "code",
   "execution_count": null,
   "metadata": {},
   "outputs": [],
   "source": [
    "# data loading\n",
    "from torch.utils.data import TensorDataset, DataLoader\n",
    "\n",
    "batch_size = 100\n",
    "\n",
    "X_tr_tensor = torch.Tensor(feature_values_tr)\n",
    "X_ts_tensor = torch.Tensor(feature_values_ts)\n",
    "y_tr_tensor = torch.Tensor([{\"good\": 0, \"bad\": 1}[_y] for _y in ds_y_tr]).long()\n",
    "y_ts_tensor = torch.Tensor([{\"good\": 0, \"bad\": 1}[_y] for _y in ds_y_ts]).long()\n",
    "\n",
    "tr_dataset = TensorDataset(X_tr_tensor, y_tr_tensor)\n",
    "\n",
    "train_loader = DataLoader(tr_dataset, batch_size=batch_size)\n"
   ]
  },
  {
   "cell_type": "code",
   "execution_count": null,
   "metadata": {},
   "outputs": [],
   "source": [
    "# training loop -- including model train step\n",
    "max_iter=10000\n",
    "\n",
    "loss_func = torch.nn.CrossEntropyLoss()\n",
    "\n",
    "for epoch in range(max_iter):  # loop over the dataset multiple times\n",
    "\n",
    "    running_loss = 0.0\n",
    "    for i, data in enumerate(train_loader):\n",
    "        # get the inputs; data is a list of [inputs, labels]\n",
    "        inputs, labels = data\n",
    "\n",
    "        # zero-set the parameter gradients; important\n",
    "        solver.zero_grad()\n",
    "\n",
    "        # forward + backward + optimize\n",
    "        outputs = model_t(inputs)\n",
    "        loss = loss_func(outputs, labels)\n",
    "        loss.backward()\n",
    "        solver.step()\n",
    "\n",
    "        running_loss += loss.item()\n",
    "    if epoch % 2000 == 1999:    # print every 2000 epoch\n",
    "        print('epoch = {epoch} : loss = {running_loss}'.format(epoch=epoch, running_loss=running_loss/2000.0))\n",
    "        running_loss = 0.0\n",
    "\n",
    "print('Finished Training')"
   ]
  },
  {
   "cell_type": "code",
   "execution_count": null,
   "metadata": {},
   "outputs": [],
   "source": [
    "model_t.eval()\n",
    "with torch.no_grad():\n",
    "    y_hat = model_t(X_ts_tensor)\n",
    "    y_predicted = [0 if y_[0] > y_[1] else 1 for y_ in F.softmax(y_hat).long()]\n",
    "    print (sk_metrics.classification_report(y_ts_tensor.detach(), y_predicted, sample_weight=[{\"good\":1, \"bad\": 5}[_y] for _y in ds_y_ts]))"
   ]
  },
  {
   "attachments": {},
   "cell_type": "markdown",
   "metadata": {},
   "source": [
    "### Deep Analysis of Deep Learning"
   ]
  },
  {
   "attachments": {},
   "cell_type": "markdown",
   "metadata": {},
   "source": [
    "`sklearn` package များနှင့် deep learning (`torch`) တို့၏ ကွဲပြားခြားနားချက်များမှာ \n",
    "\n",
    "* model architecture, အတွင်းပိုင်း ချိတ်ဆက်ပုံနှင့် အဖြေထုတ်ပုံတို့ကို deep learning တွင် user ကိုယ်တိုင် သတ်မှတ်ရခြင်း ဖြစ်သည်။ `sklearn` တွင်မူ model များ၏ အလုပ်လုပ်ပုံမှာ အသေဖြစ်ပြီး hyper parameter များမှတဆင့် အနည်းငယ်သာ ပြောင်းလဲ၍ ရသည်။\n",
    "\n",
    "* Feature Engineering ပိုင်းအတွက် မည်သည့် Feature Function ကို သုံးမည်၊ မည်သို့ ချိတ်ဆက်မည်ကို deep learning တွင် အလိုအလျောက် learn နိုင်သည်။ layer များများ ထည့်ပြီး compute resources များများ သုံးရန်သာ လိုသည်။\n",
    "\n",
    "* ပိုမို မြန်ဆန်အောင် GPU သုံး၍ ရသည်။ "
   ]
  },
  {
   "attachments": {},
   "cell_type": "markdown",
   "metadata": {},
   "source": [
    "> အခု ကျနော်တို့ GPU သုံးတာ လက်တွေ့ ပြမှာမို့လို့ Runtime ကို restart လုပ်ပေးပါ။"
   ]
  },
  {
   "cell_type": "code",
   "execution_count": null,
   "metadata": {},
   "outputs": [],
   "source": [
    "import torch\n",
    "torch.cuda.is_available()"
   ]
  },
  {
   "cell_type": "code",
   "execution_count": null,
   "metadata": {},
   "outputs": [],
   "source": [
    "from sklearn import datasets as sk_ds \n",
    "from sklearn import model_selection as sk_ms\n",
    "from sklearn import preprocessing as sk_pp\n",
    "from sklearn import metrics as sk_metrics\n",
    "\n",
    "import pandas as pd\n",
    "import numpy as np\n",
    "\n",
    "import torch\n",
    "import torch.nn as nn\n",
    "import torch.nn.functional as F"
   ]
  },
  {
   "cell_type": "code",
   "execution_count": null,
   "metadata": {},
   "outputs": [],
   "source": [
    "df_X, ds_y = sk_ds.fetch_openml(\"credit-g\", as_frame=True, return_X_y=True)\n",
    "\n",
    "df_X_tr, df_X_ts, ds_y_tr, ds_y_ts = sk_ms.train_test_split(df_X, ds_y, test_size=0.2, random_state=42, shuffle=True)\n",
    "\n",
    "ohe = sk_pp.OneHotEncoder(sparse=False, handle_unknown=\"ignore\")\n",
    "ohe.fit(df_X_tr.select_dtypes(include=[\"category\"]))\n",
    "X_tr = pd.DataFrame(data=ohe.transform(df_X_tr.select_dtypes(include=[\"category\"])), index=df_X_tr.index, columns=ohe.get_feature_names_out())\n",
    "X_ts = pd.DataFrame(data=ohe.transform(df_X_ts[ohe.feature_names_in_]), index=df_X_ts.index, columns=ohe.get_feature_names_out())\n",
    "\n",
    "X_tr = pd.concat((X_tr, df_X_tr.select_dtypes(include=[\"number\"])), axis=\"columns\")\n",
    "X_ts = pd.concat((X_ts, df_X_ts.select_dtypes(include=[\"number\"])), axis=\"columns\")"
   ]
  },
  {
   "cell_type": "code",
   "execution_count": null,
   "metadata": {},
   "outputs": [],
   "source": [
    "device = \"cuda\" if torch.cuda.is_available() else \"cpu\""
   ]
  },
  {
   "cell_type": "code",
   "execution_count": null,
   "metadata": {},
   "outputs": [],
   "source": [
    "input_layer_size = X_tr.shape[1]\n",
    "output_layer_size = 2\n",
    "class TorchModel0(torch.nn.Module):\n",
    "\n",
    "    def __init__(self):\n",
    "        super(TorchModel0, self).__init__()\n",
    "\n",
    "        self.layers = torch.nn.Sequential(\n",
    "            torch.nn.Linear(input_layer_size, 20),\n",
    "            torch.nn.ReLU(),\n",
    "            torch.nn.Linear(20, 20),\n",
    "            torch.nn.ReLU(),\n",
    "            torch.nn.Linear(20, 2),\n",
    "            torch.nn.ReLU()\n",
    "        )\n",
    "        \n",
    "    def forward(self, x):\n",
    "        return self.layers(x)\n",
    "\n",
    "model_t0 = TorchModel0()"
   ]
  },
  {
   "cell_type": "code",
   "execution_count": null,
   "metadata": {},
   "outputs": [],
   "source": [
    "# optimizer\n",
    "learning_rate_init=0.001\n",
    "solver0 = torch.optim.SGD(params=model_t0.parameters(), lr=learning_rate_init, momentum=0.9)"
   ]
  },
  {
   "cell_type": "code",
   "execution_count": null,
   "metadata": {},
   "outputs": [],
   "source": [
    "# data loading\n",
    "from torch.utils.data import TensorDataset, DataLoader\n",
    "\n",
    "batch_size = 100\n",
    "\n",
    "X_tr_tensor = torch.Tensor(X_tr.values).to(device)\n",
    "X_ts_tensor = torch.Tensor(X_ts.values).to(device)\n",
    "y_tr_tensor = torch.Tensor([{\"good\": 0, \"bad\": 1}[_y] for _y in ds_y_tr]).long().to(device)\n",
    "y_ts_tensor = torch.Tensor([{\"good\": 0, \"bad\": 1}[_y] for _y in ds_y_ts]).long().to(device)\n",
    "\n",
    "tr_dataset = TensorDataset(X_tr_tensor, y_tr_tensor)\n",
    "\n",
    "train_loader = DataLoader(tr_dataset, batch_size=batch_size)"
   ]
  },
  {
   "cell_type": "code",
   "execution_count": null,
   "metadata": {},
   "outputs": [],
   "source": [
    "# training loop -- including model train step\n",
    "def train_model(max_iter=10000, model_t=None, solver=None, loss_func=None):\n",
    "\n",
    "    model_t = model_t.to(device)\n",
    "\n",
    "    for epoch in range(max_iter):  # loop over the dataset multiple times\n",
    "\n",
    "        running_loss = 0.0\n",
    "        for i, data in enumerate(train_loader):\n",
    "            # get the inputs; data is a list of [inputs, labels]\n",
    "            inputs, labels = data\n",
    "            # zero-set the parameter gradients; important\n",
    "            solver.zero_grad()\n",
    "\n",
    "            # forward + backward + optimize\n",
    "            outputs = model_t(inputs)\n",
    "            loss = loss_func(outputs, labels)\n",
    "            loss.backward()\n",
    "            solver.step()\n",
    "\n",
    "            running_loss += loss.item()\n",
    "        if epoch % 2000 == 1999:    # print every 2000 epoch\n",
    "            print('epoch = {epoch} : loss = {running_loss}'.format(epoch=epoch, running_loss=running_loss/2000.0))\n",
    "            running_loss = 0.0\n",
    "\n",
    "    print('Finished Training')\n",
    "\n",
    "    return model_t"
   ]
  },
  {
   "cell_type": "code",
   "execution_count": null,
   "metadata": {},
   "outputs": [],
   "source": [
    "model_t0 = train_model(model_t=model_t0, solver=solver0, loss_func = torch.nn.CrossEntropyLoss())"
   ]
  },
  {
   "cell_type": "code",
   "execution_count": null,
   "metadata": {},
   "outputs": [],
   "source": [
    "model_t0.eval()\n",
    "with torch.no_grad():\n",
    "    y_hat = model_t0(X_ts_tensor)\n",
    "    y_predicted = [0 if y_[0] > y_[1] else 1 for y_ in F.softmax(y_hat).long()]\n",
    "    print (sk_metrics.classification_report(y_ts_tensor.detach().cpu(), y_predicted, sample_weight=[{\"good\":1, \"bad\": 5}[_y] for _y in ds_y_ts]))"
   ]
  },
  {
   "attachments": {},
   "cell_type": "markdown",
   "metadata": {},
   "source": [
    "အောက်က model နောက်တခုမှာတော့ layer တွေတိုးပြီး feature engineering လုပ်သလိုပဲ performance တိုးအောင် လုပ်တာကို စမ်းသပ်မှာ ဖြစ်ပါတယ်။"
   ]
  },
  {
   "cell_type": "code",
   "execution_count": null,
   "metadata": {},
   "outputs": [],
   "source": [
    "# architecture of neural network (including activation)\n",
    "input_layer_size = X_tr.shape[1]\n",
    "output_layer_size = 2\n",
    "class TorchModel(torch.nn.Module):\n",
    "\n",
    "    def __init__(self):\n",
    "        super(TorchModel, self).__init__()\n",
    "\n",
    "        # ဒီနေရာမှာ အဆင့်တွေ ပိုများသွားတာ သတိပြုပါ\n",
    "        self.layers = torch.nn.Sequential(\n",
    "            torch.nn.BatchNorm1d(input_layer_size),\n",
    "            torch.nn.Linear(input_layer_size, 100),\n",
    "            torch.nn.ReLU(),\n",
    "            torch.nn.BatchNorm1d(100),\n",
    "            torch.nn.Dropout(p=0.1),\n",
    "            torch.nn.Linear(100, 50),\n",
    "            torch.nn.ReLU(),\n",
    "            torch.nn.Linear(50, 10),\n",
    "            torch.nn.ReLU(),\n",
    "            torch.nn.Linear(10, output_layer_size)\n",
    "        )\n",
    "        \n",
    "    def forward(self, x):\n",
    "        return self.layers(x)\n",
    "\n",
    "model_t = TorchModel()"
   ]
  },
  {
   "cell_type": "code",
   "execution_count": null,
   "metadata": {},
   "outputs": [],
   "source": [
    "# optimizer\n",
    "learning_rate_init=0.001\n",
    "solver = torch.optim.SGD(params=model_t.parameters(), lr=learning_rate_init, momentum=0.9)"
   ]
  },
  {
   "cell_type": "code",
   "execution_count": null,
   "metadata": {},
   "outputs": [],
   "source": [
    "model_t = train_model(model_t=model_t, solver=solver, loss_func = torch.nn.CrossEntropyLoss())"
   ]
  },
  {
   "cell_type": "code",
   "execution_count": null,
   "metadata": {},
   "outputs": [],
   "source": [
    "model_t.eval()\n",
    "with torch.no_grad():\n",
    "    y_hat = model_t(X_ts_tensor)\n",
    "    y_predicted = [0 if y_[0] > y_[1] else 1 for y_ in F.softmax(y_hat).long()]\n",
    "    print (sk_metrics.classification_report(y_ts_tensor.detach().cpu(), y_predicted, sample_weight=[{\"good\":1, \"bad\": 5}[_y] for _y in ds_y_ts]))"
   ]
  },
  {
   "attachments": {},
   "cell_type": "markdown",
   "metadata": {},
   "source": [
    "### About Cross Entropy Loss"
   ]
  },
  {
   "attachments": {},
   "cell_type": "markdown",
   "metadata": {},
   "source": [
    "Cross Entropy Loss ဆိုတာကြီးဟာ ကြောက်စရာကောင်းတဲ့ သင်္ချာ ဖော်မြူလာကြီးလို ဖြစ်နေပါတယ်။ \n",
    "\n",
    "ဒါကို ကြောက်စရာ မကောင်းတော့အောင်လို့ ၂ ပိုင်းခွဲပြီး ပြောပါမယ်။ \n",
    "\n",
    "* ပထမပိုင်းက Entropy ပါ\n",
    "* ဒုတိယပိုင်းက Negative Log Likelihood Loss ပါ။"
   ]
  },
  {
   "attachments": {},
   "cell_type": "markdown",
   "metadata": {},
   "source": [
    "#### Entropy"
   ]
  },
  {
   "attachments": {},
   "cell_type": "markdown",
   "metadata": {},
   "source": [
    "[Reference](https://www.youtube.com/watch?v=YtebGVx-Fxw&t=1s)"
   ]
  },
  {
   "attachments": {},
   "cell_type": "markdown",
   "metadata": {},
   "source": [
    "**surprise**\n",
    "\n",
    "ပထမပိုင်းရဲ့ ပထမဆုံး အနေနဲ့ surprise ကို ပြောကြရအောင်။\n",
    "\n",
    "> ဘောလုံးအသင်းတသင်းက အရမ်းတော်တယ်ဆိုပါစို့။ ဒါဆို ကစားတဲ့ ပွဲတပွဲမှာ သူနိုင်ဖို့က များမှာ။ ဆိုပါစို့ $P(\\mathrm{win})=0.9$ နဲ့ $P(\\mathrm{lose})=0.1$\n",
    "> ဒါဆို surprise ဆိုတာ သူနိုင်လာရင် သိပ် surprise မဖြစ်ဘူး။ သူရှုံးလာရင်တော့ surprise က များတယ်။ \n",
    "\n",
    "ဒါကြောင့် surprise $s(\\mathrm{win})$ က နည်းပြီး $s(\\mathrm{lose})$ က များရမယ်။ \n",
    "\n",
    "ဒါကြောင့် ဒီလို definition သတ်မှတ်မယ် လို့ စဉ်းစားကြည့်ရအောင်။ \n",
    "\n",
    "$s(X) = \\frac{1}{P(X)}$\n",
    "\n",
    "> $s(\\mathrm{win}) = 1/0.9 = 1.111$ နည်းတယ်\n",
    "> $s(\\mathrm{lose}) = 1/0.1 = 10.000$ များတယ်\n",
    "\n",
    "ဒီအထိတော့ ဟုတ်နေတာပဲ။ \n",
    "\n",
    "ခက်တာက အရမ်း အရမ်း x တသိန်း တော်တဲ့ အသင်း ($P(\\mathrm{win}) = 1.0$)ကျတော့ နိုင်ရင် ဖြစ်မဲ့ surprise ဆိုတာ သုည (ဇီးရိုး) ဖြစ်သင့်တယ်။ \n",
    "\n",
    "> $s(\\mathrm{win}) = 1/1.0 = 1$ မဖြစ်ဘူး။\n",
    "\n",
    "ဒီတော့ သင်္ချာ ပညာရှင်တွေ ပီပီ အားနေရင် $log$ ယူလိုက်တယ်။ \n",
    "\n",
    "surprise $s(X) = log(\\frac{1}{P(X)})$\n",
    "\n",
    "> $log(1) = 0$ ဖြစ်တာမို့ အဆင်ပြေသွားတယ်။"
   ]
  },
  {
   "attachments": {},
   "cell_type": "markdown",
   "metadata": {},
   "source": [
    "**expected value**\n",
    "\n",
    "ဒုတိယ ဆက်ပြောရမှာကတော့ expected value ပါ။ \n",
    "\n",
    "Expected Value \n",
    "$$E = \\sum X.P(X)$$\n",
    "\n",
    "လို့ အဓိပ္ပါယ် သတ်မှတ်ချက် ရှိတယ်။\n",
    "\n",
    "> ဥပမာ weighted အံစာတုံး တတုံးမှာ $P(X=1) = 0.5, P(X\\neq 1) = 0.1$ ဆိုပါစို့။\n",
    "> \n",
    "> သူ့ရဲ့ Expected Value ကို number of trail (ပစ်တဲ့ အကြိမ်ရေ) နဲ့ မြှောက်ရင် အံစာတုံးပေါ်က ဂဏန်းတွေ ပစ်ပြီး ပေါင်းထားတာနဲ့ နီးစပ်လိမ့်မယ်။ "
   ]
  },
  {
   "cell_type": "code",
   "execution_count": 20,
   "metadata": {},
   "outputs": [
    {
     "name": "stdout",
     "output_type": "stream",
     "text": [
      "probability of 1 : 0.5\n",
      "probability of 2 : 0.1\n",
      "probability of 3 : 0.1\n",
      "probability of 4 : 0.1\n",
      "probability of 5 : 0.1\n",
      "probability of 6 : 0.1\n",
      "expected_value : 2.5\n",
      "expected_value x number_of_trial : 2500.0\n",
      "sum of actual trials : 2560\n"
     ]
    }
   ],
   "source": [
    "faces = [1, 2, 3, 4, 5, 6]\n",
    "probabilites = np.array([0.5] + [0.1 for _ in range(2, 6+1)])\n",
    "\n",
    "for f, p in zip(faces, probabilites):\n",
    "    print (\"probability of {} : {}\".format(f, p))\n",
    "\n",
    "expected_value = np.array([f * p for f, p in zip(faces, probabilites)]).sum()\n",
    "print (\"expected_value : {}\".format(expected_value))\n",
    "\n",
    "number_of_trail = 1000\n",
    "print (\"expected_value x number_of_trial : {}\".format(expected_value * number_of_trail))\n",
    "\n",
    "actual_trials = np.random.choice(faces, replace=True, p=probabilites, size=number_of_trail)\n",
    "sum_of_actual_trials = actual_trials.sum()\n",
    "\n",
    "print (\"sum of actual trials : {}\".format(sum_of_actual_trials))"
   ]
  },
  {
   "attachments": {},
   "cell_type": "markdown",
   "metadata": {},
   "source": [
    "**entropy**\n",
    "\n",
    "ဒီတော့ entropy ဆိုတာကို surprise $s(X)$ တွေရဲ့ expected value အဖြစ် သတ်မှတ်လိုက်ရအောင်။ \n",
    "\n",
    "Entropy $$S = \\sum s(X).P(X) = \\sum P(X).s(X)$$\n",
    "\n",
    "ဒီတော့ အပေါ်က $s(X)$ ရဲ့ ဖော်မြူလာ အစားသွင်းတော့ \n",
    "\n",
    "$$S = \\sum P(X)log(\\frac{1}{P(X)})$$\n",
    "\n",
    "log ရဲ့ definition အရ $log(\\frac{a}{b}) = log(a) - log(b)$ ဖြစ်တဲ့အတွက်\n",
    "\n",
    "$$S = \\sum \\left[ P(X) ( log(1) - log(P(X)) ) \\right]$$\n",
    "\n",
    "$P(X)$ က အထဲ ဝင်မြှောက်တော့\n",
    "\n",
    "$$S = \\sum \\left[ P(X).log(1) - P(X).log(P(X))\\right]$$\n",
    "\n",
    "$log(1) = 0$ ဖြစ်တာမို့\n",
    "\n",
    "$$S = \\sum \\left[- P(X).log(P(X))\\right]$$\n",
    "\n",
    "အထဲက အနှုတ်ကို အပြင်ထုတ်လိုက်တော့ \n",
    "\n",
    "$$S = - \\sum P(X).log(P(X))$$\n",
    "\n",
    "ဆိုပြီး entropy ရဲ့ formula ရလာပါတယ်။ "
   ]
  },
  {
   "attachments": {},
   "cell_type": "markdown",
   "metadata": {},
   "source": [
    "ဒုတိယပိုင်းကို စပါမယ်။"
   ]
  },
  {
   "attachments": {},
   "cell_type": "markdown",
   "metadata": {},
   "source": [
    "**likelihood**\n",
    "\n",
    "ဒုတိယပိုင်းရဲ့ စစချင်းမှာ likelihood $\\mathcal{L}$ ဆိုတာကို define ပါမယ်။ \n",
    "\n",
    "> model တခုရဲ့ likelihood ဆိုတာ ဒီ model ရဲ့ မှန်နိုင်ခြေလို့ အရပ်ပြော ပြောလို့ရပါတယ်။\n",
    ">\n",
    "> model က classes $[0, 1, \\dots, C]$ တွေအတွက် ထုတ်ပေးတဲ့ probabilities $[p_0, p_1, \\dots, p_C]$ တွေထဲက အကြီးဆုံး $p_{c\\_max}$ ရဲ့ class $c\\_max$ ဟာ $y$ တွေနဲ့ တူနေရင် likelihood များပြီး မတူရင် likelihood နည်းပါမယ်။ \n",
    "\n",
    "ဒီတော့ **sample တခု (ONE sample)** အတွက် likelihood $\\mathcal{L}_i$ ကို စဉ်းစားကြည့်ရအောင်။\n",
    "\n",
    "$$\\mathcal{L}_i(f|\\langle X_i \\in X, y_i \\in y \\rangle) = P(\\langle X_i \\in X, y_i \\in y \\rangle|f) = f(x_i)_{y_i}$$ \n",
    "\n",
    "model $f$ က ထုတ်ပေးတဲ့ probability $f(x_i) = $[p_0, p_1, \\dots, p_C]$ တွေထဲက $p_{y_i}$ ဟာ ကြီးလေလေ likelihood က များလေလေပါပဲ။\n",
    "\n",
    "$X$ ထဲမှာ ရှိကြတဲ့ sample (row) တွေဟာ တခုနဲ့ တခု independent ဖြစ်ကြတဲ့အတွက် Product Rule အရ\n",
    "\n",
    "$$\\mathcal{L}(f|X, y) = P(X, y|f) = \\prod_{x_i \\in X, y_i \\in y} f(x_i)_{y_i}$$"
   ]
  },
  {
   "attachments": {},
   "cell_type": "markdown",
   "metadata": {},
   "source": [
    "**maximum likelihood**\n",
    "\n",
    "အကောင်းဆုံး model ဆိုတာဟာ အပေါ်က အီကွေးရှင်းကို များနိုင်သမျှများအောင် maximize ဖြစ်စေတဲ့ model $f$ ပါပဲ။ \n",
    "\n",
    "Best model $\\theta$ is\n",
    "\n",
    "$$\\theta = \\argmax_{f \\in F} \\mathcal{L}(f|X, y) = \\argmax_{f \\in F} \\prod f(X_i)_{y_i}$$"
   ]
  },
  {
   "attachments": {},
   "cell_type": "markdown",
   "metadata": {},
   "source": [
    "**maximum log likelihood** \n",
    "\n",
    "ဒီမှာလဲ $log(ab) = log(a) + log(b)$ ဖြစ်တဲ့အတွက် အပေါ်ကဟာကို maximize တာဟာ အောက်ကဟာကို maximize တာနဲ့ တူတာမို့\n",
    "\n",
    "$$\\theta = \\argmax_{f \\in F} \\mathcal{L}(f|X, y) = \\argmax_{f \\in F} \\sum \\left[ log(f(X_i)_{y_i}) \\right]$$"
   ]
  },
  {
   "attachments": {},
   "cell_type": "markdown",
   "metadata": {},
   "source": [
    "**minimize negative**\n",
    "\n",
    "Maximize မလုပ်ချင်ရင် -1 နဲ့ မြှောက်ပြီး Minimize လို့ ရတာမို့ ... \n",
    "\n",
    "အကောင်းဆုံး model $\\theta$ ဟာ \n",
    "\n",
    "$$\\theta = \\argmin_{f \\in F} - \\mathcal{L}(f|X, y) = \\argmin_{f \\in F} - \\sum \\left[ log(f(X_i)_{y_i}) \\right]$$\n",
    "\n",
    "> တခု သတိထားဖို့က for any $i$, $P(y_i) = 1$\n",
    "\n",
    "ဒါကြောင့် ဒီလို ပြင်ရေးမယ်။ \n",
    "\n",
    "$$\\theta = \\argmin_{f \\in F} - \\mathcal{L}(f|X, y) = \\argmin_{f \\in F} - \\sum \\left[ P(y_i).log(f(X_i)_{y_i}) \\right]$$"
   ]
  },
  {
   "attachments": {},
   "cell_type": "markdown",
   "metadata": {},
   "source": [
    "**Entropy နှင့် သွားတူနေမှု**\n",
    "\n",
    "နောက်တခု သတိရဖို့ ... \n",
    "\n",
    "> $f(X_i)_{y_i}$ က ဘာလဲ \n",
    "\n",
    "စကတည်းက define ထားတာ probability လေ။ $Q(y_i) = f(X_i)_{y_i}$ လို့ ထားလိုက်မယ်ဆိုရင်\n",
    "\n",
    "ဒီတော့ entropy formula $S = - \\sum P(X).log(P(X))$ နဲ့ $- \\sum \\left[ P(y_i).log(Q(y_i))\\right]$ ဆင်ဆင် တူ မနေဘူးလား။\n",
    "\n",
    "တကယ်က $- \\sum \\left[ P(y_i).log(Q(y_i))\\right]$ ဆိုတာ cross entropy ရဲ့ formula ပဲ။ "
   ]
  }
 ],
 "metadata": {
  "kernelspec": {
   "display_name": "py37-dsup",
   "language": "python",
   "name": "python3"
  },
  "language_info": {
   "codemirror_mode": {
    "name": "ipython",
    "version": 3
   },
   "file_extension": ".py",
   "mimetype": "text/x-python",
   "name": "python",
   "nbconvert_exporter": "python",
   "pygments_lexer": "ipython3",
   "version": "3.7.0"
  },
  "orig_nbformat": 4
 },
 "nbformat": 4,
 "nbformat_minor": 2
}
