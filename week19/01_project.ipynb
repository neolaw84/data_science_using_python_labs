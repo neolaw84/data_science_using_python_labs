{
 "cells": [
  {
   "cell_type": "code",
   "execution_count": null,
   "metadata": {},
   "outputs": [],
   "source": [
    "import numpy as np\n",
    "\n",
    "from sklearn import linear_model as lm, model_selection as ms, feature_selection as fs\n",
    "from sklearn import svm, ensemble, neural_network as nn"
   ]
  },
  {
   "cell_type": "code",
   "execution_count": null,
   "metadata": {},
   "outputs": [],
   "source": [
    "# sigma(standard deviation) and muu(mean) are the parameters of gaussian\n",
    "def gaussian_filter(kernel_size, sigma=1.0, muu=0.0):\n",
    " \n",
    "    ax = np.linspace(-(kernel_size - 1) / 2., (kernel_size - 1) / 2., kernel_size)\n",
    "    gauss = np.exp(-0.5 * np.square(ax) / np.square(sigma))\n",
    "    kernel = np.outer(gauss, gauss)\n",
    "    return kernel / np.sum(kernel) + muu\n",
    "\n",
    "kernel_size=5\n",
    "gaussian = gaussian_filter(kernel_size)\n",
    "gaussian"
   ]
  },
  {
   "cell_type": "code",
   "execution_count": null,
   "metadata": {},
   "outputs": [],
   "source": [
    "!wget https://github.com/neolaw84/myanmar-digits/raw/dev/data.pkl"
   ]
  },
  {
   "cell_type": "code",
   "execution_count": null,
   "metadata": {},
   "outputs": [],
   "source": [
    "import pickle \n",
    "def load_myanmar_digits(n_classes:int=10, as_frame:bool=False, return_X_y:bool=False):\n",
    "    with open(\"data.pkl\", \"rb\") as f:\n",
    "        data = pickle.load(f)\n",
    "        "
   ]
  }
 ],
 "metadata": {
  "kernelspec": {
   "display_name": "Python 3.7.13 ('py37-dsup')",
   "language": "python",
   "name": "python3"
  },
  "language_info": {
   "codemirror_mode": {
    "name": "ipython",
    "version": 3
   },
   "file_extension": ".py",
   "mimetype": "text/x-python",
   "name": "python",
   "nbconvert_exporter": "python",
   "pygments_lexer": "ipython3",
   "version": "3.7.13"
  },
  "orig_nbformat": 4,
  "vscode": {
   "interpreter": {
    "hash": "cf5841eeb9fdd70b5a32cd740512a3aae54df2b4f66ae714b228eb262545450d"
   }
  }
 },
 "nbformat": 4,
 "nbformat_minor": 2
}
