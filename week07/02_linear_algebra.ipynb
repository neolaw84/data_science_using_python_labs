{
 "cells": [
  {
   "cell_type": "markdown",
   "metadata": {},
   "source": [
    "# Linear Algebra\n",
    "\n",
    "ဒီနေ့ Linear Algebra ကို ဆွေးနွေးမှာ ဖြစ်တယ်။ \n",
    "\n",
    "1. ပထမဆုံး Linear Algebra ကို အသုံးချပြီး PCA နဲ့ SVD လုပ်တာကို လက်တွေ့လုပ်ကြည့်ကြမယ်။\n",
    "2. ပြီးရင် Matrix နဲ့ Vector တွေ အကြောင်းကို ဆက်မယ်။ \n",
    "3. နောက်မှာ Transformation တွေကို ဆက်ကြည့်ပြီး ... \n",
    "4. Eigen values/Eigen vectors တွေနဲ့ အဆုံးသတ်မယ်။ "
   ]
  },
  {
   "cell_type": "code",
   "execution_count": 1,
   "metadata": {},
   "outputs": [],
   "source": [
    "%matplotlib inline\n",
    "from matplotlib import pyplot as plt\n",
    "\n",
    "from utils import get_image"
   ]
  },
  {
   "cell_type": "code",
   "execution_count": null,
   "metadata": {},
   "outputs": [],
   "source": [
    "img_1 = get_image()\n",
    "plt.imshow(img_1, cmap=\"gray\")\n",
    "plt.show()"
   ]
  },
  {
   "cell_type": "code",
   "execution_count": null,
   "metadata": {},
   "outputs": [],
   "source": [
    "print (img_1.ndim, img_1.shape, img_1.size)"
   ]
  },
  {
   "cell_type": "code",
   "execution_count": null,
   "metadata": {},
   "outputs": [],
   "source": [
    "from numpy import linalg\n",
    "U, s, Vt = linalg.svd(img_1)\n",
    "print (U.ndim, U.shape, U.size)\n",
    "print (s.ndim, s.shape, s.size)\n",
    "print (Vt.ndim, Vt.shape, Vt.size)"
   ]
  },
  {
   "cell_type": "code",
   "execution_count": null,
   "metadata": {},
   "outputs": [],
   "source": [
    "# this will give a value error\n",
    "approx_1 = U @ s @ Vt"
   ]
  },
  {
   "cell_type": "code",
   "execution_count": null,
   "metadata": {},
   "outputs": [],
   "source": [
    "# let's just use the first 64 values of s and first 64 rows of Vt\n",
    "k = 32\n",
    "s_ = s[:k]\n",
    "Vt_ = Vt[:k, :]"
   ]
  },
  {
   "cell_type": "code",
   "execution_count": 2,
   "metadata": {},
   "outputs": [
    {
     "ename": "NameError",
     "evalue": "name 'U' is not defined",
     "output_type": "error",
     "traceback": [
      "\u001b[0;31m---------------------------------------------------------------------------\u001b[0m",
      "\u001b[0;31mNameError\u001b[0m                                 Traceback (most recent call last)",
      "\u001b[0;32m<ipython-input-2-377dfb1b3b1a>\u001b[0m in \u001b[0;36m<module>\u001b[0;34m()\u001b[0m\n\u001b[1;32m      1\u001b[0m \u001b[0;32mimport\u001b[0m \u001b[0mnumpy\u001b[0m \u001b[0;32mas\u001b[0m \u001b[0mnp\u001b[0m\u001b[0;34m\u001b[0m\u001b[0;34m\u001b[0m\u001b[0m\n\u001b[1;32m      2\u001b[0m \u001b[0;34m\u001b[0m\u001b[0m\n\u001b[0;32m----> 3\u001b[0;31m \u001b[0mSigma\u001b[0m \u001b[0;34m=\u001b[0m \u001b[0mnp\u001b[0m\u001b[0;34m.\u001b[0m\u001b[0mzeros\u001b[0m\u001b[0;34m(\u001b[0m\u001b[0;34m(\u001b[0m\u001b[0mU\u001b[0m\u001b[0;34m.\u001b[0m\u001b[0mshape\u001b[0m\u001b[0;34m[\u001b[0m\u001b[0;36m1\u001b[0m\u001b[0;34m]\u001b[0m\u001b[0;34m,\u001b[0m \u001b[0mVt_\u001b[0m\u001b[0;34m.\u001b[0m\u001b[0mshape\u001b[0m\u001b[0;34m[\u001b[0m\u001b[0;36m0\u001b[0m\u001b[0;34m]\u001b[0m\u001b[0;34m)\u001b[0m\u001b[0;34m)\u001b[0m\u001b[0;34m\u001b[0m\u001b[0;34m\u001b[0m\u001b[0m\n\u001b[0m\u001b[1;32m      4\u001b[0m \u001b[0mnp\u001b[0m\u001b[0;34m.\u001b[0m\u001b[0mfill_diagonal\u001b[0m\u001b[0;34m(\u001b[0m\u001b[0mSigma\u001b[0m\u001b[0;34m,\u001b[0m \u001b[0ms_\u001b[0m\u001b[0;34m)\u001b[0m\u001b[0;34m\u001b[0m\u001b[0;34m\u001b[0m\u001b[0m\n\u001b[1;32m      5\u001b[0m \u001b[0;34m\u001b[0m\u001b[0m\n",
      "\u001b[0;31mNameError\u001b[0m: name 'U' is not defined"
     ]
    }
   ],
   "source": [
    "import numpy as np\n",
    "\n",
    "Sigma = np.zeros((U.shape[1], Vt_.shape[0]))\n",
    "np.fill_diagonal(Sigma, s_)\n",
    "\n",
    "approx_1 = np.matmul(U, np.matmul(Sigma, Vt_)) # U @ Sigma @ Vt_\n",
    "plt.imshow(approx_1, cmap=\"gray\")\n",
    "plt.show()"
   ]
  },
  {
   "cell_type": "code",
   "execution_count": null,
   "metadata": {},
   "outputs": [],
   "source": [
    "print (\"total size of U, s_ and Vt_ is : \")\n",
    "print (U.size + s_.size + Vt_.size)\n",
    "print (\"original image size is : \")\n",
    "print (img_1.size)\n",
    "print (\"compression ratio : {}/{} = {}\".format(U.size + s_.size + Vt_.size, img_1.size, (U.size + s_.size + Vt_.size)/img_1.size))"
   ]
  },
  {
   "cell_type": "code",
   "execution_count": null,
   "metadata": {},
   "outputs": [],
   "source": [
    "# let's do for all colors\n",
    "img_1 = get_image(grayscale=False)\n",
    "img_1_transposed = np.transpose(img_1, (2, 0, 1))\n",
    "U, s, Vt = linalg.svd(img_1_transposed)\n",
    "s_ = s[:, :k]\n",
    "Vt_ = Vt[:, :k, :]\n",
    "Sigma = np.zeros((3, 768, 1024))\n",
    "for j in range(0, 3):\n",
    "    np.fill_diagonal(Sigma[j, :, :], s_[j, :])\n"
   ]
  },
  {
   "cell_type": "code",
   "execution_count": null,
   "metadata": {},
   "outputs": [],
   "source": [
    "approx_img = np.matmul(U, np.matmul(Sigma[..., :k], Vt_[..., :k, :])) # U @ Sigma[..., :k] @ Vt_[..., :k, :]\n",
    "print (approx_img.shape)"
   ]
  },
  {
   "cell_type": "code",
   "execution_count": null,
   "metadata": {},
   "outputs": [],
   "source": [
    "plt.imshow(np.transpose(approx_img, (1, 2, 0)))\n",
    "plt.show()"
   ]
  },
  {
   "cell_type": "code",
   "execution_count": null,
   "metadata": {},
   "outputs": [],
   "source": [
    "print (\"total size of U, s_ and Vt_ is : \")\n",
    "print (U.size + s_.size + Vt_.size)\n",
    "print (\"original image size is : \")\n",
    "print (img_1.size)\n",
    "print (\"compression ratio : {}/{} = {}\".format(U.size + s_.size + Vt_.size, img_1.size, (U.size + s_.size + Vt_.size)/img_1.size))"
   ]
  },
  {
   "cell_type": "markdown",
   "metadata": {},
   "source": [
    "### Wait! What? Sorcery?\n",
    "\n",
    "တကယ့်လက်တွေ့မှာ jpeg/png, mpeg, mp3 compression တွေဟာ (ဒီထက် အဆင့်မြင့်ပေမဲ့) ဒီဟာနဲ့ သဘောတရားတူတဲ့ Linear Algebra အခြေခံ နည်းလမ်းတွေကို အသုံးပြုထားတာ ဖြစ်ပါတယ်။\n",
    "\n",
    "Data Science မှာကတော့ Data တွေဟာ Dimension တွေ သိပ်များနေရင် (column တွေ သိပ်များနေရင်) ချုံ့ပစ်ဖို့ Dimensionality Reduction Technique အနေနဲ့ အသုံးပြုကြပါတယ်။ PCA ရယ် SVD ရယ်ဆိုပြီး လူသိများပါတယ်။ တကယ်တမ်းကတော့ အဲဒီ ၂ ခုဟာ ခပ်ဆင်ဆင်ပါပဲ။ နောက်ပိုင်းမှာ model ဆောက်တဲ့နားရောက်ရင် အဲဒါတွေကို အကျယ်ပြောပါမယ်။ \n",
    "\n",
    "လောလောဆယ်ကတော့ Linear Algebra အကြောင်းကို အသေးစိတ် လေ့လာရအောင်ပါ။"
   ]
  },
  {
   "cell_type": "code",
   "execution_count": 3,
   "metadata": {},
   "outputs": [
    {
     "data": {
      "image/png": "[encoded data removed]",
      "text/plain": [
       "<Figure size 432x288 with 1 Axes>"
      ]
     },
     "metadata": {
      "needs_background": "light"
     },
     "output_type": "display_data"
    }
   ],
   "source": [
    "from utils import plot_points_and_vectors\n",
    "np.random.seed(42)\n",
    "\n",
    "my_points = np.array([\n",
    "    np.random.random(size=5),\n",
    "    np.random.random(size=5)\n",
    "])\n",
    "my_points = np.vstack((my_points, np.ones(5)))\n",
    "\n",
    "    \n",
    "plot_points_and_vectors(my_points=my_points)"
   ]
  },
  {
   "cell_type": "code",
   "execution_count": 4,
   "metadata": {},
   "outputs": [
    {
     "data": {
      "image/png": "[encoded data removed]",
      "text/plain": [
       "<Figure size 432x288 with 1 Axes>"
      ]
     },
     "metadata": {
      "needs_background": "light"
     },
     "output_type": "display_data"
    }
   ],
   "source": [
    "def get_translation_matrix(dx, dy):\n",
    "    A_translate = np.array([\n",
    "        [1.0, 0, dx],\n",
    "        [0, 1.0, dy],\n",
    "        [0, 0, 1.0]\n",
    "    ])\n",
    "    return A_translate\n",
    "\n",
    "A_trans = get_translation_matrix(2, 1)\n",
    "my_points_translated = A_trans @ my_points\n",
    "plot_points_and_vectors(my_points=my_points_translated, xlim=(0.0, 3.0), ylim=(0.0, 3.0))"
   ]
  },
  {
   "cell_type": "code",
   "execution_count": 5,
   "metadata": {},
   "outputs": [
    {
     "data": {
      "image/png": "[encoded data removed]",
      "text/plain": [
       "<Figure size 432x288 with 1 Axes>"
      ]
     },
     "metadata": {
      "needs_background": "light"
     },
     "output_type": "display_data"
    }
   ],
   "source": [
    "import math\n",
    "def get_rotation_matrix(theta):\n",
    "    A_rotation = np.array([\n",
    "        [math.cos(theta), -math.sin(theta), 0],\n",
    "        [math.sin(theta), math.cos(theta), 0],\n",
    "        [0.0, 0.0, 1.0]\n",
    "    ])\n",
    "    return A_rotation\n",
    "\n",
    "A_rotate = get_rotation_matrix(math.pi/2)\n",
    "my_points_rotated = A_rotate @ my_points\n",
    "plot_points_and_vectors(my_points_rotated, xlim=(-1.1, 1.1), ylim=(-1.1, 1.1))"
   ]
  },
  {
   "cell_type": "code",
   "execution_count": null,
   "metadata": {},
   "outputs": [],
   "source": [
    "# try to implement dilation"
   ]
  }
 ],
 "metadata": {
  "interpreter": {
   "hash": "3a9c1e998c7d6d5f29587b2c70e9bd488bb486b902354401efc27ca8457f04e9"
  },
  "kernelspec": {
   "display_name": "Python 3.7.11 ('py37-dsup')",
   "language": "python",
   "name": "python3"
  },
  "language_info": {
   "codemirror_mode": {
    "name": "ipython",
    "version": 3
   },
   "file_extension": ".py",
   "mimetype": "text/x-python",
   "name": "python",
   "nbconvert_exporter": "python",
   "pygments_lexer": "ipython3",
   "version": "3.7.11"
  },
  "orig_nbformat": 4
 },
 "nbformat": 4,
 "nbformat_minor": 2
}
