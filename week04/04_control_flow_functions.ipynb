{
 "cells": [
  {
   "cell_type": "markdown",
   "metadata": {},
   "source": [
    "# Control Flow - Functions\n",
    "\n",
    "မင်္ဂလာပါ၊ Data Science Using Python - Week 04 Part 2 က ကြိုဆိုပါတယ်။ \n",
    "\n",
    "ဒီတပါတ် နောက်ဆုံး Control Flow သင်ခန်းစာဖြစ်တဲ့ Function (return/yield/raise) ကို လက်တွေ့လုပ်ကြည့်ရမှာ ဖြစ်တယ်။ \n",
    "\n",
    "အရင်ဆုံး function ဆိုတာ ဘာလဲလို့ အရင် စဉ်းစားကြည့်ရအောင်။ \n",
    "\n",
    "A function **maps** given elements $X=\\{x_1, x_2, ..., x_n\\}$ to $y$ (သို့မဟုတ် $Y = (y_1, y_2, ..., y_k)$). \n",
    "\n",
    "Let's consider some mathematical functions: \n",
    "\n",
    "* $f(x) = x + 1$\n",
    "* $g(x) = 3x + 9$\n",
    "* $h(x) = 9x^2 -3x + 196$\n",
    "* $i(x) = \\sin(x)$\n",
    "* $j(x_1, x_2) = \\frac{\\sin(x_1) + \\cos(x_2)}{2y}$\n",
    "\n",
    "We will start by implementing them. Let me start with $f(x) = x + 1$\n",
    "\n",
    "```python\n",
    "def f(x):\n",
    "    return x + 1\n",
    "```\n",
    "\n",
    "Also, we will show how to implement this: $j(x_1, x_2) = \\frac{\\sin(x_1) + \\cos(x_2)}{2x_2}$\n",
    "\n",
    "```python\n",
    "from maths import sin, cos\n",
    "def j(x_1, x_2):\n",
    "    return (sin(x_1+ cos(x_2))/2*x_2\n",
    "```"
   ]
  },
  {
   "cell_type": "code",
   "execution_count": null,
   "metadata": {},
   "outputs": [],
   "source": [
    "# try to implement the functions above and call them\n"
   ]
  },
  {
   "cell_type": "markdown",
   "metadata": {},
   "source": [
    "Actually, functions are more than one line mathematics equations. A function can include **imperative** programming (multiple steps).\n",
    "\n",
    "ဂဏန်းတခုကို ၂ နဲ့ စားလို့ပြတ်မပြတ် နောက်ဆုံး ခုဂဏန်(1 digit)၊ ၄ နဲ့ စားလို့ ပြတ်မပြတ် နောက်ဆုံး ဂဏန်း ၂ နေရာ (2 digits)၊ ၈ နဲ့ စားလို့ ပြတ်မပြတ် နောက်ဆုံး ဂဏန်း ၃ နေရာ၊ ၁၆ နဲ့ စားလို့ ပြတ်မပြတ် နောက်ဆုံး ဂဏန်း ၄ နေရာ ကို စားကြည့်ရင် သိနိုင်တယ်။\n",
    "\n",
    "Python လိုရေးရင် ... \n",
    "\n",
    "```python\n",
    "def divisible_by_4(x):\n",
    "    x_str = str(x)\n",
    "    last_2_digit_of_x_str = x_str[-2:]\n",
    "    last_2_digit_of_x = int(last_2_digit_of_x_str)\n",
    "    return last_2_digit_of_x % 4 == 0\n",
    "```"
   ]
  },
  {
   "cell_type": "code",
   "execution_count": null,
   "metadata": {},
   "outputs": [],
   "source": [
    "# အပေါ်က divisible_by_4 အတွက် test case များကို စဉ်းစားပါ။ ပြီးလျှင် implement and try."
   ]
  },
  {
   "cell_type": "code",
   "execution_count": null,
   "metadata": {},
   "outputs": [],
   "source": [
    "# divisible_by_16 ကို implement လုပ်ပါ၊ test case များကို စဉ်းစားပြီး စမ်းသပ်ကြည့်ပါ။ "
   ]
  },
  {
   "cell_type": "markdown",
   "metadata": {},
   "source": [
    "## Function Definition and Invokation \n",
    "\n",
    "1. Function naming is the same as any identifier (i.e. variables)\n",
    "2. Function definition starts with `def` keyword followed by its name with parameters in brackets.\n",
    "3. Function invokation needs its name followed by values of parameters.\n",
    "\n",
    "```python\n",
    "def function_name(param_1, param_2, param_3):\n",
    "    # body of the function\n",
    "    statement_1\n",
    "    statement_2\n",
    "    ...\n",
    "    return results\n",
    "\n",
    "result = function_name(1, True, \"str\")\n",
    "```"
   ]
  },
  {
   "cell_type": "markdown",
   "metadata": {},
   "source": [
    "4. When invoked, a function runs (top to bottom) until it encounters `return` statement or the body ends.\n",
    "    * If no `return` statement is encountered, the function returns a special object `None`.\n",
    "    * A function can contain branching statements (if statements) and return accordingly.\n",
    "\n",
    "```python\n",
    "def strange_function(param_1):\n",
    "    if isinstance(param_1, int):\n",
    "        return param_1 + 1\n",
    "    elif isinstance(param_1, bool):\n",
    "        return not param_1\n",
    "    print (\"param_1 is neither an int nor boolean\")\n",
    "\n",
    "a = strange_function(5)\n",
    "print (a) # it will print 6\n",
    "b = strange_function(False)\n",
    "print (b) # it will print True\n",
    "c = strange_function(\"blar\") # this will print 'param_1 is neither an int nor boolean'\n",
    "print (c) # it will print None\n",
    "```"
   ]
  },
  {
   "cell_type": "code",
   "execution_count": null,
   "metadata": {},
   "outputs": [],
   "source": [
    "# try these\n"
   ]
  },
  {
   "cell_type": "markdown",
   "metadata": {},
   "source": [
    "5. A function can return more than zero (`None`), one or more than one values\n",
    "\n",
    "```python\n",
    "def all_arithmetics (num_1, num_2):\n",
    "    return num_1 + num_2, num_1 - num_2, num_1 * num_2, num_1 / num_2 if num_2 != 0 else \"undefined\"\n",
    "\n",
    "sum_, sub_, mul_, div_ = all_arithmetics (5, 2)\n",
    "print (sum_) # 7\n",
    "print (sub_) # 3\n",
    "print (mul_) # 10\n",
    "print (div_) # 2.5\n",
    "```"
   ]
  },
  {
   "cell_type": "code",
   "execution_count": null,
   "metadata": {},
   "outputs": [],
   "source": [
    "# try this"
   ]
  },
  {
   "cell_type": "markdown",
   "metadata": {},
   "source": [
    "## Function Parameters\n",
    "\n",
    "1. Primitives are passed by value (i.e. တကော်ပီကူး)\n",
    "\n",
    "```python\n",
    "def func_by_value(int_1, int_2, bool_3):\n",
    "    if bool_3:\n",
    "        int_2 = int_1\n",
    "        print (\"int_2 in func : {}\".format(int_2))\n",
    "        print (\"int_1 in func : {}\".format(int_2))\n",
    "        return int_1\n",
    "    else:\n",
    "        print (\"int_2 in func : {}\".format(int_2))\n",
    "        print (\"int_1 in func : {}\".format(int_2))\n",
    "        return int_2 + int_1\n",
    "\n",
    "a_1 = 1\n",
    "a_2 = 2\n",
    "print (func_by_value(a_1, a_2, True))\n",
    "print (a_1, a_2) # notice they never change\n",
    "print (func_by_value(a_1, a_2, False))\n",
    "print (a_1, a_2) # notice they never change\n",
    "```"
   ]
  },
  {
   "cell_type": "code",
   "execution_count": null,
   "metadata": {},
   "outputs": [],
   "source": [
    "# try these"
   ]
  },
  {
   "cell_type": "markdown",
   "metadata": {},
   "source": [
    "2. Non-primitives are passed by reference (i.e. လိပ်စာပဲ ပေးလိုက်)\n",
    "\n",
    "```python\n",
    "def func_by_ref(dict_1, dict_2, bool_3):\n",
    "    if bool_3:\n",
    "        dict_1[\"value\"] = dict_2[\"value\"]\n",
    "        print (\"dict_2 in func : {}\".format(dict_2))\n",
    "        print (\"dict_1 in func : {}\".format(dict_2))\n",
    "        return dict_1\n",
    "    else:\n",
    "        print (\"dict_2 in func : {}\".format(dict_2))\n",
    "        print (\"dict_1 in func : {}\".format(dict_2))\n",
    "        return dict_2\n",
    "\n",
    "a_1 = {\"value\":1}\n",
    "a_2 = {\"value\":2}\n",
    "print (func_by_ref(a_1, a_2, True))\n",
    "print (a_1, a_2) # notice they never change\n",
    "print (func_by_ref(a_1, a_2, False))\n",
    "print (a_1, a_2) # notice they never change\n",
    "```"
   ]
  },
  {
   "cell_type": "code",
   "execution_count": null,
   "metadata": {},
   "outputs": [],
   "source": [
    "# try here"
   ]
  },
  {
   "cell_type": "markdown",
   "metadata": {},
   "source": [
    "3. You can define default values for function parameters\n",
    "    * But you can't have a parameter without default value after the one with default value\n",
    "    \n",
    "```python\n",
    "def divide(a, b=1): # if b is omitted, 1 will be used as b\n",
    "    return a/b\n",
    "\n",
    "print (divide(5/2)) # 2.5\n",
    "print (divide(3)) # 3\n",
    "\n",
    "def this_func_wont_run(a, b=1, c):\n",
    "    return a*c/b\n",
    "\n",
    "```"
   ]
  },
  {
   "cell_type": "code",
   "execution_count": null,
   "metadata": {},
   "outputs": [],
   "source": [
    "# try here"
   ]
  },
  {
   "cell_type": "markdown",
   "metadata": {},
   "source": [
    "4. `*args` and `**kwargs` are special place holders \n",
    "    * `*args` must appear before any parameter with default values\n",
    "    * `**kwargs` must be the last parameter\n",
    "\n",
    "```python\n",
    "def func_with_unlimited_args(a, b, *args, **kwargs):\n",
    "    print (args) # this will print a list\n",
    "    print (kwargs) # this will print a dict\n",
    "    return a + b\n",
    "\n",
    "c = func_with_unlimited_args(9, 8, \"arg_1\", \"arg_2\", \"arg_3\", super=\"duper\", foo=\"bar\", dr=\"strange\")\n",
    "```"
   ]
  },
  {
   "cell_type": "code",
   "execution_count": null,
   "metadata": {},
   "outputs": [],
   "source": [
    "# try here"
   ]
  },
  {
   "cell_type": "markdown",
   "metadata": {},
   "source": [
    "Since the zen of python says, \n",
    "\n",
    "> Explicit is better than implicit\n",
    "\n",
    "5. Invokation can explicitly define parameters by name rather than relying on positions\n",
    "\n",
    "```python\n",
    "def add(num_1, num_2):\n",
    "    return num_1 + num_2\n",
    "\n",
    "print (add (-1, 2)) # will print 1\n",
    "print (add (num_2=2, num_1=-1)) # will print 1\n",
    "```"
   ]
  },
  {
   "cell_type": "code",
   "execution_count": null,
   "metadata": {},
   "outputs": [],
   "source": [
    "# try here"
   ]
  },
  {
   "cell_type": "markdown",
   "metadata": {},
   "source": [
    "## Control Flow in and out of functions\n",
    "\n",
    "1. It flows until it encounters `return` or end of body\n",
    "\n",
    "2. If it encounters `raise` it will go to nearest `except` (in or outside function)\n",
    "\n",
    "```python\n",
    "import traceback as tb\n",
    "\n",
    "def func(a, b, c):\n",
    "    if not c: \n",
    "        raise Exception(\"c is False\")\n",
    "    else:\n",
    "        temp_var = 0\n",
    "        try:\n",
    "            temp_var = a / b\n",
    "        except Exception as e:\n",
    "            tb.print_stack()\n",
    "        return temp_var + 5\n",
    "\n",
    "print (func(1, 2, False)) # it will come out all the way\n",
    "```"
   ]
  },
  {
   "cell_type": "code",
   "execution_count": null,
   "metadata": {},
   "outputs": [],
   "source": [
    "# try this"
   ]
  },
  {
   "cell_type": "code",
   "execution_count": null,
   "metadata": {},
   "outputs": [],
   "source": [
    "print (func(3, 0, True)) # this will go to nearest except"
   ]
  },
  {
   "cell_type": "code",
   "execution_count": null,
   "metadata": {},
   "outputs": [],
   "source": [
    "print (func(3, 2, True)) # this will return 6.5"
   ]
  },
  {
   "cell_type": "markdown",
   "metadata": {},
   "source": [
    "#### Remember the **Lazy** function `range` ???\n",
    "\n",
    "3. If it encounters `yield` it remembers where in the function it is and next invokation starts from there (they are called **generators**)\n",
    "\n",
    "```python\n",
    "def gen_func(*args):\n",
    "    if len(args) >= 1:\n",
    "        yield args[0]\n",
    "    if len(args) >= 2:\n",
    "        yield args[1]\n",
    "    for a in args[2:]:\n",
    "        yield a\n",
    "\n",
    "print (gen_func(1, 2, 3)) # this will print a \n",
    "for item in gen_func(1, 2, 3, 4, \"blar\", \"foo\", \"bar\"):\n",
    "    print (item)\n",
    "```"
   ]
  },
  {
   "cell_type": "code",
   "execution_count": null,
   "metadata": {},
   "outputs": [],
   "source": [
    "# try this"
   ]
  },
  {
   "cell_type": "code",
   "execution_count": null,
   "metadata": {},
   "outputs": [],
   "source": []
  }
 ],
 "metadata": {
  "interpreter": {
   "hash": "3a9c1e998c7d6d5f29587b2c70e9bd488bb486b902354401efc27ca8457f04e9"
  },
  "kernelspec": {
   "display_name": "Python 3.7.11 ('py37-dsup')",
   "language": "python",
   "name": "python3"
  },
  "language_info": {
   "codemirror_mode": {
    "name": "ipython",
    "version": 3
   },
   "file_extension": ".py",
   "mimetype": "text/x-python",
   "name": "python",
   "nbconvert_exporter": "python",
   "pygments_lexer": "ipython3",
   "version": "3.7.11"
  },
  "orig_nbformat": 4
 },
 "nbformat": 4,
 "nbformat_minor": 2
}
