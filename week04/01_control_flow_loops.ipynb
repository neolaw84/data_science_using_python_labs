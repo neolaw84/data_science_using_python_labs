{
 "cells": [
  {
   "cell_type": "code",
   "execution_count": null,
   "metadata": {},
   "outputs": [],
   "source": [
    "# the git clone and change directory staff here"
   ]
  },
  {
   "cell_type": "markdown",
   "metadata": {},
   "source": [
    "# Control Flow (Loops)\n",
    "\n",
    "မင်္ဂလာပါ၊ Data Science Using Python Week 04 မှ ကြိုဆိုပါတယ်။ \n",
    "\n",
    "ဒီနေ့ lab မှာ Linear, Conditional နဲ့ Loop ဆိုတဲ့ Basic Control Flow 3 ခုထဲက နောက်ဆုံးတခုဖြစ်တဲ့ Loop အကြောင်းကို စမ်းသပ်ရေးသားရမှာ ဖြစ်တယ်။ \n",
    "\n",
    "> python ဟာ modern language တခု ဖြစ်တာမို့ function, generator, try/except နဲ့ exception/error Control Flow တွေလဲ ရှိတယ်။ "
   ]
  },
  {
   "cell_type": "markdown",
   "metadata": {},
   "source": [
    "## Anatomy of `for` loop\n",
    "\n",
    "`for` loop ကို ရှေ့က lab တွေမှာ တစွန်းတစ တွေ့ခဲ့ပြီး ဖြစ်တယ်။ \n",
    "\n",
    "---\n",
    "\n",
    "**A simple `for` without an `else`**\n",
    "\n",
    "```python\n",
    "\n",
    "iterable = range(0, 10)\n",
    "for loop_variable in iterable:\n",
    "    do_something_with (loop_variable)\n",
    "```\n",
    "\n",
    "`iterable` ထဲမှာရှိတဲ့ `loop_variable` တခုစီတိုင်းအတွက် do_something_with `function` ကို တခါစီ invoke လုပ်လိမ့်မယ်။ \n",
    "\n",
    "**iterable** ဆိုတာ `list`, `dict`, `iterator`, `generator` တွေထဲက တခုခု ဖြစ်တယ်။\n",
    "\n",
    "ဥပမာ \n",
    "\n",
    "```python\n",
    "numbers = range(0, 10)\n",
    "for n in numbers:\n",
    "    print (n)\n",
    "    # this loop will print 0, 1, 2, 3, 4, 5, 6, 7, 8, 9\n",
    "```\n",
    "\n",
    "---\n",
    "\n",
    "**A `for` with `break` or `continue`**\n",
    "\n",
    "```python\n",
    "iterable = range(0, 10)\n",
    "for loop_variable in iterable:\n",
    "    if <condition 1>:\n",
    "        continue\n",
    "    elif <condition 2>:\n",
    "        break\n",
    "    do_something_with (loop_variable)\n",
    "```\n",
    "\n",
    "`iterable` ထဲမှာရှိတဲ့ `loop_variable` တခုစီတိုင်းအတွက် do_something_with `function` ကို တခါစီ invoke လုပ်လိမ့်မယ်။\n",
    "\n",
    "သို့သော် ... `continue` ဆိုတဲ့ instruction ကို hit ခဲ့မယ်ဆိုရင် (condition 1 က `True` လို့ evaluate လုပ်ခဲ့မယ်ဆိုရင်) အောက်က statement တွေကို execute မလုပ်တော့ပဲ နောက် `loop_variable` အတွက် အလုပ်စ လုပ်လိမ့်မယ်။\n",
    "\n",
    "သို့သော် ... `break` ဆိုတဲ့ instruction ကို hit ခဲ့မယ်ဆိုရင် (condition 2 က `True` လို့ evaluate လုပ်ခဲ့မယ်ဆိုရင်) `loop_variable` လက်ကျန်တွေအတွက် execute မလုပ်တော့ပဲ loop ထဲက ချက်ချင်း ထွက်လိမ့်မယ်။ \n",
    "\n",
    "ဥပမာ \n",
    "\n",
    "```python\n",
    "numbers = range(0, 10)\n",
    "for n in numbers:\n",
    "    if n == 3:\n",
    "        continue\n",
    "    elif n == 7:\n",
    "        break\n",
    "    print (n)\n",
    "# this loop will print 0, 1, 2, 4, 5, 6\n",
    "```\n",
    "\n",
    "---"
   ]
  },
  {
   "cell_type": "code",
   "execution_count": null,
   "metadata": {},
   "outputs": [],
   "source": [
    "# စမ်းကြည့်ရန်"
   ]
  },
  {
   "cell_type": "markdown",
   "metadata": {},
   "source": [
    "\n",
    "---\n",
    "\n",
    "**A `for` with an `else` clause**\n",
    "\n",
    "```python\n",
    "iterable = range(0, 10)\n",
    "for loop_variable in iterable:\n",
    "    if <condition 1>:\n",
    "        break\n",
    "    do_something_with (loop_variable)\n",
    "else:\n",
    "    do_something_if_break_is_not_hit ()\n",
    "```\n",
    "\n",
    "`iterable` ထဲမှာရှိတဲ့ `loop_variable` တခုစီတိုင်းအတွက် do_something_with `function` ကို တခါစီ invoke လုပ်လိမ့်မယ်။\n",
    "\n",
    "သို့သော် ... `break` ဆိုတဲ့ instruction ကို hit ခဲ့မယ်ဆိုရင် (condition 1 က `True` လို့ evaluate လုပ်ခဲ့မယ်ဆိုရင်) `loop_variable` လက်ကျန်တွေအတွက် execute မလုပ်တော့ပဲ loop ထဲက ချက်ချင်း ထွက်လိမ့်မယ်။ \n",
    "\n",
    "အကယ်၍ `break` instruction ကို မ hit ပဲနဲ့ (condition 1 က `True` လို့ တခါမှ evaluate မလုပ်ခဲ့ဘူးဆိုရင်) `do_something_if_break_is_not_hit` function ကို invoke လုပ်လိမ့်မယ်။\n",
    "\n",
    "---"
   ]
  },
  {
   "cell_type": "code",
   "execution_count": null,
   "metadata": {},
   "outputs": [],
   "source": [
    "# စမ်းကြည့်ရန်\n"
   ]
  },
  {
   "cell_type": "code",
   "execution_count": null,
   "metadata": {},
   "outputs": [],
   "source": [
    "# ဒီ ဥပမာမှာ expenses တွေကို list ထဲမှာ ထည့်ထားပြီး ပေါင်းကြည့်ပါမယ်။\n",
    "\n",
    "expense_1 = [1.00, 2.00, 3.00]\n",
    "expense_2 = [9.00, 1.00]\n",
    "expense_3 = [1.00, 1.55, 1.10, 7.00, 9.05]\n",
    "\n",
    "def add_expenses(expenses=[]):\n",
    "    total = 0.00\n",
    "    for e in expenses:\n",
    "        total = total + e\n",
    "    return total\n",
    "\n",
    "print (add_expenses(expense_1))\n",
    "print (add_expenses(expense_2))\n",
    "print (add_expenses(expense_3))"
   ]
  },
  {
   "cell_type": "code",
   "execution_count": null,
   "metadata": {},
   "outputs": [],
   "source": [
    "# ဒီ ဥပမာမှာ အရမ်းငယ်လွန်းတဲ့ expense တွေ မပါပဲ list ထဲကနေ ပေါင်းကြည့်ပါမယ်။\n",
    "\n",
    "expense_1 = [1.00, 2.00, 3.00]\n",
    "expense_2 = [9.00, 1.00]\n",
    "expense_3 = [1.00, 1.55, 1.10, 7.00, 9.05]\n",
    "\n",
    "def add_non_trivial_expenses(expenses=[], threshold=2.00):\n",
    "    total = 0.00\n",
    "    for e in expenses:\n",
    "        # print (\"expense {}\".format(e))\n",
    "        if e < threshold:\n",
    "            continue\n",
    "        # print (\"total before {}\".format(total))\n",
    "        total = total + e\n",
    "        # print (\"total after {}\".format(total))\n",
    "    return total\n",
    "\n",
    "print (add_non_trivial_expenses(expense_1))\n",
    "print (add_non_trivial_expenses(expense_2))\n",
    "print (add_non_trivial_expenses(expense_3))"
   ]
  },
  {
   "cell_type": "code",
   "execution_count": null,
   "metadata": {},
   "outputs": [],
   "source": [
    "# [number, number, ... , \"stop\", number, number, ...] ဆိုတဲ့ list ထဲမှာ stop ရဲ့ ဘယ်ဘက်က number တွေကို ပေါင်းကြည့်ပါမယ်။\n",
    "\n",
    "my_list = [1, 2, 3, \"stop\", 3, 3]\n",
    "my_list_2 = [\"stop\", 1, 2]\n",
    "my_list_3 = [1, 2, \"stop\", 0, 0]\n",
    "\n",
    "def add_up_to_keyword(data, keyword=\"stop\"):\n",
    "    total = 0.0\n",
    "    for d in data:\n",
    "        if d == \"stop\":\n",
    "            break\n",
    "        total = total + d\n",
    "        \n",
    "print (add_up_to_keyword(my_list))\n",
    "print (add_up_to_keyword(my_list_2))\n",
    "print (add_up_to_keyword(my_list_3))"
   ]
  },
  {
   "cell_type": "markdown",
   "metadata": {},
   "source": [
    "`list` တွေနဲ့ တခြား `collection` တွေမှာ သုံးလို့ရတဲ့ function တခုကတော့ `len` ဖြစ်တယ်။ \n",
    "\n",
    "```python\n",
    "a_list = [1, 2, 3]\n",
    "print (len(a_list)) # this will print 3\n",
    "b_list = [\"the\", \"first\", \"avenger\", \"winter\", \"soldier\", \"civil\", \"war\"]\n",
    "print (len(b_list)) # this will print 7\n",
    "```\n",
    "\n",
    "နောက်ထပ် အသုံးဝင်တဲ့ list method တခုကတော့ index ပဲ ဖြစ်တယ်။\n",
    "\n",
    "```python\n",
    "a_list = [10, 20, 30]\n",
    "print (a_list.index(20)) # this will print 1 (because 20 is in 2nd place and 2 - 1 = 1)\n",
    "b_list = [\"the\", \"first\", \"avenger\", \"winter\", \"soldier\", \"civil\", \"war\"]\n",
    "print (b_list.index(\"winter\")) # this will print 3\n",
    "```"
   ]
  },
  {
   "cell_type": "markdown",
   "metadata": {},
   "source": [
    "1. ပေးထားသော list အတွင်းရှိ \"start\" နှင့် \"stop\" အကြား ဂဏန်းများကို ပေါင်းပေးသော function ကို lab_loops_1.py တွင်ရေးပါ။\n",
    "\n",
    "```python\n",
    "def add_numbers_between(data=[], start_keyword=\"start\", stop_keyword=\"stop\"):\n",
    "    # calculate and return the total here\n",
    "    pass # remove this 'pass'\n",
    "```"
   ]
  },
  {
   "cell_type": "code",
   "execution_count": null,
   "metadata": {},
   "outputs": [],
   "source": [
    "%%writefile lab_loops_1.py\n",
    "# copy/paste and write here"
   ]
  },
  {
   "cell_type": "code",
   "execution_count": null,
   "metadata": {},
   "outputs": [],
   "source": [
    "!pytest test_loops_1.py"
   ]
  },
  {
   "cell_type": "markdown",
   "metadata": {},
   "source": [
    "2. စာမေးပွဲ ၂ ခု၏ အဖြေမှန်များမှာ အောက်ပါအတိုင်း ဖြစ်သည်။\n",
    "\n",
    "    [10, 45, 20, 35, True, 90, 33, False, 80, 11] တပုဒ် ၁၀ မှတ်၊ boolean True/False မှားလျှင် အမှတ် ၆၀ ကျော်ပါက ၆၀ သို့ ပြန်ချပါ။\n",
    "    [10, 4, 20, True, True, 90, 33, True, 8, 0] တပုဒ် ၁၀ မှတ်၊ boolean True/False မှားလျှင် အမှတ် ၆၀ ကျော်ပါက ၆၀ သို့ ပြန်ချပါ။\n",
    "\n",
    "အမှတ်ပေါင်းကို တွက်ပေးသော function ကို `lab_loops_2.py` သို့ရေးပြီး စစ်ဆေးပါ။\n",
    "\n",
    "```python\n",
    "def total_mark(correct_answers, student_answers):\n",
    "    # write your logic here\n",
    "    return total_mark\n",
    "```\n",
    "\n",
    "> data type of a ကို boolean ဟုတ်မဟုတ် စစ်ဆေးရန် `isinstance(a, bool)` ဟု ရေးပါ။\n",
    "\n",
    "```python\n",
    "a = True\n",
    "isinstance(a, bool)\n",
    "```"
   ]
  },
  {
   "cell_type": "code",
   "execution_count": null,
   "metadata": {},
   "outputs": [],
   "source": [
    "%%writefile lab_loops_2.py\n",
    "# copy/paste here"
   ]
  },
  {
   "cell_type": "code",
   "execution_count": null,
   "metadata": {},
   "outputs": [],
   "source": [
    "!pytest test_loops_2.py"
   ]
  },
  {
   "cell_type": "markdown",
   "metadata": {},
   "source": [
    "## Anatomy of while loop\n",
    "\n",
    "`while` loop က `if` statement နဲ့ အရမ်းတူတယ်။ \n",
    "\n",
    "```python\n",
    "if <condition_1>:\n",
    "    do_things_when_condition_1_meets()\n",
    "the_rest_of_the_program()\n",
    "```\n",
    "\n",
    "```python\n",
    "while <condition_1>:\n",
    "    do_things_as_long_as_condition_1_meets()\n",
    "the_rest_of_the_program()\n",
    "```\n",
    "\n",
    "ကွာခြားတာ တခုက indent အဆုံးကို ရောက်ရင် အပေါ်က condition ကို program က ပြန်တက်သွားပြီး condition ကို ပြန်စစ်တယ်။"
   ]
  },
  {
   "cell_type": "code",
   "execution_count": null,
   "metadata": {},
   "outputs": [],
   "source": [
    "# စမ်းကြည့်ရန်\n",
    "\n",
    "a = 10\n",
    "i = 0\n",
    "if a == 10 and i < 5:\n",
    "    print (\"a is ten\")\n",
    "    i = i + 1\n",
    "print (\"whatever\")\n",
    "print (i)"
   ]
  },
  {
   "cell_type": "code",
   "execution_count": null,
   "metadata": {},
   "outputs": [],
   "source": [
    "a = 10\n",
    "i = 0\n",
    "while a == 10 and i < 5:\n",
    "    print (\"a is ten\")\n",
    "    i = i + 1\n",
    "print (\"whatever\")\n",
    "print (i)"
   ]
  },
  {
   "cell_type": "code",
   "execution_count": null,
   "metadata": {},
   "outputs": [],
   "source": [
    "# and test this one out !!!\n",
    "a = 10\n",
    "i = 0\n",
    "while a == 10 and i < 5:\n",
    "    print (\"a is ten\")\n",
    "    # i = i + 1\n",
    "print (\"whatever\")\n",
    "print (i)"
   ]
  },
  {
   "cell_type": "markdown",
   "metadata": {},
   "source": [
    "**while loop မှာ for loop မှာလိုပဲ `continue` နဲ့ `break` ကိုလဲ သုံးလို့ရတယ်။"
   ]
  },
  {
   "cell_type": "code",
   "execution_count": null,
   "metadata": {},
   "outputs": [],
   "source": [
    "# let's write a program to play a guessing game between 1 and 3\n",
    "import random\n",
    "random.seed(42)\n",
    "while True:\n",
    "    num = input(\"Guess the number between 1 and 3 inclusive.\")\n",
    "    try:\n",
    "        num = int(num)\n",
    "        hidden_num = random.randint(1, 3) # this give you pseudo random number between 1 and 3 (both inclusive)\n",
    "        print (\"correct number is {}\".format(hidden_num))\n",
    "        if hidden_num == num:\n",
    "            print (\"congratulations!\")\n",
    "            break\n",
    "        else:\n",
    "            print (\"sorry, try again.\")\n",
    "    except:\n",
    "        print (\"Please enter only integers.\")"
   ]
  },
  {
   "cell_type": "code",
   "execution_count": null,
   "metadata": {},
   "outputs": [],
   "source": []
  }
 ],
 "metadata": {
  "interpreter": {
   "hash": "3a9c1e998c7d6d5f29587b2c70e9bd488bb486b902354401efc27ca8457f04e9"
  },
  "kernelspec": {
   "display_name": "Python 3.7.11 ('py37-dsup')",
   "language": "python",
   "name": "python3"
  },
  "language_info": {
   "codemirror_mode": {
    "name": "ipython",
    "version": 3
   },
   "file_extension": ".py",
   "mimetype": "text/x-python",
   "name": "python",
   "nbconvert_exporter": "python",
   "pygments_lexer": "ipython3",
   "version": "3.7.11"
  },
  "orig_nbformat": 4
 },
 "nbformat": 4,
 "nbformat_minor": 2
}
