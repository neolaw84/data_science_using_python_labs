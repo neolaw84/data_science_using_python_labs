{
 "cells": [
  {
   "cell_type": "markdown",
   "metadata": {},
   "source": [
    "# Dict"
   ]
  },
  {
   "cell_type": "markdown",
   "metadata": {},
   "source": [
    "## Refresher to Dict\n",
    "\n",
    "dict ဆိုတာ non-primitive data type or Data Structure တခု ဖြစ်တယ်။ \n",
    "\n",
    "```python\n",
    "from pprint import pprint\n",
    "my_dict = {\n",
    "    \"d001\" : \"chicken\",\n",
    "    \"d002\" : \"milk\", \n",
    "    \"d003\" : \"egg\", \n",
    "    \"s001\" : \"basa\", \n",
    "    \"s002\" : \"whiting\",\n",
    "    \"s003\" : \"prawns\",\n",
    "    \"b001\" : \"lamb\", \n",
    "    \"b002\" : \"beef\"\n",
    "}\n",
    "pprint (my_dict)\n",
    "print (my_dict[\"d002\"])\n",
    "```\n",
    "\n",
    "key to value mapping ပုံစံနဲ့ access လုပ်လို့ရတာကို dict လို့ ခေါ်ပါတယ် (Then **isn't a dict a function ???**)။ \n",
    "\n",
    "အပေါ်က ဥပမာမှာဆိုရင် `my_dict` variable ထဲက `d002` key ရဲ့ value ကို square-bracket နဲ့ access လုပ်တာကို မြင်ရပါမယ်။\n",
    "\n",
    "dict တွေကို တွန့်ကွင်းထဲမှာ ရေးတယ်။ လေးထောင့်ကွင်းနဲ့ access လုပ်လို့ရတယ်။ dict ရဲ့ key အဖြစ် immutable type တွေကိုပဲ သုံးလို့ရတယ်။\n",
    "\n",
    "> python 3.7 က စပြီး dict တွေဟာ ထည့်ထားတဲ့ အစီအစဉ် (order) အတိုင်း နေတယ်။ \n",
    "\n",
    "> python 3.6 က end of life ရောက်ပြီးပြီမို့လို့ dict ရဲ့ order ပြောင်းပြန်လန်နေသလားဆိုတာ စဉ်းစားစရာ မလိုတော့ဘူး။"
   ]
  },
  {
   "cell_type": "code",
   "execution_count": null,
   "metadata": {},
   "outputs": [],
   "source": [
    "# စမ်းကြည့်ရန်\n"
   ]
  },
  {
   "cell_type": "markdown",
   "metadata": {},
   "source": [
    "## A `dict` is an object as well\n",
    "\n",
    "`str` လိုပဲ `dict` ဟာ object လဲ ဖြစ်တယ်။\n",
    "\n",
    "> ဒီတော့ method (function) တွေ ရှိတယ်။"
   ]
  },
  {
   "cell_type": "code",
   "execution_count": null,
   "metadata": {},
   "outputs": [],
   "source": [
    "my_dict = {1 : 1, 2: 2}\n",
    "print (my_dict)\n",
    "print (my_dict.get(2, 0))\n",
    "print (my_dict.get(3, 0))"
   ]
  },
  {
   "cell_type": "code",
   "execution_count": null,
   "metadata": {},
   "outputs": [],
   "source": [
    "my_dict.update({3: 3})\n",
    "print (my_dict)"
   ]
  },
  {
   "cell_type": "code",
   "execution_count": null,
   "metadata": {},
   "outputs": [],
   "source": [
    "my_dict[1] = 111\n",
    "print (my_dict)"
   ]
  },
  {
   "cell_type": "code",
   "execution_count": null,
   "metadata": {},
   "outputs": [],
   "source": [
    "print (my_dict.keys())\n",
    "print (my_dict.values())\n",
    "print (my_dict.items())"
   ]
  },
  {
   "cell_type": "markdown",
   "metadata": {},
   "source": [
    "## Dict is not primitive-type\n",
    "\n",
    "```python\n",
    "my_dict = {1: 1, 2: 2, 3: 3}\n",
    "another_pointer_to_my_dict = my_dict\n",
    "another_pointer_to_my_dict[3] = 333\n",
    "print (my_dict) # what just happened ???\n",
    "```"
   ]
  },
  {
   "cell_type": "code",
   "execution_count": null,
   "metadata": {},
   "outputs": [],
   "source": [
    "my_dict = {1: 1, 2: 2, 3: 3}\n",
    "another_pointer_to_my_dict = my_dict\n",
    "another_pointer_to_my_dict[3] = 333\n",
    "print (my_dict) # what just happened ???"
   ]
  },
  {
   "cell_type": "markdown",
   "metadata": {},
   "source": [
    "## Dict Comprehension\n",
    "\n",
    "List လိုပဲ Dict Comprehension ဆိုတာ ရှိတယ်။ \n",
    "\n",
    "```python\n",
    "my_fruits = [\"apple\", \"orange\", \"lemon\", \"lime\", \"banana\", \"watermelon\", \"payaya\"]\n",
    "my_prices = [10.0, 5.0, 2.00, 2.00, 6.00, 5.00, 4.50]\n",
    "my_qty = [1, 2, 2, 0, 10, 1, 1]\n",
    "my_sub_totals = {f : p * q for f, p, q in zip (my_fruits, my_prices, my_qty)}\n",
    "```"
   ]
  },
  {
   "cell_type": "code",
   "execution_count": null,
   "metadata": {},
   "outputs": [],
   "source": [
    "# စမ်းကြည့်ရန်\n"
   ]
  },
  {
   "cell_type": "markdown",
   "metadata": {},
   "source": [
    "**Rock Paper Scissor**\n",
    "\n",
    "Rock wins (crushes) Scissor.\n",
    "\n",
    "Scissor wins (cuts) Paper. \n",
    "\n",
    "Paper wins (covers) Rock."
   ]
  },
  {
   "cell_type": "code",
   "execution_count": null,
   "metadata": {},
   "outputs": [],
   "source": [
    "rules = {\n",
    "    \"rock\" : {\n",
    "        \"wins\" : \"scissor\",\n",
    "        \"loses\" : \"paper\"\n",
    "    },\n",
    "    \"paper\" : {\n",
    "        \"wins\" : \"rock\",\n",
    "        \"loses\" : \"scissor\"\n",
    "    },\n",
    "    \"scissor\": {\n",
    "        \"wins\" : \"paper\", \n",
    "        \"loses\" : \"rock\"\n",
    "    }\n",
    "}\n",
    "\n",
    "def who_wins(player_a, player_b): \n",
    "    rule = rules[player_a]\n",
    "    if rule[\"wins\"] ==  player_b:\n",
    "        return \"player a\"\n",
    "    elif rule[\"loses\"] == player_b:\n",
    "        return \"player b\"\n",
    "    else:\n",
    "        return \"neither\"\n",
    "    \n",
    "print (who_wins(\"rock\", \"scissor\"))\n",
    "print (who_wins(\"rock\", \"rock\"))\n",
    "print (who_wins(\"rock\", \"paper\"))"
   ]
  },
  {
   "cell_type": "code",
   "execution_count": null,
   "metadata": {},
   "outputs": [],
   "source": [
    "# this lets user play 3 games\n",
    "\n",
    "computer_choices = [\"rock\", \"paper\", \"scissor\"]\n",
    "for computer_choice in computer_choices:\n",
    "    choice = input(\"rock/paper/scissor ? \")\n",
    "    while choice.lower() not in [\"rock\", \"paper\", \"scissor\"]:\n",
    "        choice = input (\"only rock/paper/scissor ?\")\n",
    "    print (\"you are player a; computer is player b\")\n",
    "    print (\"{} wins\".format(who_wins(choice, computer_choice)))"
   ]
  },
  {
   "cell_type": "markdown",
   "metadata": {},
   "source": [
    "Now, implement a game to play **Rock Paper Scissor Lizard Spock** until the user chooses to quit\n",
    "\n",
    "![](https://upload.wikimedia.org/wikipedia/en/c/cc/Rock_paper_scissors_lizard_spock.png)\n",
    "\n",
    "> Hint : use `while` loop to ask if user wants to quit\n",
    "\n",
    "> Hint : use `random.randint` function to generate number between 1 and 5 and convert them to choice.\n",
    "\n",
    "> Hint : use another dictionary so that user can just input R/P/X/L/S for Rock/Paper/Scissor/Lizzard/Spock"
   ]
  },
  {
   "cell_type": "code",
   "execution_count": null,
   "metadata": {},
   "outputs": [],
   "source": [
    "# write your program here and test"
   ]
  },
  {
   "cell_type": "markdown",
   "metadata": {},
   "source": []
  }
 ],
 "metadata": {
  "interpreter": {
   "hash": "3a9c1e998c7d6d5f29587b2c70e9bd488bb486b902354401efc27ca8457f04e9"
  },
  "kernelspec": {
   "display_name": "Python 3.7.11 ('py37-dsup')",
   "language": "python",
   "name": "python3"
  },
  "language_info": {
   "codemirror_mode": {
    "name": "ipython",
    "version": 3
   },
   "file_extension": ".py",
   "mimetype": "text/x-python",
   "name": "python",
   "nbconvert_exporter": "python",
   "pygments_lexer": "ipython3",
   "version": "3.7.11"
  },
  "orig_nbformat": 4
 },
 "nbformat": 4,
 "nbformat_minor": 2
}
