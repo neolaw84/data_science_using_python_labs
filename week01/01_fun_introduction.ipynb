{
  "cells": [
    {
      "cell_type": "markdown",
      "metadata": {
        "id": "Nma_JWh-W-IF"
      },
      "source": [
        "# Welcome to Data Science Using Python\n",
        "\n",
        "Data Science Using Python သင်တန်းမှာ ကြိုဆိုပါတယ်။ ဒီတပါတ်အတွက် သင်တို့ကို Google Colab, Python Programming Language နဲ့ သင်္ချာအခြေခံ (Linear Algebra၊ Calculas နဲ့ Statistics) တွေကို မိတ်ဆက်ပေးမှာ ဖြစ်ပါတယ်။\n",
        "\n",
        "ယခု သင်မြင်တွေ့နေရသော အရာမှာ Google Colab မှာ Run နေတဲ့ Jupyter Notebook တခု ဖြစ်ပါတယ်။"
      ]
    },
    {
      "cell_type": "markdown",
      "metadata": {
        "id": "5fCEDCU_qrC0"
      },
      "source": [
        "## Google Colab ဆိုတာ ဘာကြီးလဲ။\n",
        "\n",
        "Google Colab ဆိုတာ လွယ်လွယ်ပြောရရင် အလကားရတဲ့ ကွန်ပျူတာတလုံးပါပဲ။ (ခက်အောင်ပြောရရင်တော့ ယနေ့ ခေတ်စားနေတဲ့ Kubernetes ကို အခြေခံတဲ့ Container နည်းပညာကို သုံးထားတဲ့ Compute Node တခုပါပဲ။) Programming နဲ့ Data Science ဖွံ့ဖြိုးတိုးတက်ဖို့ Google က အခမဲ့ ပေးသုံးထားတဲ့ Computer တလုံးပေါ့။\n",
        "\n",
        "Colab, ကို သုံးပြီးတော့ သင်တို့ဟာ Python program ငယ်လေးတွေကို Browser (Chrome/Firefox/Edge စသည်) မှာ စမ်းသပ်ရေးသားနိုင်တယ်၊ run ကြည့်နိုင်တယ်။ \n",
        "\n",
        "Configuration လုပ်ဖို့ ခေါင်းရှုပ်စရာ မလိုဘူး၊ GPU တွေလဲ Free ပေးထားသေးတယ်၊ ရေးထားတဲ့ Jupyter Notebook တွေကိုလဲ တယောက်နဲ့ တယောက် Google Drive (ဒါမှမဟုတ် Github) ကိုသုံးပြီးတော့ Share နိုင်သေးတယ်။ အခု ကျနော်တို့ သင်တန်းက ဒီ Jupyter Notebook ကို Share သလိုမျိုးပေါ့။ \n",
        "\n",
        "ကဲ ... စကြရအောင် ... အောက်ကဟာကို `code cell` လို့ ခေါ်ပါတယ်။"
      ]
    },
    {
      "cell_type": "code",
      "execution_count": null,
      "metadata": {
        "colab": {
          "base_uri": "https://localhost:8080/",
          "height": 34
        },
        "id": "gJr_9dXGpJ05",
        "outputId": "9f556d03-ec67-4950-a485-cfdba9ddd14d"
      },
      "outputs": [],
      "source": [
        "# ဒီလိုမျိုး '#' လေးနဲ့ စရေးတာက python programming language မှာ comment လို့ ခေါ်တယ်။\n",
        "# comment တွေကို ကွန်ပျူတာက အရေးမလုပ် (ignore) ပါတယ်။\n",
        "# ဒါကြောင့် ရေးချင်ရာ ရေးနိုင်တယ်\n",
        "\n",
        "# အခု အောက်က ဘာတွေ ရေးထားတာလဲဆိုတာ သင်တို့ ဒီနေ့ နားလည်ဦးမှာ မဟုတ်ဘူး၊ ဒါကိစ္စမရှိပါဘူး။ သိပ်မကြာခင် နားလည်လာမှာ ... \n",
        "# လိုတိုရှင်း ပြောရရင်တော့ internet က download လုပ်တဲ့ library (requests) ကို import လုပ်တယ်၊ \n",
        "\n",
        "import requests\n",
        "from IPython.display import Image\n",
        "\n",
        "# ပြီးတော့ မင်းသား Tom Holland ရဲ့ ဓာတ်ပုံတပုံကို download လုပ်ပြီး notebook ထဲမှာ ပြတာ ဖြစ်တယ်။\n",
        "r = requests.get(\"https://i.ibb.co/5WNdy1R/1200px-Tom-Holland-by-Gage-Skidmore.jpg\")\n",
        "Image(r.content, width=200)\n",
        "\n",
        "# အရေးကြီးတာက ဒီ 'code cell' ကို ဘယ်လို run မလဲ ဆိုတာပဲ။ \n",
        "# ဘယ်ဘက်မှာရှိတဲ့ 'play' button (ဟုတ်တယ်၊ သီချင်းဖွင့်တဲ့ 'play' button လိုမျိုး) ကို နှိပ်ချင်နှိပ်၊ ဒါမှမဟုတ် 'Shift+Enter' ကို နှိပ်ပြီးတော့ ဖြစ်ဖြစ် run ရတယ်။ \n",
        "# စမ်းကြည့်ပါ။ အောက်မှာ Tom Holland ပုံပေါ်လာလိမ့်မယ်။"
      ]
    },
    {
      "cell_type": "markdown",
      "metadata": {
        "id": "2fhs6GZ4qFMx"
      },
      "source": [
        "ဒီနေ့အဖို့ သင်တို့ Google Colab မှာ Jupyter Notebook တခုကို ဖွင့်ခဲ့ပြီ။ ပြီးတော့ Python Language နဲ့ ရေးထားတဲ့ ဓာတ်ပုံ download လုပ်ပြီး screen ပေါ်မှာ ပြတဲ့ ကုဒ်ကိုလဲ Run ခဲ့ပြီ။ \n",
        "\n",
        "အခု ဆက်လုပ်မှာက screen ပေါ် ပေါ်နေတဲ့ Colab Environment ရဲ့ အစိတ်အပိုင်းတွေအကြောင်း ဆက်ပြီး လေ့လာဖို့ ဖြစ်တယ်။ \n",
        "\n",
        "![Colab Notebook](https://i.ibb.co/5R6Vdr6/colab-notebook.png)"
      ]
    },
    {
      "cell_type": "markdown",
      "metadata": {},
      "source": [
        "## လေ့ကျင့်ခန်း နည်းနည်း လုပ်ကြမယ်။ \n",
        "\n",
        "အခု Google Colab နဲ့ ပတ်သက်လို့ တော်တော်လေး သိသွားပြီဆိုတော့ အောက်မှာ ကြိုရေးထားတဲ့ `code` တွေကို `run` ကြည့်တဲ့ လေ့ကျင့်ခန်း လုပ်ကြမယ်။ `code` တွေရဲ့ အလုပ်လုပ်ပုံကို အသေးစိတ် နားလည်ဖို့ထက်ကို Google Colab ကို ကျွမ်းကျွမ်းကျင်ကျင် သုံးနိုင်ဖို့ `run` နိုင်ဖို့ကို အဓိကထား လေ့ကျင့်ကြဖို့ ဖြစ်ပါတယ်။ "
      ]
    },
    {
      "cell_type": "code",
      "execution_count": null,
      "metadata": {},
      "outputs": [],
      "source": [
        "# တလက်စတည်း ဒီ 'cell' ကို 'run' ပါ။ ဒီ 'cell' ထဲမှာ ပါတဲ့ numpy နဲ့ matplotlib အသုံးပြုပုံတွေကို နောက်အပါတ်တွေမှာ အသေးစိတ် သင်ကြားမှာ ဖြစ်ပါတယ်။\n",
        "\n",
        "import numpy as np\n",
        "from matplotlib import pyplot as plt\n",
        "import cv2\n",
        "\n",
        "# ဒီလို `def` နဲ့ စပြီး `identation` လုပ်ထားတာကို `function` လို့ ခေါ်တယ်။ \n",
        "# function ကို define သတ်မှတ်ပုံနဲ့ invoke အသုံးပြုပုံတွေကို နောက်အပါတ်တွေမှာ အသေးစိတ် သင်ကြားမှာ ဖြစ်ပါတယ်။\n",
        "# အခုကတော့ show_cv2_image ဆိုတဲ့ function ကို define တာလို့ အကြမ်းမှတ်ထားပေးပါ။ \n",
        "\n",
        "def show_cv2_image(img): # <-- ဒီလိုရေးတာ function ကို define တယ်လို့ ခေါ်တယ်။\n",
        "    img_rgb = cv2.cvtColor(img, cv2.COLOR_BGR2RGB)\n",
        "    plt.imshow(img_rgb)\n",
        "    plt.show()"
      ]
    },
    {
      "cell_type": "code",
      "execution_count": null,
      "metadata": {},
      "outputs": [],
      "source": [
        "# ဒီ cell ကိုလဲ ဆက် run ပါဦး။ ဒီ cell ထဲက code တွေက အင်တာနက်ပေါ်ကနေ နှုတ်ခမ်းမွှေးပုံတပုံကို download လုပ်ပြီး ပြတာ ဖြစ်ပါတယ်။\n",
        "\n",
        "def download_and_decode_cv2(url):\n",
        "    rr = requests.get(url)\n",
        "    _nparr = np.frombuffer(rr.content, np.uint8)\n",
        "    _img = cv2.imdecode(nparr2, cv2.IMREAD_COLOR)\n",
        "    return _img\n",
        "\n",
        "mustache = download_and_decode_cv2(\"https://i.ibb.co/hBX7Dpf/mustache.jpg\") # <-- ဒီလို ရေးတာ function ကို invoke တယ်လို့ ခေါ်တယ်။\n",
        "\n",
        "# ဒီနေရာမှာ သတိပြုရဖို့က X-axis နဲ့ Y-axis ပါ။ X-axis က ဘယ်ကနေ ညာဘက်ကို ကြီးသွားပေမဲ့ Y-axis က ပုံမှန် သင်္ချာမှာလို အောက်ကနေ အထက်ကို ကြီးမသွားပဲ \n",
        "# အထက်ကနေ အောက်ဘက်ကို ကြီးသွားတာ သတိပြုပါ။ \n",
        "# Computer Graphics (Image) တွေမှာ Y-axis ဟာ အထက်ကနေ အောက်ကို ကြီးသွားပါတယ်။ ဒါကြောင့် (0, 0) origin မှတ်ဟာ ဘယ်ဘက် အပေါ်ထောင့်မှာ ရှိပါတယ်။\n",
        "\n",
        "show_cv2_image(mustache) # <-- ဒီလို ရေးတာ function ကို invoke တယ်လို့ ခေါ်တယ်။"
      ]
    },
    {
      "cell_type": "code",
      "execution_count": null,
      "metadata": {},
      "outputs": [],
      "source": [
        "# run လိုက်ပါဦး၊ ဒီ cell ကတော့ Tom Holland ရဲ့ ပုံကို X/Y Coordinate နဲ့ ပြတာဖြစ်ပါတယ်။\n",
        "nparr = np.frombuffer(r.content, np.uint8)\n",
        "original_img = cv2.imdecode(nparr, cv2.IMREAD_COLOR)\n",
        "\n",
        "show_cv2_image(original_img) # <-- ဒီလို ရေးတာ function ကို invoke တယ်လို့ ခေါ်တယ်။"
      ]
    },
    {
      "cell_type": "code",
      "execution_count": null,
      "metadata": {},
      "outputs": [],
      "source": [
        "# နောက်ထပ် function တခုကို define တာပါ။ run လိုက်ပါဦး။ \n",
        "# ဒီ function က ပေးလာတဲ့ original_img ကို နှုတ်ခမ်းမွှေးတပ်ပေးတဲ့ function ပါ။ \n",
        "\n",
        "def put_mustache(original_img, x_offset, y_offset, width=500, height=500):\n",
        "    \n",
        "    mustache_resized = cv2.resize(mustache, (width, height))\n",
        "\n",
        "    rows, columns, chanels = mustache_resized.shape\n",
        "    roi = original_img[y_offset:y_offset+height, x_offset:x_offset+width]\n",
        "\n",
        "    mustache_resized_gray = cv2.cvtColor(mustache_resized, cv2.COLOR_RGB2GRAY)\n",
        "    ret, mask = cv2.threshold(mustache_resized_gray, 120, 255, cv2.THRESH_BINARY)\n",
        "    final_roi = cv2.bitwise_or(roi,roi,mask = mask)\n",
        "\n",
        "    mustache_img = original_img.copy()\n",
        "    mustache_img[y_offset : y_offset + height, x_offset : x_offset + width]=final_roi\n",
        "\n",
        "    return mustache_img"
      ]
    },
    {
      "cell_type": "markdown",
      "metadata": {},
      "source": [
        "အောက်က `cell` မှာ `Python code` ၂ ကြောင်း ပါပါတယ်။ ပထမတကြောင်းက `put_mustache` function ကို call တာ ဖြစ်ပြီး ဒုတိယတကြောင်းက `show_cv2_image` function ကို call တာ ဖြစ်ပါတယ်။\n",
        "\n",
        "အောက်က `cell` ကို ဘာမှ မပြင်ပဲ တခေါက် `run` လိုက်ပါ။ နှုတ်ခမ်းမွှေးတခြား လူတခြား ဖြစ်နေတဲ့ ပုံ ပေါ်လာပါလိမ့်မယ်။ "
      ]
    },
    {
      "cell_type": "code",
      "execution_count": null,
      "metadata": {},
      "outputs": [],
      "source": [
        "mustache_img = put_mustache(\n",
        "    original_img, \n",
        "    x_offset = 50,\n",
        "    y_offset = 170, \n",
        "    width = 400, \n",
        "    height = 400\n",
        ")\n",
        "\n",
        "show_cv2_image(mustache_img)"
      ]
    },
    {
      "cell_type": "markdown",
      "metadata": {},
      "source": [
        "အခု သင်တို့ လုပ်ရမှာက နှုတ်ခမ်းမွှေးရဲ့ size နဲ့ နေရာ position တို့ကို မှန်အောင် ရွှေ့ပေးဖို့ပါ။ \n",
        "\n",
        "```python\n",
        "mustache_img = put_mustache(\n",
        "    original_img, \n",
        "    x_offset = 50, # ဒီ တကြောင်းက နှုတ်ခမ်းမွှေးရဲ့ ဘယ်ညာ position ကို ထိန်းထာ ဖြစ်ပါတယ်။ ကြီးလာရင် ညာဘက်၊ ငယ်ရင် ဘယ်ဘက်ပါ။\n",
        "    y_offset = 170, # ဒီ တကြောင်းက နှုတ်ခမ်းမွှေးရဲ့ ထက်အောက် position ကို ထိန်းတာ ဖြစ်ပါတယ်။\n",
        "    width = 400, # ဘယ်ညာ အကျဉ်းအကျယ် size ပါ။\n",
        "    height = 400 # ထက်အောက် အနိမ့်အမြင့် size ပါ။\n",
        ")\n",
        "\n",
        "show_cv2_image(mustache_img)\n",
        "```\n",
        "\n",
        "အောက်က `cell` မှာ `x_offset, y_offset, width` နဲ့ `height` တွေကို ပြင်ပြီး `run` ကြည့်ပါ"
      ]
    },
    {
      "cell_type": "code",
      "execution_count": null,
      "metadata": {},
      "outputs": [],
      "source": [
        "mustache_img = put_mustache(\n",
        "    original_img, \n",
        "    x_offset = 50,\n",
        "    y_offset = 170, \n",
        "    width = 400, \n",
        "    height = 400\n",
        ")\n",
        "\n",
        "show_cv2_image(mustache_img)"
      ]
    }
  ],
  "metadata": {
    "colab": {
      "collapsed_sections": [],
      "name": "Welcome To Colaboratory",
      "provenance": [],
      "toc_visible": true
    },
    "kernelspec": {
      "display_name": "Python 3",
      "name": "python3"
    },
    "language_info": {
      "codemirror_mode": {
        "name": "ipython",
        "version": 3
      },
      "file_extension": ".py",
      "mimetype": "text/x-python",
      "name": "python",
      "nbconvert_exporter": "python",
      "pygments_lexer": "ipython3",
      "version": "3.7.11"
    }
  },
  "nbformat": 4,
  "nbformat_minor": 0
}
