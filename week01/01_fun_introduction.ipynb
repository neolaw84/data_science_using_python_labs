{
  "cells": [
    {
      "cell_type": "markdown",
      "metadata": {
        "id": "Nma_JWh-W-IF"
      },
      "source": [
        "# Welcome to Data Science Using Python\n",
        "\n",
        "Data Science Using Python သင်တန်းမှာ ကြိုဆိုပါတယ်။\n",
        "\n",
        "ယခု သင်မြင်တွေ့နေရသော အရာမှာ Google Colab မှာ Run နေတဲ့ Jupyter Notebook တခု ဖြစ်ပါတယ်။"
      ]
    },
    {
      "cell_type": "markdown",
      "metadata": {
        "id": "5fCEDCU_qrC0"
      },
      "source": [
        "## Google Colab ဆိုတာ ဘာကြီးလဲ။\n",
        "\n",
        "Google Colab ဆိုတာ လွယ်လွယ်ပြောရရင် အလကားရတဲ့ ကွန်ပျူတာတလုံးပါပဲ။ "
      ]
    },
    {
      "cell_type": "code",
      "execution_count": null,
      "metadata": {
        "colab": {
          "base_uri": "https://localhost:8080/",
          "height": 34
        },
        "id": "gJr_9dXGpJ05",
        "outputId": "9f556d03-ec67-4950-a485-cfdba9ddd14d"
      },
      "outputs": [],
      "source": [
        "# ဒီလိုမျိုး '#' လေးနဲ့ စရေးတာက python programming language မှာ comment လို့ ခေါ်တယ်။\n",
        "# comment တွေကို ကွန်ပျူတာက အရေးမလုပ် (ignore) ပါတယ်။\n",
        "# ဒါကြောင့် ရေးချင်ရာ ရေးနိုင်တယ်\n",
        "\n",
        "# python programming language မှာ basic အကျဆုံး output command က print ဖြစ်တယ်။ \n",
        "# တကယ်တမ်းကျတော့ print ဟာ function တခု ဖြစ်တယ်။\n",
        "\n",
        "print (\"Hello World\")\n",
        "\n",
        "# အရေးကြီးတာက ဒီ 'code cell' ကို ဘယ်လို run မလဲ ဆိုတာပဲ။ \n",
        "# ဘယ်ဘက်မှာရှိတဲ့ 'play' button (ဟုတ်တယ်၊ သီချင်းဖွင့်တဲ့ 'play' button လိုမျိုး) ကို နှိပ်ချင်နှိပ်၊ ဒါမှမဟုတ် 'Shift+Enter' ကို နှိပ်ပြီးတော့ ဖြစ်ဖြစ် run ရတယ်။ "
      ]
    },
    {
      "cell_type": "code",
      "execution_count": null,
      "metadata": {},
      "outputs": [],
      "source": [
        "# အခု အောက်က ဘာတွေ ရေးထားတာလဲဆိုတာ သင်တို့ ဒီနေ့ နားလည်ဦးမှာ မဟုတ်ဘူး၊ ဒါကိစ္စမရှိပါဘူး။ သိပ်မကြာခင် နားလည်လာမှာ ... \n",
        "# လိုတိုရှင်း ပြောရရင်တော့ github ကနေပြီး repo တခုကို clone လုပ်တယ်။ ပြီးတော့ လိုချင်တဲ့ directory ထဲကို change directory (cd) လုပ်တာရယ် ဖြစ်တယ်။\n",
        "\n",
        "!git clone https://github.com/neolaw84/data_science_using_python_labs.git\n",
        "%cd data_science_using_python_labs/week01\n",
        "\n",
        "# ဒီ cell ကို run လိုက်ပါ။"
      ]
    },
    {
      "cell_type": "code",
      "execution_count": null,
      "metadata": {},
      "outputs": [],
      "source": [
        "# အောက်မှာရေးထားတဲ့ python code တွေကို run လိုက်ပါ။ သိပ်မကြာခင်မှာ သင်တို့လဲ ဒါမျိုး ရေးနိုင်လာလိမ့်မယ်။ \n",
        "# အခုကတော့ environment နဲ့ ရင်းနှီးအောင်လို့ run ပါ။\n",
        "\n",
        "# ပထမဆုံးအနေနဲ့ ဒီ function နာမည်က download_tom_holland လို့ ခေါ်တယ်။\n",
        "# utils.py ထဲမှာ ရေးထားတာမို့ သူ့ကို ဒီပုံစံနဲ့ import လုပ်ရပါတယ်။\n",
        "from utils import download_tom_holland\n",
        "\n",
        "# ဒီ function ကို call လိုက်ရင် Tom Holland ရဲ့ ဓာတ်ပုံကို မြင်ရမယ်။\n",
        "download_tom_holland()"
      ]
    },
    {
      "cell_type": "markdown",
      "metadata": {},
      "source": [
        "## လေ့ကျင့်ခန်း နည်းနည်း လုပ်ကြမယ်။ "
      ]
    },
    {
      "cell_type": "code",
      "execution_count": null,
      "metadata": {},
      "outputs": [],
      "source": [
        "# တလက်စတည်း ဒီ 'cell' ကို 'run' ပါ။ ဒီ 'cell' ထဲမှာ ပါတဲ့ numpy နဲ့ matplotlib အသုံးပြုပုံတွေကို နောက်အပါတ်တွေမှာ အသေးစိတ် သင်ကြားမှာ ဖြစ်ပါတယ်။\n",
        "\n",
        "import numpy as np\n",
        "from matplotlib import pyplot as plt\n",
        "import cv2\n",
        "\n",
        "# ဒီလို `def` နဲ့ စပြီး `identation` လုပ်ထားတာကို `function` လို့ ခေါ်တယ်။ \n",
        "# function ကို define သတ်မှတ်ပုံနဲ့ invoke အသုံးပြုပုံတွေကို နောက်အပါတ်တွေမှာ အသေးစိတ် သင်ကြားမှာ ဖြစ်ပါတယ်။\n",
        "# အခုကတော့ show_cv2_image ဆိုတဲ့ function ကို define တာလို့ အကြမ်းမှတ်ထားပေးပါ။ \n",
        "\n",
        "def show_cv2_image(img): # <-- ဒီလိုရေးတာ function ကို define တယ်လို့ ခေါ်တယ်။\n",
        "    img_rgb = cv2.cvtColor(img, cv2.COLOR_BGR2RGB)\n",
        "    plt.imshow(img_rgb)\n",
        "    plt.show()"
      ]
    },
    {
      "cell_type": "code",
      "execution_count": null,
      "metadata": {},
      "outputs": [],
      "source": [
        "# ဒီ cell ကိုလဲ ဆက် run ပါဦး။ ဒီ cell ထဲက code တွေက အင်တာနက်ပေါ်ကနေ နှုတ်ခမ်းမွှေးပုံတပုံကို download လုပ်ပြီး ပြတာ ဖြစ်ပါတယ်။\n",
        "\n",
        "from utils import download_and_decode_cv2, r, put_mustache\n",
        "\n",
        "mustache = download_and_decode_cv2(\"https://i.ibb.co/hBX7Dpf/mustache.jpg\") # <-- ဒီလို ရေးတာ function ကို invoke တယ်လို့ ခေါ်တယ်။\n",
        "\n",
        "# ဒီနေရာမှာ သတိပြုရဖို့က X-axis နဲ့ Y-axis ပါ။ X-axis က ဘယ်ကနေ ညာဘက်ကို ကြီးသွားပေမဲ့ Y-axis က ပုံမှန် သင်္ချာမှာလို အောက်ကနေ အထက်ကို ကြီးမသွားပဲ \n",
        "# အထက်ကနေ အောက်ဘက်ကို ကြီးသွားတာ သတိပြုပါ။ \n",
        "# Computer Graphics (Image) တွေမှာ Y-axis ဟာ အထက်ကနေ အောက်ကို ကြီးသွားပါတယ်။ ဒါကြောင့် (0, 0) origin မှတ်ဟာ ဘယ်ဘက် အပေါ်ထောင့်မှာ ရှိပါတယ်။\n",
        "\n",
        "show_cv2_image(mustache) # <-- ဒီလို ရေးတာ function ကို invoke တယ်လို့ ခေါ်တယ်။"
      ]
    },
    {
      "cell_type": "code",
      "execution_count": null,
      "metadata": {},
      "outputs": [],
      "source": [
        "# run လိုက်ပါဦး၊ ဒီ cell ကတော့ Tom Holland ရဲ့ ပုံကို X/Y Coordinate နဲ့ ပြတာဖြစ်ပါတယ်။\n",
        "nparr = np.frombuffer(r.content, np.uint8)\n",
        "original_img = cv2.imdecode(nparr, cv2.IMREAD_COLOR)\n",
        "\n",
        "show_cv2_image(original_img) # <-- ဒီလို ရေးတာ function ကို invoke တယ်လို့ ခေါ်တယ်။"
      ]
    },
    {
      "cell_type": "code",
      "execution_count": null,
      "metadata": {},
      "outputs": [],
      "source": [
        "# ဒီ cell ကို ဘာမှ မပြင်ပဲ တခေါက် `run` လိုက်ပါ။ နှုတ်ခမ်းမွှေးတခြား လူတခြား ဖြစ်နေတဲ့ ပုံ ပေါ်လာပါလိမ့်မယ်။ \n",
        "\n",
        "mustache_img = put_mustache(\n",
        "    original_img, \n",
        "    mustache=mustache,\n",
        "    x_offset = 50,\n",
        "    y_offset = 170, \n",
        "    width = 400, \n",
        "    height = 400\n",
        ")\n",
        "\n",
        "show_cv2_image(mustache_img)"
      ]
    },
    {
      "cell_type": "code",
      "execution_count": null,
      "metadata": {},
      "outputs": [],
      "source": [
        "# အခု သင်တို့ လုပ်ရမှာက နှုတ်ခမ်းမွှေးရဲ့ size နဲ့ နေရာ position တို့ကို မှန်အောင် ရွှေ့ပေးဖို့ပါ။ \n",
        "# cell မှာ x_offset, y_offset, width နဲ့ height တွေကို ပြင်ပြီး run ကြည့်ပါ\n",
        "mustache_img = put_mustache(\n",
        "    original_img, \n",
        "    mustache=mustache,\n",
        "    x_offset = 50, # ဒီ တကြောင်းက နှုတ်ခမ်းမွှေးရဲ့ ဘယ်ညာ position ကို ထိန်းထာ ဖြစ်ပါတယ်။ ကြီးလာရင် ညာဘက်၊ ငယ်ရင် ဘယ်ဘက်ပါ။\n",
        "    y_offset = 170, # ဒီ တကြောင်းက နှုတ်ခမ်းမွှေးရဲ့ ထက်အောက် position ကို ထိန်းတာ ဖြစ်ပါတယ်။\n",
        "    width = 400, # ဘယ်ညာ အကျဉ်းအကျယ် size ပါ။\n",
        "    height = 400 # ထက်အောက် အနိမ့်အမြင့် size ပါ။\n",
        ")\n",
        "\n",
        "show_cv2_image(mustache_img)"
      ]
    },
    {
      "cell_type": "code",
      "execution_count": null,
      "metadata": {},
      "outputs": [],
      "source": []
    }
  ],
  "metadata": {
    "colab": {
      "collapsed_sections": [],
      "name": "Welcome To Colaboratory",
      "provenance": [],
      "toc_visible": true
    },
    "kernelspec": {
      "display_name": "Python 3.7.13 ('py37-dsup')",
      "language": "python",
      "name": "python3"
    },
    "language_info": {
      "codemirror_mode": {
        "name": "ipython",
        "version": 3
      },
      "file_extension": ".py",
      "mimetype": "text/x-python",
      "name": "python",
      "nbconvert_exporter": "python",
      "pygments_lexer": "ipython3",
      "version": "3.7.13"
    },
    "vscode": {
      "interpreter": {
        "hash": "cf5841eeb9fdd70b5a32cd740512a3aae54df2b4f66ae714b228eb262545450d"
      }
    }
  },
  "nbformat": 4,
  "nbformat_minor": 0
}
