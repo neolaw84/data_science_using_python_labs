{
 "cells": [
  {
   "cell_type": "markdown",
   "metadata": {},
   "source": [
    "# Setting up Environment\n",
    "\n",
    "ဒီ lab မှာ အပါတ်တိုင်း အသုံးပြုရမဲ့ environment ကို set-up လုပ်တာကို လေ့ကျင့်မှာ ဖြစ်တယ်။ ပထမဆုံး လုပ်ဆောင်ရမှာက `github.com` မှာ `host` ထားတဲ့ `Data Science Using Python Labs` repository ကို `clone` လုပ်ဖို့ ဖြစ်တယ်။ ဒီလို `clone` ဖို့အတွက် `git` command ရဲ့ `clone` function ကို သုံးစွဲရတယ်။ အောက်က `cell` ကို `run` လိုက်ပါ။"
   ]
  },
  {
   "cell_type": "code",
   "execution_count": null,
   "metadata": {},
   "outputs": [],
   "source": [
    "!git clone https://github.com/neolaw84/data_science_using_python_labs.git"
   ]
  },
  {
   "cell_type": "markdown",
   "metadata": {},
   "source": [
    "ဘယ်ဘက်က side bar ထဲက `Files` ကို နှိပ်လိုက်ရင် `data_science_using_python_labs` ဆိုတဲ့ `directory` အသစ်တခု ရောက်နေတာ တွေ့လိမ့်မယ်။ ပထမဆုံး ကိုယ်ရောက်နေတဲ့ `directory` (အရပ်အခေါ် `folder`) ကို `google colab` က `current working directory` သို့မဟုတ် `present working directory` လို့ `set` လုပ်ပေးထားတယ်။ \n",
    "\n",
    "အောက်က `cell` ထဲမှာ ဒီလို ရိုက်ထည့်ပြီး `run` လိုက်ပါ။\n",
    "\n",
    "```\n",
    "%pwd\n",
    "```"
   ]
  },
  {
   "cell_type": "code",
   "execution_count": null,
   "metadata": {},
   "outputs": [],
   "source": [
    "# ဒီ cell ထဲမှာ %pwd လို့ ရိုက်ထည့်ပြီး run ပါ။\n"
   ]
  },
  {
   "cell_type": "markdown",
   "metadata": {},
   "source": [
    "စောစောကလို `%` နဲ့ စတဲ့ command တွေကို `magic` လို့ ခေါ်တယ်။ `magic` တွေကို slide ထဲမှာ အပြည့်အစုံ ဖော်ပြထားတယ်။ အခုတော့ အသုံးများတဲ့ `magic` တချို့ကို စမ်းသုံးကြည့်ကြစို့။\n",
    "\n",
    "```\n",
    "%bookmark <name>\n",
    "```\n",
    "\n",
    "လက်ရှိ ရောက်နေတဲ့ directory ကို <name> အဖြစ် bookmark လုပ်ထားတာ ဖြစ်တယ်။ \n",
    "\n",
    "```\n",
    "%cd <directory-path>\n",
    "```\n",
    "\n",
    "directory path တခုကို သွားတာ ဖြစ်တယ်။ \n",
    "\n",
    "```\n",
    "%cd -b <bookmark-name>\n",
    "```\n",
    "\n",
    "bookmark လုပ်ထားတဲ့ directory ကို ပြန်သွားတာ ဖြစ်တယ်။ "
   ]
  },
  {
   "cell_type": "code",
   "execution_count": null,
   "metadata": {},
   "outputs": [],
   "source": [
    "# ဘာမှ စမစမ်းခင် လက်ရှိ ရောက်နေတဲ့ directory ကို အရင်ဆုံး content အဖြစ် bookmark လုပ်ထားရအောင်။ \n",
    "%bookmark content"
   ]
  },
  {
   "cell_type": "code",
   "execution_count": null,
   "metadata": {},
   "outputs": [],
   "source": [
    "# ဒီ cell ထဲမှာ directory တွေထဲ ဝင်/ထွက် စမ်းသပ်ပါ။\n"
   ]
  },
  {
   "cell_type": "markdown",
   "metadata": {},
   "source": [
    "လက်ရှိ အလုပ်လုပ်နေတဲ့ `directory` ကို `present working directory` လို့ ခေါ်တယ်။ အဲဒါကို သိဖို့ ... \n",
    "\n",
    "```\n",
    "%pwd\n",
    "```\n",
    "\n",
    "`magic` ကို သုံးရတယ်။ \n",
    "\n",
    "နောက်ထပ် အသုံးများတဲ့ `magic` တချို့ကတော့ ... \n",
    "\n",
    "```\n",
    "%ls\n",
    "```\n",
    "\n",
    "လက်ရှိ ရောက်နေတဲ့ `directory` ထဲက file စာရင်းကို ကြည့်ဖို့ ဖြစ်တယ်။\n",
    "\n",
    "```\n",
    "%env\n",
    "```\n",
    "\n",
    "လက်ရှိ set လုပ်ထားတဲ့ `environment variable` စာရင်းကို ကြည့်ဖို့ ဖြစ်တယ်။\n",
    "\n",
    "```\n",
    "%env <variable-name>\n",
    "```\n",
    "\n",
    "`<variable-name>` ထဲက value ကို ကြည့်ဖို့ ဖြစ်တယ်။ \n",
    "\n",
    "```\n",
    "%env <variable-name>=<new-value>\n",
    "```\n",
    "\n",
    "`<variable-name` ကို `<new-value>` အသစ် `set` လုပ်ဖို့ ဖြစ်တယ်။"
   ]
  },
  {
   "cell_type": "code",
   "execution_count": null,
   "metadata": {},
   "outputs": [],
   "source": [
    "# ဒီ cell ထဲမှာ PATH ဆိုတဲ့ environment variable ထဲမှာ ဘာရှိလဲ ကြည့်ကြည့်ပါ။\n"
   ]
  },
  {
   "cell_type": "code",
   "execution_count": null,
   "metadata": {},
   "outputs": [],
   "source": [
    "# ဒီ cell ထဲမှာတော့ MY_VAR ဆိုတဲ့ environment variable ထဲကို hello ဆိုတဲ့ value set ကြည့်ပါ။\n"
   ]
  },
  {
   "cell_type": "code",
   "execution_count": null,
   "metadata": {},
   "outputs": [],
   "source": [
    "# ဒီ cell ကို သုံးပြီး MY_VAR ဆိုတဲ့ environment variable ထဲမှာ hello ရောက်မရောက် ကြည့်ပါ။\n"
   ]
  },
  {
   "cell_type": "markdown",
   "metadata": {},
   "source": [
    "နောက်ထပ် အသုံးများတဲ့ `magic` ၂ ခုကတော့ ... \n",
    "\n",
    "```\n",
    "%%timeit\n",
    "# code here\n",
    "```\n",
    "\n",
    "code တွေရဲ့ runtime ကို တိုင်းပေးတဲ့ `magic` နဲ့ ...\n",
    "\n",
    "```\n",
    "%%writefile <file-name>.py\n",
    "# code here\n",
    "```\n",
    "\n",
    "code တွေကို `<file-name>.py` file ထဲကို ရေးသွင်းတဲ့ `magic` တွေပဲ ဖြစ်တယ်။"
   ]
  },
  {
   "cell_type": "code",
   "execution_count": null,
   "metadata": {},
   "outputs": [],
   "source": [
    "# စမ်းကြည့်ရအောင် \n",
    "\n",
    "%%timeit\n",
    "a = 1\n",
    "b = 4\n",
    "c=a+b"
   ]
  },
  {
   "cell_type": "code",
   "execution_count": null,
   "metadata": {},
   "outputs": [],
   "source": [
    "%%writefile hello.py\n",
    "def hello(a=\"world\"):\n",
    "  print (\"hello {}\".format(a))"
   ]
  },
  {
   "cell_type": "markdown",
   "metadata": {},
   "source": [
    "နောက်ဆုံး စမ်းရမဲ့ command ကတော့ `pytest` alias ပဲ ဖြစ်တယ်။ သင်တို့ လုပ်တဲ့ လေ့ကျင့်ခန်းတွေကို အောင်အောင်မြင်မြင် လုပ်နိုင် မလုပ်နိုင်ကို စမ်းသပ်တဲ့ command ဖြစ်တယ် (စာမေးပွဲမဟုတ်ပါ)။\n",
    "\n",
    "```\n",
    "!pytest test_hello.py\n",
    "```\n",
    "\n",
    "လို့ အောက်က `cell` မှာ `run` ကြည့်ပါ။"
   ]
  },
  {
   "cell_type": "code",
   "execution_count": null,
   "metadata": {},
   "outputs": [],
   "source": [
    "!pytest test_hello.py"
   ]
  },
  {
   "cell_type": "code",
   "execution_count": null,
   "metadata": {},
   "outputs": [],
   "source": [
    "%%writefile opo.py\n",
    "def one_plus_one():\n",
    "    return None"
   ]
  },
  {
   "cell_type": "code",
   "execution_count": null,
   "metadata": {},
   "outputs": [],
   "source": [
    "# ဒီ cell က အပေါ်က define ထားတဲ့ function (၁ နဲ့ ၁ ပေါင်းတဲ့ ရလာဒ် ကို return ပေးတဲ့ function) မှန်မမှန် စမ်းတာ ဖြစ်တယ်။ \n",
    "# run လိုက်ရင် assertion error ဆိုပြီး ပြလိမ့်မယ်။ \n",
    "!pytest test_one_plus_one.py"
   ]
  },
  {
   "cell_type": "markdown",
   "metadata": {},
   "source": [
    "ဒီတော့ အောက်က `cell` မှာ မှန်အောင် ပြင်ရေးပြီး အပေါ်က `cell` က test result မှန်တဲ့အထိ ပြင်ပါ။ \n",
    "> hint : \"None\" က အဖြေမှားနေတယ်။ မှန်တဲ့ အဖြေနဲ့ အစားထိုးပါ။"
   ]
  },
  {
   "cell_type": "code",
   "execution_count": null,
   "metadata": {},
   "outputs": [],
   "source": [
    "%%writefile opo.py\n",
    "def one_plus_one():\n",
    "    return 2"
   ]
  },
  {
   "cell_type": "markdown",
   "metadata": {},
   "source": [
    "ဒီနေ့ lab မှာ `github` က `code` တချို့ကိုလဲ `clone` လုပ်ပြီး environment ကို setup \n",
    "\n",
    "ပြီးတော့ `ipython magic` တွေကို စမ်းသပ်ကြည့်ကြတယ်။ `directory` တွေထဲ ဝင်/ထွက် လျှောက်သွားတာ၊ စာရင်းကို ထုတ်ကြည့်တာ၊ `environment variable` တွေကို ကြည့်တာ၊ နောက်ဆုံး python program file ကို ရေးတာကိုလဲ စမ်းကြည့်ကြတယ်။\n",
    "\n",
    "ဒါတွေအပြင် python `function` တွေကို မှန်မမှန် စမ်းသပ်တာ၊ မှန်အောင် ပြင်တာကိုလဲ စမ်းကြည့်ကြတယ်။"
   ]
  }
 ],
 "metadata": {
  "interpreter": {
   "hash": "f792a7eec3ba60b8007a3aae8ec9cd60d75909b5c6defe1f32f0e6f2b206c5f7"
  },
  "kernelspec": {
   "display_name": "Python 3.7.11 64-bit ('py37-dspy': conda)",
   "language": "python",
   "name": "python3"
  },
  "language_info": {
   "codemirror_mode": {
    "name": "ipython",
    "version": 3
   },
   "file_extension": ".py",
   "mimetype": "text/x-python",
   "name": "python",
   "nbconvert_exporter": "python",
   "pygments_lexer": "ipython3",
   "version": "3.7.11"
  },
  "orig_nbformat": 4
 },
 "nbformat": 4,
 "nbformat_minor": 2
}
