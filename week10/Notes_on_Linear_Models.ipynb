{
  "nbformat": 4,
  "nbformat_minor": 0,
  "metadata": {
    "colab": {
      "name": "Notes_on_Linear_Models.ipynb",
      "provenance": [],
      "collapsed_sections": []
    },
    "kernelspec": {
      "name": "python3",
      "display_name": "Python 3"
    },
    "language_info": {
      "name": "python"
    }
  },
  "cells": [
    {
      "cell_type": "markdown",
      "source": [
        "# Linear Models\n",
        "\n",
        "**Linear Models** တွေဟာ ရိုးရှင်းတဲ့ Statistical/Machine-Learning model အမျိုးအစားဖြစ်တယ်။ လုပ်တဲ့ function ပေါ်မူတည်ပြီး Linear Models တွေကို ၂ မျိုး ခွဲခြားနိုင်တယ်။ \n",
        "\n",
        "* Linear Regression and\n",
        "* Logistic Regression"
      ],
      "metadata": {
        "id": "No6VaJEvEHDf"
      }
    },
    {
      "cell_type": "code",
      "execution_count": null,
      "metadata": {
        "id": "zFb_Olp1EEW8"
      },
      "outputs": [],
      "source": [
        "import numpy as np\n",
        "import pandas as pd\n",
        "\n",
        "from matplotlib import pyplot as plt\n",
        "from scipy import linalg as sp_la, stats as sp_st\n",
        "from sklearn import datasets as sk_ds \n",
        "from sklearn import linear_model as sk_lm\n",
        "from sklearn import preprocessing as sk_pp\n",
        "from sklearn import model_selection as sk_ms\n",
        "from sklearn import metrics as sk_metrics"
      ]
    },
    {
      "cell_type": "markdown",
      "source": [
        "## Dataset\n",
        "\n",
        "ဒီ notes မှာ California Housing dataset ကို သုံးကြမယ်။ "
      ],
      "metadata": {
        "id": "Eqnb8MIoGe0v"
      }
    },
    {
      "cell_type": "code",
      "source": [
        "df_X, ds_y = sk_ds.fetch_california_housing(return_X_y=True, as_frame=True)\n",
        "df_X.describe()"
      ],
      "metadata": {
        "colab": {
          "base_uri": "https://localhost:8080/",
          "height": 300
        },
        "id": "Iz6U0iXKFAJz",
        "outputId": "c43d530e-7829-425d-fa9d-7f7d5b218483"
      },
      "execution_count": null,
      "outputs": [
        {
          "output_type": "execute_result",
          "data": {
            "text/plain": [
              "             MedInc      HouseAge      AveRooms     AveBedrms    Population  \\\n",
              "count  20640.000000  20640.000000  20640.000000  20640.000000  20640.000000   \n",
              "mean       3.870671     28.639486      5.429000      1.096675   1425.476744   \n",
              "std        1.899822     12.585558      2.474173      0.473911   1132.462122   \n",
              "min        0.499900      1.000000      0.846154      0.333333      3.000000   \n",
              "25%        2.563400     18.000000      4.440716      1.006079    787.000000   \n",
              "50%        3.534800     29.000000      5.229129      1.048780   1166.000000   \n",
              "75%        4.743250     37.000000      6.052381      1.099526   1725.000000   \n",
              "max       15.000100     52.000000    141.909091     34.066667  35682.000000   \n",
              "\n",
              "           AveOccup      Latitude     Longitude  \n",
              "count  20640.000000  20640.000000  20640.000000  \n",
              "mean       3.070655     35.631861   -119.569704  \n",
              "std       10.386050      2.135952      2.003532  \n",
              "min        0.692308     32.540000   -124.350000  \n",
              "25%        2.429741     33.930000   -121.800000  \n",
              "50%        2.818116     34.260000   -118.490000  \n",
              "75%        3.282261     37.710000   -118.010000  \n",
              "max     1243.333333     41.950000   -114.310000  "
            ],
            "text/html": [
              "\n",
              "  <div id=\"df-f8d9a467-1538-4d11-a01b-37ca5764a7d2\">\n",
              "    <div class=\"colab-df-container\">\n",
              "      <div>\n",
              "<style scoped>\n",
              "    .dataframe tbody tr th:only-of-type {\n",
              "        vertical-align: middle;\n",
              "    }\n",
              "\n",
              "    .dataframe tbody tr th {\n",
              "        vertical-align: top;\n",
              "    }\n",
              "\n",
              "    .dataframe thead th {\n",
              "        text-align: right;\n",
              "    }\n",
              "</style>\n",
              "<table border=\"1\" class=\"dataframe\">\n",
              "  <thead>\n",
              "    <tr style=\"text-align: right;\">\n",
              "      <th></th>\n",
              "      <th>MedInc</th>\n",
              "      <th>HouseAge</th>\n",
              "      <th>AveRooms</th>\n",
              "      <th>AveBedrms</th>\n",
              "      <th>Population</th>\n",
              "      <th>AveOccup</th>\n",
              "      <th>Latitude</th>\n",
              "      <th>Longitude</th>\n",
              "    </tr>\n",
              "  </thead>\n",
              "  <tbody>\n",
              "    <tr>\n",
              "      <th>count</th>\n",
              "      <td>20640.000000</td>\n",
              "      <td>20640.000000</td>\n",
              "      <td>20640.000000</td>\n",
              "      <td>20640.000000</td>\n",
              "      <td>20640.000000</td>\n",
              "      <td>20640.000000</td>\n",
              "      <td>20640.000000</td>\n",
              "      <td>20640.000000</td>\n",
              "    </tr>\n",
              "    <tr>\n",
              "      <th>mean</th>\n",
              "      <td>3.870671</td>\n",
              "      <td>28.639486</td>\n",
              "      <td>5.429000</td>\n",
              "      <td>1.096675</td>\n",
              "      <td>1425.476744</td>\n",
              "      <td>3.070655</td>\n",
              "      <td>35.631861</td>\n",
              "      <td>-119.569704</td>\n",
              "    </tr>\n",
              "    <tr>\n",
              "      <th>std</th>\n",
              "      <td>1.899822</td>\n",
              "      <td>12.585558</td>\n",
              "      <td>2.474173</td>\n",
              "      <td>0.473911</td>\n",
              "      <td>1132.462122</td>\n",
              "      <td>10.386050</td>\n",
              "      <td>2.135952</td>\n",
              "      <td>2.003532</td>\n",
              "    </tr>\n",
              "    <tr>\n",
              "      <th>min</th>\n",
              "      <td>0.499900</td>\n",
              "      <td>1.000000</td>\n",
              "      <td>0.846154</td>\n",
              "      <td>0.333333</td>\n",
              "      <td>3.000000</td>\n",
              "      <td>0.692308</td>\n",
              "      <td>32.540000</td>\n",
              "      <td>-124.350000</td>\n",
              "    </tr>\n",
              "    <tr>\n",
              "      <th>25%</th>\n",
              "      <td>2.563400</td>\n",
              "      <td>18.000000</td>\n",
              "      <td>4.440716</td>\n",
              "      <td>1.006079</td>\n",
              "      <td>787.000000</td>\n",
              "      <td>2.429741</td>\n",
              "      <td>33.930000</td>\n",
              "      <td>-121.800000</td>\n",
              "    </tr>\n",
              "    <tr>\n",
              "      <th>50%</th>\n",
              "      <td>3.534800</td>\n",
              "      <td>29.000000</td>\n",
              "      <td>5.229129</td>\n",
              "      <td>1.048780</td>\n",
              "      <td>1166.000000</td>\n",
              "      <td>2.818116</td>\n",
              "      <td>34.260000</td>\n",
              "      <td>-118.490000</td>\n",
              "    </tr>\n",
              "    <tr>\n",
              "      <th>75%</th>\n",
              "      <td>4.743250</td>\n",
              "      <td>37.000000</td>\n",
              "      <td>6.052381</td>\n",
              "      <td>1.099526</td>\n",
              "      <td>1725.000000</td>\n",
              "      <td>3.282261</td>\n",
              "      <td>37.710000</td>\n",
              "      <td>-118.010000</td>\n",
              "    </tr>\n",
              "    <tr>\n",
              "      <th>max</th>\n",
              "      <td>15.000100</td>\n",
              "      <td>52.000000</td>\n",
              "      <td>141.909091</td>\n",
              "      <td>34.066667</td>\n",
              "      <td>35682.000000</td>\n",
              "      <td>1243.333333</td>\n",
              "      <td>41.950000</td>\n",
              "      <td>-114.310000</td>\n",
              "    </tr>\n",
              "  </tbody>\n",
              "</table>\n",
              "</div>\n",
              "      <button class=\"colab-df-convert\" onclick=\"convertToInteractive('df-f8d9a467-1538-4d11-a01b-37ca5764a7d2')\"\n",
              "              title=\"Convert this dataframe to an interactive table.\"\n",
              "              style=\"display:none;\">\n",
              "        \n",
              "  <svg xmlns=\"http://www.w3.org/2000/svg\" height=\"24px\"viewBox=\"0 0 24 24\"\n",
              "       width=\"24px\">\n",
              "    <path d=\"M0 0h24v24H0V0z\" fill=\"none\"/>\n",
              "    <path d=\"M18.56 5.44l.94 2.06.94-2.06 2.06-.94-2.06-.94-.94-2.06-.94 2.06-2.06.94zm-11 1L8.5 8.5l.94-2.06 2.06-.94-2.06-.94L8.5 2.5l-.94 2.06-2.06.94zm10 10l.94 2.06.94-2.06 2.06-.94-2.06-.94-.94-2.06-.94 2.06-2.06.94z\"/><path d=\"M17.41 7.96l-1.37-1.37c-.4-.4-.92-.59-1.43-.59-.52 0-1.04.2-1.43.59L10.3 9.45l-7.72 7.72c-.78.78-.78 2.05 0 2.83L4 21.41c.39.39.9.59 1.41.59.51 0 1.02-.2 1.41-.59l7.78-7.78 2.81-2.81c.8-.78.8-2.07 0-2.86zM5.41 20L4 18.59l7.72-7.72 1.47 1.35L5.41 20z\"/>\n",
              "  </svg>\n",
              "      </button>\n",
              "      \n",
              "  <style>\n",
              "    .colab-df-container {\n",
              "      display:flex;\n",
              "      flex-wrap:wrap;\n",
              "      gap: 12px;\n",
              "    }\n",
              "\n",
              "    .colab-df-convert {\n",
              "      background-color: #E8F0FE;\n",
              "      border: none;\n",
              "      border-radius: 50%;\n",
              "      cursor: pointer;\n",
              "      display: none;\n",
              "      fill: #1967D2;\n",
              "      height: 32px;\n",
              "      padding: 0 0 0 0;\n",
              "      width: 32px;\n",
              "    }\n",
              "\n",
              "    .colab-df-convert:hover {\n",
              "      background-color: #E2EBFA;\n",
              "      box-shadow: 0px 1px 2px rgba(60, 64, 67, 0.3), 0px 1px 3px 1px rgba(60, 64, 67, 0.15);\n",
              "      fill: #174EA6;\n",
              "    }\n",
              "\n",
              "    [theme=dark] .colab-df-convert {\n",
              "      background-color: #3B4455;\n",
              "      fill: #D2E3FC;\n",
              "    }\n",
              "\n",
              "    [theme=dark] .colab-df-convert:hover {\n",
              "      background-color: #434B5C;\n",
              "      box-shadow: 0px 1px 3px 1px rgba(0, 0, 0, 0.15);\n",
              "      filter: drop-shadow(0px 1px 2px rgba(0, 0, 0, 0.3));\n",
              "      fill: #FFFFFF;\n",
              "    }\n",
              "  </style>\n",
              "\n",
              "      <script>\n",
              "        const buttonEl =\n",
              "          document.querySelector('#df-f8d9a467-1538-4d11-a01b-37ca5764a7d2 button.colab-df-convert');\n",
              "        buttonEl.style.display =\n",
              "          google.colab.kernel.accessAllowed ? 'block' : 'none';\n",
              "\n",
              "        async function convertToInteractive(key) {\n",
              "          const element = document.querySelector('#df-f8d9a467-1538-4d11-a01b-37ca5764a7d2');\n",
              "          const dataTable =\n",
              "            await google.colab.kernel.invokeFunction('convertToInteractive',\n",
              "                                                     [key], {});\n",
              "          if (!dataTable) return;\n",
              "\n",
              "          const docLinkHtml = 'Like what you see? Visit the ' +\n",
              "            '<a target=\"_blank\" href=https://colab.research.google.com/notebooks/data_table.ipynb>data table notebook</a>'\n",
              "            + ' to learn more about interactive tables.';\n",
              "          element.innerHTML = '';\n",
              "          dataTable['output_type'] = 'display_data';\n",
              "          await google.colab.output.renderOutput(dataTable, element);\n",
              "          const docLink = document.createElement('div');\n",
              "          docLink.innerHTML = docLinkHtml;\n",
              "          element.appendChild(docLink);\n",
              "        }\n",
              "      </script>\n",
              "    </div>\n",
              "  </div>\n",
              "  "
            ]
          },
          "metadata": {},
          "execution_count": 168
        }
      ]
    },
    {
      "cell_type": "code",
      "source": [
        "ds_y.describe()"
      ],
      "metadata": {
        "colab": {
          "base_uri": "https://localhost:8080/"
        },
        "id": "KqbsE0aPFUnU",
        "outputId": "313501cc-61e4-4c09-ddab-f5aa30c3319e"
      },
      "execution_count": null,
      "outputs": [
        {
          "output_type": "execute_result",
          "data": {
            "text/plain": [
              "count    20640.000000\n",
              "mean         2.068558\n",
              "std          1.153956\n",
              "min          0.149990\n",
              "25%          1.196000\n",
              "50%          1.797000\n",
              "75%          2.647250\n",
              "max          5.000010\n",
              "Name: MedHouseVal, dtype: float64"
            ]
          },
          "metadata": {},
          "execution_count": 169
        }
      ]
    },
    {
      "cell_type": "markdown",
      "source": [
        "train/test split ခွဲအပြီးမှာ training ထဲက random sample (row) 50 ကို visualization အတွက် ခွဲထားမယ်။"
      ],
      "metadata": {
        "id": "QsNUkKnTGwZB"
      }
    },
    {
      "cell_type": "code",
      "source": [
        "X_tr, X_ts, y_tr, y_ts = sk_ms.train_test_split(df_X.values, ds_y.values, random_state=42)\n",
        "vis_selection = np.random.choice(a=X_tr.shape[0], size=50, replace=False)\n",
        "X_vis, y_vis = X_tr[vis_selection, :], y_tr[vis_selection]\n",
        "X_vis.shape, y_vis.shape"
      ],
      "metadata": {
        "colab": {
          "base_uri": "https://localhost:8080/"
        },
        "id": "HfBtv9P6FXWo",
        "outputId": "402d6faa-f3cc-409c-db4d-b378df08f48e"
      },
      "execution_count": null,
      "outputs": [
        {
          "output_type": "execute_result",
          "data": {
            "text/plain": [
              "((50, 8), (50,))"
            ]
          },
          "metadata": {},
          "execution_count": 170
        }
      ]
    },
    {
      "cell_type": "markdown",
      "source": [
        "Column တခုချင်းစီကို `MedHouseVal` (y) နဲ့ plot ဆွဲကြည့်တဲ့အခါမှာ `MedInc` မြင့်လေလေ၊ `MedHouseVal` များလေလေလို့ မြင်ရတယ်။ "
      ],
      "metadata": {
        "id": "J7KsvYwQNBNv"
      }
    },
    {
      "cell_type": "code",
      "source": [
        "fig, plts = plt.subplots(2, 4)\n",
        "for idx, col in enumerate(df_X.columns):\n",
        "  pl = plts[idx//4,idx%4]  \n",
        "  pl.scatter(x=X_vis[:, idx], y=y_vis)\n",
        "  pl.set_title(col)\n",
        "plt.tight_layout()\n",
        "plt.show()"
      ],
      "metadata": {
        "colab": {
          "base_uri": "https://localhost:8080/",
          "height": 297
        },
        "id": "c5ZHFVfmGcK1",
        "outputId": "cac9fb66-1126-44f8-c6c5-969a6118bee5"
      },
      "execution_count": null,
      "outputs": [
        {
          "output_type": "display_data",
          "data": {
            "text/plain": [
              "<Figure size 432x288 with 8 Axes>"
            ],
            "image/png": "[encoded data removed]"
          },
          "metadata": {
            "needs_background": "light"
          }
        }
      ]
    },
    {
      "cell_type": "markdown",
      "source": [
        "ဒါကြောင့် ဒီ Notes မှာ `MedInc` ကို ဥပမာအနေနဲ့ သုံးမယ်။\n",
        "\n",
        "> ဒီနေရာမှာ $X$ က `MedInc` column ဖြစ်ပြီး $y$ က `MedHouseVal` ဖြစ်မယ်။"
      ],
      "metadata": {
        "id": "lpPq-kKqNTwk"
      }
    },
    {
      "cell_type": "markdown",
      "source": [
        "## Linear Regression\n",
        "\n",
        "### Baseline Model\n",
        "\n",
        "ပထမဆုံး X (`MedInc`) ကို မစဉ်းစားပဲ y (`MedHouseVal`) ကို အမြဲ သူ့ရဲ့ mean $\\bar{y}$ လို့ပဲ ရမ်းရွှီးတဲ့ function ကို စဉ်းစားကြည့်ရအောင်။ \n",
        "\n",
        "$$f_{\\text{mean}}(x) = \\bar{y}$$\n",
        "\n",
        "> ဆိုလိုတာက parameter $x$ ဟာ ဘာပဲ ဖြစ်ဖြစ် $y$ ကို $\\bar{y}$ လို့ ခန့်မှန်းတာဖြစ်တယ်။\n",
        "\n",
        "သူ့ရဲ့ `mean_square_error` က ... \n",
        "\n",
        "$$\\text{MSE}(f_{\\text{mean}}) = \\sum_{y_i \\in y} {\\frac{(y_i - \\bar{y})^2}{m}} $$\n",
        "\n",
        "> အဲဒီ (ရမ်းရွှီးတဲ့) function ကို `mean_square_error` အနည်းဆုံးပဲ။\n",
        "\n",
        "> အပေါ်က `mean_square_error` အောက်က $m$ ပိုင်းခြေက ကိန်းသေ (constant) မို့ ဖြုတ်ထားလိုက်ပြီး `sum_square` လို့ပဲ ပြောမယ်။\n",
        "\n",
        "> $$\\text{SS}(f_{\\text{mean}}) = \\sum_{y_i \\in y} (y_i - \\bar{y})^2 $$\n",
        "\n"
      ],
      "metadata": {
        "id": "4-XvPF2dtQAG"
      }
    },
    {
      "cell_type": "code",
      "source": [
        "eg_idx = 0\n",
        "eg_col = \"MedInc\"\n",
        "eg_X = X_vis[:, eg_idx]\n",
        "eg_y = y_vis\n",
        "\n",
        "X = 0\n",
        "Y = 1\n",
        "mean_MedHouseVal = eg_y.mean()\n",
        "\n",
        "@np.vectorize\n",
        "def f_mean(x):\n",
        "  return mean_MedHouseVal\n",
        "\n",
        "def ss(func, x, y):\n",
        "  error = func(x) - y\n",
        "  return np.dot(error, error.T)\n",
        "\n",
        "ss_f_mean = ss(f_mean, eg_X, y_vis)\n",
        "print (\"Sum Square error : {}\".format(ss_f_mean))"
      ],
      "metadata": {
        "colab": {
          "base_uri": "https://localhost:8080/"
        },
        "id": "hDI-mnoxHZto",
        "outputId": "b850fdac-0b60-4a28-c286-55adc8ce4c9d"
      },
      "execution_count": null,
      "outputs": [
        {
          "output_type": "stream",
          "name": "stdout",
          "text": [
            "Sum Square error : 82.68601248036799\n"
          ]
        }
      ]
    },
    {
      "cell_type": "code",
      "source": [
        "mean_MedHouseVal"
      ],
      "metadata": {
        "colab": {
          "base_uri": "https://localhost:8080/"
        },
        "id": "JmoTP1wCfk4b",
        "outputId": "2645583d-c32b-478b-f789-dbb23eca598b"
      },
      "execution_count": null,
      "outputs": [
        {
          "output_type": "execute_result",
          "data": {
            "text/plain": [
              "2.2190008"
            ]
          },
          "metadata": {},
          "execution_count": 175
        }
      ]
    },
    {
      "cell_type": "markdown",
      "source": [
        "အောက်က ပုံမှာ $f_{\\text{mean}}$ ကို အနီရောင်နဲ့ ပြထားတယ်။ horizontal axis က ဘာဖြစ်နေနေ အဖြေကို တခုတည်း ထုတ်ပေးလို့ ရေပြင်ညီတန်းနေတာ ဖြစ်တယ်။"
      ],
      "metadata": {
        "id": "LZ4pUMqQZZOD"
      }
    },
    {
      "cell_type": "code",
      "source": [
        "def get_vis_for_f(f, X):\n",
        "  return np.array([\n",
        "    [X.min(), f(X.min())], \n",
        "    [X.max(), f(X.max())]\n",
        "  ]).T"
      ],
      "metadata": {
        "id": "JVMB_BQOuKhq"
      },
      "execution_count": null,
      "outputs": []
    },
    {
      "cell_type": "code",
      "source": [
        "f_mean_vis = get_vis_for_f(f_mean, eg_X)\n",
        "\n",
        "plt.scatter(x=X_vis[:, eg_idx], y=y_vis)\n",
        "plt.plot(f_mean_vis[X], f_mean_vis[Y], color=\"red\")\n",
        "plt.plot()"
      ],
      "metadata": {
        "colab": {
          "base_uri": "https://localhost:8080/",
          "height": 282
        },
        "id": "BE8hbTXfHgnt",
        "outputId": "c0edd358-6c89-43cb-aa1b-4ce7bfeafb37"
      },
      "execution_count": null,
      "outputs": [
        {
          "output_type": "execute_result",
          "data": {
            "text/plain": [
              "[]"
            ]
          },
          "metadata": {},
          "execution_count": 174
        },
        {
          "output_type": "display_data",
          "data": {
            "text/plain": [
              "<Figure size 432x288 with 1 Axes>"
            ],
            "image/png": "[encoded data removed]"
          },
          "metadata": {
            "needs_background": "light"
          }
        }
      ]
    },
    {
      "cell_type": "markdown",
      "source": [
        "function ပုံစံခွက် (model) က \n",
        "\n",
        "$$\n",
        "f_{a, b}(x_i) = a * x_i + b \n",
        "$$\n",
        "\n",
        "လို့ထားပါ။ \n",
        "\n",
        "ဒီ function ကနေ မှန်းဆ ရလာတဲ့ $y$ တန်ဖိုးတွေကို $\\hat{y}_{a, b}$ လို့ ရေးပါမယ်။\n",
        "\n",
        "ဒါဆိုရင် $f_{a, b}$ အတွက် `sum_square` က \n",
        "\n",
        "$$\n",
        "\\text{SS}(f_{a, b}) = \\sum_{y_i \\in y}{(y_i - \\hat{y})^2}\n",
        "$$\n",
        "\n",
        "ဖြစ်လိမ့်မယ်။\n",
        "\n",
        "$b=0$ လို့ ထားလိုက်မယ်ဆိုရင် ဖြစ်နိုင်တဲ့ $a$ တန်ဖိုးတွေထဲက ၁၀ ခုအတွက် အကုန်လုံးအတွက် `sun_square` ကို အောက်မှာတွက်ပြထားတယ်။"
      ],
      "metadata": {
        "id": "QsGCZczroODN"
      }
    },
    {
      "cell_type": "code",
      "source": [
        "import math\n",
        "\n",
        "@np.vectorize\n",
        "def f_by_angle(angle, y_intercept):\n",
        "  angle_rad = math.radians(angle)\n",
        "  dy, dx = math.sin(angle_rad), math.cos(angle_rad)\n",
        "  coef = dy/dx\n",
        "  return lambda x : y_intercept + coef * x\n",
        "\n",
        "funcs = np.array(f_by_angle(np.arange(0, 90, 10), y_intercept=0)).T\n",
        "\n",
        "for idx, f in enumerate(funcs):\n",
        "  ss_f = ss(f, eg_X, y_vis)\n",
        "  print (\"Sum Square error of f_{} : {}\".format(idx, ss_f))"
      ],
      "metadata": {
        "colab": {
          "base_uri": "https://localhost:8080/"
        },
        "id": "K8Pk3gfJHjB0",
        "outputId": "517abd21-64e9-467f-e30d-7cb2e1243558"
      },
      "execution_count": null,
      "outputs": [
        {
          "output_type": "stream",
          "name": "stdout",
          "text": [
            "Sum Square error of f_0 : 328.8842400004\n",
            "Sum Square error of f_1 : 160.83972713648336\n",
            "Sum Square error of f_2 : 60.72042110696141\n",
            "Sum Square error of f_3 : 45.48646675532529\n",
            "Sum Square error of f_4 : 170.12632872963744\n",
            "Sum Square error of f_5 : 587.7614861675272\n",
            "Sum Square error of f_6 : 1783.6366027451745\n",
            "Sum Square error of f_7 : 5851.7349334321425\n",
            "Sum Square error of f_8 : 30839.01038959032\n"
          ]
        }
      ]
    },
    {
      "cell_type": "markdown",
      "source": [
        "ထို့နည်းတူပဲ ဖြစ်နိုင်တဲ့ $a$ တန်ဖိုး ၁၀ ခုရဲ့ function တွေကို အရောင် ၁၀ မျိုးနဲ့ အောက်က ပုံမှာ ပြထားတယ်။ အဲဒီထဲမှာ စတုတ္ထလိုင်း ($f_{\\text{id}=3, 0}$) ရဲ့ `sun_square` က အပေါ်မှာ တွက်ပြထားတဲ့ 42.47 ဖြစ်ပြီး အနည်းဆုံးဖြစ်တယ်။"
      ],
      "metadata": {
        "id": "qWogb8eop6yf"
      }
    },
    {
      "cell_type": "code",
      "source": [
        "colors = plt.cm.jet(np.linspace(0, 1, funcs.shape[0]))\n",
        "\n",
        "plt.xlim(0, eg_X.max()+1)\n",
        "plt.ylim(0, eg_X.max()+1)\n",
        "plt.scatter(x=X_vis[:, eg_idx], y=y_vis)\n",
        "for f, c in zip(funcs, colors):\n",
        "  f_vis = get_vis_for_f(f, X_vis[:, eg_idx])\n",
        "  plt.plot(f_vis[X], f_vis[Y], color=c)\n",
        "plt.show()"
      ],
      "metadata": {
        "colab": {
          "base_uri": "https://localhost:8080/",
          "height": 265
        },
        "id": "BEK-3B0ibA2T",
        "outputId": "d16770ef-7143-484f-a846-908d5fe94973"
      },
      "execution_count": null,
      "outputs": [
        {
          "output_type": "display_data",
          "data": {
            "text/plain": [
              "<Figure size 432x288 with 1 Axes>"
            ],
            "image/png": "[encoded data removed]"
          },
          "metadata": {
            "needs_background": "light"
          }
        }
      ]
    },
    {
      "cell_type": "markdown",
      "source": [
        "Linear Regression ဆိုတာ တခြားမဟုတ်၊ `sum_square` အနည်းဆုံး ဖြစ်စေမဲ့ $a$ နဲ့ $b$ ကို ရှာတာ ဖြစ်တယ်။ အောက်မှာတော့ `sklearn.linear_model.LinearRegression` ကိုသုံးပြီး $a$ နဲ့ $b$ ကို ရှာပြထားတယ်။"
      ],
      "metadata": {
        "id": "Tb9FLbowqfEg"
      }
    },
    {
      "cell_type": "code",
      "source": [
        "lr_model = sk_lm.LinearRegression()\n",
        "lr_model.fit(X_tr[:, eg_idx].reshape(-1, 1), y_tr)\n",
        "\n",
        "a, b = lr_model.coef_[0], lr_model.intercept_\n",
        "print(\"a = {} and b = {}\".format(a, b))"
      ],
      "metadata": {
        "colab": {
          "base_uri": "https://localhost:8080/"
        },
        "id": "wT4E82gCmy5t",
        "outputId": "4bb2d2d6-423e-48d8-9db4-4e9e8110f073"
      },
      "execution_count": null,
      "outputs": [
        {
          "output_type": "stream",
          "name": "stdout",
          "text": [
            "a = 0.4178808698303916 and b = 0.4496756419968606\n"
          ]
        }
      ]
    },
    {
      "cell_type": "markdown",
      "source": [
        "ပြီးတော့ $f_{\\text{mean}}$ လိုင်း (red) နဲ့ $f_{\\text{best}}$ လိုင်း (green) ကို plot ပြထားတယ်။"
      ],
      "metadata": {
        "id": "zRDFOsxhu3jT"
      }
    },
    {
      "cell_type": "code",
      "source": [
        "f_best = lambda x : a * x + b\n",
        "f_mean = lambda x : y_tr.mean()\n",
        "\n",
        "print(\"sum square for mean fit is : {}\".format(ss(f_mean, X_tr[:, eg_idx], y_tr)))\n",
        "print(\"sum square for best fit is : {}\".format(ss(f_best, X_tr[:, eg_idx], y_tr)))\n",
        "\n",
        "plt.xlim(0, 10)\n",
        "plt.scatter(x=X_tr[::50, eg_idx], y=y_tr[::50])\n",
        "\n",
        "f_best_vis = get_vis_for_f(f_best, X_tr[:, eg_idx])\n",
        "f_mean_vis = get_vis_for_f(f_mean, X_tr[:, eg_idx])\n",
        "\n",
        "plt.plot(f_best_vis[X], f_best_vis[Y], color=\"green\")\n",
        "plt.plot(f_mean_vis[X], f_mean_vis[Y], color=\"red\")\n",
        "plt.show()"
      ],
      "metadata": {
        "colab": {
          "base_uri": "https://localhost:8080/",
          "height": 303
        },
        "id": "5bP8jq6wrLVt",
        "outputId": "e93dd3f0-0c2f-4e5c-9cdd-df638226b80f"
      },
      "execution_count": null,
      "outputs": [
        {
          "output_type": "stream",
          "name": "stdout",
          "text": [
            "sum square for mean fit is : 20655.194207852466\n",
            "sum square for best fit is : 10858.375244667146\n"
          ]
        },
        {
          "output_type": "display_data",
          "data": {
            "text/plain": [
              "<Figure size 432x288 with 1 Axes>"
            ],
            "image/png": "[encoded data removed]"
          },
          "metadata": {
            "needs_background": "light"
          }
        }
      ]
    },
    {
      "cell_type": "markdown",
      "source": [
        "### Extending to More than 1 Dimensions\n",
        "\n",
        "အခုထိ ကျနော်တို့ `MedInc` dimension (feature/column) တခုကိုပဲ သုံးရသေးတယ်။ \n",
        "\n",
        "တခြား dimension တွေကိုပါ ထည့်ဖို့ function ပုံစံခွက် (model) ကို ဒီလိုပြင်ရမယ်။ \n",
        "\n",
        "$$f_{(a_1, a_2, a_3, ..., a_n), b}(X_i) = a_1 x_{i, 1} + a_2 x_{i, 2} + a_3 x_{i, 3} + ... + a_n x_{i, n} + b$$\n",
        "\n",
        "where \n",
        "\n",
        "$X_i$ ဆိုတာ $(x_{i, 1}, x_{i,2}, x_{i,3}, ..., x_{i,n})$ ဆိုတဲ့ feature $n$ ခုပါတဲ့ vector တခု (row တခု) ဖြစ်တယ်။\n",
        "\n",
        "ဒီဟာကို Matrix ပုံစံနဲ့ ပြင်ရေးတော့ ... \n",
        "\n",
        "$$f_{A, b}(X_i) = AX_i^T + b$$\n",
        "\n",
        "where\n",
        "\n",
        "$$A = (a_1, a_2, a_3, ..., a_n)$$\n",
        "\n",
        "ဒီနေရာမှာ $x^Ty$ ဟာ scalar ဖြစ်ရင် $x^Ty = (x^Ty)^T = xy^T$ ဖြစ်တာမို့ ... \n",
        "\n",
        "$$f_{A, b}(X_i) = X_iA^T + b$$\n",
        "\n",
        "လို့ပြောင်းရေးနိုင်တယ်။ \n",
        "\n",
        "ပြီးတော့ ရေးရိုးရေးစဉ်အရ $A$ ကို $w$ လို့ အစားထိုးလိုက်ရင် \n",
        "\n",
        "$$f_{w, b}(X_i) = X_iw^T + b$$\n",
        "\n",
        "ဆိုပြီးရတယ်။"
      ],
      "metadata": {
        "id": "kNeCmWqH1DYB"
      }
    },
    {
      "cell_type": "markdown",
      "source": [
        "### Comparing Models\n",
        "\n",
        "**model** တွေကို နှိုင်းယှဉ်တယ်ဆိုတာ **function** တွေကို နှိုင်းယှဉ်တာပဲ ဖြစ်တယ်။ \n",
        "\n",
        "> သတိထားကြည့်ရင် အခုချိန်အထိ ကျနော်တို့ `X_ts` နဲ့ `y_ts` ကို မထိသေးတာကို တွေ့ရလိမ့်မယ်။ "
      ],
      "metadata": {
        "id": "MaqXfJAovgEn"
      }
    },
    {
      "cell_type": "code",
      "source": [
        "print (\"training r2_score : {}\".format(sk_metrics.r2_score(y_true=y_tr, y_pred=lr_model.predict(X_tr[:, eg_idx].reshape(-1, 1)))))\n",
        "print (\"testing r2_score : {}\".format(sk_metrics.r2_score(y_true=y_ts, y_pred=lr_model.predict(X_ts[:, eg_idx].reshape(-1, 1)))))"
      ],
      "metadata": {
        "colab": {
          "base_uri": "https://localhost:8080/"
        },
        "id": "uruCztqGu5H_",
        "outputId": "f5f895a1-0b66-450a-bafd-4ea2f5ddc5c7"
      },
      "execution_count": null,
      "outputs": [
        {
          "output_type": "stream",
          "name": "stdout",
          "text": [
            "training r2_score : 0.47430292180263645\n",
            "testing r2_score : 0.47083837938023365\n"
          ]
        }
      ]
    },
    {
      "cell_type": "markdown",
      "source": [
        "$R^2$ score အကြောင်းကို မပြောခင်မှာ စဉ်းစားပုံကို အရင်ပြောမယ်။ \n",
        "\n",
        "* $f_{\\text{mean}}$ ကနေ $f_{\\text{best}}$ ဖြစ်တော့ `sum_square` ဘယ်လောက် လျော့သွားလဲ။ \n",
        "\n",
        "$$\\text{difference in SS}(f_{\\text{mean}}, f_{\\text{best}}) = \\text{SS}(f_{\\text{mean}}) - \\text{SS}(f_{\\text{best}}) $$\n",
        "\n",
        "ဒီတိုင်းထားရင် ရာခိုင်နှုန်း (%) မရနိုင်တဲ့အတွက် $\\text{SS}(f_{\\text{mean}})$ နဲ့ စားပေးလိုက်တယ်။ အဲဒါ $R^2$ ပဲ။ \n",
        "\n",
        "$$R^2 = \\frac{\\text{SS}(f_{\\text{mean}}) - \\text{SS}(f_{\\text{best}})}{\\text{SS}(f_{\\text{mean}})}$$\n",
        "\n",
        "$$=\\frac{\\text{SS}(f_{\\text{mean}}))}{\\text{SS}(f_{\\text{mean}})} - \\frac{\\text{SS}(f_{\\text{best}})}{\\text{SS}(f_{\\text{mean}})}$$\n",
        "\n",
        "$$=1 - \\frac{\\sum_{y_i \\in y}{(y_i - \\hat{y})^2}}{\\sum_{y_i \\in y}{(y_i - \\bar{y})^2}}$$\n",
        "\n",
        "အဲဒါ [ဒီလင့်ခ်](https://scikit-learn.org/stable/modules/model_evaluation.html#r2-score) မှာပေးထားတဲ့ အောက်က formula ပဲ။ \n",
        "\n",
        "$$R^2(y, \\hat{y}) = 1 - \\frac{\\sum_{i=1}^{n} (y_i - \\hat{y}_i)^2}{\\sum_{i=1}^{n} (y_i - \\bar{y})^2}$$\n",
        "\n",
        "> $R^2$ ဟာ ရာခိုင်နှုန်းဖြစ်တဲ့အတွက် 1 (100%) ထက် ဘယ်တော့မှ မကြီးဘူး။"
      ],
      "metadata": {
        "id": "PQuyOHNmyHCv"
      }
    },
    {
      "cell_type": "markdown",
      "source": [
        "#### Problems with $R^2$\n",
        "\n",
        "ခက်တာက $R^2$ က data ပေါ်မှာ မှီခိုနေတယ်။ \n",
        "\n",
        "1. data point ၂ point (2 rows/samples) ပဲ ရှိရင် $\\text{SS}(f_{\\text{candidate}})$ ဟာ အမြဲ 0 ဖြစ်တယ်။ \n",
        "\n",
        "2. column (feature/dimension) တွေ ထပ်ထည့်ရင် ထည့်သလို **random chance** ကြောင့် SS($f_{\\text{candidate}}$) ဟာ တဖြည်းဖြည်း ငယ်လာတယ်။\n",
        "\n",
        "အဲဒီ ပြဿနာ ၂ ရပ်ကို ဖြေရှင်းဖို့ F-test ဆိုတာကို သုံးရတယ်။ \n",
        "\n",
        "$$F = \\frac{R^2/n}{(1-R^2)/(m - n - 1)}$$\n",
        "\n",
        "where $m$ is number of samples and $n$ is number of features (dimension/columns) used.\n",
        "\n",
        "> Notice that in statistics it is $$F = \\frac{R^2/k}{(1-R^2)/(n - k - 1)}$$ because it is customary to denote number of samples as $n$ in statistics.\n",
        "\n",
        "မျက်စိ မလည်အောင် ၂ ပိုင်းခွဲပြီးရှင်းမယ်။\n",
        "\n",
        "* ပိုင်းဝေ (numerator) ကို ကြည့်ပါ။ $R^2/n$ ဆိုတော့ ဒီဂဏန်းဟာ variable (dimension/features/columns) များများသုံးလေ ငယ်လေလေဖြစ်မယ်။ ဒီတော့ F score ကောင်းချင်ရင် variable သုံးတာကို လျှော့ရမယ်။\n",
        "\n",
        "* ပိုင်းခြေ (demoninator) ကိုကြည့်ပါ။ $$R^2=1 - \\frac{\\text{SS}(f_{\\text{candidate}})}{\\text{SS}(f_{\\text{mean}})}$$ ဖြစ်တာမို့ $$1-R^2=\\frac{\\text{SS}(f_{\\text{candidate}})}{\\text{SS}(f_{\\text{mean}})}$$ တနည်းအားဖြင့် candidate က variable တွေတိုးပေမဲ့ မှားမြဲမှားနေဆဲ error ပမာဏဖြစ်တယ်။ \n",
        "\n",
        "* အဲဒီ error ပမာဏကို $(m - n - 1)$ နဲ့ စားတာဟာ တကယ်လို့ $m$ က ($n$ ထက်) ငယ်ရင် ပိုင်းခြေ ကြီးလာလိမ့်မယ်။ ဒီတော့ F-score ကောင်းချင်ရင် $n$ ဟာ $m$ ထက် အများကြီး ပိုကြီးရမယ်။\n",
        "\n",
        "> **Practical Notes:** F-score ကို ကိုယ့်ဟာကိုယ် အစအဆုံးတွက်တာနဲ့စာရင် library ခေါ်သုံးလိုက်တာ ပိုအဆင်ပြေပါတယ်။"
      ],
      "metadata": {
        "id": "S490YtDA0zUs"
      }
    },
    {
      "cell_type": "code",
      "source": [
        "import statsmodels.api as sm\n",
        "X_ = sm.add_constant(X_tr[:, eg_idx])\n",
        "model_ = sm.OLS(y_tr, X_).fit()\n",
        "print (model_.summary())"
      ],
      "metadata": {
        "id": "1l9pwPY1w1Pc",
        "colab": {
          "base_uri": "https://localhost:8080/"
        },
        "outputId": "a0316e88-278f-45a3-bc7e-5fb70fe1c344"
      },
      "execution_count": null,
      "outputs": [
        {
          "output_type": "stream",
          "name": "stdout",
          "text": [
            "                            OLS Regression Results                            \n",
            "==============================================================================\n",
            "Dep. Variable:                      y   R-squared:                       0.474\n",
            "Model:                            OLS   Adj. R-squared:                  0.474\n",
            "Method:                 Least Squares   F-statistic:                 1.396e+04\n",
            "Date:                Sun, 05 Jun 2022   Prob (F-statistic):               0.00\n",
            "Time:                        08:40:45   Log-Likelihood:                -19220.\n",
            "No. Observations:               15480   AIC:                         3.844e+04\n",
            "Df Residuals:                   15478   BIC:                         3.846e+04\n",
            "Df Model:                           1                                         \n",
            "Covariance Type:            nonrobust                                         \n",
            "==============================================================================\n",
            "                 coef    std err          t      P>|t|      [0.025      0.975]\n",
            "------------------------------------------------------------------------------\n",
            "const          0.4497      0.015     29.434      0.000       0.420       0.480\n",
            "x1             0.4179      0.004    118.173      0.000       0.411       0.425\n",
            "==============================================================================\n",
            "Omnibus:                     3195.654   Durbin-Watson:                   1.983\n",
            "Prob(Omnibus):                  0.000   Jarque-Bera (JB):             7096.771\n",
            "Skew:                           1.187   Prob(JB):                         0.00\n",
            "Kurtosis:                       5.317   Cond. No.                         10.2\n",
            "==============================================================================\n",
            "\n",
            "Warnings:\n",
            "[1] Standard Errors assume that the covariance matrix of the errors is correctly specified.\n"
          ]
        }
      ]
    },
    {
      "cell_type": "markdown",
      "source": [
        "ဒီ F-score နဲ့ ပက်သက်ပြီး ၂ မျိုး လုပ်နိုင်တယ်။ \n",
        "\n",
        "* ပထမတမျိုးက variable တွေ အမျိုးမျိုးသုံးပြီး `fit` ထားတဲ့ model အမျိုးမျိုးရဲ့ `F-statistic` တွေကို နှိုင်းယှဉ်နိုင်တယ် (ပိုများလေ ပိုကောင်းလေ)။ \n",
        "\n",
        "* ဒုတိယတမျိုးက အပေါ်က code မှာ \n",
        "\n",
        "```\n",
        "F-statistic:                 1.396e+04\n",
        "Prob (F-statistic):               0.00\n",
        "```\n",
        "\n",
        "လို့ မြင်ရတဲ့အတွက် F-score ရဲ့ p-value (`Prob (F-statistic)`) ဟာ 0 လောက်နီးပါးငယ် (0.05 ထက်ငယ်) တဲ့အတွက် ဒီ F-score ဟာ မတော်တဆ ကောင်းသွားတာဖြစ်တယ်ဆိုတဲ့ **null-hypothesis** ကို ပယ်ချနိုင်တယ်။\n",
        "\n",
        "> အတိုပြောရရင် မတော်တဆ မဟုတ်တဲ့ F-score တွေထဲက အကောင်းဆုံး F-score ကိုပေးတဲ့ dimension/feature/column/variable တွေနဲ့ model ဆောက်သင့်တယ်။"
      ],
      "metadata": {
        "id": "M1zrCHODBqYd"
      }
    },
    {
      "cell_type": "code",
      "source": [
        ""
      ],
      "metadata": {
        "id": "WFHpuRcbBLX8"
      },
      "execution_count": null,
      "outputs": []
    }
  ]
}