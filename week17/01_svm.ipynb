{
 "cells": [
  {
   "cell_type": "markdown",
   "metadata": {},
   "source": [
    "# Support Vector Machines\n",
    "\n",
    "မင်္ဂလာပါ။ Data Science Using Python -- Week 17 က ကြိုဆိုပါတယ်။ \n",
    "\n",
    "ဒီတပါတ် အစီအစဉ်ကတော့ ... \n",
    "\n",
    "* Support Vector Machines\n",
    "* Dimensionality Reduction နဲ့\n",
    "* Boosting Models (more trees) တို့ပဲ ဖြစ်ပါတယ်။"
   ]
  },
  {
   "cell_type": "code",
   "execution_count": 9,
   "metadata": {},
   "outputs": [],
   "source": [
    "%matplotlib inline \n",
    "\n",
    "import numpy as np\n",
    "import matplotlib.pyplot as plt\n",
    "from sklearn import svm, datasets, metrics, model_selection as ms"
   ]
  },
  {
   "cell_type": "code",
   "execution_count": 19,
   "metadata": {},
   "outputs": [],
   "source": [
    "# import some data to play with\n",
    "X_all, Y_all = datasets.load_iris(as_frame=True, return_X_y=True)\n",
    "selector = Y_all.isin([0, 1])\n",
    "X = X_all.values[selector, :2]  \n",
    "Y = Y_all[selector]\n",
    "# we only take the first two features. We could\n",
    "# avoid this ugly slicing by using a two-dim dataset"
   ]
  },
  {
   "cell_type": "code",
   "execution_count": 20,
   "metadata": {},
   "outputs": [
    {
     "data": {
      "text/html": [
       "<div>\n",
       "<style scoped>\n",
       "    .dataframe tbody tr th:only-of-type {\n",
       "        vertical-align: middle;\n",
       "    }\n",
       "\n",
       "    .dataframe tbody tr th {\n",
       "        vertical-align: top;\n",
       "    }\n",
       "\n",
       "    .dataframe thead th {\n",
       "        text-align: right;\n",
       "    }\n",
       "</style>\n",
       "<table border=\"1\" class=\"dataframe\">\n",
       "  <thead>\n",
       "    <tr style=\"text-align: right;\">\n",
       "      <th></th>\n",
       "      <th>sepal length (cm)</th>\n",
       "      <th>sepal width (cm)</th>\n",
       "      <th>petal length (cm)</th>\n",
       "      <th>petal width (cm)</th>\n",
       "    </tr>\n",
       "  </thead>\n",
       "  <tbody>\n",
       "    <tr>\n",
       "      <th>0</th>\n",
       "      <td>5.1</td>\n",
       "      <td>3.5</td>\n",
       "      <td>1.4</td>\n",
       "      <td>0.2</td>\n",
       "    </tr>\n",
       "    <tr>\n",
       "      <th>1</th>\n",
       "      <td>4.9</td>\n",
       "      <td>3.0</td>\n",
       "      <td>1.4</td>\n",
       "      <td>0.2</td>\n",
       "    </tr>\n",
       "    <tr>\n",
       "      <th>2</th>\n",
       "      <td>4.7</td>\n",
       "      <td>3.2</td>\n",
       "      <td>1.3</td>\n",
       "      <td>0.2</td>\n",
       "    </tr>\n",
       "    <tr>\n",
       "      <th>3</th>\n",
       "      <td>4.6</td>\n",
       "      <td>3.1</td>\n",
       "      <td>1.5</td>\n",
       "      <td>0.2</td>\n",
       "    </tr>\n",
       "    <tr>\n",
       "      <th>4</th>\n",
       "      <td>5.0</td>\n",
       "      <td>3.6</td>\n",
       "      <td>1.4</td>\n",
       "      <td>0.2</td>\n",
       "    </tr>\n",
       "  </tbody>\n",
       "</table>\n",
       "</div>"
      ],
      "text/plain": [
       "   sepal length (cm)  sepal width (cm)  petal length (cm)  petal width (cm)\n",
       "0                5.1               3.5                1.4               0.2\n",
       "1                4.9               3.0                1.4               0.2\n",
       "2                4.7               3.2                1.3               0.2\n",
       "3                4.6               3.1                1.5               0.2\n",
       "4                5.0               3.6                1.4               0.2"
      ]
     },
     "execution_count": 20,
     "metadata": {},
     "output_type": "execute_result"
    }
   ],
   "source": [
    "X_all.head()"
   ]
  },
  {
   "cell_type": "code",
   "execution_count": 21,
   "metadata": {},
   "outputs": [],
   "source": [
    "tr_X, ts_X, tr_y, ts_y = ms.train_test_split(X, Y)"
   ]
  },
  {
   "cell_type": "code",
   "execution_count": 22,
   "metadata": {},
   "outputs": [
    {
     "name": "stderr",
     "output_type": "stream",
     "text": [
      "/home/edward/anaconda3/envs/py37-dsup/lib/python3.7/site-packages/sklearn/svm/_base.py:289: ConvergenceWarning: Solver terminated early (max_iter=10).  Consider pre-processing your data with StandardScaler or MinMaxScaler.\n",
      "  ConvergenceWarning,\n"
     ]
    },
    {
     "data": {
      "text/plain": [
       "SVC(C=100, decision_function_shape='ovo', degree=2, gamma='auto',\n",
       "    kernel='linear', max_iter=10, random_state=42)"
      ]
     },
     "execution_count": 22,
     "metadata": {},
     "output_type": "execute_result"
    }
   ],
   "source": [
    "model = svm.SVC(kernel=\"linear\", C=100, degree=2, gamma=\"auto\", shrinking=True, max_iter=10, decision_function_shape=\"ovo\", random_state=42)\n",
    "model.fit(tr_X, tr_y)"
   ]
  },
  {
   "cell_type": "code",
   "execution_count": 23,
   "metadata": {},
   "outputs": [
    {
     "name": "stdout",
     "output_type": "stream",
     "text": [
      "              precision    recall  f1-score   support\n",
      "\n",
      "           0       0.88      0.88      0.88         8\n",
      "           1       0.94      0.94      0.94        17\n",
      "\n",
      "    accuracy                           0.92        25\n",
      "   macro avg       0.91      0.91      0.91        25\n",
      "weighted avg       0.92      0.92      0.92        25\n",
      "\n"
     ]
    }
   ],
   "source": [
    "pred_y = model.predict(ts_X)\n",
    "print (metrics.classification_report(ts_y, pred_y))"
   ]
  },
  {
   "cell_type": "code",
   "execution_count": 24,
   "metadata": {},
   "outputs": [
    {
     "data": {
      "image/png": "[encoded data removed]",
      "text/plain": [
       "<Figure size 432x288 with 1 Axes>"
      ]
     },
     "metadata": {
      "needs_background": "light"
     },
     "output_type": "display_data"
    }
   ],
   "source": [
    "plt.scatter(ts_X[:, 0], ts_X[:, 1], c=ts_y, marker=\"d\")\n",
    "plt.scatter(ts_X[:, 0], ts_X[:, 1], c=pred_y, marker=\".\")\n",
    "plt.show()"
   ]
  },
  {
   "cell_type": "markdown",
   "metadata": {},
   "source": [
    "### Parameters \n",
    "\n",
    "C : float, default=1.0; \n",
    "    * Regularization parameter. 1/alpha as we knew before\n",
    "\n",
    "kernel : {'linear', 'poly', 'rbf', 'sigmoid', 'precomputed'} or callable, default='rbf'\n",
    "    * If a callable is given it is used to pre-compute the kernel matrix from data matrices; that matrix should be an array of shape (n_samples, n_samples). Something like a distance matrix.\n",
    "\n",
    "degree : int, default=3\n",
    "    * Degree of the polynomial kernel function ('poly'). Ignored by all other kernels.\n",
    "\n",
    "gamma : {'scale', 'auto'} or float, default='scale'\n",
    "    * Kernel coefficient for 'rbf', 'poly' and 'sigmoid'.\n",
    "    * if gamma='scale' (default) is passed then it uses 1 / (n_features * X.var()) as value of gamma,\n",
    "    * if 'auto', uses 1 / n_features.\n",
    "\n",
    "shrinking : bool, default=True\n",
    "    * Whether to use the shrinking heuristic. \n",
    "\n",
    "cache_size : float, default=200\n",
    "    * Specify the size of the kernel cache (in MB).\n",
    "\n",
    "max_iter : int, default=-1\n",
    "    * Hard limit on iterations within solver, or -1 for no limit.\n",
    "\n",
    "decision_function_shape : {'ovo', 'ovr'}, default='ovr'\n",
    "\n",
    "random_state : int, RandomState instance or None, default=None"
   ]
  },
  {
   "cell_type": "code",
   "execution_count": 32,
   "metadata": {},
   "outputs": [
    {
     "name": "stderr",
     "output_type": "stream",
     "text": [
      "/home/edward/anaconda3/envs/py37-dsup/lib/python3.7/site-packages/sklearn/svm/_base.py:289: ConvergenceWarning: Solver terminated early (max_iter=100).  Consider pre-processing your data with StandardScaler or MinMaxScaler.\n",
      "  ConvergenceWarning,\n"
     ]
    },
    {
     "data": {
      "text/plain": [
       "-0.3522473858277748"
      ]
     },
     "execution_count": 32,
     "metadata": {},
     "output_type": "execute_result"
    }
   ],
   "source": [
    "# let's try a regression one\n",
    "df_X, ds_y = datasets.fetch_california_housing(as_frame=True, return_X_y=True)\n",
    "tr_X, ts_X, tr_y, ts_y = ms.train_test_split(df_X, ds_y)\n",
    "model = svm.SVR(kernel=\"rbf\", degree=5, gamma=\"auto\", C=1000, shrinking=True, max_iter=100)\n",
    "model.fit(tr_X, tr_y)\n",
    "pred = model.predict(ts_X)\n",
    "metrics.r2_score(ts_y, pred)"
   ]
  },
  {
   "cell_type": "markdown",
   "metadata": {},
   "source": [
    "## How it works\n",
    "\n",
    "It essentially **increase the dimensionality** of the data to better fit in."
   ]
  },
  {
   "cell_type": "code",
   "execution_count": 53,
   "metadata": {},
   "outputs": [
    {
     "data": {
      "image/png": "[encoded data removed]",
      "text/plain": [
       "<Figure size 432x288 with 1 Axes>"
      ]
     },
     "metadata": {
      "needs_background": "light"
     },
     "output_type": "display_data"
    }
   ],
   "source": [
    "from scipy import stats\n",
    "from sklearn import linear_model\n",
    "\n",
    "X_all, Y_all = datasets.load_iris(as_frame=True, return_X_y=True)\n",
    "selector = Y_all.isin([0, 1])\n",
    "X = X_all.values[selector, :1]  \n",
    "Y = Y_all[selector]\n",
    "\n",
    "#x = np.linspace(X[:, 0].min(), X[:, 0].max(), 1000)\n",
    "#y = np.ones(len(x))\n",
    "\n",
    "xx = X[::2]\n",
    "yy = np.ones(len(xx))\n",
    "\n",
    "plt.scatter(xx, yy, marker=\".\", c=Y[::2])\n",
    "plt.show()"
   ]
  },
  {
   "cell_type": "code",
   "execution_count": 58,
   "metadata": {},
   "outputs": [
    {
     "data": {
      "image/png": "[encoded data removed]",
      "text/plain": [
       "<Figure size 432x288 with 1 Axes>"
      ]
     },
     "metadata": {
      "needs_background": "light"
     },
     "output_type": "display_data"
    }
   ],
   "source": [
    "# let's zoom in\n",
    "plt.scatter(xx, yy, marker=\".\", c=Y[::2])\n",
    "plt.xlim(4.5, 6.0)\n",
    "plt.plot([5.13, 5.13], [0.95, 1.05])\n",
    "plt.plot([5.16, 5.16], [0.95, 1.05])\n",
    "plt.plot([5.19, 5.19], [0.95, 1.05])\n",
    "plt.show()"
   ]
  },
  {
   "cell_type": "markdown",
   "metadata": {},
   "source": [
    "အပေါ်က မော်ဒယ်အားလုံး `classification_report` အားဖြင့်ဆိုရင် တူတူပဲ။ \n",
    "\n",
    "ဒီတော့ သူတို့ထဲမှာ ဘယ်ဟာ အကောင်းဆုံးလဲဆိုတာ သိဖို့ cross_validation နဲ့ အခါခါ စစ်ပြီး margin ကို ကျယ်အောင် ထားရတယ်။ margin အတွင်းမှာ ကျနေတဲ့ data point တွေကို **support vector** လို့ခေါ်ပြီး ရလာတဲ့ classifier/regressor ကို support vector classifier လို့ ခေါ်တယ်။ \n",
    "\n",
    "support vector classifier တွေဟာ ဒီအတိုင်းထားရင် linear model ပဲ ဖြစ်နေလိမ့်မယ်။ ဒါကြောင့် $x$ ကို $(x, x^2)$ အဖြစ်ကို ပြောင်းလိုက်တယ်။ ဒီတော့ dimension က 2 ဖြစ်သွားတယ်။ \n",
    "\n",
    "တကယ့် formula က ... \n",
    "\n",
    "$$(a \\times b + \\gamma)^d$$\n",
    "\n",
    "ဖြစ်တယ်။ $\\gamma$ ဟာ `gamma` ပဲ။ \n",
    "\n",
    "သင်္ချာတွေ အများကြီး မပါပဲ ပြောရရင် ... \n",
    "\n",
    "* `kernel` = `\"linear\"` ဟာ degree $d$ = 1 ဖြစ်တယ်။ linear model နဲ့ တူတူပဲ။ \n",
    "\n",
    "* `kernel` = `\"poly\"` မှာ degree $n \\geq d \\geq 1$, where $n$ is an integer ဖြစ်တယ်။\n",
    "\n",
    "* `kernel` = `\"rbf\"` မှာ degree $d = \\infty$ ဖြစ်တယ်။ သင်္ချာ ဖော်မြူလာအရ $e^{-\\gamma(a-b)^2}$ လို့ ရေးပေမဲ့ ... \n",
    "  \n",
    "  $$\\lim_{d \\to \\infty} (a \\times b + \\gamma)^d = e^{-\\gamma(a-b)^2}$$\n",
    "  မို့လို့ တူတူပဲ"
   ]
  },
  {
   "cell_type": "markdown",
   "metadata": {},
   "source": [
    "**Assignment**\n",
    "\n",
    "SVM ကိုသုံးပြီး digit နဲ့ mnist dataset တွေကို စမ်းကြည့်ကြပါ။"
   ]
  },
  {
   "cell_type": "markdown",
   "metadata": {},
   "source": []
  }
 ],
 "metadata": {
  "kernelspec": {
   "display_name": "Python 3.7.13 ('py37-dsup')",
   "language": "python",
   "name": "python3"
  },
  "language_info": {
   "codemirror_mode": {
    "name": "ipython",
    "version": 3
   },
   "file_extension": ".py",
   "mimetype": "text/x-python",
   "name": "python",
   "nbconvert_exporter": "python",
   "pygments_lexer": "ipython3",
   "version": "3.7.13"
  },
  "orig_nbformat": 4,
  "vscode": {
   "interpreter": {
    "hash": "3a9c1e998c7d6d5f29587b2c70e9bd488bb486b902354401efc27ca8457f04e9"
   }
  }
 },
 "nbformat": 4,
 "nbformat_minor": 2
}
