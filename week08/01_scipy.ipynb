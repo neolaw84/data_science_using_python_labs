{
 "cells": [
  {
   "cell_type": "markdown",
   "metadata": {},
   "source": [
    "# `linalg` subpackage\n",
    "\n",
    "* Matrix determinent \n",
    "* Matrix inverse and\n",
    "* Matrix pseudo inverse"
   ]
  },
  {
   "cell_type": "code",
   "execution_count": null,
   "metadata": {},
   "outputs": [],
   "source": [
    "import numpy as np\n",
    "from scipy import linalg"
   ]
  },
  {
   "cell_type": "code",
   "execution_count": null,
   "metadata": {},
   "outputs": [],
   "source": [
    "M = np.array([\n",
    "    [1, 2, 3], \n",
    "    [2, 3, 1], \n",
    "    [3, 1, 2]\n",
    "])\n",
    "\n",
    "print (linalg.det(M))\n",
    "print (linalg.inv(M))"
   ]
  },
  {
   "cell_type": "code",
   "execution_count": null,
   "metadata": {},
   "outputs": [],
   "source": [
    "M_ = M[:2, :]\n",
    "print (M_)\n",
    "print (linalg.det(M_))"
   ]
  },
  {
   "cell_type": "code",
   "execution_count": null,
   "metadata": {},
   "outputs": [],
   "source": [
    "print (linalg.pinv(M_))"
   ]
  },
  {
   "cell_type": "code",
   "execution_count": null,
   "metadata": {},
   "outputs": [],
   "source": [
    "print (M_ @ linalg.pinv(M_))"
   ]
  },
  {
   "cell_type": "markdown",
   "metadata": {},
   "source": [
    "* L1 norm (Manhattan Distance)\n",
    "* L2 norm (Euclidean Distance)"
   ]
  },
  {
   "cell_type": "code",
   "execution_count": null,
   "metadata": {},
   "outputs": [],
   "source": [
    "v = np.array([1, 2, 3])\n",
    "print(linalg.norm(v, 1))\n",
    "print(linalg.norm(v, 2))\n",
    "print(linalg.norm(v, np.inf))"
   ]
  },
  {
   "cell_type": "markdown",
   "metadata": {},
   "source": [
    "* `svd`\n",
    "* `diagsvd`"
   ]
  },
  {
   "cell_type": "code",
   "execution_count": null,
   "metadata": {},
   "outputs": [],
   "source": [
    "%matplotlib inline\n",
    "from matplotlib import pyplot as plt\n",
    "\n",
    "from scipy.misc import face\n",
    "img = face()\n",
    "plt.imshow(img[:, :, 0], cmap=\"gray\")\n",
    "plt.show()"
   ]
  },
  {
   "cell_type": "code",
   "execution_count": null,
   "metadata": {},
   "outputs": [],
   "source": [
    "U, s, Vt = linalg.svd(img[:, :, 0])\n",
    "Sigma = linalg.diagsvd(s, U.shape[1], Vt.shape[0])\n",
    "approx = U @ Sigma @ Vt\n",
    "plt.imshow(approx, cmap=\"gray\")\n",
    "plt.show()"
   ]
  },
  {
   "cell_type": "markdown",
   "metadata": {},
   "source": [
    "* `solve`\n",
    "\n",
    "This solves the same problem(s) that requires inverse matrix. More formally, \n",
    "\n",
    "$$Ax=b$$ \n",
    "where\n",
    "$$A = \\left(\\begin{array}{cc}1 & 5 \\\\ -9 & 2 \\end{array}\\right)$$\n",
    "and\n",
    "$$b^T=[-8, 0]$$\n",
    "\n",
    "> `solve_banded`, `solve_triangular` and `solveh_banded` etc. are not frequently used in Data Science workflows."
   ]
  },
  {
   "cell_type": "code",
   "execution_count": null,
   "metadata": {},
   "outputs": [],
   "source": [
    "A = np.array([\n",
    "    [1, 5],\n",
    "    [-9, 2]\n",
    "])\n",
    "b = np.array([\n",
    "    -8,\n",
    "    0\n",
    "])\n",
    "print (linalg.solve(a=A, b=b))"
   ]
  },
  {
   "cell_type": "markdown",
   "metadata": {},
   "source": [
    "# `optimize` subpackage\n",
    "\n",
    "`minimize` function ရဲ့ အလုပ်လုပ်ပုံကို သိပြီးကြပြီ။ တကယ်က အဲဒီ function မှာ variant တွေ အများကြီးရှိတယ်။\n",
    "\n",
    "![](https://www.cheatsheet.com/wp-content/uploads/2021/07/President-Loki-1-scaled-e1625755386396-1200x644.jpeg)\n",
    "\n",
    "တခုကို ဖော်ပြရမယ်ဆိုရင် ...\n",
    "\n",
    "* `minimize_scalar`\n",
    "\n",
    "နောက်အရေးပါတာတခုက assignment problem\n",
    "\n",
    "ဒီ ပြဿနာလေးကို စဉ်းစားကြည့် ... \n",
    "\n",
    "```\n",
    "        client_1 client_2 client_3\n",
    "staff_1     5       3       8\n",
    "staff_2     9       2       6\n",
    "staff_3     2       4       6\n",
    "```\n",
    "\n",
    "ဒါဆို ဘယ်အလုပ်သမားကို ဘယ် client အတွက်ပေးရင် ကုန်ကျစရိတ် အသက်သာဆုံး ဖြစ်မလဲ။ (permutation ? combination ?)"
   ]
  },
  {
   "cell_type": "code",
   "execution_count": null,
   "metadata": {},
   "outputs": [],
   "source": [
    "from scipy import optimize\n",
    "cost = np.array([\n",
    "    [5, 3, 8],\n",
    "    [9, 2, 6],\n",
    "    [2, 4, 6]\n",
    "])\n",
    "answer = optimize.linear_sum_assignment(cost)"
   ]
  },
  {
   "cell_type": "markdown",
   "metadata": {},
   "source": [
    "Row 0, Col 1 -> staff_1 for client_2\n",
    "Row 1, Col 2 -> staff_2 for client_3\n",
    "Row_2, Col_0 -> staff_3 for client_1\n",
    "\n",
    "ဒါဆိုရင် ... match-making website ရေးလို့ရပြီနော်။ ကောင်လေးတွေက row တွေမှာ၊ ကောင်မလေးတွေက column တွေမှာ၊ compatibility ratio တွေက cell တွေထဲထည့်ရင် optimize လို့ရမလား ? (this is an actual interview question)"
   ]
  },
  {
   "cell_type": "markdown",
   "metadata": {},
   "source": [
    "... and finally, \n",
    "\n",
    "* `curve_fit`"
   ]
  },
  {
   "cell_type": "code",
   "execution_count": null,
   "metadata": {},
   "outputs": [],
   "source": [
    "xdata = np.linspace(0.0, 10.0, num=1000)\n",
    "print (xdata[:15])"
   ]
  },
  {
   "cell_type": "code",
   "execution_count": null,
   "metadata": {},
   "outputs": [],
   "source": [
    "import random\n",
    "random.seed(42)\n",
    "\n",
    "def quad(x, a, b, c): \n",
    "    return a * x**2 + b * x + c\n",
    "\n",
    "def quad_original(x, a, b, c):\n",
    "    return quad(x, a, b, c) * (1 + random.random() * 0.01)\n",
    "\n",
    "# notice anything unusual here ???\n",
    "y = quad_original(xdata, 1, -2, 3)\n",
    "print (y[:15])"
   ]
  },
  {
   "cell_type": "code",
   "execution_count": null,
   "metadata": {},
   "outputs": [],
   "source": [
    "plt.plot(xdata, y, 'b-', label='data')"
   ]
  },
  {
   "cell_type": "code",
   "execution_count": null,
   "metadata": {},
   "outputs": [],
   "source": [
    "popt, pcov = optimize.curve_fit(quad, xdata, y)\n",
    "print (popt)"
   ]
  },
  {
   "cell_type": "code",
   "execution_count": null,
   "metadata": {},
   "outputs": [],
   "source": [
    "y_pred = quad(xdata, *popt)\n",
    "plt.plot(xdata, y_pred)"
   ]
  }
 ],
 "metadata": {
  "interpreter": {
   "hash": "3a9c1e998c7d6d5f29587b2c70e9bd488bb486b902354401efc27ca8457f04e9"
  },
  "kernelspec": {
   "display_name": "Python 3.7.11 ('py37-dsup')",
   "language": "python",
   "name": "python3"
  },
  "language_info": {
   "codemirror_mode": {
    "name": "ipython",
    "version": 3
   },
   "file_extension": ".py",
   "mimetype": "text/x-python",
   "name": "python",
   "nbconvert_exporter": "python",
   "pygments_lexer": "ipython3",
   "version": "3.7.11"
  },
  "orig_nbformat": 4
 },
 "nbformat": 4,
 "nbformat_minor": 2
}
