{
 "cells": [
  {
   "attachments": {},
   "cell_type": "markdown",
   "metadata": {},
   "source": [
    "# Assignment\n",
    "\n",
    "ဒီ Assignment မှာ ... \n",
    "\n",
    "1. Affine transformation တွေကို 2D plane မှာရှိတဲ့ point set $X$ တွေကို apply လုပ်ကြည့်မှာ ဖြစ်ပါတယ်။\n",
    "   \n",
    "2. မူလ point set $X$ နဲ့ transform လုပ်ထားတဲ့ point set $X_{\\mathrm{target}}$ တွေကနေပြီး Affine transformation matrix A ကို တွက်ထုတ်ကြည့်ကြပါမယ်။\n",
    "   > Note: အဖြေ တခုတည်းမက ရှိနိုင်ပါသည်။\n",
    "\n",
    "3. ပေးထားသည့် $X \\in \\mathbb{R}^2$ နှင့် $y \\in \\mathbb{R}$ တို့မှ $x_i \\in X$ မှ $y_i \\in y$ ကို ပြောင်းပေးနိုင်သည့် linear function $f(x)$ ကို ရှာခြင်း\n",
    "\n",
    "တို့ကို လုပ်ဆောင်ရမှာ ဖြစ်ပါတယ်။"
   ]
  },
  {
   "cell_type": "code",
   "execution_count": null,
   "metadata": {},
   "outputs": [],
   "source": [
    "!git clone https://github.com/neolaw84/data_science_using_python_labs.git\n",
    "%cd data_science_using_python_labs/week08"
   ]
  },
  {
   "cell_type": "code",
   "execution_count": null,
   "metadata": {},
   "outputs": [],
   "source": [
    "%matplotlib inline\n",
    "from matplotlib import pyplot as plt\n",
    "\n",
    "import numpy as np\n",
    "from scipy import optimize, linalg\n",
    "\n",
    "from utils import show_points"
   ]
  },
  {
   "cell_type": "code",
   "execution_count": null,
   "metadata": {},
   "outputs": [],
   "source": [
    "X = np.vstack((\n",
    "    np.array([\n",
    "        [0, 0],\n",
    "        [0, 1],\n",
    "        [1, 0],\n",
    "        [1, 1]\n",
    "    ]).T,\n",
    "    np.ones((1, 4))\n",
    "))\n",
    "\n",
    "show_points(X)\n",
    "plt.show()"
   ]
  },
  {
   "attachments": {},
   "cell_type": "markdown",
   "metadata": {},
   "source": [
    "### Problem 1\n",
    "\n",
    "#### Part 1\n",
    "\n",
    "စစချင်းမှာ အောက်ပါ Affine Transformation တွေကို ဒီ အမှတ် ၄ ခုကို Apply ကြရမှာ ဖြစ်ပါတယ်။\n",
    "\n",
    "* Translation \n",
    "\n",
    "  $$A = \\begin{bmatrix} 1 & 0 & t_0 \\\\\n",
    "    0 & 1 & t_1 \\\\\n",
    "    0 & 0 & 1 \n",
    "  \\end{bmatrix}$$\n",
    "\n",
    "  ဥပမာ ညာဘက်ကို 0.2 unit, အောက်ဘက်ကို 0.3 unit ရွှေ့ချင်ရင် \n",
    "\n",
    "  $$A = \\begin{bmatrix} 1 & 0 & 0.2 \\\\\n",
    "    0 & 1 & -0.3 \\\\\n",
    "    0 & 0 & 1 \n",
    "  \\end{bmatrix}\n",
    "  $$ ကို သုံးရမှာ ဖြစ်တယ်။\n",
    "\n",
    "  > အောက်မှာ နမူနာ လုပ် ပြထားတယ်။\n",
    "\n",
    "* Mirroring (across second dimension -- dimension 1)\n",
    "\n",
    "  $$A = \\begin{bmatrix} -1 & 0 & 0 \\\\\n",
    "    0 & 1 & 0 \\\\\n",
    "    0 & 0 & 1 \n",
    "  \\end{bmatrix}$$\n",
    "\n",
    "* Mirroring (across first dimension -- dimension 0)\n",
    "\n",
    "  $$A = \\begin{bmatrix} 1 & 0 & 0 \\\\\n",
    "    0 & -1 & 0 \\\\\n",
    "    0 & 0 & 1 \n",
    "  \\end{bmatrix}$$\n",
    "\n",
    "* Scaling \n",
    "\n",
    "  $$A = \\begin{bmatrix} s_0 & 0 & 0 \\\\\n",
    "    0 & s_1 & 0 \\\\\n",
    "    0 & 0 & 1 \n",
    "  \\end{bmatrix}$$\n",
    "\n",
    "  ဥပမာ ဘယ်ညာ (dimension 0) ကို 1.5 ဆ, အပေါ်အောက် (dimension 1) ဘက်ကို 0.5 ဆ ချုံ့/ချဲ့ချင်ရင် \n",
    "\n",
    "  $$A = \\begin{bmatrix} 1.5 & 0 & 0 \\\\\n",
    "    0 & 0.5 & 0 \\\\\n",
    "    0 & 0 & 1 \n",
    "  \\end{bmatrix}\n",
    "  $$ ကို သုံးရမှာ ဖြစ်တယ်။\n",
    "\n",
    "* Rotation\n",
    "\n",
    "  $$A = \\begin{bmatrix} cos(\\theta) & -sin(\\theta) & 0 \\\\\n",
    "    sin(\\theta) & cos(\\theta) & 0 \\\\\n",
    "    0 & 0 & 1 \n",
    "  \\end{bmatrix}$$\n",
    "\n",
    "  ဥပမာ လက်ဝဲရစ် (anti-clockwise) $\\theta = 45\\degree = \\pi/4$ လှည့်ချင်ရင်\n",
    "\n",
    "  $$A = \\begin{bmatrix} cos(\\pi/4) & -sin(\\pi/4) & 0 \\\\\n",
    "    sin(\\pi/4) & cos(\\pi/4) & 0 \\\\\n",
    "    0 & 0 & 1 \n",
    "  \\end{bmatrix}\n",
    "\n",
    "  $$ ကို သုံးရမှာ ဖြစ်တယ်။\n",
    "\n",
    "  > Note: `math.pi`, `math.sin` နဲ့ `math.cos` တို့ကို `import math` လုပ်ပြီး သုံးပါ။\n",
    "\n",
    "* Shearing\n",
    "\n",
    "  $$A = \\begin{bmatrix} 1 & s_0 & 0 \\\\\n",
    "    s_1 & 1 & 0 \\\\\n",
    "    0 & 0 & 1 \n",
    "  \\end{bmatrix}$$\n",
    "\n",
    "  ဥပမာ ... \n",
    "\n",
    "  $$A = \\begin{bmatrix} 1 & 0.5 & 0 \\\\\n",
    "  0.25 & 1 & 0 \\\\\n",
    "  0 & 0 & 1 \n",
    "  \\end{bmatrix}$$ \n",
    "  \n",
    "  ကို သုံးကြည့်ပါ။"
   ]
  },
  {
   "cell_type": "code",
   "execution_count": null,
   "metadata": {},
   "outputs": [],
   "source": [
    "A = np.array([\n",
    "    [1, 0, 0.2],\n",
    "    [0, 1, -0.3],\n",
    "    [0, 0, 1]\n",
    "])\n",
    "\n",
    "X_translated = A @ X\n",
    "\n",
    "show_points(X)\n",
    "show_points(X_translated, c=\"red\")\n",
    "plt.show()"
   ]
  },
  {
   "cell_type": "code",
   "execution_count": null,
   "metadata": {},
   "outputs": [],
   "source": [
    "# write your code here"
   ]
  },
  {
   "attachments": {},
   "cell_type": "markdown",
   "metadata": {},
   "source": [
    "#### Part 2\n",
    "\n",
    "ဒုတိယ တဆင့်အနေနဲ့ အောက်က Transformation တွေကို တစုတည်း Apply ကြည့်ပါ။ \n",
    "\n",
    "> Note: Transformation တွေကို အရင်မြှောက်ပြီးမှ X နဲ့ မြှောက်ရင်လဲ အဖြေတူတူပဲ ရတယ်။ စမ်းကြည့်ပါ။\n",
    "\n",
    "* Rotate $30\\degree$ anti-clockwise, then move it 0.2 unit right, then scale it across dimension $d_1$ by 1.3x\n",
    "  \n",
    "  $$A_0 = \\begin{bmatrix} \n",
    "    cos(\\pi/6) & -sin(\\pi/6) & 0 \\\\\n",
    "    sin(\\pi/6) & cos(\\pi/6) & 0 \\\\\n",
    "    0 & 0 & 1\n",
    "  \\end{bmatrix}$$\n",
    "\n",
    "  $$A_1 = \\begin{bmatrix} \n",
    "    1 & 0 & 0.2 \\\\\n",
    "    0 & 1 & 0 \\\\\n",
    "    0 & 0 & 1\n",
    "  \\end{bmatrix}$$\n",
    "\n",
    "  $$A_2 = \\begin{bmatrix} \n",
    "    1 & 0 & 0 \\\\\n",
    "    0 & 1.3 & 0 \\\\\n",
    "    0 & 0 & 1\n",
    "  \\end{bmatrix}$$\n",
    "\n",
    "* Mirror across dimension $d_1$ and rotate $90\\degree$ clockwise\n",
    "\n",
    "* Mirror across dimension $d_0$, then move it up 0.1 units, then rotate anti-clockwise $45\\degree$"
   ]
  },
  {
   "cell_type": "code",
   "execution_count": null,
   "metadata": {},
   "outputs": [],
   "source": [
    "# write your code here"
   ]
  },
  {
   "attachments": {},
   "cell_type": "markdown",
   "metadata": {},
   "source": [
    "### Problem 2\n",
    "\n",
    "အောက်က code ကို run ပါ။ ပြီးရင် `X` နဲ့ `X_transformed` ကနေ `A` ကိုရအောင် ပြန်တွက်ထုတ်ပါ။"
   ]
  },
  {
   "cell_type": "code",
   "execution_count": null,
   "metadata": {},
   "outputs": [],
   "source": [
    "# X_transformed = A @ X\n",
    "X_transformed = np.array([\n",
    "    [0.73199394, 1.68270825, 1.10653406, 2.05724837],\n",
    "    [0.15599452, 0.31201316, 0.754653  , 0.91067164],\n",
    "    [1.        , 1.        , 1.        , 1.        ]]\n",
    ")\n",
    "\n",
    "show_points(X)\n",
    "show_points(X_transformed, c=\"red\")\n",
    "plt.show()"
   ]
  },
  {
   "cell_type": "code",
   "execution_count": null,
   "metadata": {},
   "outputs": [],
   "source": [
    "# write your code here"
   ]
  },
  {
   "attachments": {},
   "cell_type": "markdown",
   "metadata": {},
   "source": [
    "ထပ်လုပ်ကြည့်ရအောင်။ ဒီတခါ ဒီ အောက်က `X_transformed` ကို သုံးပါ။\n",
    "\n",
    "```python\n",
    "X_transformed = np.array([\n",
    "    [-1        , -1       , -1         , -1        ],\n",
    "    [0.15599452, 0.31201316, 0.754653  , 0.91067164],\n",
    "    [1.        , 1.        , 1.        , 1.        ]]\n",
    ")\n",
    "```"
   ]
  },
  {
   "cell_type": "code",
   "execution_count": null,
   "metadata": {},
   "outputs": [],
   "source": [
    "# write your code here"
   ]
  },
  {
   "cell_type": "code",
   "execution_count": null,
   "metadata": {},
   "outputs": [],
   "source": [
    "X_transformed = np.array([\n",
    "    [-1        , -1       , -1         , -1        ],\n",
    "    [0.15599452, 0.31201316, 0.754653  , 0.91067164],\n",
    "    [1.        , 1.        , 1.        , 1.        ]]\n",
    ")\n",
    "\n",
    "show_points(X)\n",
    "show_points(X_transformed, c=\"red\")"
   ]
  },
  {
   "attachments": {},
   "cell_type": "markdown",
   "metadata": {},
   "source": [
    "### Problem 3\n",
    "\n",
    "အပိုင်း ၃ အနေနဲ့ အပိုင်း ၂ ရဲ့ နောက်ဆုံး ပုစ္ဆာကို ကြည့်ရအောင်။\n",
    "\n",
    "$$X' = \\begin{bmatrix}\n",
    "    -1        & -1        & -1        & -1         \\\\\n",
    "    0.15599452& 0.31201316& 0.754653  & 0.91067164 \\\\\n",
    "    1.        & 1.        & 1.        & 1.        \n",
    "\\end{bmatrix}\n",
    "$$\n",
    "\n",
    "ဆိုတဲ့ matrix မှာ ပထမဆုံး row $r_0$ နဲ့ နောက်ဆုံး row $r_2$ တို့က ကိန်းသေ (constant) တွေ ဖြစ်နေတာ တွေ့ရမယ်။ \n",
    "\n",
    "**$X'$ ဆိုတာ $AX$ ဖြစ်တာမို့ $A$ ရဲ့ row $r_0$ နဲ့ $r_2$ ကို တွက်စရာ မလိုတာ သတိထားမိမယ်။**\n",
    "\n",
    "> ဘာလို့လဲဆိုတော့ တွက်ရတာ ပင်ပန်းတယ်။ အမြဲ ကိန်းသေ -1 နဲ့ 1 ကို ထည့်ပေးရင် ရတာပဲလေ။\n",
    "\n",
    "ဒါကြောင့် မသိကိန်း $A$ ကို ရှာတဲ့ ပုစ္ဆာကို ဒီလို ပြင်ကြည့်မယ်။\n",
    "\n",
    "Given $X$ and $X'$, find $A$ such that\n",
    "\n",
    "$$X' = AX$$\n",
    "\n",
    "where \n",
    "\n",
    "$$X' = \\begin{bmatrix} 0.15599452 & 0.31201316 & 0.754653 & 0.91067164 \\end{bmatrix}$$\n",
    "$$A = \\begin{bmatrix} a_0 & a_1 & a_2 \\end{bmatrix}$$\n",
    "and\n",
    "$$X = \\begin{bmatrix}\n",
    "    0 & 0 & 1 & 1 \\\\\n",
    "    0 & 1 & 0 & 1 \\\\\n",
    "    1 & 1 & 1 & 1 \n",
    "\\end{bmatrix}$$\n",
    "\n",
    "ဒီတော့ အစားသွင်းပြီး \n",
    "\n",
    "$$\\begin{bmatrix} 0.15599452 & 0.31201316 & 0.754653 & 0.91067164 \\end{bmatrix} \n",
    "= \\begin{bmatrix} a_0 & a_1 & a_2 \\end{bmatrix}\n",
    "\\begin{bmatrix}\n",
    "    0 & 0 & 1 & 1 \\\\\n",
    "    0 & 1 & 0 & 1 \\\\\n",
    "    1 & 1 & 1 & 1 \n",
    "\\end{bmatrix}$$\n",
    "\n",
    "Matrix မြှောက်တဲ့ formula နဲ့ ပြန်ဖြေရေးရင် ... \n",
    "\n",
    "$$\n",
    "0 a_0 + 0 a_1 + 1 a_2 = 0.15599452\n",
    "0 a_0 + 1 a_1 + 1 a_2 = 0.31201316\n",
    "1 a_0 + 0 a_1 + 1 a_2 = 0.754653\n",
    "1 a_0 + 1 a_1 + 1 a_2 = 0.91067164\n",
    "$$\n",
    "\n",
    "လို့ ရလာမယ်။ \n",
    "\n",
    "ဒီ တပြိုင်နက် ညီမျှခြင်း (simultenous equation) လေးခုကို matrix ပုံစံ ပြန်ပြောင်းရင် ... \n",
    "\n",
    "$$\n",
    "\n",
    "\\begin{bmatrix}\n",
    "0 & 0 & 1 \\\\\n",
    "0 & 1 & 1 \\\\\n",
    "1 & 0 & 1 \\\\\n",
    "1 & 1 & 1\n",
    "\\end{bmatrix}\n",
    "\\begin{bmatrix}a_0 \\\\ a_1 \\\\ a_2\\end{bmatrix}\n",
    "=\n",
    "\\begin{bmatrix}\n",
    "0.15599452 \\\\\n",
    "0.31201316 \\\\\n",
    "0.754653 \\\\\n",
    "0.91067164\n",
    "\\end{bmatrix}\n",
    "$$\n",
    "\n",
    "လို့ ရမယ်။ \n",
    "\n",
    "အဲဒီမှာ $a_0$, $a_1$ နဲ့ $a_2$ တို့ကို pseudo inverse `linalg.pinv` မသုံးပဲ ရှာပါ။"
   ]
  },
  {
   "cell_type": "code",
   "execution_count": null,
   "metadata": {},
   "outputs": [],
   "source": [
    "# ဒီ cell ကို run ရင် အဖြေတိုက်ဖို့ အဖြေရလိမ့်မယ်။\n",
    "X_t = X_transformed[1]\n",
    "X_t @ np.linalg.pinv(X)"
   ]
  },
  {
   "attachments": {},
   "cell_type": "markdown",
   "metadata": {},
   "source": [
    "> Hint: `linalg.solve` ကို သုံးဖို့က 4 row 3 column နဲ့ square matrix မဟုတ်လို့ မရဘူး။ လက်နဲ့ ချတွက်ပြီး square matrix ဖြစ်အောင် လုပ်နိုင်ရင်တော့ ရချင် ရလိမ့်မယ်။\n",
    "\n",
    "> Hint: `optimize.minimize` ကို သုံးနိုင်တယ်။ \n",
    "\n",
    "$f(A, X, X') = AX - X'$ ကို 0 ဖြစ်အောင် လုပ်နိုင်ရင် ရပြီ။ ခက်တာက `optimize.minimize` နဲ့ဆိုရင် 0 မှာ မရပ်ပဲ $-\\infty$ ရောက်တဲ့အထိ ထိုးဆင်းသွားမှာမို့ converge မဖြစ်ဘူး။ \n",
    "\n",
    "> Hint: `np.abs` ကို သုံးပြီး numpy array တွေကို absolute value ရအောင် လုပ်နိုင်တယ်။"
   ]
  },
  {
   "cell_type": "code",
   "execution_count": null,
   "metadata": {},
   "outputs": [],
   "source": [
    "# write your code here"
   ]
  }
 ],
 "metadata": {
  "kernelspec": {
   "display_name": "py37-dsup",
   "language": "python",
   "name": "python3"
  },
  "language_info": {
   "codemirror_mode": {
    "name": "ipython",
    "version": 3
   },
   "file_extension": ".py",
   "mimetype": "text/x-python",
   "name": "python",
   "nbconvert_exporter": "python",
   "pygments_lexer": "ipython3",
   "version": "3.7.15"
  },
  "orig_nbformat": 4,
  "vscode": {
   "interpreter": {
    "hash": "3a9c1e998c7d6d5f29587b2c70e9bd488bb486b902354401efc27ca8457f04e9"
   }
  }
 },
 "nbformat": 4,
 "nbformat_minor": 2
}
