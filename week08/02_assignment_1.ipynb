{
 "cells": [
  {
   "cell_type": "markdown",
   "metadata": {},
   "source": [
    "# `stats` subpackage of `scipy`\n",
    "\n",
    "Let's first look how we draw some random variables. \n",
    "\n",
    "There are many probability distributions. Some are *continuous* while some are *discrete*. Examples of famous distributions are:\n",
    "\n",
    "* normal (norm)\n",
    "* exponential (expon)\n",
    "* poisson and\n",
    "* bernoulli"
   ]
  },
  {
   "cell_type": "code",
   "execution_count": 1,
   "metadata": {},
   "outputs": [],
   "source": [
    "%matplotlib inline\n",
    "import matplotlib.pyplot as plt"
   ]
  },
  {
   "cell_type": "code",
   "execution_count": 2,
   "metadata": {},
   "outputs": [],
   "source": [
    "# let us try to draw some random variables\n",
    "import numpy as np\n",
    "from scipy import stats\n",
    "\n",
    "rv = stats.norm()\n",
    "rv.random_state = 42 # this is how we make it debug-able."
   ]
  },
  {
   "cell_type": "code",
   "execution_count": 3,
   "metadata": {},
   "outputs": [
    {
     "name": "stdout",
     "output_type": "stream",
     "text": [
      "0.4967141530112327\n"
     ]
    }
   ],
   "source": [
    "variable_1 = rv.rvs()\n",
    "print (variable_1)"
   ]
  },
  {
   "cell_type": "code",
   "execution_count": 4,
   "metadata": {},
   "outputs": [
    {
     "name": "stdout",
     "output_type": "stream",
     "text": [
      "-0.13826430117118466\n"
     ]
    }
   ],
   "source": [
    "variable_2 = rv.rvs()\n",
    "print (variable_2)"
   ]
  },
  {
   "cell_type": "code",
   "execution_count": 5,
   "metadata": {},
   "outputs": [
    {
     "name": "stdout",
     "output_type": "stream",
     "text": [
      "[ 0.64768854  1.52302986 -0.23415337 -0.23413696  1.57921282  0.76743473\n",
      " -0.46947439  0.54256004 -0.46341769 -0.46572975]\n"
     ]
    }
   ],
   "source": [
    "variables = rv.rvs(1000)\n",
    "print (variables[0:10])"
   ]
  },
  {
   "cell_type": "code",
   "execution_count": 6,
   "metadata": {},
   "outputs": [
    {
     "data": {
      "image/png": "[encoded data removed]",
      "text/plain": [
       "<Figure size 432x288 with 1 Axes>"
      ]
     },
     "metadata": {
      "needs_background": "light"
     },
     "output_type": "display_data"
    }
   ],
   "source": [
    "plt.hist(variables)\n",
    "plt.show()"
   ]
  },
  {
   "cell_type": "code",
   "execution_count": 7,
   "metadata": {},
   "outputs": [
    {
     "data": {
      "image/png": "[encoded data removed]",
      "text/plain": [
       "<Figure size 432x288 with 1 Axes>"
      ]
     },
     "metadata": {
      "needs_background": "light"
     },
     "output_type": "display_data"
    }
   ],
   "source": [
    "# let's try uniform distribution\n",
    "rv_uniform = stats.uniform()\n",
    "rv_uniform.random_state = 42\n",
    "vars_uniform = rv_uniform.rvs(size=1000)\n",
    "plt.hist(vars_uniform, bins=10)\n",
    "plt.show()"
   ]
  },
  {
   "cell_type": "code",
   "execution_count": null,
   "metadata": {},
   "outputs": [],
   "source": [
    "# try expon distribution"
   ]
  },
  {
   "cell_type": "code",
   "execution_count": null,
   "metadata": {},
   "outputs": [],
   "source": [
    "# try poisson distribution"
   ]
  },
  {
   "cell_type": "code",
   "execution_count": null,
   "metadata": {},
   "outputs": [],
   "source": [
    "# try bernoulli distribution"
   ]
  },
  {
   "cell_type": "markdown",
   "metadata": {},
   "source": [
    "## Central Limit Theorem\n",
    "\n",
    "**This is for interviews.** In day-to-day operation, one does not need this to remember. \n",
    "\n",
    "* First, we assume there is a probability distribution, from which we can draw multiple random variables. \n",
    "* We draw $j$ number of random variables. Then, we compute the means $\\mu$ of this. We call these **1 sample**.\n",
    "* We *repeat* it for sufficient number of times (1000) or at least 30!!!.\n",
    "  * Note: 30 is just a number from an example in a famous text book. Beware!!!\n",
    "* When we try to figure out the distribution of the samples (the means), we will find it is **normally distributed**."
   ]
  },
  {
   "cell_type": "code",
   "execution_count": 8,
   "metadata": {},
   "outputs": [
    {
     "data": {
      "text/plain": [
       "array([1., 0.])"
      ]
     },
     "execution_count": 8,
     "metadata": {},
     "output_type": "execute_result"
    }
   ],
   "source": [
    "# let's try np.mean (which we haven't yet)\n",
    "a = np.array([\n",
    "    [0, 1, 2],\n",
    "    [0, 0, 0]\n",
    "])\n",
    "np.mean(a, axis=1)"
   ]
  },
  {
   "cell_type": "code",
   "execution_count": 9,
   "metadata": {},
   "outputs": [
    {
     "data": {
      "image/png": "[encoded data removed]",
      "text/plain": [
       "<Figure size 576x576 with 4 Axes>"
      ]
     },
     "metadata": {
      "needs_background": "light"
     },
     "output_type": "display_data"
    }
   ],
   "source": [
    "# number of sample\n",
    "num = [1, 10, 50, 100] \n",
    "# list of sample means\n",
    "means = [] \n",
    " \n",
    "# Generating 1, 10, 30, 100 random numbers from A UNIFORM DISTRIBUTION\n",
    "# taking their mean and appending it to list means.\n",
    "for j in num:\n",
    "    # Generating seed so that we can get same result\n",
    "    # every time the loop is run...\n",
    "    rv = stats.bernoulli(p=0.10)\n",
    "    rv.random_state = 42\n",
    "    x = [rv.rvs(size=j) for _ in range(0, 1000)]\n",
    "    means.append(np.mean(x, axis=1))\n",
    "k = 0\n",
    "\n",
    "# plotting all the means in one figure\n",
    "fig, ax = plt.subplots(2, 2, figsize =(8, 8))\n",
    "for i in range(0, 2):\n",
    "    for j in range(0, 2):\n",
    "        # Histogram for each x stored in means\n",
    "        ax[i, j].hist(means[k], 10, density = True)\n",
    "        ax[i, j].set_title(label = num[k])\n",
    "        k = k + 1\n",
    "plt.show()"
   ]
  },
  {
   "cell_type": "code",
   "execution_count": null,
   "metadata": {},
   "outputs": [],
   "source": [
    "# try it with other distributions such as norm, exponential, poisson or bernoulli etc."
   ]
  },
  {
   "cell_type": "code",
   "execution_count": 10,
   "metadata": {},
   "outputs": [
    {
     "name": "stdout",
     "output_type": "stream",
     "text": [
      "Ttest_1sampResult(statistic=-2.9707461868401968, pvalue=0.005914816566263673)\n"
     ]
    }
   ],
   "source": [
    "# let's see if a sample m belongs to a distribution x\n",
    "rv = stats.norm()\n",
    "rv.random_state = 42\n",
    "x = rv.rvs(size=30)\n",
    "m = 0.3\n",
    "print (stats.ttest_1samp(x, m))"
   ]
  },
  {
   "cell_type": "code",
   "execution_count": 11,
   "metadata": {},
   "outputs": [
    {
     "name": "stdout",
     "output_type": "stream",
     "text": [
      "Ttest_1sampResult(statistic=-2.9707461868401968, pvalue=0.005914816566263673)\n"
     ]
    }
   ],
   "source": [
    "# let's see if a sample m belongs to a distribution x\n",
    "rv = stats.norm()\n",
    "rv.random_state = 42\n",
    "x = rv.rvs(size=30)\n",
    "m = 0.30\n",
    "print (stats.ttest_1samp(x, m))"
   ]
  },
  {
   "cell_type": "code",
   "execution_count": 12,
   "metadata": {},
   "outputs": [
    {
     "name": "stdout",
     "output_type": "stream",
     "text": [
      "Ttest_1sampResult(statistic=-6.622203826443929, pvalue=2.93501085733472e-07)\n"
     ]
    }
   ],
   "source": [
    "# let's see if a sample m belongs to a distribution x\n",
    "m = 0.9\n",
    "print (stats.ttest_1samp(x, m))"
   ]
  },
  {
   "attachments": {},
   "cell_type": "markdown",
   "metadata": {},
   "source": [
    "Smaller $p$ value means less confident to reject null-hypothesis that the the measurement $m$ does not belong to the sample $x$. In short, $p \\leq 0.05$ means they are from the same distribution. \n",
    "\n",
    "Let's try t-test with two distributions."
   ]
  },
  {
   "cell_type": "code",
   "execution_count": 13,
   "metadata": {},
   "outputs": [
    {
     "name": "stdout",
     "output_type": "stream",
     "text": [
      "Ttest_indResult(statistic=-0.5396565532668491, pvalue=0.5914998283292681)\n"
     ]
    }
   ],
   "source": [
    "# let's see if x_1 and x_2 belongs to same distribution\n",
    "rv_1 = stats.norm()\n",
    "x_1 = rv.rvs(size=30)\n",
    "rv_2 = stats.norm()\n",
    "x_2 = rv.rvs(size=30)\n",
    "print (stats.ttest_ind(a=x_1, b=x_2))"
   ]
  },
  {
   "cell_type": "code",
   "execution_count": 14,
   "metadata": {},
   "outputs": [
    {
     "name": "stdout",
     "output_type": "stream",
     "text": [
      "Ttest_indResult(statistic=-3.848562215611672, pvalue=0.0001315969523421041)\n"
     ]
    }
   ],
   "source": [
    "# let's see if x_1 and x_2 belongs to same distribution\n",
    "rv_1 = stats.norm(loc=5, scale=4)\n",
    "x_1 = rv_1.rvs(size=300)\n",
    "rv_2 = stats.norm(loc=8, scale=20)\n",
    "x_2 = rv_2.rvs(size=300)\n",
    "print (stats.ttest_ind(a=x_1, b=x_2))"
   ]
  },
  {
   "cell_type": "markdown",
   "metadata": {},
   "source": [
    "# Assignment\n",
    "\n",
    "![face model 50%](https://s3.ap-south-1.amazonaws.com/s3.studytonight.com/curious/uploads/pictures/1592469192-74364.png)\n",
    "\n",
    "1. Write a function to move the centroid of `model_points` to (0, 0, 0).\n",
    "2. Write a function to move/resize mustache image to that of the `shifted_model_points`."
   ]
  },
  {
   "cell_type": "code",
   "execution_count": null,
   "metadata": {},
   "outputs": [],
   "source": [
    "# clone this and go into its directory\n",
    "!git clone git@github.com:neolaw84/yadil.git"
   ]
  },
  {
   "cell_type": "code",
   "execution_count": null,
   "metadata": {},
   "outputs": [],
   "source": [
    "%pip install -U insightface onnxruntime"
   ]
  },
  {
   "cell_type": "code",
   "execution_count": null,
   "metadata": {},
   "outputs": [],
   "source": [
    "import sys\n",
    "if \".\" not in sys.path:\n",
    "    sys.path.append(\"./yadil\")"
   ]
  },
  {
   "cell_type": "code",
   "execution_count": null,
   "metadata": {},
   "outputs": [],
   "source": [
    "import requests\n",
    "import cv2"
   ]
  },
  {
   "cell_type": "code",
   "execution_count": null,
   "metadata": {},
   "outputs": [],
   "source": [
    "%matplotlib inline\n",
    "import matplotlib.pyplot as plt"
   ]
  },
  {
   "cell_type": "code",
   "execution_count": null,
   "metadata": {},
   "outputs": [],
   "source": [
    "import numpy as np"
   ]
  },
  {
   "cell_type": "code",
   "execution_count": null,
   "metadata": {},
   "outputs": [],
   "source": [
    "from insightface.app import FaceAnalysis\n",
    "from yadil.image.face_model import model_points\n",
    "print (model_points.shape)"
   ]
  },
  {
   "cell_type": "code",
   "execution_count": null,
   "metadata": {},
   "outputs": [],
   "source": [
    "def show_cv2_image(img): # <-- ဒီလိုရေးတာ function ကို define တယ်လို့ ခေါ်တယ်။\n",
    "    img_rgb = cv2.cvtColor(img, cv2.COLOR_BGR2RGB)\n",
    "    plt.imshow(img_rgb)\n",
    "    plt.show()\n",
    "\n",
    "def download_and_decode_cv2(url, grayscale=False):\n",
    "    rr = requests.get(url)\n",
    "    _nparr = np.frombuffer(rr.content, np.uint8)\n",
    "    _img = cv2.imdecode(_nparr, cv2.IMREAD_COLOR)\n",
    "    if grayscale:\n",
    "        _img = cv2.cvtColor(_img, cv2.COLOR_RGB2GRAY)\n",
    "    return _img\n",
    "\n",
    "def show_model_3d(points):\n",
    "    ax = plt.axes(projection =\"3d\")\n",
    "    ax.scatter3D(points[:, 0], points[:, 2], -points[:, 1])\n",
    "    ax.set_xlabel('X')\n",
    "    ax.set_ylabel('Z')\n",
    "    ax.set_zlabel('Y')\n",
    "    plt.show()"
   ]
  },
  {
   "cell_type": "code",
   "execution_count": null,
   "metadata": {},
   "outputs": [],
   "source": [
    "show_model_3d(model_points)"
   ]
  },
  {
   "cell_type": "code",
   "execution_count": null,
   "metadata": {},
   "outputs": [],
   "source": [
    "# 1. shift bonding box centroid\n",
    "def shift_centroid_to_origin(points):\n",
    "    # Move the input points so that their centroid (mid point of bounding box) is at origin.\n",
    "    num_points = points.shape[0]\n",
    "    min_x = min(points[:, 0])\n",
    "    min_y = min(points[:, 1])\n",
    "    min_z = min(points[:, 2])\n",
    "    max_x = max(points[:, 0])\n",
    "    max_y = max(points[:, 1])\n",
    "    max_z = max(points[:, 2])\n",
    "    x_ = np.full(shape=num_points, fill_value=(min_x + max_x) / 2.0)\n",
    "    y_ = np.full(shape=num_points, fill_value=(min_y + max_y) / 2.0)\n",
    "    z_ = np.full(shape=num_points, fill_value=(min_z + max_z) / 2.0)\n",
    "    points[:, 0] = points[:, 0] - x_\n",
    "    points[:, 1] = points[:, 1] - y_\n",
    "    points[:, 2] = points[:, 2] - z_\n",
    "    return points\n",
    "\n",
    "shifted_model_points = shift_centroid_to_origin(model_points)\n",
    "show_model_3d(shifted_model_points)"
   ]
  },
  {
   "cell_type": "code",
   "execution_count": null,
   "metadata": {},
   "outputs": [],
   "source": [
    "mustache = download_and_decode_cv2(\"https://i.ibb.co/hBX7Dpf/mustache.jpg\", grayscale=False)\n",
    "show_cv2_image(mustache)"
   ]
  },
  {
   "cell_type": "code",
   "execution_count": null,
   "metadata": {},
   "outputs": [],
   "source": [
    "print(shifted_model_points[33])"
   ]
  },
  {
   "cell_type": "code",
   "execution_count": null,
   "metadata": {},
   "outputs": [],
   "source": [
    "def plot_together(model_points, mustache):\n",
    "    plt.xlim(-300, 300)\n",
    "    plt.ylim(-300, 300)\n",
    "    plt.imshow(mustache)\n",
    "    plt.scatter(shifted_model_points[:, 0], -shifted_model_points[:, 1])\n",
    "    plt.show()"
   ]
  },
  {
   "cell_type": "code",
   "execution_count": 46,
   "metadata": {},
   "outputs": [
    {
     "data": {
      "image/png": "[encoded data removed]",
      "text/plain": [
       "<Figure size 432x288 with 1 Axes>"
      ]
     },
     "metadata": {
      "needs_background": "light"
     },
     "output_type": "display_data"
    }
   ],
   "source": [
    "# 2. do something here to resize/move mustache to match that of shifted_model_points[33]\n",
    "# Z would be the same as shifted_model_points[33]'s Z\n",
    "# mustache's mid-x and upper-mid-y should align to that of shifted_model_points[33]'s X and Y.\n",
    "# try cv2.getAffineTransform or cv2.estimateAffinePartial2D to get matrix M that maps mustache coordinates \n",
    "# to that of shifted_model_points.\n",
    "# use cv2.warpAffine(img, M) to do the actual mapping.\n",
    "\n",
    "# note: you can't place image in negative area. Thus, move the model points up and right by multiplying it with \n",
    "# inverse of discovered matrix.\n",
    "plot_together(shifted_model_points, mustache)"
   ]
  },
  {
   "cell_type": "code",
   "execution_count": null,
   "metadata": {},
   "outputs": [],
   "source": [
    "original_img = download_and_decode_cv2(\"https://i.ibb.co/5WNdy1R/1200px-Tom-Holland-by-Gage-Skidmore.jpg\", grayscale=False)\n",
    "show_cv2_image(original_img)"
   ]
  },
  {
   "cell_type": "code",
   "execution_count": null,
   "metadata": {},
   "outputs": [],
   "source": [
    "app = FaceAnalysis(allowed_modules=[\"detection\", \"genderage\", \"landmark_3d_68\"], providers=['TensorrtExecutionProvider', 'CUDAExecutionProvider', 'CPUExecutionProvider'])\n",
    "app.prepare(ctx_id=0, det_size=(640, 640))"
   ]
  },
  {
   "cell_type": "code",
   "execution_count": null,
   "metadata": {},
   "outputs": [],
   "source": [
    "faces = app.get(original_img)\n",
    "f = faces[0]\n",
    "landmark = f[\"landmark_3d_68\"]\n",
    "show_model_3d(landmark)"
   ]
  },
  {
   "cell_type": "code",
   "execution_count": null,
   "metadata": {},
   "outputs": [],
   "source": [
    "# 3. solve the problem to discover matrix M to map shifted_model_points to that of discovered image.\n",
    "# Use the discovered matrix M to transform mustache to the image coordinates.\n",
    "# hint: mustache is very small. make a large matrix (with 3 channels) full of zeros the same size as tom's image. \n",
    "# then, copy mustache and multiply to see it move around."
   ]
  },
  {
   "cell_type": "code",
   "execution_count": null,
   "metadata": {},
   "outputs": [],
   "source": [
    "def put_mustache(original_img, mustache):\n",
    "    \n",
    "    mustache_resized = mustache\n",
    "\n",
    "    roi = original_img\n",
    "\n",
    "    mustache_resized_gray = cv2.cvtColor(mustache_resized, cv2.COLOR_RGB2GRAY)\n",
    "    ret, mask = cv2.threshold(mustache_resized_gray, 120, 255, cv2.THRESH_BINARY)\n",
    "    final_roi = cv2.bitwise_or(roi,roi,mask = mask)\n",
    "\n",
    "    return final_roi"
   ]
  },
  {
   "cell_type": "code",
   "execution_count": null,
   "metadata": {},
   "outputs": [],
   "source": [
    "new_img = put_mustache(original_img, mustache)\n",
    "show_cv2_image(new_img)"
   ]
  },
  {
   "cell_type": "code",
   "execution_count": null,
   "metadata": {},
   "outputs": [],
   "source": []
  }
 ],
 "metadata": {
  "kernelspec": {
   "display_name": "py37-dsup",
   "language": "python",
   "name": "python3"
  },
  "language_info": {
   "codemirror_mode": {
    "name": "ipython",
    "version": 3
   },
   "file_extension": ".py",
   "mimetype": "text/x-python",
   "name": "python",
   "nbconvert_exporter": "python",
   "pygments_lexer": "ipython3",
   "version": "3.7.15"
  },
  "orig_nbformat": 4,
  "vscode": {
   "interpreter": {
    "hash": "3a9c1e998c7d6d5f29587b2c70e9bd488bb486b902354401efc27ca8457f04e9"
   }
  }
 },
 "nbformat": 4,
 "nbformat_minor": 2
}
