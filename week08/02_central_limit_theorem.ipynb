{
 "cells": [
  {
   "cell_type": "markdown",
   "metadata": {},
   "source": [
    "# `stats` subpackage of `scipy`\n",
    "\n",
    "Let's first look how we draw some random variables. \n",
    "\n",
    "There are many probability distributions. Some are *continuous* while some are *discrete*. Examples of famous distributions are:\n",
    "\n",
    "* normal (norm)\n",
    "* exponential (expon)\n",
    "* poisson and\n",
    "* bernoulli"
   ]
  },
  {
   "cell_type": "code",
   "execution_count": 1,
   "metadata": {},
   "outputs": [],
   "source": [
    "%matplotlib inline\n",
    "import matplotlib.pyplot as plt"
   ]
  },
  {
   "cell_type": "code",
   "execution_count": 2,
   "metadata": {},
   "outputs": [],
   "source": [
    "# let us try to draw some random variables\n",
    "import numpy as np\n",
    "from scipy import stats\n",
    "\n",
    "rv = stats.norm()\n",
    "rv.random_state = 42 # this is how we make it debug-able."
   ]
  },
  {
   "cell_type": "code",
   "execution_count": 3,
   "metadata": {},
   "outputs": [
    {
     "name": "stdout",
     "output_type": "stream",
     "text": [
      "0.4967141530112327\n"
     ]
    }
   ],
   "source": [
    "variable_1 = rv.rvs()\n",
    "print (variable_1)"
   ]
  },
  {
   "cell_type": "code",
   "execution_count": 4,
   "metadata": {},
   "outputs": [
    {
     "name": "stdout",
     "output_type": "stream",
     "text": [
      "-0.13826430117118466\n"
     ]
    }
   ],
   "source": [
    "variable_2 = rv.rvs()\n",
    "print (variable_2)"
   ]
  },
  {
   "cell_type": "code",
   "execution_count": 5,
   "metadata": {},
   "outputs": [
    {
     "name": "stdout",
     "output_type": "stream",
     "text": [
      "[ 0.64768854  1.52302986 -0.23415337 -0.23413696  1.57921282  0.76743473\n",
      " -0.46947439  0.54256004 -0.46341769 -0.46572975]\n"
     ]
    }
   ],
   "source": [
    "variables = rv.rvs(1000)\n",
    "print (variables[0:10])"
   ]
  },
  {
   "cell_type": "code",
   "execution_count": 6,
   "metadata": {},
   "outputs": [
    {
     "data": {
      "image/png": "[encoded data removed]",
      "text/plain": [
       "<Figure size 432x288 with 1 Axes>"
      ]
     },
     "metadata": {
      "needs_background": "light"
     },
     "output_type": "display_data"
    }
   ],
   "source": [
    "plt.hist(variables)\n",
    "plt.show()"
   ]
  },
  {
   "cell_type": "code",
   "execution_count": 7,
   "metadata": {},
   "outputs": [
    {
     "data": {
      "image/png": "[encoded data removed]",
      "text/plain": [
       "<Figure size 432x288 with 1 Axes>"
      ]
     },
     "metadata": {
      "needs_background": "light"
     },
     "output_type": "display_data"
    }
   ],
   "source": [
    "# let's try uniform distribution\n",
    "rv_uniform = stats.uniform()\n",
    "rv_uniform.random_state = 42\n",
    "vars_uniform = rv_uniform.rvs(size=1000)\n",
    "plt.hist(vars_uniform, bins=10)\n",
    "plt.show()"
   ]
  },
  {
   "cell_type": "code",
   "execution_count": null,
   "metadata": {},
   "outputs": [],
   "source": [
    "# try expon distribution"
   ]
  },
  {
   "cell_type": "code",
   "execution_count": null,
   "metadata": {},
   "outputs": [],
   "source": [
    "# try poisson distribution"
   ]
  },
  {
   "cell_type": "code",
   "execution_count": null,
   "metadata": {},
   "outputs": [],
   "source": [
    "# try bernoulli distribution"
   ]
  },
  {
   "cell_type": "markdown",
   "metadata": {},
   "source": [
    "## Central Limit Theorem\n",
    "\n",
    "**This is for interviews.** In day-to-day operation, one does not need this to remember. \n",
    "\n",
    "* First, we assume there is a probability distribution, from which we can draw multiple random variables. \n",
    "* We draw $j$ number of random variables. Then, we compute the means $\\mu$ of this. We call these **1 sample**.\n",
    "* We *repeat* it for sufficient number of times (1000) or at least 30!!!.\n",
    "  * Note: 30 is just a number from an example in a famous text book. Beware!!!\n",
    "* When we try to figure out the distribution of the samples (the means), we will find it is **normally distributed**."
   ]
  },
  {
   "cell_type": "code",
   "execution_count": 8,
   "metadata": {},
   "outputs": [
    {
     "data": {
      "text/plain": [
       "array([1., 0.])"
      ]
     },
     "execution_count": 8,
     "metadata": {},
     "output_type": "execute_result"
    }
   ],
   "source": [
    "# let's try np.mean (which we haven't yet)\n",
    "a = np.array([\n",
    "    [0, 1, 2],\n",
    "    [0, 0, 0]\n",
    "])\n",
    "np.mean(a, axis=1)"
   ]
  },
  {
   "cell_type": "code",
   "execution_count": 9,
   "metadata": {},
   "outputs": [
    {
     "data": {
      "image/png": "[encoded data removed]",
      "text/plain": [
       "<Figure size 576x576 with 4 Axes>"
      ]
     },
     "metadata": {
      "needs_background": "light"
     },
     "output_type": "display_data"
    }
   ],
   "source": [
    "# number of sample\n",
    "num = [1, 10, 50, 100] \n",
    "# list of sample means\n",
    "means = [] \n",
    " \n",
    "# Generating 1, 10, 30, 100 random numbers from A UNIFORM DISTRIBUTION\n",
    "# taking their mean and appending it to list means.\n",
    "for j in num:\n",
    "    # Generating seed so that we can get same result\n",
    "    # every time the loop is run...\n",
    "    rv = stats.bernoulli(p=0.10)\n",
    "    rv.random_state = 42\n",
    "    x = [rv.rvs(size=j) for _ in range(0, 1000)]\n",
    "    means.append(np.mean(x, axis=1))\n",
    "k = 0\n",
    "\n",
    "# plotting all the means in one figure\n",
    "fig, ax = plt.subplots(2, 2, figsize =(8, 8))\n",
    "for i in range(0, 2):\n",
    "    for j in range(0, 2):\n",
    "        # Histogram for each x stored in means\n",
    "        ax[i, j].hist(means[k], 10, density = True)\n",
    "        ax[i, j].set_title(label = num[k])\n",
    "        k = k + 1\n",
    "plt.show()"
   ]
  },
  {
   "cell_type": "code",
   "execution_count": null,
   "metadata": {},
   "outputs": [],
   "source": [
    "# try it with other distributions such as norm, exponential, poisson or bernoulli etc."
   ]
  },
  {
   "cell_type": "code",
   "execution_count": 10,
   "metadata": {},
   "outputs": [
    {
     "name": "stdout",
     "output_type": "stream",
     "text": [
      "Ttest_1sampResult(statistic=-2.9707461868401968, pvalue=0.005914816566263673)\n"
     ]
    }
   ],
   "source": [
    "# let's see if a sample m belongs to a distribution x\n",
    "rv = stats.norm()\n",
    "rv.random_state = 42\n",
    "x = rv.rvs(size=30)\n",
    "m = 0.3\n",
    "print (stats.ttest_1samp(x, m))"
   ]
  },
  {
   "cell_type": "code",
   "execution_count": 11,
   "metadata": {},
   "outputs": [
    {
     "name": "stdout",
     "output_type": "stream",
     "text": [
      "Ttest_1sampResult(statistic=-2.9707461868401968, pvalue=0.005914816566263673)\n"
     ]
    }
   ],
   "source": [
    "# let's see if a sample m belongs to a distribution x\n",
    "rv = stats.norm()\n",
    "rv.random_state = 42\n",
    "x = rv.rvs(size=30)\n",
    "m = 0.30\n",
    "print (stats.ttest_1samp(x, m))"
   ]
  },
  {
   "cell_type": "code",
   "execution_count": 12,
   "metadata": {},
   "outputs": [
    {
     "name": "stdout",
     "output_type": "stream",
     "text": [
      "Ttest_1sampResult(statistic=-6.622203826443929, pvalue=2.93501085733472e-07)\n"
     ]
    }
   ],
   "source": [
    "# let's see if a sample m belongs to a distribution x\n",
    "m = 0.9\n",
    "print (stats.ttest_1samp(x, m))"
   ]
  },
  {
   "attachments": {},
   "cell_type": "markdown",
   "metadata": {},
   "source": [
    "Smaller $p$ value means less confident to reject null-hypothesis that the the measurement $m$ does not belong to the sample $x$. In short, $p \\leq 0.05$ means they are from the same distribution. \n",
    "\n",
    "Let's try t-test with two distributions."
   ]
  },
  {
   "cell_type": "code",
   "execution_count": 13,
   "metadata": {},
   "outputs": [
    {
     "name": "stdout",
     "output_type": "stream",
     "text": [
      "Ttest_indResult(statistic=-0.5396565532668491, pvalue=0.5914998283292681)\n"
     ]
    }
   ],
   "source": [
    "# let's see if x_1 and x_2 belongs to same distribution\n",
    "rv_1 = stats.norm()\n",
    "x_1 = rv.rvs(size=30)\n",
    "rv_2 = stats.norm()\n",
    "x_2 = rv.rvs(size=30)\n",
    "print (stats.ttest_ind(a=x_1, b=x_2))"
   ]
  },
  {
   "cell_type": "code",
   "execution_count": 14,
   "metadata": {},
   "outputs": [
    {
     "name": "stdout",
     "output_type": "stream",
     "text": [
      "Ttest_indResult(statistic=-3.848562215611672, pvalue=0.0001315969523421041)\n"
     ]
    }
   ],
   "source": [
    "# let's see if x_1 and x_2 belongs to same distribution\n",
    "rv_1 = stats.norm(loc=5, scale=4)\n",
    "x_1 = rv_1.rvs(size=300)\n",
    "rv_2 = stats.norm(loc=8, scale=20)\n",
    "x_2 = rv_2.rvs(size=300)\n",
    "print (stats.ttest_ind(a=x_1, b=x_2))"
   ]
  }
 ],
 "metadata": {
  "kernelspec": {
   "display_name": "py37-dsup",
   "language": "python",
   "name": "python3"
  },
  "language_info": {
   "codemirror_mode": {
    "name": "ipython",
    "version": 3
   },
   "file_extension": ".py",
   "mimetype": "text/x-python",
   "name": "python",
   "nbconvert_exporter": "python",
   "pygments_lexer": "ipython3",
   "version": "3.7.15 (default, Nov 24 2022, 21:12:53) \n[GCC 11.2.0]"
  },
  "orig_nbformat": 4,
  "vscode": {
   "interpreter": {
    "hash": "3a9c1e998c7d6d5f29587b2c70e9bd488bb486b902354401efc27ca8457f04e9"
   }
  }
 },
 "nbformat": 4,
 "nbformat_minor": 2
}
