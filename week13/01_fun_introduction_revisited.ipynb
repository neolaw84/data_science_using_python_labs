{
  "cells": [
    {
      "cell_type": "markdown",
      "metadata": {
        "id": "_pQ2MokGcqxa"
      },
      "source": [
        "# Part 2 - the 1st Day!\n",
        "\n",
        "မင်္ဂလာပါ။ **Data Science *Using Python*** - Part 2 (week 13) မှ ကြိုဆိုပါတယ်။ \n",
        "\n",
        "ဒီတပါတ်မှာ ကျနော်တို့ ၃ ခု လုပ်ကြပါမယ်။ \n",
        "\n",
        "1. Environment နဲ့ ပတ်သက်ပြီး စာနည်းနည်း ပြန်နွှေးကြပါမယ်။ \n",
        "\n",
        "2. Fun Introduction ကို ပြန်ပြီး revisit လုပ်ကြပါမယ် (Assignment 1 ရဲ့ အဖြေလဲ ဖြစ်ပါတယ်)။\n",
        "\n",
        "3. နောက်ဆုံး အနေနဲ့ Time Travelling with `git` - `git` ကို အသုံးပြုပုံကို တီးမိခေါက်မိရှိအောင် ပြောပြမှာ ဖြစ်ပါတယ်။ "
      ]
    },
    {
      "cell_type": "markdown",
      "metadata": {},
      "source": [
        "## A review on the environment"
      ]
    },
    {
      "cell_type": "code",
      "execution_count": null,
      "metadata": {
        "id": "L_-J5GGpaLsu"
      },
      "outputs": [],
      "source": [
        "%bookmark my_root"
      ]
    },
    {
      "cell_type": "markdown",
      "metadata": {},
      "source": [
        "* အပေါ်က `%bookmark` ဆိုတာ ဘာလုပ်တာပါလဲ။ \n",
        "\n",
        "* အဲဒီလို `%` လေးတွေနဲ့ ရေးတာကို ဘာလို့ ခေါ်ပါသလဲ။ \n",
        "\n",
        "### Mounting your own Google Drive\n",
        "\n",
        "* Google colab ဟာ container-based jupyter notebook environment တခုဖြစ်တယ်။ \n",
        "* GPU တွေပါ အလကားရနိုင်တာမို့ python နဲ့ Machine Learning သင်ခန်းစာတွေကို စျေးကြီးတဲ့ ကွန်ပျူတာတွေ ဝယ်စရာမလိုပဲ Google Account တခု ရှိရုံနဲ့ အသုံးပြုနိုင်တယ်။ \n",
        "    * အလားတူပဲ kaggle ကလဲ container-based jupyter notebook environment တွေ အလကား ပေးသုံးတယ်၊ Kaggle Account တခု ရှိဖို့ပဲ လိုတယ်။\n",
        "* တခုရှိတာက inactive ဖြစ်တာ ကြာရင် environment က ပျောက်သွားတယ်။ \n",
        "* ဒါကြောင့် အောက်က ပုံက **၃ ခုမြောက်** ခလုတ်ကလေးနှိပ်ပြီး Google Drive နဲ့ လက်ရှိ runtime နဲ့ကို ချိတ်ထားနိုင်တယ်။\n",
        "\n",
        "![](https://i.ibb.co/3mRC2p3/Screenshot-from-2022-06-21-19-32-23.png)\n",
        "\n",
        "### Other `jupyter` magics\n",
        "\n",
        "* `%mkdir`\n",
        "\n",
        "* `%cd`\n",
        "\n",
        "* `!`\n",
        "\n",
        "* `%conda`\n",
        "\n",
        "* `%pip`\n",
        "\n",
        "* `%env`\n",
        "\n",
        "* `%rm`\n",
        "\n",
        "* `%timeit`\n",
        "\n",
        "* `%%timeit`\n",
        "\n",
        "* `%%writefile`"
      ]
    },
    {
      "cell_type": "markdown",
      "metadata": {},
      "source": [
        "## RE: Fun Introduction"
      ]
    },
    {
      "cell_type": "code",
      "execution_count": null,
      "metadata": {},
      "outputs": [],
      "source": [
        "!git clone https://github.com/neolaw84/data_science_using_python_labs.git\n",
        "%cd data_science_using_python_labs/week13"
      ]
    },
    {
      "cell_type": "code",
      "execution_count": null,
      "metadata": {},
      "outputs": [],
      "source": [
        "%matplotlib inline \n",
        "\n",
        "import numpy as np\n",
        "import scipy as sp\n",
        "from scipy import linalg\n",
        "\n",
        "from matplotlib import pyplot as plt\n",
        "\n",
        "import cv2\n",
        "\n",
        "# lastly, our project\n",
        "from face_model import model_points"
      ]
    },
    {
      "cell_type": "markdown",
      "metadata": {},
      "source": [
        "အောက်ကပုံမှာ မျက်နှာပေါ်က landmark နေရာ 68 ခုကို ပြထားတယ်။ "
      ]
    },
    {
      "cell_type": "code",
      "execution_count": null,
      "metadata": {
        "vscode": {
          "languageId": "html"
        }
      },
      "outputs": [],
      "source": [
        "%%html\n",
        "<img src=\"https://s3.ap-south-1.amazonaws.com/s3.studytonight.com/curious/uploads/pictures/1592469192-74364.png\" width=\"500\"/>"
      ]
    },
    {
      "cell_type": "markdown",
      "metadata": {},
      "source": [
        "> သတိထားဖို့က 1 - 68 အထိကို 0-based indexing နဲ့ဆိုရင် 0 - 67 ဖြစ်တယ်ဆိုတာပဲ။\n",
        "\n",
        "#### 1. အရင်ဆုံး 3D point 68 point ရှိတဲ့ မျက်နှာ model က `model_points` ထဲမှာ ရောက်နေပြီ။"
      ]
    },
    {
      "cell_type": "code",
      "execution_count": null,
      "metadata": {},
      "outputs": [],
      "source": [
        "model_points.shape"
      ]
    },
    {
      "cell_type": "code",
      "execution_count": null,
      "metadata": {},
      "outputs": [],
      "source": [
        "plt.gca().invert_yaxis()\n",
        "plt.scatter(x=model_points[:, 0], y=model_points[:, 1])"
      ]
    },
    {
      "cell_type": "markdown",
      "metadata": {},
      "source": [
        "#### 2. ပြီးရင် ယူရမှာကတော့ နှုတ်ခမ်းမွှေးပုံပါ"
      ]
    },
    {
      "cell_type": "code",
      "execution_count": null,
      "metadata": {},
      "outputs": [],
      "source": [
        "mustache = utils.download_and_decode_cv2(\"https://i.ibb.co/hBX7Dpf/mustache.jpg\")\n",
        "utils.show_cv2_image(mustache)\n",
        "mustache.shape"
      ]
    },
    {
      "cell_type": "markdown",
      "metadata": {},
      "source": [
        "#### 2. နောက်ဆုံးယူရမှာကတော့ မင်းသားပုံပါ ..."
      ]
    },
    {
      "cell_type": "code",
      "execution_count": null,
      "metadata": {},
      "outputs": [],
      "source": [
        "import utils\n",
        "\n",
        "img = utils.download_and_decode_cv2(\"https://i.ibb.co/5WNdy1R/1200px-Tom-Holland-by-Gage-Skidmore.jpg\")\n",
        "utils.show_cv2_image(img)"
      ]
    },
    {
      "cell_type": "code",
      "execution_count": null,
      "metadata": {
        "vscode": {
          "languageId": "html"
        }
      },
      "outputs": [],
      "source": [
        "%pip install -U insightface onnxruntime"
      ]
    },
    {
      "cell_type": "markdown",
      "metadata": {},
      "source": [
        "ဆက်ပြီးတော့ မင်းသားရဲ့ မျက်နှာဘယ်နားရှိသလဲဆိုတာကို Machine Learning model ကို ရှာခိုင်းမယ်။"
      ]
    },
    {
      "cell_type": "code",
      "execution_count": null,
      "metadata": {},
      "outputs": [],
      "source": [
        "actor_landmark = utils.get_face_landmark(img)\n",
        "actor_landmark.shape"
      ]
    },
    {
      "cell_type": "markdown",
      "metadata": {},
      "source": [
        "`model_points` နဲ့ `actor_landmark` တွေကနေ point set `X_model` နဲ့ `X_actor` တို့ကို ယူလို့လွယ်ပေမဲ့ `X_mustache` point တွေကိုတော့ `mustache` ပုံကနေ eyeball ပဲ လုပ်လိုက်ရတယ်။"
      ]
    },
    {
      "cell_type": "code",
      "execution_count": null,
      "metadata": {},
      "outputs": [],
      "source": [
        "X_mustache = np.hstack( (np.array([\n",
        "    [50.0, 125.0], # this corresponds to x of 49th x and y of 34th landmark\n",
        "    [50.0, 200.0], # this to 49th of landmark\n",
        "    [251.0, 125.0], # this to x of 55th and y of 34th and\n",
        "    [251.0, 200.0] # this to 55th of landmark\n",
        "], dtype=np.float64), np.ones((4, 1))) ).T.copy()\n",
        "X_actor = np.array([\n",
        "    [actor_landmark[48, 0], actor_landmark[33, 1], 1.0],\n",
        "    [actor_landmark[48, 0], actor_landmark[48, 1], 1.0],\n",
        "    [actor_landmark[54, 0], actor_landmark[33, 1], 1.0],\n",
        "    [actor_landmark[54, 0], actor_landmark[54, 1], 1.0]\n",
        "], dtype=np.float64).T.copy()\n",
        "X_model = np.array([\n",
        "    [model_points[48, 0], model_points[33, 1], 1.0],\n",
        "    [model_points[48, 0], model_points[48, 1], 1.0],\n",
        "    [model_points[54, 0], model_points[33, 1], 1.0],\n",
        "    [model_points[54, 0], model_points[54, 1], 1.0]\n",
        "], dtype=np.float64).T.copy()"
      ]
    },
    {
      "cell_type": "markdown",
      "metadata": {},
      "source": [
        "> ဒါကြောင့်မို့လို့ `numpy` slice and dice ကို ဒေါင်းဒေါင်းပြေး ကျွမ်းကျင်နေဖို့ လိုတာ။"
      ]
    },
    {
      "cell_type": "code",
      "execution_count": null,
      "metadata": {},
      "outputs": [],
      "source": [
        "print (X_model)\n",
        "print (\"---\")\n",
        "print (X_actor)\n",
        "print (\"---\")\n",
        "print (X_mustache)"
      ]
    },
    {
      "cell_type": "markdown",
      "metadata": {},
      "source": [
        "#### 4. နောက်တဆင့်က transformation matrix တွေ ရှာဖို့\n",
        "\n",
        "$X$ ကနေ $X'$ ကို ပြောင်းဖို့ `estimateAffinePartial2D` function ကို သုံးရမယ်။"
      ]
    },
    {
      "cell_type": "code",
      "execution_count": null,
      "metadata": {},
      "outputs": [],
      "source": [
        "M_mustache_to_model, _ = cv2.estimateAffinePartial2D(X_mustache.T[:, :2], X_model.T[:, :2])\n",
        "M_mustache_to_model"
      ]
    },
    {
      "cell_type": "markdown",
      "metadata": {},
      "source": [
        "ပြီးတော့ ပြန်စစ်ကြည့် ... `X_model` နဲ့ တူမတူကို ...  "
      ]
    },
    {
      "cell_type": "code",
      "execution_count": null,
      "metadata": {},
      "outputs": [],
      "source": [
        "# let's validate this\n",
        "np.vstack((M_mustache_to_model, [0, 0, 1])) @ X_mustache, X_model"
      ]
    },
    {
      "cell_type": "markdown",
      "metadata": {},
      "source": [
        "အလားတူပဲ ... X_model ကနေ X_actor ကို ကိုသြဒိနိတ် ပြောင်းတဲ့ `M_model_to_actor` ကို တွက်ကြည့်ပါ။ ပြီးရင် ပြန်စစ်ကြည့်ပါ။"
      ]
    },
    {
      "cell_type": "code",
      "execution_count": null,
      "metadata": {},
      "outputs": [],
      "source": [
        "# to find M_model_to_actor"
      ]
    },
    {
      "cell_type": "markdown",
      "metadata": {},
      "source": [
        "ပြန်စစ်ကြည့် ... "
      ]
    },
    {
      "cell_type": "code",
      "execution_count": null,
      "metadata": {},
      "outputs": [],
      "source": [
        "# to check again"
      ]
    },
    {
      "cell_type": "markdown",
      "metadata": {},
      "source": [
        "#### 5. နှုတ်ခမ်းမွှေးကို transform လုပ်ပြီး နေရာမှန်ဖြစ်အောင် ပို့ဖို့ လိုတယ်။ \n",
        "\n",
        "Transform matrix တွေရလာပြီဆိုတော့ အဲဒါတွေ Apply ရုံပဲ။\n",
        "\n",
        "> ဒီနေရာမှာ ပုံသေးကို ပုံကြီးထဲကို ပို့လိုက်ရင် လွတ်နေတဲ့နေရာတွေက မဲသွားတယ်။ ဒါကြောင့် နှုတ်ခမ်းမွှေးကို color flip လုပ်တယ်။"
      ]
    },
    {
      "cell_type": "code",
      "execution_count": null,
      "metadata": {},
      "outputs": [],
      "source": [
        "mustache_w = utils.get_black_and_white_flip(mustache)\n",
        "utils.show_cv2_image(mustache_w)"
      ]
    },
    {
      "cell_type": "markdown",
      "metadata": {},
      "source": [
        "ပြီးတော့မှ ... transformation matrix တွေနဲ့ မြှောက်ပြိး နေရာရွှေ့တယ်။\n",
        "\n",
        "> နေရာရွှေ့ပြီးတော့ ပုံကို color flip ပြန်လုပ်လိုက်တယ်။"
      ]
    },
    {
      "cell_type": "code",
      "execution_count": null,
      "metadata": {},
      "outputs": [],
      "source": [
        "M = None # ??? how to make this ?\n",
        "new_mustache = cv2.warpAffine(mustache_w, M[:2], (img.shape[1], img.shape[0]))\n",
        "new_mustache = utils.get_black_and_white_flip(new_mustache)\n",
        "utils.show_cv2_image(new_mustache)"
      ]
    },
    {
      "cell_type": "markdown",
      "metadata": {},
      "source": [
        "#### 6. နောက်ဆုံးအဆင့်အနေနဲ့ `numpy.minimum` ကိုသုံးပြီး ပုံကို ထပ်လိုက်တယ်။ "
      ]
    },
    {
      "cell_type": "code",
      "execution_count": null,
      "metadata": {},
      "outputs": [],
      "source": [
        "final_img = np.minimum(img, new_mustache)\n",
        "utils.show_cv2_image(final_img)"
      ]
    },
    {
      "cell_type": "markdown",
      "metadata": {},
      "source": [
        "## Introduction to `git`"
      ]
    },
    {
      "cell_type": "code",
      "execution_count": null,
      "metadata": {
        "colab": {
          "base_uri": "https://localhost:8080/"
        },
        "id": "vtU5oYjuZzLb",
        "outputId": "c444db9a-c345-4061-e10c-0ccee5890549"
      },
      "outputs": [],
      "source": [
        "%mkdir my_remote\n",
        "%cd my_remote\n",
        "!git init ."
      ]
    },
    {
      "cell_type": "code",
      "execution_count": null,
      "metadata": {
        "colab": {
          "base_uri": "https://localhost:8080/"
        },
        "id": "nvZ9b7zKavXn",
        "outputId": "e5ae2e85-0f94-4dc1-9fc0-70e2c859e436"
      },
      "outputs": [],
      "source": [
        "%%writefile hello.py \n",
        "def hello_world():\n",
        "  print (\"hello world\")"
      ]
    },
    {
      "cell_type": "code",
      "execution_count": null,
      "metadata": {
        "colab": {
          "base_uri": "https://localhost:8080/"
        },
        "id": "AUPWprkfb5T5",
        "outputId": "f2326ea2-dd7d-4a94-aa0f-0d5f6f968bd5"
      },
      "outputs": [],
      "source": [
        "!git config --global user.email \"whatever@some.domain.com\"\n",
        "!git config --global user.name \"John Doe\"\n",
        "!git add --all\n",
        "!git commit -m \"hello world is written.\""
      ]
    },
    {
      "cell_type": "code",
      "execution_count": null,
      "metadata": {
        "colab": {
          "base_uri": "https://localhost:8080/"
        },
        "id": "5QRHWuvzbAZY",
        "outputId": "70904319-1284-4286-d12f-f9ac43589381"
      },
      "outputs": [],
      "source": [
        "%cd -b my_root"
      ]
    },
    {
      "cell_type": "code",
      "execution_count": null,
      "metadata": {
        "colab": {
          "base_uri": "https://localhost:8080/"
        },
        "id": "p-gI4C8nbETp",
        "outputId": "acc3a2c8-45a1-4296-ea88-bbc59b1ef9b1"
      },
      "outputs": [],
      "source": [
        "!git clone my_remote my_local"
      ]
    },
    {
      "cell_type": "code",
      "execution_count": null,
      "metadata": {
        "colab": {
          "base_uri": "https://localhost:8080/"
        },
        "id": "thrgSl0hbI7S",
        "outputId": "edce366d-67f2-44b4-abc1-20e32c884a0a"
      },
      "outputs": [],
      "source": [
        "%cd my_local"
      ]
    },
    {
      "cell_type": "code",
      "execution_count": null,
      "metadata": {
        "colab": {
          "base_uri": "https://localhost:8080/"
        },
        "id": "f-KQ1T8sbX6p",
        "outputId": "d91735c8-5c7b-47f7-9f51-85e6a1ab02e4"
      },
      "outputs": [],
      "source": [
        "!ls"
      ]
    },
    {
      "cell_type": "code",
      "execution_count": null,
      "metadata": {
        "id": "dKS1_nfKblgK"
      },
      "outputs": [],
      "source": []
    }
  ],
  "metadata": {
    "colab": {
      "collapsed_sections": [],
      "name": "Notes_on_git.ipynb",
      "provenance": []
    },
    "gpuClass": "standard",
    "kernelspec": {
      "display_name": "Python 3.7.11 ('py37-dsup')",
      "language": "python",
      "name": "python3"
    },
    "language_info": {
      "codemirror_mode": {
        "name": "ipython",
        "version": 3
      },
      "file_extension": ".py",
      "mimetype": "text/x-python",
      "name": "python",
      "nbconvert_exporter": "python",
      "pygments_lexer": "ipython3",
      "version": "3.7.11"
    },
    "vscode": {
      "interpreter": {
        "hash": "3a9c1e998c7d6d5f29587b2c70e9bd488bb486b902354401efc27ca8457f04e9"
      }
    }
  },
  "nbformat": 4,
  "nbformat_minor": 0
}
