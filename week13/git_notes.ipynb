{
  "nbformat": 4,
  "nbformat_minor": 0,
  "metadata": {
    "colab": {
      "name": "Untitled5.ipynb",
      "provenance": [],
      "collapsed_sections": []
    },
    "kernelspec": {
      "name": "python3",
      "display_name": "Python 3"
    },
    "language_info": {
      "name": "python"
    }
  },
  "cells": [
    {
      "cell_type": "code",
      "execution_count": 1,
      "metadata": {
        "colab": {
          "base_uri": "https://localhost:8080/"
        },
        "id": "MlvmLelqhDl3",
        "outputId": "cbda9890-7934-4749-ab60-3f3f43e6f06d"
      },
      "outputs": [
        {
          "output_type": "stream",
          "name": "stdout",
          "text": [
            "/content/my_remote\n",
            "Initialized empty Git repository in /content/my_remote/\n"
          ]
        }
      ],
      "source": [
        "%bookmark my_root\n",
        "%mkdir my_remote\n",
        "%cd my_remote\n",
        "!git init --bare ."
      ]
    },
    {
      "cell_type": "code",
      "source": [
        "!git config --global user.email \"johndoe@example.com\"\n",
        "!git config --global user.name \"John Doe\""
      ],
      "metadata": {
        "id": "U2tJTAy2hxoO"
      },
      "execution_count": 7,
      "outputs": []
    },
    {
      "cell_type": "code",
      "source": [
        "%cd -b my_root\n",
        "!git clone my_remote my_local_a\n",
        "!git clone my_remote my_local_b"
      ],
      "metadata": {
        "colab": {
          "base_uri": "https://localhost:8080/"
        },
        "id": "8TlnXBE-hPdX",
        "outputId": "055540a0-399a-4ceb-9fa2-a59e571dbaed"
      },
      "execution_count": 3,
      "outputs": [
        {
          "output_type": "stream",
          "name": "stdout",
          "text": [
            "(bookmark:my_root) -> /content\n",
            "/content\n",
            "Cloning into 'my_local_a'...\n",
            "warning: You appear to have cloned an empty repository.\n",
            "done.\n",
            "Cloning into 'my_local_b'...\n",
            "warning: You appear to have cloned an empty repository.\n",
            "done.\n"
          ]
        }
      ]
    },
    {
      "cell_type": "code",
      "source": [
        "%cd my_local_a"
      ],
      "metadata": {
        "colab": {
          "base_uri": "https://localhost:8080/"
        },
        "id": "RlJ43aZuhYkQ",
        "outputId": "dc3c6c14-c67c-41d6-87aa-64eeeccad69a"
      },
      "execution_count": 4,
      "outputs": [
        {
          "output_type": "stream",
          "name": "stdout",
          "text": [
            "/content/my_local_a\n"
          ]
        }
      ]
    },
    {
      "cell_type": "code",
      "source": [
        "%%writefile hello.py\n",
        "def hello():\n",
        "  print(\"hello world\")"
      ],
      "metadata": {
        "colab": {
          "base_uri": "https://localhost:8080/"
        },
        "id": "kpCHCAG1hhzk",
        "outputId": "456dbfc7-786c-4947-8a9e-a5c9dd173a14"
      },
      "execution_count": 5,
      "outputs": [
        {
          "output_type": "stream",
          "name": "stdout",
          "text": [
            "Writing hello.py\n"
          ]
        }
      ]
    },
    {
      "cell_type": "code",
      "source": [
        "!git add --all\n",
        "!git commit -m \"hello world from a.\""
      ],
      "metadata": {
        "colab": {
          "base_uri": "https://localhost:8080/"
        },
        "id": "poaYJeU1hncP",
        "outputId": "9021f546-e37f-4ce6-b246-fd983a098e55"
      },
      "execution_count": 8,
      "outputs": [
        {
          "output_type": "stream",
          "name": "stdout",
          "text": [
            "[master (root-commit) 310d037] hello world from a.\n",
            " 1 file changed, 2 insertions(+)\n",
            " create mode 100644 hello.py\n"
          ]
        }
      ]
    },
    {
      "cell_type": "code",
      "source": [
        "!git push"
      ],
      "metadata": {
        "colab": {
          "base_uri": "https://localhost:8080/"
        },
        "id": "5gOT5JFJhuOr",
        "outputId": "133065a1-8865-4281-fc07-7ab2fd56bfe9"
      },
      "execution_count": 9,
      "outputs": [
        {
          "output_type": "stream",
          "name": "stdout",
          "text": [
            "Counting objects: 3, done.\n",
            "Writing objects:  33% (1/3)   \rWriting objects:  66% (2/3)   \rWriting objects: 100% (3/3)   \rWriting objects: 100% (3/3), 248 bytes | 248.00 KiB/s, done.\n",
            "Total 3 (delta 0), reused 0 (delta 0)\n",
            "To /content/my_remote\n",
            " * [new branch]      master -> master\n"
          ]
        }
      ]
    },
    {
      "cell_type": "code",
      "source": [
        "%cd -b my_root\n",
        "%cd my_local_b"
      ],
      "metadata": {
        "colab": {
          "base_uri": "https://localhost:8080/"
        },
        "id": "ZLt37v_zh33r",
        "outputId": "6bc2936f-c98c-4b47-87b9-c0c6f392885d"
      },
      "execution_count": 10,
      "outputs": [
        {
          "output_type": "stream",
          "name": "stdout",
          "text": [
            "(bookmark:my_root) -> /content\n",
            "/content\n",
            "/content/my_local_b\n"
          ]
        }
      ]
    },
    {
      "cell_type": "code",
      "source": [
        "%%writefile hello.py\n",
        "def hello(name=\"world\"):\n",
        "  print(\"hello {}\".format(name))"
      ],
      "metadata": {
        "colab": {
          "base_uri": "https://localhost:8080/"
        },
        "id": "J-gQgFPlh9HL",
        "outputId": "229a82c2-db3f-412f-8fa6-fcdce7c1ffe6"
      },
      "execution_count": 11,
      "outputs": [
        {
          "output_type": "stream",
          "name": "stdout",
          "text": [
            "Writing hello.py\n"
          ]
        }
      ]
    },
    {
      "cell_type": "code",
      "source": [
        "!git add --all\n",
        "!git commit -m \"hello world from b.\""
      ],
      "metadata": {
        "colab": {
          "base_uri": "https://localhost:8080/"
        },
        "id": "QPRxvPkGiC8W",
        "outputId": "f80ea047-de7f-4277-ac9a-5bcec7711903"
      },
      "execution_count": 12,
      "outputs": [
        {
          "output_type": "stream",
          "name": "stdout",
          "text": [
            "[master (root-commit) 0a1089d] hello world from b.\n",
            " 1 file changed, 2 insertions(+)\n",
            " create mode 100644 hello.py\n"
          ]
        }
      ]
    },
    {
      "cell_type": "code",
      "source": [
        "!git push"
      ],
      "metadata": {
        "colab": {
          "base_uri": "https://localhost:8080/"
        },
        "id": "__dEWHaYiGtS",
        "outputId": "d5613c25-1b25-40d8-908b-a502e40af069"
      },
      "execution_count": 13,
      "outputs": [
        {
          "output_type": "stream",
          "name": "stdout",
          "text": [
            "To /content/my_remote\n",
            " ! [rejected]        master -> master (fetch first)\n",
            "error: failed to push some refs to '/content/my_remote'\n",
            "hint: Updates were rejected because the remote contains work that you do\n",
            "hint: not have locally. This is usually caused by another repository pushing\n",
            "hint: to the same ref. You may want to first integrate the remote changes\n",
            "hint: (e.g., 'git pull ...') before pushing again.\n",
            "hint: See the 'Note about fast-forwards' in 'git push --help' for details.\n"
          ]
        }
      ]
    },
    {
      "cell_type": "code",
      "source": [
        "!git fetch --all"
      ],
      "metadata": {
        "colab": {
          "base_uri": "https://localhost:8080/"
        },
        "id": "gq2BZi6biIPC",
        "outputId": "616394f5-9a44-4884-f283-f77e194a84c7"
      },
      "execution_count": 16,
      "outputs": [
        {
          "output_type": "stream",
          "name": "stdout",
          "text": [
            "Fetching origin\n"
          ]
        }
      ]
    },
    {
      "cell_type": "code",
      "source": [
        "!git status"
      ],
      "metadata": {
        "colab": {
          "base_uri": "https://localhost:8080/"
        },
        "id": "XMnPspgMiK8i",
        "outputId": "41ca7d89-dd08-4d14-d5dd-8b144d6ca689"
      },
      "execution_count": 17,
      "outputs": [
        {
          "output_type": "stream",
          "name": "stdout",
          "text": [
            "On branch master\n",
            "Your branch and 'origin/master' have diverged,\n",
            "and have 1 and 1 different commits each, respectively.\n",
            "  (use \"git pull\" to merge the remote branch into yours)\n",
            "\n",
            "nothing to commit, working tree clean\n"
          ]
        }
      ]
    },
    {
      "cell_type": "code",
      "source": [
        "!git pull"
      ],
      "metadata": {
        "colab": {
          "base_uri": "https://localhost:8080/"
        },
        "id": "Fd65r3niiQ3V",
        "outputId": "b3cd8154-7403-41a2-a3df-956d9d96d3c9"
      },
      "execution_count": 22,
      "outputs": [
        {
          "output_type": "stream",
          "name": "stdout",
          "text": [
            "fatal: refusing to merge unrelated histories\n"
          ]
        }
      ]
    },
    {
      "cell_type": "code",
      "source": [
        "!git rm hello.py"
      ],
      "metadata": {
        "colab": {
          "base_uri": "https://localhost:8080/"
        },
        "id": "EQKq9SYqifnN",
        "outputId": "608359ee-6168-4ae4-be84-dd6fdb91cc9b"
      },
      "execution_count": 19,
      "outputs": [
        {
          "output_type": "stream",
          "name": "stdout",
          "text": [
            "rm 'hello.py'\n"
          ]
        }
      ]
    },
    {
      "cell_type": "code",
      "source": [
        "!git branch --delete main"
      ],
      "metadata": {
        "colab": {
          "base_uri": "https://localhost:8080/"
        },
        "id": "Stxt8xf-ii0Z",
        "outputId": "dc3e129e-ecbd-4635-cb81-b5e76448ce62"
      },
      "execution_count": 21,
      "outputs": [
        {
          "output_type": "stream",
          "name": "stdout",
          "text": [
            "error: branch 'main' not found.\n"
          ]
        }
      ]
    },
    {
      "cell_type": "code",
      "source": [
        "%cd -b my_root"
      ],
      "metadata": {
        "colab": {
          "base_uri": "https://localhost:8080/"
        },
        "id": "lcQG2Eg8imph",
        "outputId": "03f160e7-5126-45ea-dde6-8d6f537a6a65"
      },
      "execution_count": 23,
      "outputs": [
        {
          "output_type": "stream",
          "name": "stdout",
          "text": [
            "(bookmark:my_root) -> /content\n",
            "/content\n"
          ]
        }
      ]
    },
    {
      "cell_type": "code",
      "source": [
        "%rm -rf my_local_b"
      ],
      "metadata": {
        "id": "wuD6n_LtisT8"
      },
      "execution_count": 24,
      "outputs": []
    },
    {
      "cell_type": "code",
      "source": [
        "!git clone my_remote my_local_b"
      ],
      "metadata": {
        "colab": {
          "base_uri": "https://localhost:8080/"
        },
        "id": "LfLGgT3IiuoY",
        "outputId": "2975d107-0825-4082-95d2-0c60f9cb5412"
      },
      "execution_count": 25,
      "outputs": [
        {
          "output_type": "stream",
          "name": "stdout",
          "text": [
            "Cloning into 'my_local_b'...\n",
            "done.\n"
          ]
        }
      ]
    },
    {
      "cell_type": "code",
      "source": [
        "%cd my_local_b"
      ],
      "metadata": {
        "colab": {
          "base_uri": "https://localhost:8080/"
        },
        "id": "VStv0zjkixp4",
        "outputId": "90b1218c-6b65-4d86-897a-7728ddd74de8"
      },
      "execution_count": 26,
      "outputs": [
        {
          "output_type": "stream",
          "name": "stdout",
          "text": [
            "/content/my_local_b\n"
          ]
        }
      ]
    },
    {
      "cell_type": "code",
      "source": [
        "!git status"
      ],
      "metadata": {
        "colab": {
          "base_uri": "https://localhost:8080/"
        },
        "id": "QoAhLE6-iztR",
        "outputId": "c2adddf7-6ccb-49b6-b35f-db1d8cb83472"
      },
      "execution_count": 27,
      "outputs": [
        {
          "output_type": "stream",
          "name": "stdout",
          "text": [
            "On branch master\n",
            "Your branch is up to date with 'origin/master'.\n",
            "\n",
            "nothing to commit, working tree clean\n"
          ]
        }
      ]
    },
    {
      "cell_type": "code",
      "source": [
        "%%writefile hello.py\n",
        "def hello(name=\"world\"):\n",
        "  print(\"hello {}\".format(name))"
      ],
      "metadata": {
        "colab": {
          "base_uri": "https://localhost:8080/"
        },
        "id": "zZyct1ZRi0is",
        "outputId": "509a191a-2597-4524-bcfc-28546c78a095"
      },
      "execution_count": 28,
      "outputs": [
        {
          "output_type": "stream",
          "name": "stdout",
          "text": [
            "Overwriting hello.py\n"
          ]
        }
      ]
    },
    {
      "cell_type": "code",
      "source": [
        "!git add --all\n",
        "!git commit -m \"hello from b.\""
      ],
      "metadata": {
        "colab": {
          "base_uri": "https://localhost:8080/"
        },
        "id": "SpVmPbd9jBM4",
        "outputId": "c62a974f-2fcd-4d2b-bbf6-3529957ad074"
      },
      "execution_count": 29,
      "outputs": [
        {
          "output_type": "stream",
          "name": "stdout",
          "text": [
            "[master bd0a725] hello from b.\n",
            " 1 file changed, 2 insertions(+), 2 deletions(-)\n"
          ]
        }
      ]
    },
    {
      "cell_type": "code",
      "source": [
        "%cd -b my_root\n",
        "%cd my_local_a"
      ],
      "metadata": {
        "colab": {
          "base_uri": "https://localhost:8080/"
        },
        "id": "kOheqr-tjIPf",
        "outputId": "87e7865c-dbee-4c64-bf80-8b1ba7a7c233"
      },
      "execution_count": 30,
      "outputs": [
        {
          "output_type": "stream",
          "name": "stdout",
          "text": [
            "(bookmark:my_root) -> /content\n",
            "/content\n",
            "/content/my_local_a\n"
          ]
        }
      ]
    },
    {
      "cell_type": "code",
      "source": [
        "%%writefile hello.py\n",
        "def hello():\n",
        "  print(\"hello world ...\")"
      ],
      "metadata": {
        "colab": {
          "base_uri": "https://localhost:8080/"
        },
        "id": "jPwo7lWZjMAX",
        "outputId": "62086c6e-ce9a-466d-b0c6-d4b174a69e78"
      },
      "execution_count": 31,
      "outputs": [
        {
          "output_type": "stream",
          "name": "stdout",
          "text": [
            "Overwriting hello.py\n"
          ]
        }
      ]
    },
    {
      "cell_type": "code",
      "source": [
        "!git add --all\n",
        "!git commit -m \"2nd hello from a.\""
      ],
      "metadata": {
        "colab": {
          "base_uri": "https://localhost:8080/"
        },
        "id": "86PQZkgxjVwv",
        "outputId": "028a0a00-7af2-41c4-ab66-3598280ce975"
      },
      "execution_count": 33,
      "outputs": [
        {
          "output_type": "stream",
          "name": "stdout",
          "text": [
            "[master 902ec22] 2nd hello from a.\n",
            " 1 file changed, 1 insertion(+), 1 deletion(-)\n"
          ]
        }
      ]
    },
    {
      "cell_type": "code",
      "source": [
        "!git push"
      ],
      "metadata": {
        "colab": {
          "base_uri": "https://localhost:8080/"
        },
        "id": "xv1ZP4jhjYyn",
        "outputId": "b7508cdd-b4d3-4b62-9338-cf5f1000f7a9"
      },
      "execution_count": 34,
      "outputs": [
        {
          "output_type": "stream",
          "name": "stdout",
          "text": [
            "Counting objects: 3, done.\n",
            "Writing objects:  33% (1/3)   \rWriting objects:  66% (2/3)   \rWriting objects: 100% (3/3)   \rWriting objects: 100% (3/3), 280 bytes | 280.00 KiB/s, done.\n",
            "Total 3 (delta 0), reused 0 (delta 0)\n",
            "To /content/my_remote\n",
            "   310d037..902ec22  master -> master\n"
          ]
        }
      ]
    },
    {
      "cell_type": "code",
      "source": [
        "%cd -b my_root\n",
        "%cd my_local_b"
      ],
      "metadata": {
        "colab": {
          "base_uri": "https://localhost:8080/"
        },
        "id": "RBoI0uPSjdfG",
        "outputId": "b64b2eee-6921-4edf-86bc-4146901b8812"
      },
      "execution_count": 35,
      "outputs": [
        {
          "output_type": "stream",
          "name": "stdout",
          "text": [
            "(bookmark:my_root) -> /content\n",
            "/content\n",
            "/content/my_local_b\n"
          ]
        }
      ]
    },
    {
      "cell_type": "code",
      "source": [
        "!git status"
      ],
      "metadata": {
        "colab": {
          "base_uri": "https://localhost:8080/"
        },
        "id": "k1VeUTKajhgr",
        "outputId": "70c0104f-858c-4bd2-a69e-df7a428a1e42"
      },
      "execution_count": 36,
      "outputs": [
        {
          "output_type": "stream",
          "name": "stdout",
          "text": [
            "On branch master\n",
            "Your branch is ahead of 'origin/master' by 1 commit.\n",
            "  (use \"git push\" to publish your local commits)\n",
            "\n",
            "nothing to commit, working tree clean\n"
          ]
        }
      ]
    },
    {
      "cell_type": "code",
      "source": [
        "!git fetch --all"
      ],
      "metadata": {
        "colab": {
          "base_uri": "https://localhost:8080/"
        },
        "id": "AcwdxmKNjjDj",
        "outputId": "74d061ea-b672-4fc2-c78a-48c76194933e"
      },
      "execution_count": 37,
      "outputs": [
        {
          "output_type": "stream",
          "name": "stdout",
          "text": [
            "Fetching origin\n",
            "remote: Counting objects: 3, done.\u001b[K\n",
            "remote: Total 3 (delta 0), reused 0 (delta 0)\u001b[K\n",
            "Unpacking objects:  33% (1/3)   \rUnpacking objects:  66% (2/3)   \rUnpacking objects: 100% (3/3)   \rUnpacking objects: 100% (3/3), done.\n",
            "From /content/my_remote\n",
            "   310d037..902ec22  master     -> origin/master\n"
          ]
        }
      ]
    },
    {
      "cell_type": "code",
      "source": [
        "!git status"
      ],
      "metadata": {
        "colab": {
          "base_uri": "https://localhost:8080/"
        },
        "id": "cW_YPoIijl5W",
        "outputId": "26f02855-c267-46a8-d580-470aece69a45"
      },
      "execution_count": 38,
      "outputs": [
        {
          "output_type": "stream",
          "name": "stdout",
          "text": [
            "On branch master\n",
            "Your branch and 'origin/master' have diverged,\n",
            "and have 1 and 1 different commits each, respectively.\n",
            "  (use \"git pull\" to merge the remote branch into yours)\n",
            "\n",
            "nothing to commit, working tree clean\n"
          ]
        }
      ]
    },
    {
      "cell_type": "code",
      "source": [
        "!git pull"
      ],
      "metadata": {
        "colab": {
          "base_uri": "https://localhost:8080/"
        },
        "id": "VDr-0sQ1jnsm",
        "outputId": "15b9e858-4a50-4be8-9f66-4a69518dc83f"
      },
      "execution_count": 39,
      "outputs": [
        {
          "output_type": "stream",
          "name": "stdout",
          "text": [
            "Auto-merging hello.py\n",
            "CONFLICT (content): Merge conflict in hello.py\n",
            "Automatic merge failed; fix conflicts and then commit the result.\n"
          ]
        }
      ]
    },
    {
      "cell_type": "code",
      "source": [
        "# content of hello.py\n",
        "<<<<<<< HEAD\n",
        "def hello(name=\"world\"):\n",
        "  print(\"hello {}\".format(name))\n",
        "=======\n",
        "def hello():\n",
        "  print(\"hello world ...\")\n",
        ">>>>>>> 902ec223e1bb592fd86ad47b7878ab4b42c9fedd"
      ],
      "metadata": {
        "id": "xAtgTEDHjpMW"
      },
      "execution_count": null,
      "outputs": []
    },
    {
      "cell_type": "code",
      "source": [
        "!git add --all\n",
        "!git commit -m \"merge commit.\""
      ],
      "metadata": {
        "colab": {
          "base_uri": "https://localhost:8080/"
        },
        "id": "eDMSP-SvkKwb",
        "outputId": "50af9759-dd32-4c27-de1a-32d532e90ef2"
      },
      "execution_count": 41,
      "outputs": [
        {
          "output_type": "stream",
          "name": "stdout",
          "text": [
            "[master b814825] merge commit.\n"
          ]
        }
      ]
    },
    {
      "cell_type": "code",
      "source": [
        "!git push"
      ],
      "metadata": {
        "colab": {
          "base_uri": "https://localhost:8080/"
        },
        "id": "LJRJ-3GLkU9G",
        "outputId": "37862263-d57d-4af1-a2e0-1792fffbd3dd"
      },
      "execution_count": 42,
      "outputs": [
        {
          "output_type": "stream",
          "name": "stdout",
          "text": [
            "Counting objects: 6, done.\n",
            "Delta compression using up to 2 threads.\n",
            "Compressing objects:  25% (1/4)   \rCompressing objects:  50% (2/4)   \rCompressing objects:  75% (3/4)   \rCompressing objects: 100% (4/4)   \rCompressing objects: 100% (4/4), done.\n",
            "Writing objects:  16% (1/6)   \rWriting objects:  33% (2/6)   \rWriting objects:  50% (3/6)   \rWriting objects:  66% (4/6)   \rWriting objects:  83% (5/6)   \rWriting objects: 100% (6/6)   \rWriting objects: 100% (6/6), 590 bytes | 590.00 KiB/s, done.\n",
            "Total 6 (delta 0), reused 0 (delta 0)\n",
            "To /content/my_remote\n",
            "   902ec22..b814825  master -> master\n"
          ]
        }
      ]
    },
    {
      "cell_type": "code",
      "source": [
        "!git log"
      ],
      "metadata": {
        "colab": {
          "base_uri": "https://localhost:8080/"
        },
        "id": "-HsO_QktkaAp",
        "outputId": "9b94aff5-9499-46ab-e968-05859401843f"
      },
      "execution_count": 43,
      "outputs": [
        {
          "output_type": "stream",
          "name": "stdout",
          "text": [
            "\u001b[33mcommit b814825c19518aec4c2ec5da3d720c5794d6229c\u001b[m\u001b[33m (\u001b[m\u001b[1;36mHEAD -> \u001b[m\u001b[1;32mmaster\u001b[m\u001b[33m, \u001b[m\u001b[1;31morigin/master\u001b[m\u001b[33m, \u001b[m\u001b[1;31morigin/HEAD\u001b[m\u001b[33m)\u001b[m\n",
            "Merge: bd0a725 902ec22\n",
            "Author: John Doe <johndoe@example.com>\n",
            "Date:   Mon Jun 27 09:50:11 2022 +0000\n",
            "\n",
            "    merge commit.\n",
            "\n",
            "\u001b[33mcommit 902ec223e1bb592fd86ad47b7878ab4b42c9fedd\u001b[m\n",
            "Author: John Doe <johndoe@example.com>\n",
            "Date:   Mon Jun 27 09:46:01 2022 +0000\n",
            "\n",
            "    2nd hello from a.\n",
            "\n",
            "\u001b[33mcommit bd0a7259b26f750d23c63b9547d23f88f618f087\u001b[m\n",
            "Author: John Doe <johndoe@example.com>\n",
            "Date:   Mon Jun 27 09:44:41 2022 +0000\n",
            "\n",
            "    hello from b.\n",
            "\n",
            "\u001b[33mcommit 310d03769c08e35ca7d957d32510bd9a1d9726cd\u001b[m\n",
            "Author: John Doe <johndoe@example.com>\n",
            "Date:   Mon Jun 27 09:39:06 2022 +0000\n",
            "\n",
            "    hello world from a.\n"
          ]
        }
      ]
    },
    {
      "cell_type": "code",
      "source": [
        ""
      ],
      "metadata": {
        "id": "0o4mFJcBkio5"
      },
      "execution_count": null,
      "outputs": []
    }
  ]
}