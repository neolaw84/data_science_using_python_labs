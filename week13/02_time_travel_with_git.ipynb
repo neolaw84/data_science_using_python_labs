{
 "cells": [
  {
   "cell_type": "markdown",
   "metadata": {},
   "source": [
    "# Time Travelling with `git`\n",
    "\n",
    "ကျနော်တို့ စစချင်းမှာ လက်ရှိရောက်နေတဲ့ directory ကို `%bookmark` လုပ်ခဲ့ပါမယ်။"
   ]
  },
  {
   "cell_type": "code",
   "execution_count": null,
   "metadata": {},
   "outputs": [],
   "source": [
    "%bookmark my_root"
   ]
  },
  {
   "cell_type": "markdown",
   "metadata": {},
   "source": [
    "## Basic `git`"
   ]
  },
  {
   "cell_type": "markdown",
   "metadata": {},
   "source": [
    "ပြီးရင် `my_remote` ဆိုတဲ့ directory တခုကို ဆောက်ပါမယ်။ \n",
    "\n",
    "> အခု lab မှာ `my_remote` က remote repository တခုရဲ့ role ကို ယူပါမယ်။ \n",
    "\n",
    "> remote repository role ကို ယူမယ်ဆိုရင် `--bare` repository အဖြစ် `init` လုပ်ရပါမယ်။\n",
    "\n",
    "> လက်တွေ့မှာ `www.github.com`, `www.bitbucket.com` သို့မဟုတ် `www.gitlab.com` တို့မှာ repository တွေ အခမဲ့ သွားထားနိုင်ပါတယ်။"
   ]
  },
  {
   "cell_type": "code",
   "execution_count": null,
   "metadata": {},
   "outputs": [],
   "source": [
    "%mkdir my_remote\n",
    "%cd my_remote\n",
    "!git init --bare ."
   ]
  },
  {
   "cell_type": "markdown",
   "metadata": {},
   "source": [
    "ပြီးရင် my_remote ကိုလဲ `%bookmark` လုပ်ခဲ့ပါမယ်။"
   ]
  },
  {
   "cell_type": "code",
   "execution_count": 1,
   "metadata": {},
   "outputs": [],
   "source": [
    "%bookmark my_remote"
   ]
  },
  {
   "cell_type": "markdown",
   "metadata": {},
   "source": [
    "ပြီးရင် user ၂ ယောက် Alice နဲ့ Bob တို့က သုံးမဲ့ local repository `my_local_a` နဲ့ `my_local_b` တို့ကို `clone` လုပ်ယူပါမယ်။ \n",
    "\n",
    "ပထမဆုံး `my_local_a` အဖြစ် clone ပါမယ်။"
   ]
  },
  {
   "cell_type": "code",
   "execution_count": null,
   "metadata": {},
   "outputs": [],
   "source": [
    "%cd -b my_root\n",
    "!git clone my_remote my_local_a\n",
    "%cd my_local_a\n",
    "%bookmark my_local_a"
   ]
  },
  {
   "cell_type": "markdown",
   "metadata": {},
   "source": [
    "အခု အောက်က cell မှာ `/content/` အောက်မှာ `my_local_b` အဖြစ် `my_remote` ကို `clone` လုပ်ယူပါ။ \n",
    "\n",
    "> တလက်စတည်း my_local_b ကို `%bookmark` လုပ်ခဲ့ပါ။"
   ]
  },
  {
   "cell_type": "code",
   "execution_count": null,
   "metadata": {},
   "outputs": [],
   "source": [
    "# clone from /content/my_remote to /content/my_local_b\n"
   ]
  },
  {
   "cell_type": "markdown",
   "metadata": {},
   "source": [
    "ပြီးရင် ကျနော်တို့ `my_local_a` ကို ပြန်သွားပြီး hello.py ထဲမှာ function တခု ရေးကြစို့။"
   ]
  },
  {
   "cell_type": "code",
   "execution_count": null,
   "metadata": {},
   "outputs": [],
   "source": [
    "%cd -b my_local_a"
   ]
  },
  {
   "cell_type": "code",
   "execution_count": null,
   "metadata": {},
   "outputs": [],
   "source": [
    "%%writefile hello.py\n",
    "def hello():\n",
    "    print (\"hello world\")"
   ]
  },
  {
   "cell_type": "markdown",
   "metadata": {},
   "source": [
    "`hello.py` ရှိမရှိ စစ်ကြည့်ပြီးရင် ... ကျနော်တို့ ဒီ hello.py ကို `add`, `commit` ပြီးရင် `push` ကြစို့"
   ]
  },
  {
   "cell_type": "code",
   "execution_count": null,
   "metadata": {},
   "outputs": [],
   "source": [
    "!git add hello.py\n",
    "!git commit -m \"initial commit\" # message ကို ကြိုက်တာပေးလို့ရတယ်။\n",
    "!git push"
   ]
  },
  {
   "cell_type": "markdown",
   "metadata": {},
   "source": [
    "error တက်ရင် အဲဒီ error message ကို ဖတ်ကြည့်ပြီး အောက်က cell မှာ ရေးပေးထားသလို ပြင်ပါ။"
   ]
  },
  {
   "cell_type": "code",
   "execution_count": null,
   "metadata": {},
   "outputs": [],
   "source": [
    "# just run this\n",
    "!git config user.email \"alice@wonderland.com\"\n",
    "!git config user.name \"Alice\""
   ]
  },
  {
   "cell_type": "code",
   "execution_count": null,
   "metadata": {},
   "outputs": [],
   "source": [
    "# now re-run the add, commit and push here"
   ]
  },
  {
   "cell_type": "markdown",
   "metadata": {},
   "source": [
    "`git` branch တခုကို စတော့မယ်ဆိုရင် များသောအားဖြင့် remote မှာ စလေ့ရှိတယ်။ \n",
    "\n",
    "> commercial git hosting သုံးရင်တော့ GUI ကနေ စနိုင်တယ်"
   ]
  },
  {
   "cell_type": "code",
   "execution_count": null,
   "metadata": {},
   "outputs": [],
   "source": [
    "%cd -b my_remote\n",
    "!git branch dev"
   ]
  },
  {
   "cell_type": "markdown",
   "metadata": {},
   "source": [
    "ပြီးတော့မှ အဲဒီ branch ကို local တခုခုကနေ ဆွဲယူပြီး သုံးကြတယ်။ \n",
    "\n",
    "branch တွေရဲ့ information ကို ဆွဲယူဖို့ `fetch` ကို သုံးရတယ်။"
   ]
  },
  {
   "cell_type": "code",
   "execution_count": null,
   "metadata": {},
   "outputs": [],
   "source": [
    "%cd my_local_a\n",
    "!git fetch --all\n",
    "!git status"
   ]
  },
  {
   "cell_type": "markdown",
   "metadata": {},
   "source": [
    "`fetch` လုပ်ပေမဲ့ အဲဒီ branch ထဲကို မရောက်သေးဘူး။ branch ပြောင်းချင်ရင် `checkout` command နဲ့ ပြောင်းရတယ်။"
   ]
  },
  {
   "cell_type": "code",
   "execution_count": null,
   "metadata": {},
   "outputs": [],
   "source": [
    "!git checkout dev"
   ]
  },
  {
   "cell_type": "markdown",
   "metadata": {},
   "source": [
    "နောက်တခါ စောစောက function ကို ပြင်မယ်။ variable တခု ထည့်မယ်။"
   ]
  },
  {
   "cell_type": "code",
   "execution_count": null,
   "metadata": {},
   "outputs": [],
   "source": [
    "%%writefile hello.py\n",
    "def hello(name=\"world\"):\n",
    "  print(\"hello {}\".format(name))"
   ]
  },
  {
   "cell_type": "markdown",
   "metadata": {},
   "source": [
    "ပြီးရင် `add`, `commit` and `push` လုပ်လိုက်ပါ။"
   ]
  },
  {
   "cell_type": "code",
   "execution_count": null,
   "metadata": {},
   "outputs": [],
   "source": [
    "# to add, commit and push"
   ]
  },
  {
   "cell_type": "code",
   "execution_count": null,
   "metadata": {},
   "outputs": [],
   "source": [
    "# now try `git log` command\n",
    "!git log"
   ]
  },
  {
   "cell_type": "markdown",
   "metadata": {},
   "source": [
    "ဒီအချိန်မှာ ရေးနေတုန်း ကီးဘုတ်ပေါ် ကြောင်တက်ဆော့တယ်ဆိုပါစို့။"
   ]
  },
  {
   "cell_type": "code",
   "execution_count": null,
   "metadata": {},
   "outputs": [],
   "source": [
    "%%writefile hello.py\n",
    "def heldf235456lo(name=\"worde er4ld\"):\n",
    "  print(\"hel32lo {}\".format(name))"
   ]
  },
  {
   "cell_type": "markdown",
   "metadata": {},
   "source": [
    "`add` မလုပ်ရသေးရင် simply `checkout` the file."
   ]
  },
  {
   "cell_type": "code",
   "execution_count": null,
   "metadata": {},
   "outputs": [],
   "source": [
    "!git status"
   ]
  },
  {
   "cell_type": "code",
   "execution_count": null,
   "metadata": {},
   "outputs": [],
   "source": [
    "!git checkout hello.py"
   ]
  },
  {
   "cell_type": "markdown",
   "metadata": {},
   "source": [
    "`add` ပြီးသွားပေမဲ့ `commit` မလုပ်ရသေးရင် `reset HEAD`"
   ]
  },
  {
   "cell_type": "code",
   "execution_count": null,
   "metadata": {},
   "outputs": [],
   "source": [
    "!git add hello.py\n",
    "!git status"
   ]
  },
  {
   "cell_type": "code",
   "execution_count": null,
   "metadata": {},
   "outputs": [],
   "source": [
    "!git reset HEAD hello.py"
   ]
  },
  {
   "cell_type": "markdown",
   "metadata": {},
   "source": [
    "`commit` ပါ လုပ်ပြီးသွားရင်တော့ ... နည်းနည်းတော့ ပိုဒုက္ခရောက်ပြီ။ ဒါပေမဲ့ မပူပါနဲ့။ အရင်ဆုံး `git log` ကို ကြည့်ပါ။"
   ]
  },
  {
   "cell_type": "code",
   "execution_count": null,
   "metadata": {},
   "outputs": [],
   "source": [
    "!git add hello.py\n",
    "!git commit -m \"cat commit\"\n",
    "!git status"
   ]
  },
  {
   "cell_type": "code",
   "execution_count": null,
   "metadata": {},
   "outputs": [],
   "source": [
    "!git log"
   ]
  },
  {
   "cell_type": "code",
   "execution_count": null,
   "metadata": {},
   "outputs": [],
   "source": [
    "!git reset --hard <REPLACE WITH SHA HASH OF GOOD COMMIT>\n",
    "!git status"
   ]
  },
  {
   "cell_type": "markdown",
   "metadata": {},
   "source": [
    "`commit` တင်မကပဲ `push` ပါလုပ်လိုက်တယ်ဆိုရင်တော့ \n",
    "\n",
    "**ကီးဘုတ်ပေါ် ကြောင်တက်လို့ဆိုတာ မဟုတ်နိုင်ဘူးဆိုတဲ့ null hypothesis ကို reject လုပ်ဖို့ p-value ဟာ 0.05 ထက် ကြီးနေမှာ သေချာပါတယ်**\n",
    "\n",
    "This is beyond the scope of this lab. Simply ask help from your tech-lead. :D"
   ]
  },
  {
   "cell_type": "markdown",
   "metadata": {},
   "source": [
    "## Merging and the **PR**\n",
    "\n",
    "`merge` လုပ်ဖို့အတွက် လက်ခံယူမဲ့ branch (usually master branch) ကို အရင် `checkout` လုပ်ရပါမယ်။\n",
    "\n",
    "ပြီးရင် ရှေ့ရောက်နေတဲ့ branch (usually dev branch) နဲ့ merge ပါ။ \n",
    "\n",
    "အားလုံးပြီးရင် `push` ပါ။"
   ]
  },
  {
   "cell_type": "code",
   "execution_count": null,
   "metadata": {},
   "outputs": [],
   "source": [
    "!git checkout master\n",
    "!git merge dev\n",
    "!git push"
   ]
  },
  {
   "cell_type": "markdown",
   "metadata": {},
   "source": [
    "#### All about **PR**\n",
    "\n",
    "**PR** ခေါ် **Pull Request** ဟာ developer တွေရဲ့ KPI ကို တိုင်းတဲ့ metric တခု ဖြစ်တယ်။ feature တခု develop ပြီး test ပြီးမှ pull request လုပ်နိုင်ပြီး hosted platform တွေမှာသာ လုပ်နိုင်တယ်။ \n",
    "\n",
    "Pull Request လုပ်ဖို့ web-interface မှာ \"Create Pull Request\" ဆိုတဲ့ ခလုတ်ကို နှိပ်ရပြီး အပေါ်က ပြထားတဲ့ `merge` ကို `push` တာနဲ့ ရလာဒ် အတူတူပဲ ဖြစ်တယ်။\n",
    "\n",
    "> ကိုယ့်ဟာကိုယ် စမ်းကြည့်ဖို့ တိုက်တွန်းတယ်။ အလုပ်လုပ်ပုံက\n",
    "\n",
    "> 1. `git push` (the dev branch)\n",
    "\n",
    "> 2. in GUI, create pull request (from dev to master)\n",
    "\n",
    "> 3. in GUI, accept and merge the pull request\n",
    "\n",
    "> pull request လုပ်လိုက်တုန်းမှာ merge conflict ဖြစ်တာက beyond the scope of this lab ဖြစ်တယ်။ ဒါပေမဲ့ အောက်က ပြထားတဲ့ merge conflict resolution နဲ့ သဘောတရား တူတူပဲ ဖြစ်တယ်။"
   ]
  },
  {
   "cell_type": "markdown",
   "metadata": {},
   "source": [
    "#### Merge Conflict Resolution\n",
    "\n",
    "Merge Conflict Resolution မှာ ၂ ပိုင်းရှိတယ်။ ပထမတပိုင်းက conflict နည်းအောင် reduce လုပ်တာဖြစ်တယ်။ ၂ မျိုး လုပ်လို့ရတယ်။ \n",
    "\n",
    "1. စပြီး develop မလုပ်ခင်မှာ အမြဲ `pull` ပါ။ အထူးသဖြင့် `dev` branch တခုတည်းကို developer အများ ဝိုင်းသုံးကြလျှင် စမရေးခင်မှာ `pull` ပါ။ ပြိးမှ ဆက်ရေးပါ။ (လုပ်တိုင်း merge conflict မဖြစ်ဟု မဆိုလို၊ ဖြစ်ဖို့ နည်းသည်ဟုသာ)"
   ]
  },
  {
   "cell_type": "code",
   "execution_count": null,
   "metadata": {},
   "outputs": [],
   "source": [
    "!git fetch --all\n",
    "!git checkout dev\n",
    "!git pull\n",
    "# develop here\n",
    "!git add --all\n",
    "!git commit -m \"my commit message\"\n",
    "!git push"
   ]
  },
  {
   "cell_type": "markdown",
   "metadata": {},
   "source": [
    "2. branch ၂ ခု merge မည်ဆိုပါက ... dev branch ကို master branch နှင့် `rebase` အရင် လုပ်ပါ။ (လုပ်တိုင်း merge conflict မဖြစ်ဟု မဆိုလို၊ ဖြစ်ဖို့ နည်းသည်ဟုသာ)"
   ]
  },
  {
   "cell_type": "code",
   "execution_count": null,
   "metadata": {},
   "outputs": [],
   "source": [
    "!git fetch --all\n",
    "!git checkout dev\n",
    "!git rebase master\n",
    "# if there is conflict, resolve here\n",
    "!git checkout master\n",
    "!git merge dev\n",
    "!git push\n",
    "# less chance to have conflict unless there is more development between git push and \"resolve here\" back there"
   ]
  },
  {
   "cell_type": "markdown",
   "metadata": {},
   "source": [
    "အခုကတော့ develop လုပ်ပြီး (`commit` ပါပြီးမှ) push လုပ်လိုက်တဲ့အချိန်မှာ conflict ဖြစ်တာကို ဖြေရှင်းတာကို ပြပါမယ်။"
   ]
  },
  {
   "cell_type": "code",
   "execution_count": null,
   "metadata": {},
   "outputs": [],
   "source": [
    "%cd -b my_local_a\n",
    "!git checkout dev"
   ]
  },
  {
   "cell_type": "code",
   "execution_count": null,
   "metadata": {},
   "outputs": [],
   "source": [
    "%%writefile hello.py\n",
    "def hello(name=\"world\"):\n",
    "  print(\"hello {}\".format(name))\n",
    "  \n",
    "def add(n1, n2):\n",
    "  return n1+n2"
   ]
  },
  {
   "cell_type": "code",
   "execution_count": null,
   "metadata": {},
   "outputs": [],
   "source": [
    "!git add hello.py\n",
    "!git commit -m \"added the add function\""
   ]
  },
  {
   "cell_type": "code",
   "execution_count": null,
   "metadata": {},
   "outputs": [],
   "source": [
    "%cd -b my_local_b\n",
    "!git checkout dev"
   ]
  },
  {
   "cell_type": "code",
   "execution_count": null,
   "metadata": {},
   "outputs": [],
   "source": [
    "%%writefile hello.py\n",
    "def hello_world(name=\"world\"):\n",
    "  print(\"Hello {}\".format(name))\n",
    "  \n",
    "def add(n1, n2):\n",
    "  return n1+n2"
   ]
  },
  {
   "cell_type": "code",
   "execution_count": null,
   "metadata": {},
   "outputs": [],
   "source": [
    "# this won't work; how to solve ? (the developer's name is Bob)\n",
    "!git add hello.py\n",
    "!git commit -m \"grammar fix.\"\n",
    "!git push"
   ]
  },
  {
   "cell_type": "code",
   "execution_count": null,
   "metadata": {},
   "outputs": [],
   "source": [
    "# coming back to Alice\n",
    "%cd -b my_local_a\n",
    "# this is going to give you a merge conflict\n",
    "!git push"
   ]
  },
  {
   "cell_type": "code",
   "execution_count": null,
   "metadata": {},
   "outputs": [],
   "source": [
    "# so check the status\n",
    "!git status\n",
    "!git log"
   ]
  },
  {
   "cell_type": "code",
   "execution_count": null,
   "metadata": {},
   "outputs": [],
   "source": [
    "# fetch and pull\n",
    "# pull will fail as auto-merge cannot be performed\n",
    "!git fetch --all\n",
    "!git pull"
   ]
  },
  {
   "cell_type": "markdown",
   "metadata": {},
   "source": [
    "ဒီနေရာမှာ `/content/my_local_a/hello.py` ကို ဖွင့်ကြည့်ပါ။ ပြီးရင် အဆင်ပြေအောင် ပြင်ပါ။\n",
    "\n",
    "> လက်တွေ့ လုပ်ငန်းခွင်မှာတော့ conflict များရင် များသလို meeting ထိုင်ပြီး တူတူပြင်ရတယ်။"
   ]
  },
  {
   "cell_type": "code",
   "execution_count": null,
   "metadata": {},
   "outputs": [],
   "source": [
    "# this will work\n",
    "!git add --all\n",
    "!git commit -m \"merge commit.\"\n",
    "!git push"
   ]
  }
 ],
 "metadata": {
  "kernelspec": {
   "display_name": "Python 3.7.11 ('py37-dsup')",
   "language": "python",
   "name": "python3"
  },
  "language_info": {
   "codemirror_mode": {
    "name": "ipython",
    "version": 3
   },
   "file_extension": ".py",
   "mimetype": "text/x-python",
   "name": "python",
   "nbconvert_exporter": "python",
   "pygments_lexer": "ipython3",
   "version": "3.7.11"
  },
  "orig_nbformat": 4,
  "vscode": {
   "interpreter": {
    "hash": "3a9c1e998c7d6d5f29587b2c70e9bd488bb486b902354401efc27ca8457f04e9"
   }
  }
 },
 "nbformat": 4,
 "nbformat_minor": 2
}
