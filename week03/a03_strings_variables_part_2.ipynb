{
 "cells": [
  {
   "cell_type": "markdown",
   "metadata": {},
   "source": [
    "# Answers to String နဲ့ Variable တွေ အကြောင်း Part II"
   ]
  },
  {
   "cell_type": "code",
   "execution_count": null,
   "metadata": {},
   "outputs": [],
   "source": [
    "# ဒီ cell ကို run လိုက်ပါ။\n",
    "!git clone https://github.com/neolaw84/data_science_using_python_labs.git"
   ]
  },
  {
   "cell_type": "code",
   "execution_count": null,
   "metadata": {},
   "outputs": [],
   "source": [
    "%cd data_science_using_python_labs/week02"
   ]
  },
  {
   "cell_type": "markdown",
   "metadata": {},
   "source": [
    "မမေ့အောင် String လေ့ကျင့်ခန်း နောက်တခု လုပ်ကြည့်ရအောင်။\n",
    "\n",
    "a ဆိုတဲ့ variable ထဲကို \"Alice\" ဆိုတဲ့ string ထည့်ပါ။ \n",
    "b ဆိုတဲ့ variable ထဲကို \"Bob\" ဆိုတဲ့ string ထည့်ပါ။ \n",
    "sym_key ဆိုတဲ့ variable ထဲကို \"symmetric_key\" ဆိုတဲ့ string ထည့်ပါ။\n",
    "b_sign ထဲကို \"bob's signature\", a_public ထဲကို \"alice' public key\", a_private ထဲကို \"alice' private key\" အသီးသီး ထည့်ပါ။\n",
    "\n",
    "ပြီးရင် အောက်ပါ message ကို print ထုတ်ပေးပါ။ (format method ကို သုံးပါ။)\n",
    "\n",
    "Now let’s say that Bob is a lawyer, and he wants to send a secret message 'hello A, from B' to Alice. He takes a box from his shelf, and which has a unique key (symmetric_key). He takes photograph of himself holding the message, and puts the message into the box with the photograph (bob's signature). Next, he takes a box that Alice send to him (alice' public key) and puts the secret key into the box. Now Bob cannot open any of the boxes. He then sends the two boxes to Alice. Alice takes the second box, and sources the key (alice' private key) to that box. She opens this box, and it contains the key for the first box, and then opens it. She then reads the message, and check the photograph."
   ]
  },
  {
   "cell_type": "code",
   "execution_count": null,
   "metadata": {},
   "outputs": [],
   "source": [
    "%%writefile lab_string_2.py\n",
    "a=\"Alice\"\n",
    "b=\"Bob\"\n",
    "sym_key=\"symmetric_key\"\n",
    "b_sign=\"bob's signature\"\n",
    "a_public=\"alice' public key\"\n",
    "a_private=\"alice' private key\"\n",
    "print(\"\"\"\n",
    "      Now let’s say that {b} is a lawyer, and he wants to send a secret message 'hello A, from B' to {a}. \n",
    "      He takes a box from his shelf, and which has a unique key ({sym_key}). He takes photograph of himself holding the message, \n",
    "      and puts the message into the box with the photograph ({b_sign}). Next, he takes a box that {a} send to him ({a_public}) \n",
    "      and puts the secret key into the box. Now {b} cannot open any of the boxes. He then sends the two boxes to {a}. {a} takes \n",
    "      the second box, and sources the key ({a_private}) to that box. She opens this box, and it contains the key for the first box, \n",
    "      and then opens it. She then reads the message, and check the photograph.\n",
    "      \"\"\".format(a=a, b=b, sym_key=sym_key, b_sign=b_sign, a_public=a_public, a_private=a_private))"
   ]
  },
  {
   "cell_type": "code",
   "execution_count": null,
   "metadata": {},
   "outputs": [],
   "source": [
    "!pytest test_string_2.py"
   ]
  },
  {
   "cell_type": "markdown",
   "metadata": {},
   "source": [
    "### String Arithmetics "
   ]
  },
  {
   "cell_type": "markdown",
   "metadata": {},
   "source": [
    "နောက်ထပ် string လေ့ကျင့်ခန်း တခု လုပ်ကြရအောင်။ ဒီလေ့ကျင့်ခန်းမှာ ... \n",
    "\n",
    "Variable 'i' ထဲကို 42 ကို ထည့်ပါ။ \n",
    "ပြီးတော့ \"The Ultimate Answer is <i ရဲ့ တန်ဖိုး>\" လို့ format method မသုံးပဲ ရိုက်ထုတ်ကြည့်ပါ။ \n",
    "\n",
    "> Hint: use function to convert primitive type"
   ]
  },
  {
   "cell_type": "code",
   "execution_count": null,
   "metadata": {},
   "outputs": [],
   "source": [
    "%%writefile lab_string_3.py\n",
    "# write your program here\n",
    "i=42\n",
    "print(\"The Ultimate Answer is \" + str(i))"
   ]
  },
  {
   "cell_type": "code",
   "execution_count": null,
   "metadata": {},
   "outputs": [],
   "source": [
    "!pytest test_string_3.py"
   ]
  },
  {
   "cell_type": "markdown",
   "metadata": {},
   "source": [
    "နောက်ဆုံး Quadratic Equation တွေကို ဖြေရှင်းတဲ့ program ကို ရေးကြည့်ရအောင်။ \n",
    "\n",
    "Quadratic Equation ဖြေရှင်းတဲ့ formula က \n",
    "\n",
    "Given $ax^2 + bx + c = 0$\n",
    "\n",
    "$x = \\frac{-b \\pm \\sqrt{b^2 - 4ac}}{2a}$\n",
    "\n",
    "Square root function `sqrt` ကို `math` module ကနေ import လုပ်နိုင်တယ်။\n",
    "\n",
    "```python\n",
    "from math import sqrt\n",
    "```"
   ]
  },
  {
   "cell_type": "code",
   "execution_count": null,
   "metadata": {},
   "outputs": [],
   "source": [
    "%%writefile lab_variable_4.py\n",
    "from math import sqrt\n",
    "def quad_formula(a, b, c):\n",
    "    x1 = ( -b + sqrt( b*b - 4 * a * c ) ) / (2 * a)\n",
    "    x2 = ( -b - sqrt( b*b - 4 * a * c ) ) / (2 * a)\n",
    "    return x1, x2"
   ]
  },
  {
   "cell_type": "code",
   "execution_count": null,
   "metadata": {},
   "outputs": [],
   "source": [
    "!pytest test_variable_4.py"
   ]
  },
  {
   "cell_type": "code",
   "execution_count": null,
   "metadata": {},
   "outputs": [],
   "source": []
  }
 ],
 "metadata": {
  "interpreter": {
   "hash": "3a9c1e998c7d6d5f29587b2c70e9bd488bb486b902354401efc27ca8457f04e9"
  },
  "kernelspec": {
   "display_name": "Python 3.7.11 ('py37-dsup')",
   "language": "python",
   "name": "python3"
  },
  "language_info": {
   "codemirror_mode": {
    "name": "ipython",
    "version": 3
   },
   "file_extension": ".py",
   "mimetype": "text/x-python",
   "name": "python",
   "nbconvert_exporter": "python",
   "pygments_lexer": "ipython3",
   "version": "3.7.11"
  },
  "orig_nbformat": 4
 },
 "nbformat": 4,
 "nbformat_minor": 2
}
