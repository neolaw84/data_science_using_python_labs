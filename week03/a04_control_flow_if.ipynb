{
 "cells": [
  {
   "cell_type": "code",
   "execution_count": null,
   "metadata": {},
   "outputs": [],
   "source": [
    "# git clone ... you know the drill. url is https://github.com/neolaw84/data_science_using_python_labs.git"
   ]
  },
  {
   "cell_type": "code",
   "execution_count": null,
   "metadata": {},
   "outputs": [],
   "source": [
    "# and change directory to data_science_using_python_labs/week02"
   ]
  },
  {
   "cell_type": "code",
   "execution_count": null,
   "metadata": {},
   "outputs": [],
   "source": [
    "%%writefile lab_control_1.py\n",
    "def add_or_subtract(operator, num_1, num_2):\n",
    "    if operator == '+':\n",
    "        return num_1 + num_2\n",
    "    elif operator == '-':\n",
    "        return num_1 - num_2 # modify this\n",
    "    else:\n",
    "        raise NotImplementedError(\"operator other than '+' and '-' are not implemented.\")\n",
    "    \n",
    "def arithmetic(operator, num_1, num_2):\n",
    "    # implement all arithmetic operators '+', '-', '*' and '/'\n",
    "    # raise NotImplementedError(\"division by zero is undefined.\") if num_2 is zero\n",
    "    if operator == \"*\":\n",
    "        return num_1 * num_2\n",
    "    elif operator == \"/\":\n",
    "        if num_2 == 0:\n",
    "            raise NotImplementedError(\"division by zero.\")\n",
    "        else:\n",
    "            return num_1 / num_2\n",
    "    else:\n",
    "        return add_or_subtract(operator, num_1, num_2)"
   ]
  },
  {
   "cell_type": "code",
   "execution_count": null,
   "metadata": {},
   "outputs": [],
   "source": [
    "!pytest test_control_1.py"
   ]
  },
  {
   "cell_type": "code",
   "execution_count": null,
   "metadata": {},
   "outputs": [],
   "source": []
  }
 ],
 "metadata": {
  "interpreter": {
   "hash": "3a9c1e998c7d6d5f29587b2c70e9bd488bb486b902354401efc27ca8457f04e9"
  },
  "kernelspec": {
   "display_name": "Python 3.7.11 ('py37-dsup')",
   "language": "python",
   "name": "python3"
  },
  "language_info": {
   "codemirror_mode": {
    "name": "ipython",
    "version": 3
   },
   "file_extension": ".py",
   "mimetype": "text/x-python",
   "name": "python",
   "nbconvert_exporter": "python",
   "pygments_lexer": "ipython3",
   "version": "3.7.11"
  },
  "orig_nbformat": 4
 },
 "nbformat": 4,
 "nbformat_minor": 2
}
