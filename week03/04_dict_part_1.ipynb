{
 "cells": [
  {
   "cell_type": "markdown",
   "metadata": {},
   "source": [
    "# Dict"
   ]
  },
  {
   "cell_type": "markdown",
   "metadata": {},
   "source": [
    "## Introduction to Dict\n",
    "\n",
    "dict ဆိုတာ Data Structure တခု ဖြစ်တယ်။ \n",
    "\n",
    "dict ဟာ non-primitive data type လို့လဲ ပြောလို့ရတယ်။\n",
    "\n",
    "yaml နဲ့ json ဟာ dict ပဲ။\n",
    "\n",
    "```python\n",
    "import json\n",
    "from pprint import pprint\n",
    "my_dict = {\n",
    "    \"d001\" : \"chicken\",\n",
    "    \"d002\" : \"milk\", \n",
    "    \"d003\" : \"egg\", \n",
    "    \"s001\" : \"basa\", \n",
    "    \"s002\" : \"whiting\",\n",
    "    \"s003\" : \"prawns\",\n",
    "    \"b001\" : \"lamb\", \n",
    "    \"b002\" : \"beef\"\n",
    "}\n",
    "pprint (my_dict)\n",
    "pprint (json.dumps(my_dict))\n",
    "print (my_dict[\"d002\"])\n",
    "```\n",
    "\n",
    "key to value mapping ပုံစံနဲ့ access လုပ်လို့ရတာကို dict လို့ ခေါ်ပါတယ် (Then isn't a dict a function ???)။ \n",
    "\n",
    "အပေါ်က ဥပမာမှာဆိုရင် `my_dict` variable ထဲက `d002` key ရဲ့ value ကို square-bracket နဲ့ access လုပ်တာကို မြင်ရပါမယ်။\n",
    "\n",
    "```python\n",
    "my_list = [\"element\", \"of\", \"a\", \"list\"] # my_list ဟာ string ၄ ခုပါတဲ့ list တခုဖြစ်တယ်\n",
    "print (my_list[1] ) # this will print \"of\"\n",
    "print (my_list[1:3]) # this will print a list [\"of\", \"a\"]\n",
    "```\n",
    "\n",
    "dict တွေကို တွန့်ကွင်းထဲမှာ ရေးတယ်။\n",
    "\n",
    "လေးထောင့်ကွင်းနဲ့ access လုပ်လို့ရတယ်။\n",
    "\n",
    "dict ရဲ့ key အဖြစ် immutable type တွေကိုပဲ သုံးလို့ရတယ် (ဒါကြောင့် dict တို့ list တို့ မရ)။ value ထဲမှာတော့ any type of value ကို ထည့်နိုင်တယ်။\n",
    "\n",
    "> python 3.7 က စပြီး dict တွေဟာ ထည့်ထားတဲ့ အစီအစဉ် (order) အတိုင်း နေတယ်။ \n",
    "\n",
    "> python 3.6 က end of life ရောက်ပြီးပြီမို့လို့ dict ရဲ့ order ပြောင်းပြန်လန်နေသလားဆိုတာ စဉ်းစားစရာ မလိုတော့ဘူး။"
   ]
  },
  {
   "cell_type": "code",
   "execution_count": null,
   "metadata": {},
   "outputs": [],
   "source": [
    "# စမ်းကြည့်ရန်\n"
   ]
  },
  {
   "cell_type": "code",
   "execution_count": null,
   "metadata": {},
   "outputs": [],
   "source": [
    "%%writefile sample.yaml\n",
    "yaml_root:\n",
    "  item_1: value_1\n",
    "  item_2: 2\n",
    "  sub_tree:\n",
    "    key: value\n",
    "    key2: value_2\n",
    "  sub_list:\n",
    "  - 0\n",
    "  - 2\n",
    "  - 4"
   ]
  },
  {
   "cell_type": "code",
   "execution_count": null,
   "metadata": {},
   "outputs": [],
   "source": [
    "import yaml\n",
    "from pprint import pprint\n",
    "with open(\"sample.yaml\", \"rt\") as f:\n",
    "    my_dict_from_yaml = yaml.load(f)\n",
    "pprint (my_dict_from_yaml)"
   ]
  },
  {
   "cell_type": "code",
   "execution_count": null,
   "metadata": {},
   "outputs": [],
   "source": [
    "import json\n",
    "with open(\"sample.json\", \"wt\") as f:\n",
    "    json.dump(my_dict_from_yaml, f)\n",
    "# after running this cell, open \"sample.json\" from side bar"
   ]
  },
  {
   "cell_type": "code",
   "execution_count": null,
   "metadata": {},
   "outputs": [],
   "source": [
    "# စမ်းကြည့်ရန်\n",
    "# do a json.load from sample.json and pprint it"
   ]
  },
  {
   "cell_type": "markdown",
   "metadata": {},
   "source": [
    "## A `dict` is an object as well\n",
    "\n",
    "`str` လိုပဲ `dict` ဟာ object လဲ ဖြစ်တယ်။\n",
    "\n",
    "> ဒီတော့ method (function) တွေ ရှိတယ်။"
   ]
  },
  {
   "cell_type": "code",
   "execution_count": null,
   "metadata": {},
   "outputs": [],
   "source": [
    "my_dict = {1 : 1, 2: 2}\n",
    "print (my_dict)\n",
    "print (my_dict.get(2, 0))\n",
    "print (my_dict.get(3, 0))"
   ]
  },
  {
   "cell_type": "code",
   "execution_count": null,
   "metadata": {},
   "outputs": [],
   "source": [
    "my_dict.update({3: 3})\n",
    "print (my_dict)"
   ]
  },
  {
   "cell_type": "code",
   "execution_count": null,
   "metadata": {},
   "outputs": [],
   "source": [
    "my_dict[1] = 111\n",
    "print (my_dict)"
   ]
  },
  {
   "cell_type": "code",
   "execution_count": null,
   "metadata": {},
   "outputs": [],
   "source": [
    "print (my_dict.keys())\n",
    "print (my_dict.values())\n",
    "print (my_dict.items())"
   ]
  },
  {
   "cell_type": "markdown",
   "metadata": {},
   "source": [
    "## Dict is not primitive-type\n",
    "\n",
    "```python\n",
    "my_dict = {1: 1, 2: 2, 3: 3}\n",
    "another_pointer_to_my_dict = my_dict\n",
    "another_pointer_to_my_dict[3] = 333\n",
    "print (my_dict) # what just happened ???\n",
    "```"
   ]
  },
  {
   "cell_type": "code",
   "execution_count": null,
   "metadata": {},
   "outputs": [],
   "source": [
    "my_dict = {1: 1, 2: 2, 3: 3}\n",
    "another_pointer_to_my_dict = my_dict\n",
    "another_pointer_to_my_dict[3] = 333\n",
    "print (my_dict) # what just happened ???"
   ]
  },
  {
   "cell_type": "markdown",
   "metadata": {},
   "source": [
    "ဒီကိစ္စကို week 4 မှာ function အကြောင်းပြောရင် တကျော့ ပြန်လာခဲ့မယ်။"
   ]
  },
  {
   "cell_type": "markdown",
   "metadata": {},
   "source": [
    "## Dict Comprehension\n",
    "\n",
    "List လိုပဲ Dict Comprehension ဆိုတာ ရှိတယ်။ \n",
    "\n",
    "```python\n",
    "my_fruits = [\"apple\", \"orange\", \"lemon\", \"lime\", \"banana\", \"watermelon\", \"payaya\"]\n",
    "my_prices = [10.0, 5.0, 2.00, 2.00, 6.00, 5.00, 4.50]\n",
    "my_qty = [1, 2, 2, 0, 10, 1, 1]\n",
    "my_sub_totals = {f : p * q for f, p, q in zip (my_fruits, my_prices, my_qty)}\n",
    "```"
   ]
  },
  {
   "cell_type": "code",
   "execution_count": null,
   "metadata": {},
   "outputs": [],
   "source": [
    "# စမ်းကြည့်ရန်\n"
   ]
  },
  {
   "cell_type": "code",
   "execution_count": null,
   "metadata": {},
   "outputs": [],
   "source": []
  }
 ],
 "metadata": {
  "interpreter": {
   "hash": "3a9c1e998c7d6d5f29587b2c70e9bd488bb486b902354401efc27ca8457f04e9"
  },
  "kernelspec": {
   "display_name": "Python 3.7.11 ('py37-dsup')",
   "language": "python",
   "name": "python3"
  },
  "language_info": {
   "codemirror_mode": {
    "name": "ipython",
    "version": 3
   },
   "file_extension": ".py",
   "mimetype": "text/x-python",
   "name": "python",
   "nbconvert_exporter": "python",
   "pygments_lexer": "ipython3",
   "version": "3.7.11"
  },
  "orig_nbformat": 4
 },
 "nbformat": 4,
 "nbformat_minor": 2
}
