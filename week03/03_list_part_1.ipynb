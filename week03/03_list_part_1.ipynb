{
 "cells": [
  {
   "cell_type": "markdown",
   "metadata": {},
   "source": [
    "# List"
   ]
  },
  {
   "cell_type": "markdown",
   "metadata": {},
   "source": [
    "## Introduction to List\n",
    "\n",
    "list ဆိုတာ Data Structure တခု ဖြစ်တယ်။ \n",
    "\n",
    "list ဟာ non-primitive data type လို့လဲ ပြောလို့ရတယ်။\n",
    "\n",
    "str ဟာ List တခုလို အလုပ်လုပ်တယ်လို့ သိခဲ့ကြတယ်။\n",
    "\n",
    "```python\n",
    "my_string = \"This is a string\"\n",
    "print (my_string[10:16]) # this will print 'string'\n",
    "```\n",
    "\n",
    "Zero-based indexing နဲ့ access လုပ်လို့ရတာကို list လို့ ခေါ်ပါတယ်။ အပေါ်က ဥပမာမှာဆိုရင် `my_string` variable ထဲက (သုညကစရေတွက်ရင်) 10 ကစပြီး 16 မရောက်ခင်အထိ character တွေကို square-bracket နဲ့ access လုပ်တာကို မြင်ရပါမယ်။\n",
    "\n",
    "```python\n",
    "my_list = [\"element\", \"of\", \"a\", \"list\"] # my_list ဟာ string ၄ ခုပါတဲ့ list တခုဖြစ်တယ်\n",
    "print (my_list[1] ) # this will print \"of\"\n",
    "print (my_list[1:3]) # this will print a list [\"of\", \"a\"]\n",
    "```\n",
    "\n",
    "list တွေကို လေးထောင့်ကွင်းထဲမှာ ရေးတယ်။\n",
    "\n",
    "လေးထောင့်ကွင်းနဲ့ access လုပ်လို့ရတယ်။\n",
    "\n",
    "စမှတ်ကနေ ဆုံးမှတ်အထိလို့ ပြောချင်ရင် ':' (colon) ကို သုံးတယ်။\n",
    "\n",
    "list ထဲမှာ string တင်မကပဲ primitive type or non-primitive type မျိုးစုံထည့်လို့ရတယ်။\n",
    "\n",
    "```python\n",
    "my_list_2 = [\"string\", 42, 3.14, True] # this is ok\n",
    "```"
   ]
  },
  {
   "cell_type": "code",
   "execution_count": null,
   "metadata": {},
   "outputs": [],
   "source": [
    "# စမ်းကြည့်ရန်"
   ]
  },
  {
   "cell_type": "markdown",
   "metadata": {},
   "source": [
    "## The Special **Lazy** Function `range`\n",
    "\n",
    "`range` ဆိုတာ number list တခုကို ထုတ်ပေးတဲ့ **lazy** function ဖြစ်တယ်။ \n",
    "\n",
    "```python\n",
    "print (list (range (0, 10))) # this will print a list [0, 1, 2, ..., 9]\n",
    "```\n",
    "\n",
    "### What do you mean by \"**Lazy**\" ???\n",
    "\n",
    "```python\n",
    "print (range(0, 9)) # this will print an object (not the resulting list)\n",
    "```\n",
    "\n",
    "```python\n",
    "print (list (range (0, 9))) # only when the object is accessed (to convert to a list), it evaluates and give you the list\n",
    "```"
   ]
  },
  {
   "cell_type": "code",
   "execution_count": null,
   "metadata": {},
   "outputs": [],
   "source": [
    "# စမ်းကြည့်ရန်"
   ]
  },
  {
   "cell_type": "markdown",
   "metadata": {},
   "source": [
    "## A `list` is an object as well\n",
    "\n",
    "`str` လိုပဲ `list` ဟာ object လဲ ဖြစ်တယ်။\n",
    "\n",
    "> ဒီတော့ method (function) တွေ ရှိတယ်။"
   ]
  },
  {
   "cell_type": "code",
   "execution_count": null,
   "metadata": {},
   "outputs": [],
   "source": [
    "my_list = [1, 2, 3]\n",
    "print (my_list)\n",
    "my_list.append(4)\n",
    "print (my_list)"
   ]
  },
  {
   "cell_type": "code",
   "execution_count": null,
   "metadata": {},
   "outputs": [],
   "source": [
    "my_list.extend([\"another\", \"list\"])\n",
    "print (my_list)"
   ]
  },
  {
   "cell_type": "code",
   "execution_count": null,
   "metadata": {},
   "outputs": [],
   "source": [
    "popped_element = my_list.pop()\n",
    "print (my_list)\n",
    "print (popped_element)"
   ]
  },
  {
   "cell_type": "code",
   "execution_count": null,
   "metadata": {},
   "outputs": [],
   "source": [
    "my_list = [9, 3, 4, 2, 1, 0]\n",
    "print (my_list.index(3))"
   ]
  },
  {
   "cell_type": "code",
   "execution_count": null,
   "metadata": {},
   "outputs": [],
   "source": [
    "my_list.sort()\n",
    "print (my_list)"
   ]
  },
  {
   "cell_type": "code",
   "execution_count": null,
   "metadata": {},
   "outputs": [],
   "source": [
    "my_list.reverse()\n",
    "print (my_list)"
   ]
  },
  {
   "cell_type": "markdown",
   "metadata": {},
   "source": [
    "## List is not primitive-type\n",
    "\n",
    "```python\n",
    "my_list = [0, 1, 2, 3, 4]\n",
    "another_pointer_to_my_list = my_list\n",
    "four = another_pointer_to_my_list.pop()\n",
    "print (my_list) # what just happened ???\n",
    "```"
   ]
  },
  {
   "cell_type": "code",
   "execution_count": null,
   "metadata": {},
   "outputs": [],
   "source": [
    "my_list = [0, 1, 2, 3, 4]\n",
    "another_pointer_to_my_list = my_list\n",
    "four = another_pointer_to_my_list.pop()\n",
    "print (my_list) # what just happened ???"
   ]
  },
  {
   "cell_type": "code",
   "execution_count": null,
   "metadata": {},
   "outputs": [],
   "source": []
  }
 ],
 "metadata": {
  "interpreter": {
   "hash": "3a9c1e998c7d6d5f29587b2c70e9bd488bb486b902354401efc27ca8457f04e9"
  },
  "kernelspec": {
   "display_name": "Python 3.7.11 ('py37-dsup')",
   "language": "python",
   "name": "python3"
  },
  "language_info": {
   "codemirror_mode": {
    "name": "ipython",
    "version": 3
   },
   "file_extension": ".py",
   "mimetype": "text/x-python",
   "name": "python",
   "nbconvert_exporter": "python",
   "pygments_lexer": "ipython3",
   "version": "3.7.11"
  },
  "orig_nbformat": 4
 },
 "nbformat": 4,
 "nbformat_minor": 2
}
