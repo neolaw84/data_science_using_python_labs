{
 "cells": [
  {
   "cell_type": "markdown",
   "metadata": {},
   "source": [
    "# List"
   ]
  },
  {
   "cell_type": "markdown",
   "metadata": {},
   "source": [
    "## Introduction to List\n",
    "\n",
    "list ဆိုတာ Data Structure တခု ဖြစ်တယ်။ \n",
    "\n",
    "list ဟာ non-primitive data type လို့လဲ ပြောလို့ရတယ်။\n",
    "\n",
    "str ဟာ List တခုလို အလုပ်လုပ်တယ်လို့ သိခဲ့ကြတယ်။\n",
    "\n",
    "```python\n",
    "my_string = \"This is a string\"\n",
    "print (my_string[10:16]) # this will print 'string'\n",
    "```\n",
    "\n",
    "Zero-based indexing နဲ့ access လုပ်လို့ရတာကို list လို့ ခေါ်ပါတယ်။ အပေါ်က ဥပမာမှာဆိုရင် `my_string` variable ထဲက (သုညကစရေတွက်ရင်) 10 ကစပြီး 16 မရောက်ခင်အထိ character တွေကို square-bracket နဲ့ access လုပ်တာကို မြင်ရပါမယ်။\n",
    "\n",
    "```python\n",
    "my_list = [\"element\", \"of\", \"a\", \"list\"] # my_list ဟာ string ၄ ခုပါတဲ့ list တခုဖြစ်တယ်\n",
    "print (my_list[1] ) # this will print \"of\"\n",
    "print (my_list[1:3]) # this will print a list [\"of\", \"a\"]\n",
    "```\n",
    "\n",
    "list တွေကို လေးထောင့်ကွင်းထဲမှာ ရေးတယ်။\n",
    "\n",
    "လေးထောင့်ကွင်းနဲ့ access လုပ်လို့ရတယ်။\n",
    "\n",
    "စမှတ်ကနေ ဆုံးမှတ်အထိလို့ ပြောချင်ရင် ':' (colon) ကို သုံးတယ်။\n",
    "\n",
    "list ထဲမှာ string တင်မကပဲ primitive type or non-primitive type မျိုးစုံထည့်လို့ရတယ်။\n",
    "\n",
    "```python\n",
    "my_list_2 = [\"string\", 42, 3.14, True] # this is ok\n",
    "```"
   ]
  },
  {
   "cell_type": "code",
   "execution_count": null,
   "metadata": {},
   "outputs": [],
   "source": [
    "# စမ်းကြည့်ရန်"
   ]
  },
  {
   "cell_type": "markdown",
   "metadata": {},
   "source": [
    "## The Special **Lazy** Function `range`\n",
    "\n",
    "`range` ဆိုတာ number list တခုကို ထုတ်ပေးတဲ့ **lazy** function ဖြစ်တယ်။ \n",
    "\n",
    "```python\n",
    "print (list (range (0, 10))) # this will print a list [0, 1, 2, ..., 9]\n",
    "```\n",
    "\n",
    "### What do you mean by \"**Lazy**\" ???\n",
    "\n",
    "```python\n",
    "print (range(0, 9)) # this will print an object (not the resulting list)\n",
    "```\n",
    "\n",
    "```python\n",
    "print (list (range (0, 9))) # only when the object is accessed (to convert to a list), it evaluates and give you the list\n",
    "```"
   ]
  },
  {
   "cell_type": "code",
   "execution_count": null,
   "metadata": {},
   "outputs": [],
   "source": [
    "# စမ်းကြည့်ရန်"
   ]
  },
  {
   "cell_type": "markdown",
   "metadata": {},
   "source": [
    "## A `list` is an object as well\n",
    "\n",
    "`str` လိုပဲ `list` ဟာ object လဲ ဖြစ်တယ်။\n",
    "\n",
    "> ဒီတော့ method (function) တွေ ရှိတယ်။"
   ]
  },
  {
   "cell_type": "code",
   "execution_count": null,
   "metadata": {},
   "outputs": [],
   "source": [
    "my_list = [1, 2, 3]\n",
    "print (my_list)\n",
    "my_list.append(4)\n",
    "print (my_list)"
   ]
  },
  {
   "cell_type": "code",
   "execution_count": null,
   "metadata": {},
   "outputs": [],
   "source": [
    "my_list.extend([\"another\", \"list\"])\n",
    "print (my_list)"
   ]
  },
  {
   "cell_type": "code",
   "execution_count": null,
   "metadata": {},
   "outputs": [],
   "source": [
    "popped_element = my_list.pop()\n",
    "print (my_list)\n",
    "print (popped_element)"
   ]
  },
  {
   "cell_type": "code",
   "execution_count": null,
   "metadata": {},
   "outputs": [],
   "source": [
    "my_list = [9, 3, 4, 2, 1, 0]\n",
    "print (my_list.index(3))"
   ]
  },
  {
   "cell_type": "code",
   "execution_count": null,
   "metadata": {},
   "outputs": [],
   "source": [
    "my_list.sort()\n",
    "print (my_list)"
   ]
  },
  {
   "cell_type": "code",
   "execution_count": null,
   "metadata": {},
   "outputs": [],
   "source": [
    "my_list.reverse()\n",
    "print (my_list)"
   ]
  },
  {
   "cell_type": "markdown",
   "metadata": {},
   "source": [
    "## List is not primitive-type\n",
    "\n",
    "```python\n",
    "my_list = [0, 1, 2, 3, 4]\n",
    "another_pointer_to_my_list = my_list\n",
    "four = another_pointer_to_my_list.pop()\n",
    "print (my_list) # what just happened ???\n",
    "```"
   ]
  },
  {
   "cell_type": "code",
   "execution_count": null,
   "metadata": {},
   "outputs": [],
   "source": [
    "my_list = [0, 1, 2, 3, 4]\n",
    "another_pointer_to_my_list = my_list\n",
    "four = another_pointer_to_my_list.pop()\n",
    "print (my_list) # what just happened ???"
   ]
  },
  {
   "cell_type": "markdown",
   "metadata": {},
   "source": [
    "ဒီကိစ္စကို week 4 မှာ function အကြောင်းပြောရင် တကျော့ ပြန်လာခဲ့မယ်။"
   ]
  },
  {
   "cell_type": "markdown",
   "metadata": {},
   "source": [
    "## List Comprehension\n",
    "\n",
    "အထက်တန်း သင်္ချာမှာ set notation တွေ အမျိုးမျိုး လေ့လာခဲ့ဖူးတယ်။ \n",
    "\n",
    "အဲဒီထဲမှာ တမျိုးက \n",
    "\n",
    "$\\mathbb{I} = \\{i : i \\text{is an integer.}\\}$\n",
    "$\\mathbb{Z} = \\{i : i \\text{is an integer and } i \\geq 0 \\}$\n",
    "\n",
    "ဆိုတာမျိုး ရေးတာ။\n",
    "\n",
    "အလားတူပဲ List Comprehension ဆိုတာ အဲဒီ ပုံစံမျိုးပဲ။ \n",
    "\n",
    "```python\n",
    "my_fruits = [\"apple\", \"orange\", \"lemon\", \"lime\", \"banana\", \"watermelon\", \"payaya\"]\n",
    "my_non_citrus_fruits = [x for x in my_fruits if x != \"lemon\" and x != \"lime\" and x!= \"orange\"]\n",
    "```"
   ]
  },
  {
   "cell_type": "code",
   "execution_count": null,
   "metadata": {},
   "outputs": [],
   "source": [
    "# စမ်းကြည့်ရန်\n"
   ]
  },
  {
   "cell_type": "markdown",
   "metadata": {},
   "source": [
    "List ထဲမှာ List တွေကိုလဲ ထည့်လို့ရတယ်။ \n",
    "\n",
    "ဥပမာ\n",
    "\n",
    "```python\n",
    "my_list_of_list = [\n",
    "    [0, 1, 2], \n",
    "    [3, 4, 5],\n",
    "    [6, 7, 8]\n",
    "]\n",
    "print (my_list_of_list[0][2]) # this will print 2\n",
    "print (my_list_of_list[2][1]) # this will print 7\n",
    "```\n",
    "\n",
    "တခြား programming language တွေနဲ့ မတူတာက python မှာ high-dimensional array မရှိဘူး။\n",
    "\n",
    "```python\n",
    "print (my_list_of_list[0, 2]) # this will give you an error\n",
    "```\n",
    "\n",
    "> ဒါကြောင့် `numpy` library က ဒီကွက်လပ်ကို ဖြည့်ဖို့ array implementation တွေ provide လုပ်ထားတယ်။\n",
    "> `numpy` ကို နောက် အပါတ်တွေမှာ ပြောမယ်။"
   ]
  },
  {
   "cell_type": "code",
   "execution_count": null,
   "metadata": {},
   "outputs": [],
   "source": [
    "my_list_of_list = [\n",
    "    [0, 1, 2], \n",
    "    [3, 4, 5],\n",
    "    [6, 7, 8]\n",
    "]\n",
    "print(my_list_of_list[0][2])"
   ]
  },
  {
   "cell_type": "markdown",
   "metadata": {},
   "source": [
    "## Special Function `zip`\n",
    "\n",
    "`zip` ဆိုတာ alphabet 'Z' ပုံစံ ဆွဲချလိုက်တာလို့ ပြောနိုင်တယ်။ \n",
    "\n",
    "```python\n",
    "item_name = [\"chicken\", \"egg\", \"fish\"]\n",
    "price_per_kg = [8.00, 3.00, 12.00]\n",
    "item_code = [\"d001\", \"d002\", \"s001\"]\n",
    "\n",
    "# ဒါတွေကို အတန်းလိုက် print ချင်ရင်\n",
    "\n",
    "for name, price, code in zip(item_name, price_per_kg, item_code):\n",
    "    print (\"Name : {} --> Price : {} --> Code : {}\".format(name, price, code))\n",
    "\n",
    "# လို့ ရေးနိုင်တယ်။ ဒါဟာ ... \n",
    "\n",
    "for i in range (len(name)):\n",
    "    print (\"Name : {} --> Price : {} --> Code : {}\".format(\n",
    "        item_name[i], price_per_kg[i], item_code[i]\n",
    "        )\n",
    "    )\n",
    "\n",
    "# လို့ ရေးတာနဲ့ အတူတူပဲ ဖြစ်တယ်။\n",
    "```\n",
    "\n",
    "> loop တွေ အကြောင်းကို week 04 မှာ အသေးစိတ် ပြောမယ်။\n"
   ]
  },
  {
   "cell_type": "code",
   "execution_count": 7,
   "metadata": {},
   "outputs": [
    {
     "name": "stdout",
     "output_type": "stream",
     "text": [
      "Name : chicken --> Price : 8.0 --> Code : d001\n",
      "Name : egg --> Price : 3.0 --> Code : d002\n",
      "Name : fish --> Price : 12.0 --> Code : s001\n",
      "Name : chicken --> Price : 8.0 --> Code : d001\n",
      "Name : egg --> Price : 3.0 --> Code : d002\n",
      "Name : fish --> Price : 12.0 --> Code : s001\n"
     ]
    }
   ],
   "source": [
    "# စမ်းကြည့်ရန်\n"
   ]
  },
  {
   "cell_type": "markdown",
   "metadata": {},
   "source": [
    "[Zen of Python (PEP 20)](https://peps.python.org/pep-0020/) မှာ ဒီလိုပါတယ်။ \n",
    "\n",
    "> **Beautiful is better than ugly.**\n",
    "\n",
    "> Explicit is better than implicit.\n",
    "\n",
    "> Simple is better than complex.\n",
    "\n",
    "> Complex is better than complicated.\n",
    "\n",
    "> Flat is better than nested.\n",
    "\n",
    "> Sparse is better than dense.\n",
    "\n",
    "> Readability counts.\n",
    "\n",
    "> Special cases aren't special enough to break the rules.\n",
    "\n",
    "> Although practicality beats purity.\n",
    "\n",
    "> Errors should never pass silently.\n",
    "\n",
    "> Unless explicitly silenced.\n",
    "\n",
    "> In the face of ambiguity, refuse the temptation to guess.\n",
    "\n",
    "> There should be one-- and preferably only one --obvious way to do it.\n",
    "\n",
    "> Although that way may not be obvious at first unless you're Dutch.\n",
    "\n",
    "> Now is better than never.\n",
    "\n",
    "> Although never is often better than *right* now.\n",
    "\n",
    "> If the implementation is hard to explain, it's a bad idea.\n",
    "\n",
    "> If the implementation is easy to explain, it may be a good idea.\n",
    "\n",
    "> Namespaces are one honking great idea -- let's do more of those!"
   ]
  },
  {
   "cell_type": "code",
   "execution_count": null,
   "metadata": {},
   "outputs": [],
   "source": []
  }
 ],
 "metadata": {
  "interpreter": {
   "hash": "3a9c1e998c7d6d5f29587b2c70e9bd488bb486b902354401efc27ca8457f04e9"
  },
  "kernelspec": {
   "display_name": "Python 3.7.11 ('py37-dsup')",
   "language": "python",
   "name": "python3"
  },
  "language_info": {
   "codemirror_mode": {
    "name": "ipython",
    "version": 3
   },
   "file_extension": ".py",
   "mimetype": "text/x-python",
   "name": "python",
   "nbconvert_exporter": "python",
   "pygments_lexer": "ipython3",
   "version": "3.7.11"
  },
  "orig_nbformat": 4
 },
 "nbformat": 4,
 "nbformat_minor": 2
}
