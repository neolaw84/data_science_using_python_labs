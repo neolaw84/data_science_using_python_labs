{
 "cells": [
  {
   "cell_type": "code",
   "execution_count": null,
   "metadata": {},
   "outputs": [],
   "source": [
    "# the git clone and change directory staff here"
   ]
  },
  {
   "cell_type": "markdown",
   "metadata": {},
   "source": [
    "## Anatomy of an if Statement\n",
    "\n",
    "A simple if without an `else`:\n",
    "\n",
    "```python\n",
    "if <boolean expression>:\n",
    "    # statements to run if <boolean expression> evaluates to True\n",
    "    do_this_if_true()\n",
    "    # it can be multi statements\n",
    "    do_this_as_well_if_true()\n",
    "```\n",
    "\n",
    "An if/else statement:\n",
    "\n",
    "```python\n",
    "if <boolean expression>:\n",
    "    # statements to run if <boolean expression> evaluates to True\n",
    "    do_this_if_true()\n",
    "    # it can be multi statements\n",
    "    do_this_as_well_if_true()\n",
    "else:\n",
    "    # statements to run if <boolean expression> evaluates to False\n",
    "    do_this_if_false()\n",
    "    # it can be multi statements\n",
    "    do_this_as_well_if_false()\n",
    "```\n",
    "\n",
    "An if/elif/else statement:\n",
    "\n",
    "```python\n",
    "if <boolean expression 1>:\n",
    "    # statements to run if <boolean expression 1> evaluates to True\n",
    "    do_this_if_exp_1_true()\n",
    "    # it can be multi statements\n",
    "    do_this_as_well_if_exp_1_true()\n",
    "elif <boolean expression 2>:\n",
    "    # statements to run if <boolean expression 1> evaluates to True\n",
    "    do_this_if_exp_2_true()\n",
    "    # it can be multi statements\n",
    "    do_this_as_well_if_exp_2_true()\n",
    "elif <boolean expression 3>:\n",
    "    # so on and so forth\n",
    "else:\n",
    "    # statements to run if <boolean expression> evaluates to False\n",
    "    do_this_if_false()\n",
    "    # it can be multi statements\n",
    "    do_this_as_well_if_false()\n",
    "```\n",
    "\n",
    "1. `car.start()` function ကို အသုံးပြု၍ ကားကို စက်နှိုးပါ။ \n",
    "    ပြီးလျှင် စက်နှိုးမနှိုးကို `car.started` property တွင် `True` သို့မဟုတ် `False` ဖြစ်မဖြစ်ကို စစ်ဆေးပါ။ \n",
    "    ကားမနှိုးလျှင် နောက်တခေါက် ထပ်နှိုးပါ။ ထို့နောက် ကားစက်နှိုးမနှိုးကို စစ်ဆေးပါ။\n",
    "\n",
    "    ကားစက်နှိုးပါက `car.drive()` function ကို အသုံးပြု၍ မောင်းထွက်ပါ။\n",
    "\n",
    "    ကားစက်မနှိုးပါက `car.transmission` property တွင် `\"manual\"` ဖြစ်နေပါက `car.push_start()` function ကို အသုံးပြုပြီး ထပ်နှိုးပါ။\n",
    "\n",
    "    `\"auto\"` gear နှင့် မောင်းနှင်ရသော ကားဖြစ်ပါက `workshop.call()` function ဖြင့် workshop ကို ဖုန်းဆက်ခေါ်ပါ။\n",
    "\n",
    "    အထက်ပါ scenario ကို `lab_control_2.py` ကို ရေးထည့်ပါ။"
   ]
  },
  {
   "cell_type": "code",
   "execution_count": null,
   "metadata": {},
   "outputs": [],
   "source": [
    "%%writefile lab_control_2.py\n",
    "from cars import car, workshop\n",
    "# write your program here"
   ]
  },
  {
   "cell_type": "code",
   "execution_count": null,
   "metadata": {},
   "outputs": [],
   "source": [
    "!pytest test_control_2.py -rP -rX"
   ]
  },
  {
   "cell_type": "markdown",
   "metadata": {},
   "source": [
    "Assignment ၏ သဘောကို ဆွေးနွေးခဲ့ပြီး ဖြစ်သည်။ \n",
    "\n",
    "ဥပမာ\n",
    "\n",
    "```python\n",
    "a = 10 # value 10 ကို variable a သို့ ထည့်ပါ။\n",
    "```\n",
    "\n",
    "ထို့နည်းတူ arithmetic operator (+ - * /) တို့၏ သဘောကို ဆွေးနွေးခဲ့ပြီး ဖြစ်သည်။ \n",
    "\n",
    "ဥပမာ \n",
    "\n",
    "```python\n",
    "print (10 + 32) # this will print 42\n",
    "\n",
    "a = 22\n",
    "print (a + 20) # this will print 42\n",
    "```\n",
    "\n",
    "အဆိုပါ သဘောတရားများကို ပူးပေါင်းအသုံးချခြင်းဖြင့် variable တခု၏ တန်ဖိုးကို update လုပ်ခြင်းအား ကြံဆနိုင်သည်။\n",
    "\n",
    "ဥပမာ \n",
    "\n",
    "```python\n",
    "a = 10\n",
    "a = a + 10 # evaluate 'a + 10' (current value of a is 10) and put the resulting value (20) to variable a\n",
    "a = a + 20 # evaluate 'a + 20' (current value of a is 20) and put the resulting value (40) to variable a\n",
    "```"
   ]
  },
  {
   "cell_type": "code",
   "execution_count": null,
   "metadata": {},
   "outputs": [],
   "source": [
    "# စမ်းသပ်ကြည့်ရန်\n",
    "\n",
    "p = 10\n",
    "print (p)\n",
    "p = p + 5\n",
    "print (p)\n",
    "q = p - 9\n",
    "print (q)\n",
    "q = q * 10\n",
    "print (q)"
   ]
  },
  {
   "cell_type": "markdown",
   "metadata": {},
   "source": [
    "2. စာမေးပွဲတခုတွင် ပုစ္ဆာ ၁၀ ခုအတွက် အဖြေမှန်များမှာ အောက်ပါအတိုင်း ဖြစ်သည်။\n",
    "\n",
    "    1. True (20 marks)\n",
    "    2. B (25 marks)\n",
    "    3. 42 (35 marks)\n",
    "    4. False (20 marks)\n",
    "\n",
    "အမှတ်ပေါင်းကို တွက်ပေးသော function ကို `lab_control_3.py` သို့ရေးပြီး စစ်ဆေးပါ။\n",
    "\n",
    "```python\n",
    "def total_mark(answer_1: bool, answer_2: str, answer_3: int, answer_4: bool):\n",
    "    # write your logic here\n",
    "    return total_mark\n",
    "```"
   ]
  },
  {
   "cell_type": "code",
   "execution_count": null,
   "metadata": {},
   "outputs": [],
   "source": [
    "%%writefile lab_control_3.py\n",
    "def total_mark(answer_1: bool, answer_2: str, answer_3: int, answer_4: bool):\n",
    "    # write your logic here\n",
    "    return total_mark"
   ]
  },
  {
   "cell_type": "code",
   "execution_count": null,
   "metadata": {},
   "outputs": [],
   "source": [
    "!pytest test_control_3.py"
   ]
  }
 ],
 "metadata": {
  "interpreter": {
   "hash": "3a9c1e998c7d6d5f29587b2c70e9bd488bb486b902354401efc27ca8457f04e9"
  },
  "kernelspec": {
   "display_name": "Python 3.7.11 ('py37-dsup')",
   "language": "python",
   "name": "python3"
  },
  "language_info": {
   "codemirror_mode": {
    "name": "ipython",
    "version": 3
   },
   "file_extension": ".py",
   "mimetype": "text/x-python",
   "name": "python",
   "nbconvert_exporter": "python",
   "pygments_lexer": "ipython3",
   "version": "3.7.11"
  },
  "orig_nbformat": 4
 },
 "nbformat": 4,
 "nbformat_minor": 2
}
